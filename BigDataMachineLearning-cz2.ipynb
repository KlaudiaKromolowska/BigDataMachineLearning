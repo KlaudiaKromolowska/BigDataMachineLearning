{
 "cells": [
  {
   "cell_type": "markdown",
   "metadata": {
    "collapsed": false
   },
   "source": [
    "# CZĘŚĆ 2"
   ]
  },
  {
   "cell_type": "markdown",
   "metadata": {
    "collapsed": false
   },
   "source": [
    "## OPIS ZESTAWU DANYCH\n",
    "Dane składają się z informacji o przylotach i odlotach wszystkich lotów komercyjnych w USA od października 1987 do kwietnia 2008 – przede wszystkim o ich opóźnieniach. \\\n",
    "Zbiór danych jest bardzo duży (120mln rekordów, 12GB danych) – na potrzeby projektu wykorzystamy jedynie dane z roku 2007 co ograniczy rozmiar przetwarzanych danych."
   ]
  },
  {
   "cell_type": "code",
   "execution_count": 1,
   "metadata": {},
   "outputs": [],
   "source": [
    "import pandas as pd\n",
    "import numpy as np\n",
    "from matplotlib import pyplot as plt\n",
    "import seaborn as sns"
   ]
  },
  {
   "cell_type": "code",
   "execution_count": null,
   "metadata": {
    "collapsed": false
   },
   "outputs": [],
   "source": [
    "from Tools.scripts.dutree import display\n",
    "import zipfile\n",
    "\n",
    "zf = zipfile.ZipFile(\"./data_mow.zip\")\n",
    "namelist = zf.namelist()[1:]\n",
    "dfs = [pd.read_csv(zf.open(f)) for f in namelist]\n",
    "data = pd.concat(dfs, ignore_index=True)\n",
    "data = data[data[\"Year\"] == 2007]\n",
    "with pd.option_context('display.float_format', '{:.2f}'.format, 'display.max_rows', None, 'display.max_columns', None):\n",
    "    display(data.head())"
   ]
  },
  {
   "cell_type": "code",
   "execution_count": 3,
   "metadata": {
    "collapsed": false
   },
   "outputs": [],
   "source": [
    "data.drop(\n",
    "    ['UniqueCarrier', 'TailNum', 'Origin', 'Dest', 'CancellationCode', 'FlightNum', 'TaxiIn', 'TaxiOut', 'DepTime',\n",
    "     'ArrTime', 'ActualElapsedTime', 'AirTime', 'DepDelay', 'ArrDelay'], inplace=True, axis=1)"
   ]
  },
  {
   "cell_type": "code",
   "execution_count": 4,
   "metadata": {},
   "outputs": [],
   "source": [
    "for column in ['CRSDepTime', 'CRSArrTime']:\n",
    "    data[column] = data[column] // 100 + (data[column] % 100) / 60"
   ]
  },
  {
   "cell_type": "code",
   "execution_count": 5,
   "metadata": {
    "collapsed": false
   },
   "outputs": [
    {
     "data": {
      "text/html": [
       "<div>\n",
       "<style scoped>\n",
       "    .dataframe tbody tr th:only-of-type {\n",
       "        vertical-align: middle;\n",
       "    }\n",
       "\n",
       "    .dataframe tbody tr th {\n",
       "        vertical-align: top;\n",
       "    }\n",
       "\n",
       "    .dataframe thead th {\n",
       "        text-align: right;\n",
       "    }\n",
       "</style>\n",
       "<table border=\"1\" class=\"dataframe\">\n",
       "  <thead>\n",
       "    <tr style=\"text-align: right;\">\n",
       "      <th></th>\n",
       "      <th>Year</th>\n",
       "      <th>Month</th>\n",
       "      <th>DayofMonth</th>\n",
       "      <th>DayOfWeek</th>\n",
       "      <th>CRSDepTime</th>\n",
       "      <th>CRSArrTime</th>\n",
       "      <th>CRSElapsedTime</th>\n",
       "      <th>Distance</th>\n",
       "      <th>Cancelled</th>\n",
       "      <th>Diverted</th>\n",
       "      <th>CarrierDelay</th>\n",
       "      <th>WeatherDelay</th>\n",
       "      <th>NASDelay</th>\n",
       "      <th>SecurityDelay</th>\n",
       "      <th>LateAircraftDelay</th>\n",
       "    </tr>\n",
       "  </thead>\n",
       "  <tbody>\n",
       "    <tr>\n",
       "      <th>count</th>\n",
       "      <td>7453215.00</td>\n",
       "      <td>7453215.00</td>\n",
       "      <td>7453215.00</td>\n",
       "      <td>7453215.00</td>\n",
       "      <td>7453215.00</td>\n",
       "      <td>7453215.00</td>\n",
       "      <td>7452221.00</td>\n",
       "      <td>7453215.00</td>\n",
       "      <td>7453215.00</td>\n",
       "      <td>7453215.00</td>\n",
       "      <td>7453215.00</td>\n",
       "      <td>7453215.00</td>\n",
       "      <td>7453215.00</td>\n",
       "      <td>7453215.00</td>\n",
       "      <td>7453215.00</td>\n",
       "    </tr>\n",
       "    <tr>\n",
       "      <th>mean</th>\n",
       "      <td>2007.00</td>\n",
       "      <td>6.51</td>\n",
       "      <td>15.73</td>\n",
       "      <td>3.93</td>\n",
       "      <td>13.48</td>\n",
       "      <td>15.15</td>\n",
       "      <td>127.25</td>\n",
       "      <td>719.81</td>\n",
       "      <td>0.02</td>\n",
       "      <td>0.00</td>\n",
       "      <td>3.87</td>\n",
       "      <td>0.77</td>\n",
       "      <td>3.78</td>\n",
       "      <td>0.02</td>\n",
       "      <td>5.10</td>\n",
       "    </tr>\n",
       "    <tr>\n",
       "      <th>std</th>\n",
       "      <td>0.00</td>\n",
       "      <td>3.43</td>\n",
       "      <td>8.78</td>\n",
       "      <td>1.99</td>\n",
       "      <td>4.66</td>\n",
       "      <td>4.82</td>\n",
       "      <td>70.36</td>\n",
       "      <td>562.31</td>\n",
       "      <td>0.15</td>\n",
       "      <td>0.05</td>\n",
       "      <td>20.84</td>\n",
       "      <td>9.62</td>\n",
       "      <td>16.18</td>\n",
       "      <td>1.08</td>\n",
       "      <td>21.28</td>\n",
       "    </tr>\n",
       "    <tr>\n",
       "      <th>min</th>\n",
       "      <td>2007.00</td>\n",
       "      <td>1.00</td>\n",
       "      <td>1.00</td>\n",
       "      <td>1.00</td>\n",
       "      <td>0.00</td>\n",
       "      <td>0.00</td>\n",
       "      <td>-1240.00</td>\n",
       "      <td>11.00</td>\n",
       "      <td>0.00</td>\n",
       "      <td>0.00</td>\n",
       "      <td>0.00</td>\n",
       "      <td>0.00</td>\n",
       "      <td>0.00</td>\n",
       "      <td>0.00</td>\n",
       "      <td>0.00</td>\n",
       "    </tr>\n",
       "    <tr>\n",
       "      <th>25%</th>\n",
       "      <td>2007.00</td>\n",
       "      <td>4.00</td>\n",
       "      <td>8.00</td>\n",
       "      <td>2.00</td>\n",
       "      <td>9.50</td>\n",
       "      <td>11.25</td>\n",
       "      <td>77.00</td>\n",
       "      <td>319.00</td>\n",
       "      <td>0.00</td>\n",
       "      <td>0.00</td>\n",
       "      <td>0.00</td>\n",
       "      <td>0.00</td>\n",
       "      <td>0.00</td>\n",
       "      <td>0.00</td>\n",
       "      <td>0.00</td>\n",
       "    </tr>\n",
       "    <tr>\n",
       "      <th>50%</th>\n",
       "      <td>2007.00</td>\n",
       "      <td>7.00</td>\n",
       "      <td>16.00</td>\n",
       "      <td>4.00</td>\n",
       "      <td>13.37</td>\n",
       "      <td>15.33</td>\n",
       "      <td>110.00</td>\n",
       "      <td>569.00</td>\n",
       "      <td>0.00</td>\n",
       "      <td>0.00</td>\n",
       "      <td>0.00</td>\n",
       "      <td>0.00</td>\n",
       "      <td>0.00</td>\n",
       "      <td>0.00</td>\n",
       "      <td>0.00</td>\n",
       "    </tr>\n",
       "    <tr>\n",
       "      <th>75%</th>\n",
       "      <td>2007.00</td>\n",
       "      <td>9.00</td>\n",
       "      <td>23.00</td>\n",
       "      <td>6.00</td>\n",
       "      <td>17.33</td>\n",
       "      <td>19.10</td>\n",
       "      <td>156.00</td>\n",
       "      <td>946.00</td>\n",
       "      <td>0.00</td>\n",
       "      <td>0.00</td>\n",
       "      <td>0.00</td>\n",
       "      <td>0.00</td>\n",
       "      <td>0.00</td>\n",
       "      <td>0.00</td>\n",
       "      <td>0.00</td>\n",
       "    </tr>\n",
       "    <tr>\n",
       "      <th>max</th>\n",
       "      <td>2007.00</td>\n",
       "      <td>12.00</td>\n",
       "      <td>31.00</td>\n",
       "      <td>7.00</td>\n",
       "      <td>23.98</td>\n",
       "      <td>24.00</td>\n",
       "      <td>1430.00</td>\n",
       "      <td>4962.00</td>\n",
       "      <td>1.00</td>\n",
       "      <td>1.00</td>\n",
       "      <td>2580.00</td>\n",
       "      <td>1429.00</td>\n",
       "      <td>1386.00</td>\n",
       "      <td>382.00</td>\n",
       "      <td>1031.00</td>\n",
       "    </tr>\n",
       "  </tbody>\n",
       "</table>\n",
       "</div>"
      ],
      "text/plain": [
       "            Year      Month  DayofMonth  DayOfWeek  CRSDepTime  CRSArrTime  \\\n",
       "count 7453215.00 7453215.00  7453215.00 7453215.00  7453215.00  7453215.00   \n",
       "mean     2007.00       6.51       15.73       3.93       13.48       15.15   \n",
       "std         0.00       3.43        8.78       1.99        4.66        4.82   \n",
       "min      2007.00       1.00        1.00       1.00        0.00        0.00   \n",
       "25%      2007.00       4.00        8.00       2.00        9.50       11.25   \n",
       "50%      2007.00       7.00       16.00       4.00       13.37       15.33   \n",
       "75%      2007.00       9.00       23.00       6.00       17.33       19.10   \n",
       "max      2007.00      12.00       31.00       7.00       23.98       24.00   \n",
       "\n",
       "       CRSElapsedTime   Distance  Cancelled   Diverted  CarrierDelay  \\\n",
       "count      7452221.00 7453215.00 7453215.00 7453215.00    7453215.00   \n",
       "mean           127.25     719.81       0.02       0.00          3.87   \n",
       "std             70.36     562.31       0.15       0.05         20.84   \n",
       "min          -1240.00      11.00       0.00       0.00          0.00   \n",
       "25%             77.00     319.00       0.00       0.00          0.00   \n",
       "50%            110.00     569.00       0.00       0.00          0.00   \n",
       "75%            156.00     946.00       0.00       0.00          0.00   \n",
       "max           1430.00    4962.00       1.00       1.00       2580.00   \n",
       "\n",
       "       WeatherDelay   NASDelay  SecurityDelay  LateAircraftDelay  \n",
       "count    7453215.00 7453215.00     7453215.00         7453215.00  \n",
       "mean           0.77       3.78           0.02               5.10  \n",
       "std            9.62      16.18           1.08              21.28  \n",
       "min            0.00       0.00           0.00               0.00  \n",
       "25%            0.00       0.00           0.00               0.00  \n",
       "50%            0.00       0.00           0.00               0.00  \n",
       "75%            0.00       0.00           0.00               0.00  \n",
       "max         1429.00    1386.00         382.00            1031.00  "
      ]
     },
     "metadata": {},
     "output_type": "display_data"
    }
   ],
   "source": [
    "with pd.option_context('display.float_format', '{:.2f}'.format, 'display.max_rows', None, 'display.max_columns', None):\n",
    "    display(data.describe())"
   ]
  },
  {
   "cell_type": "code",
   "execution_count": 6,
   "metadata": {
    "collapsed": false
   },
   "outputs": [],
   "source": [
    "data[\"Year\"] = data[\"Year\"].astype(\"int\")"
   ]
  },
  {
   "cell_type": "markdown",
   "metadata": {
    "collapsed": false
   },
   "source": [
    "## PROBLEMY Z DANYMI - DANE BRAKUJĄCE, NIEPRAWIDŁOWE, ODSTAJĄCE"
   ]
  },
  {
   "cell_type": "markdown",
   "metadata": {
    "collapsed": false
   },
   "source": [
    "### SPRAWDZENIE POPRAWNOŚCI TYPÓW DANYCH"
   ]
  },
  {
   "cell_type": "code",
   "execution_count": 7,
   "metadata": {},
   "outputs": [],
   "source": [
    "# data = pd.read_parquet(\"./data_mow_2007.parquet\")"
   ]
  },
  {
   "cell_type": "code",
   "execution_count": 8,
   "metadata": {
    "collapsed": false
   },
   "outputs": [
    {
     "data": {
      "text/plain": [
       "Year                   int32\n",
       "Month                  int64\n",
       "DayofMonth             int64\n",
       "DayOfWeek              int64\n",
       "CRSDepTime           float64\n",
       "CRSArrTime           float64\n",
       "CRSElapsedTime       float64\n",
       "Distance               int64\n",
       "Cancelled              int64\n",
       "Diverted               int64\n",
       "CarrierDelay           int64\n",
       "WeatherDelay           int64\n",
       "NASDelay               int64\n",
       "SecurityDelay          int64\n",
       "LateAircraftDelay      int64\n",
       "dtype: object"
      ]
     },
     "execution_count": 8,
     "metadata": {},
     "output_type": "execute_result"
    }
   ],
   "source": [
    "data.dtypes"
   ]
  },
  {
   "cell_type": "markdown",
   "metadata": {
    "collapsed": false
   },
   "source": [
    "Jak widać wyżej - wszystkie dane występują w poprawnym formacie."
   ]
  },
  {
   "cell_type": "markdown",
   "metadata": {
    "collapsed": false
   },
   "source": [
    "### NAPRAWA WIERSZY Z PUSTYMI DANYMI"
   ]
  },
  {
   "cell_type": "code",
   "execution_count": 9,
   "metadata": {},
   "outputs": [],
   "source": [
    "data[\"CRSElapsedTime\"] = data[\"CRSElapsedTime\"].map(lambda v: np.NAN if v < 0 else v)"
   ]
  },
  {
   "cell_type": "code",
   "execution_count": 10,
   "metadata": {},
   "outputs": [],
   "source": [
    "data_with_nulls = data.copy()\n",
    "np.random.seed(42)\n",
    "data_with_nulls[\"Distance\"] = data_with_nulls[\"Distance\"].mask(np.random.random(data_with_nulls.shape[0]) < 0.1)\n",
    "data_with_nulls[\"WeatherDelay\"] = data_with_nulls[\"WeatherDelay\"].mask(np.random.random(data_with_nulls.shape[0]) < 0.1)"
   ]
  },
  {
   "cell_type": "code",
   "execution_count": 11,
   "metadata": {
    "collapsed": false
   },
   "outputs": [
    {
     "data": {
      "text/plain": [
       "Year                      0\n",
       "Month                     0\n",
       "DayofMonth                0\n",
       "DayOfWeek                 0\n",
       "CRSDepTime                0\n",
       "CRSArrTime                0\n",
       "CRSElapsedTime          996\n",
       "Distance             746296\n",
       "Cancelled                 0\n",
       "Diverted                  0\n",
       "CarrierDelay              0\n",
       "WeatherDelay         743989\n",
       "NASDelay                  0\n",
       "SecurityDelay             0\n",
       "LateAircraftDelay         0\n",
       "dtype: int64"
      ]
     },
     "execution_count": 11,
     "metadata": {},
     "output_type": "execute_result"
    }
   ],
   "source": [
    "np.sum(data_with_nulls.isna())"
   ]
  },
  {
   "cell_type": "markdown",
   "metadata": {},
   "source": [
    "##### PROSTA METODA - WYPEŁNIANIE 0"
   ]
  },
  {
   "cell_type": "code",
   "execution_count": 12,
   "metadata": {},
   "outputs": [
    {
     "data": {
      "text/plain": [
       "count   7452219.00\n",
       "mean        127.25\n",
       "std          70.36\n",
       "min           1.00\n",
       "25%          77.00\n",
       "50%         110.00\n",
       "75%         156.00\n",
       "max        1430.00\n",
       "Name: CRSElapsedTime, dtype: float64"
      ]
     },
     "metadata": {},
     "output_type": "display_data"
    }
   ],
   "source": [
    "with pd.option_context('display.float_format', '{:.2f}'.format):\n",
    "    display(data_with_nulls[\"CRSElapsedTime\"].describe())"
   ]
  },
  {
   "cell_type": "code",
   "execution_count": 13,
   "metadata": {},
   "outputs": [],
   "source": [
    "data_with_nulls[\"CRSElapsedTime\"].fillna(0, inplace=True)"
   ]
  },
  {
   "cell_type": "code",
   "execution_count": 14,
   "metadata": {},
   "outputs": [
    {
     "data": {
      "text/plain": [
       "count   7453215.00\n",
       "mean        127.23\n",
       "std          70.37\n",
       "min           0.00\n",
       "25%          77.00\n",
       "50%         110.00\n",
       "75%         156.00\n",
       "max        1430.00\n",
       "Name: CRSElapsedTime, dtype: float64"
      ]
     },
     "metadata": {},
     "output_type": "display_data"
    }
   ],
   "source": [
    "with pd.option_context('display.float_format', '{:.2f}'.format):\n",
    "    display(data_with_nulls[\"CRSElapsedTime\"].describe())"
   ]
  },
  {
   "cell_type": "markdown",
   "metadata": {},
   "source": [
    "##### ROZKŁAD ZMIENNEJ"
   ]
  },
  {
   "cell_type": "code",
   "execution_count": 15,
   "metadata": {},
   "outputs": [
    {
     "data": {
      "text/plain": [
       "count   7453215.00\n",
       "mean        719.81\n",
       "std         562.31\n",
       "min          11.00\n",
       "25%         319.00\n",
       "50%         569.00\n",
       "75%         946.00\n",
       "max        4962.00\n",
       "Name: Distance, dtype: float64"
      ]
     },
     "metadata": {},
     "output_type": "display_data"
    }
   ],
   "source": [
    "with pd.option_context('display.float_format', '{:.2f}'.format):\n",
    "    display(data[\"Distance\"].describe())"
   ]
  },
  {
   "cell_type": "code",
   "execution_count": 16,
   "metadata": {},
   "outputs": [],
   "source": [
    "from scipy.stats import gaussian_kde\n",
    "\n",
    "# estimate density\n",
    "density = gaussian_kde(data[\"Distance\"])\n",
    "\n",
    "# use density to imput missing values\n",
    "data_with_nulls[\"Distance\"].fillna(density.resample(1)[0][0], inplace=True)"
   ]
  },
  {
   "cell_type": "code",
   "execution_count": 17,
   "metadata": {},
   "outputs": [
    {
     "data": {
      "text/plain": [
       "count   7453215.00\n",
       "mean        893.01\n",
       "std         744.25\n",
       "min          11.00\n",
       "25%         337.00\n",
       "50%         622.00\n",
       "75%        1127.00\n",
       "max        4962.00\n",
       "Name: Distance, dtype: float64"
      ]
     },
     "metadata": {},
     "output_type": "display_data"
    }
   ],
   "source": [
    "with pd.option_context('display.float_format', '{:.2f}'.format):\n",
    "    display(data_with_nulls[\"Distance\"].describe())"
   ]
  },
  {
   "cell_type": "markdown",
   "metadata": {},
   "source": [
    "##### Regresja"
   ]
  },
  {
   "cell_type": "code",
   "execution_count": 18,
   "metadata": {},
   "outputs": [
    {
     "data": {
      "text/plain": [
       "count   6709226.00\n",
       "mean          0.77\n",
       "std           9.57\n",
       "min           0.00\n",
       "25%           0.00\n",
       "50%           0.00\n",
       "75%           0.00\n",
       "max        1429.00\n",
       "Name: WeatherDelay, dtype: float64"
      ]
     },
     "metadata": {},
     "output_type": "display_data"
    }
   ],
   "source": [
    "with pd.option_context('display.float_format', '{:.2f}'.format):\n",
    "    display(data_with_nulls[\"WeatherDelay\"].describe())"
   ]
  },
  {
   "cell_type": "code",
   "execution_count": 19,
   "metadata": {},
   "outputs": [],
   "source": [
    "# build regression model for WeatherDelay\n",
    "from sklearn.linear_model import LinearRegression\n",
    "\n",
    "columns = ['Year', 'Month', 'DayofMonth', 'DayOfWeek', 'CRSDepTime', 'CRSArrTime',\n",
    "           'CRSElapsedTime', 'Distance', 'Cancelled', 'Diverted', 'CarrierDelay',\n",
    "           'NASDelay', 'SecurityDelay', 'LateAircraftDelay']\n",
    "\n",
    "model = LinearRegression()\n",
    "model = model.fit(data_with_nulls.dropna()[columns], data_with_nulls[\"WeatherDelay\"].dropna())"
   ]
  },
  {
   "cell_type": "code",
   "execution_count": 20,
   "metadata": {},
   "outputs": [],
   "source": [
    "# impute missing values using regression model\n",
    "# for each row with missing value in WeatherDelay\n",
    "data_with_nulls.loc[data_with_nulls[\"WeatherDelay\"].isna(), \"WeatherDelay\"] = model.predict(\n",
    "    data_with_nulls[data_with_nulls[\"WeatherDelay\"].isna()][columns])"
   ]
  },
  {
   "cell_type": "code",
   "execution_count": 21,
   "metadata": {},
   "outputs": [
    {
     "data": {
      "text/plain": [
       "count   7453215.00\n",
       "mean          0.77\n",
       "std           9.08\n",
       "min          -6.00\n",
       "25%           0.00\n",
       "50%           0.00\n",
       "75%           0.00\n",
       "max        1429.00\n",
       "Name: WeatherDelay, dtype: float64"
      ]
     },
     "metadata": {},
     "output_type": "display_data"
    }
   ],
   "source": [
    "with pd.option_context('display.float_format', '{:.2f}'.format):\n",
    "    display(data_with_nulls[\"WeatherDelay\"].describe())"
   ]
  },
  {
   "cell_type": "code",
   "execution_count": 22,
   "metadata": {},
   "outputs": [],
   "source": [
    "# if value less than 0, set to 0\n",
    "data_with_nulls[\"WeatherDelay\"] = data_with_nulls[\"WeatherDelay\"].map(lambda v: 0 if v < 0 else v)"
   ]
  },
  {
   "cell_type": "code",
   "execution_count": 23,
   "metadata": {},
   "outputs": [
    {
     "data": {
      "text/plain": [
       "count   7453215.00\n",
       "mean          0.77\n",
       "std           9.08\n",
       "min           0.00\n",
       "25%           0.00\n",
       "50%           0.00\n",
       "75%           0.00\n",
       "max        1429.00\n",
       "Name: WeatherDelay, dtype: float64"
      ]
     },
     "metadata": {},
     "output_type": "display_data"
    }
   ],
   "source": [
    "with pd.option_context('display.float_format', '{:.2f}'.format):\n",
    "    display(data_with_nulls[\"WeatherDelay\"].describe())"
   ]
  },
  {
   "cell_type": "markdown",
   "metadata": {},
   "source": [
    "#### SKALOWANIE DANYCH"
   ]
  },
  {
   "cell_type": "code",
   "execution_count": 24,
   "metadata": {},
   "outputs": [],
   "source": [
    "data_to_scale = data_with_nulls.copy()\n",
    "\n",
    "data_minmax = data_to_scale.copy()\n",
    "columns = [column for column in data_minmax.columns if column != 'Cancelled']\n",
    "for column in columns:\n",
    "    data_minmax[column] = (data_minmax[column] - data_minmax[column].min()) / (\n",
    "                data_minmax[column].max() - data_minmax[column].min())"
   ]
  },
  {
   "cell_type": "code",
   "execution_count": 25,
   "metadata": {},
   "outputs": [
    {
     "data": {
      "text/html": [
       "<div>\n",
       "<style scoped>\n",
       "    .dataframe tbody tr th:only-of-type {\n",
       "        vertical-align: middle;\n",
       "    }\n",
       "\n",
       "    .dataframe tbody tr th {\n",
       "        vertical-align: top;\n",
       "    }\n",
       "\n",
       "    .dataframe thead th {\n",
       "        text-align: right;\n",
       "    }\n",
       "</style>\n",
       "<table border=\"1\" class=\"dataframe\">\n",
       "  <thead>\n",
       "    <tr style=\"text-align: right;\">\n",
       "      <th></th>\n",
       "      <th>Year</th>\n",
       "      <th>Month</th>\n",
       "      <th>DayofMonth</th>\n",
       "      <th>DayOfWeek</th>\n",
       "      <th>CRSDepTime</th>\n",
       "      <th>CRSArrTime</th>\n",
       "      <th>CRSElapsedTime</th>\n",
       "      <th>Distance</th>\n",
       "      <th>Cancelled</th>\n",
       "      <th>Diverted</th>\n",
       "      <th>CarrierDelay</th>\n",
       "      <th>WeatherDelay</th>\n",
       "      <th>NASDelay</th>\n",
       "      <th>SecurityDelay</th>\n",
       "      <th>LateAircraftDelay</th>\n",
       "    </tr>\n",
       "  </thead>\n",
       "  <tbody>\n",
       "    <tr>\n",
       "      <th>count</th>\n",
       "      <td>0.00</td>\n",
       "      <td>7453215.00</td>\n",
       "      <td>7453215.00</td>\n",
       "      <td>7453215.00</td>\n",
       "      <td>7453215.00</td>\n",
       "      <td>7453215.00</td>\n",
       "      <td>7453215.00</td>\n",
       "      <td>7453215.00</td>\n",
       "      <td>7453215.00</td>\n",
       "      <td>7453215.00</td>\n",
       "      <td>7453215.00</td>\n",
       "      <td>7453215.00</td>\n",
       "      <td>7453215.00</td>\n",
       "      <td>7453215.00</td>\n",
       "      <td>7453215.00</td>\n",
       "    </tr>\n",
       "    <tr>\n",
       "      <th>mean</th>\n",
       "      <td>NaN</td>\n",
       "      <td>0.50</td>\n",
       "      <td>0.49</td>\n",
       "      <td>0.49</td>\n",
       "      <td>0.56</td>\n",
       "      <td>0.63</td>\n",
       "      <td>0.09</td>\n",
       "      <td>0.18</td>\n",
       "      <td>0.02</td>\n",
       "      <td>0.00</td>\n",
       "      <td>0.00</td>\n",
       "      <td>0.00</td>\n",
       "      <td>0.00</td>\n",
       "      <td>0.00</td>\n",
       "      <td>0.00</td>\n",
       "    </tr>\n",
       "    <tr>\n",
       "      <th>std</th>\n",
       "      <td>NaN</td>\n",
       "      <td>0.31</td>\n",
       "      <td>0.29</td>\n",
       "      <td>0.33</td>\n",
       "      <td>0.19</td>\n",
       "      <td>0.20</td>\n",
       "      <td>0.05</td>\n",
       "      <td>0.15</td>\n",
       "      <td>0.15</td>\n",
       "      <td>0.05</td>\n",
       "      <td>0.01</td>\n",
       "      <td>0.01</td>\n",
       "      <td>0.01</td>\n",
       "      <td>0.00</td>\n",
       "      <td>0.02</td>\n",
       "    </tr>\n",
       "    <tr>\n",
       "      <th>min</th>\n",
       "      <td>NaN</td>\n",
       "      <td>0.00</td>\n",
       "      <td>0.00</td>\n",
       "      <td>0.00</td>\n",
       "      <td>0.00</td>\n",
       "      <td>0.00</td>\n",
       "      <td>0.00</td>\n",
       "      <td>0.00</td>\n",
       "      <td>0.00</td>\n",
       "      <td>0.00</td>\n",
       "      <td>0.00</td>\n",
       "      <td>0.00</td>\n",
       "      <td>0.00</td>\n",
       "      <td>0.00</td>\n",
       "      <td>0.00</td>\n",
       "    </tr>\n",
       "    <tr>\n",
       "      <th>25%</th>\n",
       "      <td>NaN</td>\n",
       "      <td>0.27</td>\n",
       "      <td>0.23</td>\n",
       "      <td>0.17</td>\n",
       "      <td>0.40</td>\n",
       "      <td>0.47</td>\n",
       "      <td>0.05</td>\n",
       "      <td>0.07</td>\n",
       "      <td>0.00</td>\n",
       "      <td>0.00</td>\n",
       "      <td>0.00</td>\n",
       "      <td>0.00</td>\n",
       "      <td>0.00</td>\n",
       "      <td>0.00</td>\n",
       "      <td>0.00</td>\n",
       "    </tr>\n",
       "    <tr>\n",
       "      <th>50%</th>\n",
       "      <td>NaN</td>\n",
       "      <td>0.55</td>\n",
       "      <td>0.50</td>\n",
       "      <td>0.50</td>\n",
       "      <td>0.56</td>\n",
       "      <td>0.64</td>\n",
       "      <td>0.08</td>\n",
       "      <td>0.12</td>\n",
       "      <td>0.00</td>\n",
       "      <td>0.00</td>\n",
       "      <td>0.00</td>\n",
       "      <td>0.00</td>\n",
       "      <td>0.00</td>\n",
       "      <td>0.00</td>\n",
       "      <td>0.00</td>\n",
       "    </tr>\n",
       "    <tr>\n",
       "      <th>75%</th>\n",
       "      <td>NaN</td>\n",
       "      <td>0.73</td>\n",
       "      <td>0.73</td>\n",
       "      <td>0.83</td>\n",
       "      <td>0.72</td>\n",
       "      <td>0.80</td>\n",
       "      <td>0.11</td>\n",
       "      <td>0.23</td>\n",
       "      <td>0.00</td>\n",
       "      <td>0.00</td>\n",
       "      <td>0.00</td>\n",
       "      <td>0.00</td>\n",
       "      <td>0.00</td>\n",
       "      <td>0.00</td>\n",
       "      <td>0.00</td>\n",
       "    </tr>\n",
       "    <tr>\n",
       "      <th>max</th>\n",
       "      <td>NaN</td>\n",
       "      <td>1.00</td>\n",
       "      <td>1.00</td>\n",
       "      <td>1.00</td>\n",
       "      <td>1.00</td>\n",
       "      <td>1.00</td>\n",
       "      <td>1.00</td>\n",
       "      <td>1.00</td>\n",
       "      <td>1.00</td>\n",
       "      <td>1.00</td>\n",
       "      <td>1.00</td>\n",
       "      <td>1.00</td>\n",
       "      <td>1.00</td>\n",
       "      <td>1.00</td>\n",
       "      <td>1.00</td>\n",
       "    </tr>\n",
       "  </tbody>\n",
       "</table>\n",
       "</div>"
      ],
      "text/plain": [
       "       Year      Month  DayofMonth  DayOfWeek  CRSDepTime  CRSArrTime  \\\n",
       "count  0.00 7453215.00  7453215.00 7453215.00  7453215.00  7453215.00   \n",
       "mean    NaN       0.50        0.49       0.49        0.56        0.63   \n",
       "std     NaN       0.31        0.29       0.33        0.19        0.20   \n",
       "min     NaN       0.00        0.00       0.00        0.00        0.00   \n",
       "25%     NaN       0.27        0.23       0.17        0.40        0.47   \n",
       "50%     NaN       0.55        0.50       0.50        0.56        0.64   \n",
       "75%     NaN       0.73        0.73       0.83        0.72        0.80   \n",
       "max     NaN       1.00        1.00       1.00        1.00        1.00   \n",
       "\n",
       "       CRSElapsedTime   Distance  Cancelled   Diverted  CarrierDelay  \\\n",
       "count      7453215.00 7453215.00 7453215.00 7453215.00    7453215.00   \n",
       "mean             0.09       0.18       0.02       0.00          0.00   \n",
       "std              0.05       0.15       0.15       0.05          0.01   \n",
       "min              0.00       0.00       0.00       0.00          0.00   \n",
       "25%              0.05       0.07       0.00       0.00          0.00   \n",
       "50%              0.08       0.12       0.00       0.00          0.00   \n",
       "75%              0.11       0.23       0.00       0.00          0.00   \n",
       "max              1.00       1.00       1.00       1.00          1.00   \n",
       "\n",
       "       WeatherDelay   NASDelay  SecurityDelay  LateAircraftDelay  \n",
       "count    7453215.00 7453215.00     7453215.00         7453215.00  \n",
       "mean           0.00       0.00           0.00               0.00  \n",
       "std            0.01       0.01           0.00               0.02  \n",
       "min            0.00       0.00           0.00               0.00  \n",
       "25%            0.00       0.00           0.00               0.00  \n",
       "50%            0.00       0.00           0.00               0.00  \n",
       "75%            0.00       0.00           0.00               0.00  \n",
       "max            1.00       1.00           1.00               1.00  "
      ]
     },
     "metadata": {},
     "output_type": "display_data"
    }
   ],
   "source": [
    "with pd.option_context('display.float_format', '{:.2f}'.format, 'display.max_rows', None, 'display.max_columns', None):\n",
    "    display(data_minmax.describe())"
   ]
  },
  {
   "cell_type": "code",
   "execution_count": 26,
   "metadata": {},
   "outputs": [],
   "source": [
    "data_standard = data_to_scale.copy()\n",
    "columns = [column for column in data_minmax.columns if column != 'Cancelled']\n",
    "for column in columns:\n",
    "    data_standard[column] = (data_standard[column] - data_standard[column].mean()) / data_standard[column].std()"
   ]
  },
  {
   "cell_type": "code",
   "execution_count": 27,
   "metadata": {},
   "outputs": [
    {
     "data": {
      "text/html": [
       "<div>\n",
       "<style scoped>\n",
       "    .dataframe tbody tr th:only-of-type {\n",
       "        vertical-align: middle;\n",
       "    }\n",
       "\n",
       "    .dataframe tbody tr th {\n",
       "        vertical-align: top;\n",
       "    }\n",
       "\n",
       "    .dataframe thead th {\n",
       "        text-align: right;\n",
       "    }\n",
       "</style>\n",
       "<table border=\"1\" class=\"dataframe\">\n",
       "  <thead>\n",
       "    <tr style=\"text-align: right;\">\n",
       "      <th></th>\n",
       "      <th>Year</th>\n",
       "      <th>Month</th>\n",
       "      <th>DayofMonth</th>\n",
       "      <th>DayOfWeek</th>\n",
       "      <th>CRSDepTime</th>\n",
       "      <th>CRSArrTime</th>\n",
       "      <th>CRSElapsedTime</th>\n",
       "      <th>Distance</th>\n",
       "      <th>Cancelled</th>\n",
       "      <th>Diverted</th>\n",
       "      <th>CarrierDelay</th>\n",
       "      <th>WeatherDelay</th>\n",
       "      <th>NASDelay</th>\n",
       "      <th>SecurityDelay</th>\n",
       "      <th>LateAircraftDelay</th>\n",
       "    </tr>\n",
       "  </thead>\n",
       "  <tbody>\n",
       "    <tr>\n",
       "      <th>count</th>\n",
       "      <td>0.00</td>\n",
       "      <td>7453215.00</td>\n",
       "      <td>7453215.00</td>\n",
       "      <td>7453215.00</td>\n",
       "      <td>7453215.00</td>\n",
       "      <td>7453215.00</td>\n",
       "      <td>7453215.00</td>\n",
       "      <td>7453215.00</td>\n",
       "      <td>7453215.00</td>\n",
       "      <td>7453215.00</td>\n",
       "      <td>7453215.00</td>\n",
       "      <td>7453215.00</td>\n",
       "      <td>7453215.00</td>\n",
       "      <td>7453215.00</td>\n",
       "      <td>7453215.00</td>\n",
       "    </tr>\n",
       "    <tr>\n",
       "      <th>mean</th>\n",
       "      <td>NaN</td>\n",
       "      <td>-0.00</td>\n",
       "      <td>-0.00</td>\n",
       "      <td>-0.00</td>\n",
       "      <td>0.00</td>\n",
       "      <td>-0.00</td>\n",
       "      <td>-0.00</td>\n",
       "      <td>0.00</td>\n",
       "      <td>0.02</td>\n",
       "      <td>0.00</td>\n",
       "      <td>-0.00</td>\n",
       "      <td>0.00</td>\n",
       "      <td>-0.00</td>\n",
       "      <td>-0.00</td>\n",
       "      <td>0.00</td>\n",
       "    </tr>\n",
       "    <tr>\n",
       "      <th>std</th>\n",
       "      <td>NaN</td>\n",
       "      <td>1.00</td>\n",
       "      <td>1.00</td>\n",
       "      <td>1.00</td>\n",
       "      <td>1.00</td>\n",
       "      <td>1.00</td>\n",
       "      <td>1.00</td>\n",
       "      <td>1.00</td>\n",
       "      <td>0.15</td>\n",
       "      <td>1.00</td>\n",
       "      <td>1.00</td>\n",
       "      <td>1.00</td>\n",
       "      <td>1.00</td>\n",
       "      <td>1.00</td>\n",
       "      <td>1.00</td>\n",
       "    </tr>\n",
       "    <tr>\n",
       "      <th>min</th>\n",
       "      <td>NaN</td>\n",
       "      <td>-1.61</td>\n",
       "      <td>-1.68</td>\n",
       "      <td>-1.47</td>\n",
       "      <td>-2.89</td>\n",
       "      <td>-3.14</td>\n",
       "      <td>-1.81</td>\n",
       "      <td>-1.19</td>\n",
       "      <td>0.00</td>\n",
       "      <td>-0.05</td>\n",
       "      <td>-0.19</td>\n",
       "      <td>-0.08</td>\n",
       "      <td>-0.23</td>\n",
       "      <td>-0.02</td>\n",
       "      <td>-0.24</td>\n",
       "    </tr>\n",
       "    <tr>\n",
       "      <th>25%</th>\n",
       "      <td>NaN</td>\n",
       "      <td>-0.73</td>\n",
       "      <td>-0.88</td>\n",
       "      <td>-0.97</td>\n",
       "      <td>-0.85</td>\n",
       "      <td>-0.81</td>\n",
       "      <td>-0.71</td>\n",
       "      <td>-0.75</td>\n",
       "      <td>0.00</td>\n",
       "      <td>-0.05</td>\n",
       "      <td>-0.19</td>\n",
       "      <td>-0.08</td>\n",
       "      <td>-0.23</td>\n",
       "      <td>-0.02</td>\n",
       "      <td>-0.24</td>\n",
       "    </tr>\n",
       "    <tr>\n",
       "      <th>50%</th>\n",
       "      <td>NaN</td>\n",
       "      <td>0.14</td>\n",
       "      <td>0.03</td>\n",
       "      <td>0.03</td>\n",
       "      <td>-0.02</td>\n",
       "      <td>0.04</td>\n",
       "      <td>-0.24</td>\n",
       "      <td>-0.36</td>\n",
       "      <td>0.00</td>\n",
       "      <td>-0.05</td>\n",
       "      <td>-0.19</td>\n",
       "      <td>-0.08</td>\n",
       "      <td>-0.23</td>\n",
       "      <td>-0.02</td>\n",
       "      <td>-0.24</td>\n",
       "    </tr>\n",
       "    <tr>\n",
       "      <th>75%</th>\n",
       "      <td>NaN</td>\n",
       "      <td>0.73</td>\n",
       "      <td>0.83</td>\n",
       "      <td>1.04</td>\n",
       "      <td>0.83</td>\n",
       "      <td>0.82</td>\n",
       "      <td>0.41</td>\n",
       "      <td>0.31</td>\n",
       "      <td>0.00</td>\n",
       "      <td>-0.05</td>\n",
       "      <td>-0.19</td>\n",
       "      <td>-0.08</td>\n",
       "      <td>-0.23</td>\n",
       "      <td>-0.02</td>\n",
       "      <td>-0.24</td>\n",
       "    </tr>\n",
       "    <tr>\n",
       "      <th>max</th>\n",
       "      <td>NaN</td>\n",
       "      <td>1.60</td>\n",
       "      <td>1.74</td>\n",
       "      <td>1.54</td>\n",
       "      <td>2.25</td>\n",
       "      <td>1.84</td>\n",
       "      <td>18.51</td>\n",
       "      <td>5.47</td>\n",
       "      <td>1.00</td>\n",
       "      <td>20.81</td>\n",
       "      <td>123.60</td>\n",
       "      <td>157.32</td>\n",
       "      <td>85.44</td>\n",
       "      <td>352.05</td>\n",
       "      <td>48.22</td>\n",
       "    </tr>\n",
       "  </tbody>\n",
       "</table>\n",
       "</div>"
      ],
      "text/plain": [
       "       Year      Month  DayofMonth  DayOfWeek  CRSDepTime  CRSArrTime  \\\n",
       "count  0.00 7453215.00  7453215.00 7453215.00  7453215.00  7453215.00   \n",
       "mean    NaN      -0.00       -0.00      -0.00        0.00       -0.00   \n",
       "std     NaN       1.00        1.00       1.00        1.00        1.00   \n",
       "min     NaN      -1.61       -1.68      -1.47       -2.89       -3.14   \n",
       "25%     NaN      -0.73       -0.88      -0.97       -0.85       -0.81   \n",
       "50%     NaN       0.14        0.03       0.03       -0.02        0.04   \n",
       "75%     NaN       0.73        0.83       1.04        0.83        0.82   \n",
       "max     NaN       1.60        1.74       1.54        2.25        1.84   \n",
       "\n",
       "       CRSElapsedTime   Distance  Cancelled   Diverted  CarrierDelay  \\\n",
       "count      7453215.00 7453215.00 7453215.00 7453215.00    7453215.00   \n",
       "mean            -0.00       0.00       0.02       0.00         -0.00   \n",
       "std              1.00       1.00       0.15       1.00          1.00   \n",
       "min             -1.81      -1.19       0.00      -0.05         -0.19   \n",
       "25%             -0.71      -0.75       0.00      -0.05         -0.19   \n",
       "50%             -0.24      -0.36       0.00      -0.05         -0.19   \n",
       "75%              0.41       0.31       0.00      -0.05         -0.19   \n",
       "max             18.51       5.47       1.00      20.81        123.60   \n",
       "\n",
       "       WeatherDelay   NASDelay  SecurityDelay  LateAircraftDelay  \n",
       "count    7453215.00 7453215.00     7453215.00         7453215.00  \n",
       "mean           0.00      -0.00          -0.00               0.00  \n",
       "std            1.00       1.00           1.00               1.00  \n",
       "min           -0.08      -0.23          -0.02              -0.24  \n",
       "25%           -0.08      -0.23          -0.02              -0.24  \n",
       "50%           -0.08      -0.23          -0.02              -0.24  \n",
       "75%           -0.08      -0.23          -0.02              -0.24  \n",
       "max          157.32      85.44         352.05              48.22  "
      ]
     },
     "metadata": {},
     "output_type": "display_data"
    }
   ],
   "source": [
    "with pd.option_context('display.float_format', '{:.2f}'.format, 'display.max_rows', None, 'display.max_columns', None):\n",
    "    display(data_standard.describe())"
   ]
  },
  {
   "cell_type": "code",
   "execution_count": 28,
   "metadata": {},
   "outputs": [],
   "source": [
    "# data_standard.to_parquet(\"./data_mow_2007_standard.parquet\")"
   ]
  },
  {
   "cell_type": "code",
   "execution_count": 29,
   "metadata": {},
   "outputs": [],
   "source": [
    "# data_minmax.to_parquet(\"./data_mow_2007_minmax.parquet\")"
   ]
  },
  {
   "cell_type": "markdown",
   "metadata": {
    "collapsed": false
   },
   "source": [
    "### PODZIAŁ DANYCH"
   ]
  },
  {
   "cell_type": "code",
   "execution_count": 11,
   "metadata": {},
   "outputs": [],
   "source": [
    "import pandas as pd\n",
    "import numpy as np\n",
    "import matplotlib.pyplot as plt"
   ]
  },
  {
   "cell_type": "code",
   "execution_count": 12,
   "metadata": {},
   "outputs": [],
   "source": [
    "data_standard = pd.read_parquet(\"./data_mow_2007_standard.parquet\")\n",
    "data_minmax = pd.read_parquet(\"./data_mow_2007_minmax.parquet\")"
   ]
  },
  {
   "cell_type": "code",
   "execution_count": 3,
   "metadata": {
    "collapsed": false
   },
   "outputs": [
    {
     "name": "stdout",
     "output_type": "stream",
     "text": [
      "\n",
      "x_train_standard:  (5962571, 13)\n",
      "x_test_standard:  (1490644, 13)\n",
      "y_train_standard:  (5962571, 1)\n",
      "y_test_standard:  (1490644, 1)\n",
      "\n",
      "x_train_minmax.shape:  (5962571, 13)\n",
      "x_test_minmax.shape:  (1490644, 13)\n",
      "y_train_minmax.shape:  (5962571, 1)\n",
      "y_test_minmax.shape:  (1490644, 1)\n"
     ]
    }
   ],
   "source": [
    "import warnings\n",
    "warnings.simplefilter(action='ignore', category=FutureWarning)\n",
    "\n",
    "columns =['Month', 'DayofMonth', 'DayOfWeek', 'CRSDepTime', 'CRSArrTime',\n",
    "       'CRSElapsedTime', 'Distance', 'Diverted', 'CarrierDelay',\n",
    "       'WeatherDelay', 'NASDelay', 'SecurityDelay', 'LateAircraftDelay', 'Cancelled']\n",
    "\n",
    "def train_test_split(X, Y, test_size):\n",
    "    train_pct_index = int((1 - test_size) * len(X))\n",
    "    train_pct_indexY = int((1 - 0.20) * len(Y))\n",
    "\n",
    "    trainDF_x = pd.DataFrame(X[:train_pct_index], columns = columns)\n",
    "    trainDF_y = pd.DataFrame(Y[:train_pct_indexY], columns = columns)\n",
    "    trainDF = trainDF_x.append(trainDF_y)\n",
    "    trainDF = trainDF.sample(frac=1, random_state=42)\n",
    "    trainDF = trainDF.to_numpy()\n",
    "\n",
    "    testDF_x = pd.DataFrame(X[train_pct_index:], columns = columns)\n",
    "    testDF_y = pd.DataFrame(Y[train_pct_indexY:], columns = columns)\n",
    "    testDF = testDF_x.append(testDF_y)\n",
    "    testDF = testDF.sample(frac=1, random_state=42)\n",
    "    testDF = testDF.to_numpy()\n",
    "\n",
    "    return trainDF[:, :-1], testDF[:, :-1], trainDF[:, -1:], testDF[:, -1:]\n",
    "\n",
    "\n",
    "\n",
    "def splitOfData(dataInput, testSize):\n",
    "    cancelled = dataInput['Cancelled']==1\n",
    "    dataCancelled = dataInput[cancelled]\n",
    "    dataNotCancelled = dataInput[~cancelled]\n",
    "    return train_test_split(dataNotCancelled, dataCancelled, test_size=testSize)\n",
    "\n",
    "data_for_training_standard = data_standard[['Month', 'DayofMonth', 'DayOfWeek', 'CRSDepTime', 'CRSArrTime','CRSElapsedTime', 'Distance', 'Diverted', 'CarrierDelay','WeatherDelay', 'NASDelay', 'SecurityDelay', 'LateAircraftDelay', 'Cancelled']]\n",
    "data_for_training_minmax = data_minmax[['Month', 'DayofMonth', 'DayOfWeek', 'CRSDepTime', 'CRSArrTime','CRSElapsedTime', 'Distance', 'Diverted', 'CarrierDelay','WeatherDelay', 'NASDelay', 'SecurityDelay', 'LateAircraftDelay', 'Cancelled']]\n",
    "\n",
    "x_train_standard, x_test_standard, y_train_standard, y_test_standard = splitOfData(data_for_training_standard, 0.2)\n",
    "x_train_minmax, x_test_minmax, y_train_minmax, y_test_minmax = splitOfData(data_for_training_minmax, 0.2)\n",
    "\n",
    "data_sets = [(\"standarized\", x_train_standard, y_train_standard, x_test_standard, y_test_standard), (\"min-max\", x_train_minmax, y_train_minmax, x_test_minmax, y_test_minmax)]\n",
    "print(\"\")\n",
    "print(\"x_train_standard: \", x_train_standard.shape)\n",
    "print(\"x_test_standard: \", x_test_standard.shape)\n",
    "print(\"y_train_standard: \", y_train_standard.shape)\n",
    "print(\"y_test_standard: \", y_test_standard.shape)\n",
    "\n",
    "print(\"\")\n",
    "print(\"x_train_minmax.shape: \", x_train_minmax.shape)\n",
    "print(\"x_test_minmax.shape: \", x_test_minmax.shape)\n",
    "print(\"y_train_minmax.shape: \", y_train_minmax.shape)\n",
    "print(\"y_test_minmax.shape: \", y_test_minmax.shape)\n"
   ]
  },
  {
   "cell_type": "markdown",
   "metadata": {
    "collapsed": false
   },
   "source": [
    "### MIARY SKUTECZNOŚCI"
   ]
  },
  {
   "cell_type": "code",
   "execution_count": 4,
   "metadata": {
    "collapsed": false
   },
   "outputs": [],
   "source": [
    "from sklearn.metrics import accuracy_score, f1_score, precision_score, recall_score\n",
    "\n",
    "def effectiveness_measures_classifier(y_test, predictions):\n",
    "    acc=accuracy_score(y_test, predictions)\n",
    "    print(\"Prediction Accuracy: \", acc)\n",
    "\n",
    "    f1=f1_score(y_test, predictions)\n",
    "    print(\"F1: \", f1)\n",
    "\n",
    "    precision=precision_score(y_test, predictions)\n",
    "    print(\"Precision: \", precision)\n",
    "\n",
    "    recall=recall_score(y_test, predictions)\n",
    "    print(\"Recall: \", recall)\n",
    "\n",
    "    return acc, f1, precision, recall\n"
   ]
  },
  {
   "cell_type": "markdown",
   "metadata": {
    "collapsed": false
   },
   "source": [
    "### DECISION TREE CLASSIFIER"
   ]
  },
  {
   "cell_type": "code",
   "execution_count": 5,
   "metadata": {
    "collapsed": false
   },
   "outputs": [
    {
     "name": "stdout",
     "output_type": "stream",
     "text": [
      "Decision Tree Classifier (standarized data):\n"
     ]
    },
    {
     "data": {
      "image/png": "[encoded data removed]",
      "text/plain": [
       "<Figure size 432x288 with 2 Axes>"
      ]
     },
     "metadata": {
      "needs_background": "light"
     },
     "output_type": "display_data"
    },
    {
     "name": "stdout",
     "output_type": "stream",
     "text": [
      "Prediction Accuracy:  0.8353979890570787\n",
      "F1:  0.07156884632412204\n",
      "Precision:  0.04074062905219988\n",
      "Recall:  0.2941524105754277\n",
      "\n",
      "Decision Tree Classifier (min-max data):\n"
     ]
    },
    {
     "data": {
      "image/png": "[encoded data removed]",
      "text/plain": [
       "<Figure size 432x288 with 2 Axes>"
      ]
     },
     "metadata": {
      "needs_background": "light"
     },
     "output_type": "display_data"
    },
    {
     "name": "stdout",
     "output_type": "stream",
     "text": [
      "Prediction Accuracy:  0.8298507222381736\n",
      "F1:  0.07082933405625609\n",
      "Precision:  0.040142681549398714\n",
      "Recall:  0.30068429237947125\n",
      "\n"
     ]
    }
   ],
   "source": [
    "from sklearn.metrics import ConfusionMatrixDisplay\n",
    "from sklearn.tree import DecisionTreeClassifier\n",
    "\n",
    "eff_dtc = []\n",
    "\n",
    "for name, x_train, y_train, x_test, y_test in data_sets:\n",
    "    dtc = DecisionTreeClassifier(max_depth=10, class_weight=\"balanced\").fit(x_train, y_train)\n",
    "    pred = dtc.predict(x_test)\n",
    "    print(f\"Decision Tree Classifier ({name} data):\")\n",
    "    ConfusionMatrixDisplay.from_predictions(y_test,pred, normalize='true')\n",
    "    plt.show()\n",
    "    eff_dtc.append(effectiveness_measures_classifier(y_test, pred))\n",
    "    print(\"\")"
   ]
  },
  {
   "cell_type": "markdown",
   "metadata": {},
   "source": [
    "Na powyższych macierzch pomyłek można zauważyć, że model drzewa decyzyjnego dość słabo poradził sobie z klasyfikacją odwołanych lotów. Poprawnie zostało zaklasyfikowane tylko około 30% próbek dodatnich. Trochę lepsze wyniki zostały osiągnięte dla danych przeskalowanych metodą standaryzacji - poprawnie sklasyfikowane zostało o 1% więcej próbek dodatnich. Jeśli chodzi o klasę negatywną tutaj wyniki są dobre - poprawnie sklasyfikowano około 85% próbek."
   ]
  },
  {
   "cell_type": "markdown",
   "metadata": {
    "collapsed": false
   },
   "source": [
    "### GAUSSIAN NB"
   ]
  },
  {
   "cell_type": "code",
   "execution_count": 6,
   "metadata": {
    "collapsed": false
   },
   "outputs": [
    {
     "name": "stdout",
     "output_type": "stream",
     "text": [
      "Gaussian Naive Bayes (standarized data):\n"
     ]
    },
    {
     "data": {
      "image/png": "[encoded data removed]",
      "text/plain": [
       "<Figure size 432x288 with 2 Axes>"
      ]
     },
     "metadata": {
      "needs_background": "light"
     },
     "output_type": "display_data"
    },
    {
     "name": "stdout",
     "output_type": "stream",
     "text": [
      "Prediction Accuracy:  0.2995805839623679\n",
      "F1:  0.05800940478467518\n",
      "Precision:  0.02987116041114194\n",
      "Recall:  0.9999377916018662\n",
      "\n",
      "Gaussian Naive Bayes (min-max data):\n"
     ]
    },
    {
     "data": {
      "image/png": "[encoded data removed]",
      "text/plain": [
       "<Figure size 432x288 with 2 Axes>"
      ]
     },
     "metadata": {
      "needs_background": "light"
     },
     "output_type": "display_data"
    },
    {
     "name": "stdout",
     "output_type": "stream",
     "text": [
      "Prediction Accuracy:  0.30754023093374405\n",
      "F1:  0.05863710856383043\n",
      "Precision:  0.03020415142663599\n",
      "Recall:  0.9999377916018662\n",
      "\n"
     ]
    }
   ],
   "source": [
    "from sklearn.naive_bayes import GaussianNB\n",
    "from numpy import ravel\n",
    "\n",
    "eff_gnb = []\n",
    "\n",
    "for name, x_train, y_train, x_test, y_test in data_sets:\n",
    "    y_train_ravel=ravel(y_train)\n",
    "    gnb = GaussianNB().fit(x_train, y_train_ravel)\n",
    "    pred = gnb.predict(x_test)\n",
    "    print(f\"Gaussian Naive Bayes ({name} data):\")\n",
    "    ConfusionMatrixDisplay.from_predictions(y_test,pred, normalize='true')\n",
    "    plt.show()\n",
    "    eff_gnb.append(effectiveness_measures_classifier(y_test, pred))\n",
    "    print(\"\")"
   ]
  },
  {
   "cell_type": "markdown",
   "metadata": {},
   "source": [
    "Na powyższych macierzch pomyłek można zauważyć, że model naiwny Bayessa przeuczył się względem próbek z klasy pozytywnej - poprawnie zaklasyfikowano prawie 100% próbek. Jednak spowodowało to bardzo niską skuteczność wykrywania próbek ujemnych - czyli lotów, które nie zostały odwołane - jedynie niecałe 30% z nich zostało przewidziane poprawnie. Trochę lepiej radził sobie model z danymi skalowanymi min-max, uzyskał on wynik o 1% lepszy niż model ze standardowym skalowaniem."
   ]
  },
  {
   "cell_type": "markdown",
   "metadata": {
    "collapsed": false
   },
   "source": [
    "### LOGISTIC REGRESSION"
   ]
  },
  {
   "cell_type": "code",
   "execution_count": 7,
   "metadata": {
    "collapsed": false
   },
   "outputs": [
    {
     "name": "stdout",
     "output_type": "stream",
     "text": [
      "Logistic Regression (standarized data):\n"
     ]
    },
    {
     "data": {
      "image/png": "[encoded data removed]",
      "text/plain": [
       "<Figure size 432x288 with 2 Axes>"
      ]
     },
     "metadata": {
      "needs_background": "light"
     },
     "output_type": "display_data"
    },
    {
     "name": "stdout",
     "output_type": "stream",
     "text": [
      "Prediction Accuracy:  0.906592050147453\n",
      "F1:  0.046732938985650126\n",
      "Precision:  0.029961198799094053\n",
      "Recall:  0.10615863141524105\n",
      "\n",
      "Logistic Regression (min-max data):\n"
     ]
    },
    {
     "data": {
      "image/png": "[encoded data removed]",
      "text/plain": [
       "<Figure size 432x288 with 2 Axes>"
      ]
     },
     "metadata": {
      "needs_background": "light"
     },
     "output_type": "display_data"
    },
    {
     "name": "stdout",
     "output_type": "stream",
     "text": [
      "Prediction Accuracy:  0.9516618320672139\n",
      "F1:  0.03262401825870981\n",
      "Precision:  0.028699657493799456\n",
      "Recall:  0.037791601866251946\n",
      "\n"
     ]
    }
   ],
   "source": [
    "from sklearn.linear_model import LogisticRegression\n",
    "from numpy import ravel\n",
    "\n",
    "eff_lr = []\n",
    "\n",
    "for name, x_train, y_train, x_test, y_test in data_sets:\n",
    "    y_train_ravel=ravel(y_train)\n",
    "    lr = LogisticRegression(random_state=42, max_iter=5000, class_weight=\"balanced\", n_jobs=-1).fit(x_train, y_train_ravel)\n",
    "    pred = lr.predict(x_test)\n",
    "    print(f\"Logistic Regression ({name} data):\")\n",
    "    ConfusionMatrixDisplay.from_predictions(y_test,pred, normalize='true')\n",
    "    plt.show()\n",
    "    eff_lr.append(effectiveness_measures_classifier(y_test, pred))\n",
    "    print(\"\")"
   ]
  },
  {
   "cell_type": "markdown",
   "metadata": {},
   "source": [
    "Na powyższych macierzch pomyłek można zauważyć, że model regresji logistycznej przeuczył się względem próbek z klasy negatywnej - poprawnie zaklasyfikowano ponad 90% próbek. Jednak spowodowało to bardzo niską skuteczność wykrywania próbek dodatnich - czyli lotów, które zostały odwołane - jedynie od 4 do 11 % z nich zostało przewidziane poprawnie. W tym przypadku rodzaj skalowania danych miał duży wpływ na jakość klasyfikacji - dane przeskalowane metodą standardową (czyli w przeciwieństwie do poprzednich dwóch modeli) zaklasyfikował o 8% więcej próbek pozytywnych od modelu ze skalowaniem metodą min-max, przy niższej o około 5% skuteczności przewidywania klasy negatywnej."
   ]
  },
  {
   "cell_type": "markdown",
   "metadata": {},
   "source": [
    "### RANDOM FOREST"
   ]
  },
  {
   "cell_type": "code",
   "execution_count": 8,
   "metadata": {},
   "outputs": [
    {
     "name": "stdout",
     "output_type": "stream",
     "text": [
      "Random Forest Classifier (standarized data):\n"
     ]
    },
    {
     "data": {
      "image/png": "[encoded data removed]",
      "text/plain": [
       "<Figure size 432x288 with 2 Axes>"
      ]
     },
     "metadata": {
      "needs_background": "light"
     },
     "output_type": "display_data"
    },
    {
     "name": "stdout",
     "output_type": "stream",
     "text": [
      "Prediction Accuracy:  0.8991986014098604\n",
      "F1:  0.08331147240948052\n",
      "Precision:  0.051819527188555384\n",
      "Recall:  0.21237947122861586\n",
      "\n",
      "Random Forest Classifier (min-max data):\n"
     ]
    },
    {
     "data": {
      "image/png": "[encoded data removed]",
      "text/plain": [
       "<Figure size 432x288 with 2 Axes>"
      ]
     },
     "metadata": {
      "needs_background": "light"
     },
     "output_type": "display_data"
    },
    {
     "name": "stdout",
     "output_type": "stream",
     "text": [
      "Prediction Accuracy:  0.8950426795398498\n",
      "F1:  0.0893884012758131\n",
      "Precision:  0.05498274405350059\n",
      "Recall:  0.23884914463452567\n",
      "\n"
     ]
    }
   ],
   "source": [
    "from sklearn.ensemble import RandomForestClassifier\n",
    "from numpy import ravel\n",
    "\n",
    "eff_rfc = []\n",
    "\n",
    "for name, x_train, y_train, x_test, y_test in data_sets:\n",
    "    y_train_ravel=ravel(y_train)\n",
    "    rfc = RandomForestClassifier(max_depth=10, random_state=42, class_weight=\"balanced\", n_estimators=12, n_jobs=-1).fit(x_train, y_train_ravel)\n",
    "    pred = rfc.predict(x_test)\n",
    "    print(f\"Random Forest Classifier ({name} data):\")\n",
    "    ConfusionMatrixDisplay.from_predictions(y_test,pred, normalize='true')\n",
    "    plt.show()\n",
    "    eff_rfc.append(effectiveness_measures_classifier(y_test, pred))\n",
    "    print(\"\")"
   ]
  },
  {
   "cell_type": "markdown",
   "metadata": {},
   "source": [
    "Na powyższych macierzch pomyłek można zauważyć, że model lasu losowego bardzo dobrze poradził sobie z klasyfikacją odwołanych lotów. Poprawnie zostało zaklasyfikowane między 21 a 24% próbek dodatnich oraz 91% próbek ujemnych. Trochę lepsze wyniki zostały osiągnięte dla danych przeskalowanych metodą min-max - poprawnie sklasyfikowane zostało o 3% więcej próbek dodatnich. Mimo niższej skuteczności przewidywania klasy dodatniej, na podstawie wyniku F1 score można stwierdzić, że model lasu losowego ze skalowaniem min-max najlepiej ze wszystkich wcześniej testowanych modeli poradził sobie z klasyfikacją danych dotyczących odwołanych lotów."
   ]
  },
  {
   "cell_type": "markdown",
   "metadata": {},
   "source": [
    "### XGBOOST CLASSIFIER"
   ]
  },
  {
   "cell_type": "code",
   "execution_count": 9,
   "metadata": {},
   "outputs": [
    {
     "name": "stdout",
     "output_type": "stream",
     "text": [
      "XGBoost Classifier (standarized data):\n"
     ]
    },
    {
     "data": {
      "image/png": "[encoded data removed]",
      "text/plain": [
       "<Figure size 432x288 with 2 Axes>"
      ]
     },
     "metadata": {
      "needs_background": "light"
     },
     "output_type": "display_data"
    },
    {
     "name": "stdout",
     "output_type": "stream",
     "text": [
      "Prediction Accuracy:  0.926295614512922\n",
      "F1:  0.119436719056817\n",
      "Precision:  0.0804478562713914\n",
      "Recall:  0.23175738724727837\n",
      "\n",
      "XGBoost Classifier (min-max data):\n"
     ]
    },
    {
     "data": {
      "image/png": "[encoded data removed]",
      "text/plain": [
       "<Figure size 432x288 with 2 Axes>"
      ]
     },
     "metadata": {
      "needs_background": "light"
     },
     "output_type": "display_data"
    },
    {
     "name": "stdout",
     "output_type": "stream",
     "text": [
      "Prediction Accuracy:  0.926295614512922\n",
      "F1:  0.119436719056817\n",
      "Precision:  0.0804478562713914\n",
      "Recall:  0.23175738724727837\n",
      "\n"
     ]
    }
   ],
   "source": [
    "from xgboost import XGBClassifier\n",
    "from sklearn.metrics import ConfusionMatrixDisplay\n",
    "\n",
    "eff_xgb = []\n",
    "\n",
    "for name, x_train, y_train, x_test, y_test in data_sets:\n",
    "    xgb = XGBClassifier(tree_method='gpu_hist', scale_pos_weight=49).fit(x_train, y_train)\n",
    "    pred = xgb.predict(x_test)\n",
    "    print(f\"XGBoost Classifier ({name} data):\")\n",
    "    ConfusionMatrixDisplay.from_predictions(y_test, pred, normalize='true')\n",
    "    plt.show()\n",
    "    eff_xgb.append(effectiveness_measures_classifier(y_test, pred))\n",
    "    print(\"\")\n"
   ]
  },
  {
   "cell_type": "markdown",
   "metadata": {},
   "source": [
    "Na powyższych macierzch pomyłek można zauważyć, że model XGBoost bardzo dobrze poradził sobie z klasyfikacją odwołanych lotów. Poprawnie zostało zaklasyfikowane 23% próbek dodatnich oraz 94% próbek ujemnych. Mimo niższej skuteczności przewidywania klasy dodatniej, na podstawie wyniku F1 score można stwierdzić, że model XGBoost poradził sobie lepiej niż model lasu losowego."
   ]
  },
  {
   "cell_type": "markdown",
   "metadata": {
    "collapsed": false
   },
   "source": [
    "#### ENSEMBLE CLASSIFIER - ADABOOST"
   ]
  },
  {
   "cell_type": "code",
   "execution_count": 13,
   "metadata": {
    "collapsed": false
   },
   "outputs": [
    {
     "name": "stdout",
     "output_type": "stream",
     "text": [
      "AdaBoost (standarized data):\n"
     ]
    },
    {
     "data": {
      "image/png": "[encoded data removed]",
      "text/plain": [
       "<Figure size 432x288 with 2 Axes>"
      ]
     },
     "metadata": {
      "needs_background": "light"
     },
     "output_type": "display_data"
    },
    {
     "name": "stdout",
     "output_type": "stream",
     "text": [
      "Prediction Accuracy:  0.9442093484426866\n",
      "F1:  0.11329566051817892\n",
      "Precision:  0.08619402985074627\n",
      "Recall:  0.1652566096423017\n",
      "\n",
      "AdaBoost (min-max data):\n"
     ]
    },
    {
     "data": {
      "image/png": "[encoded data removed]",
      "text/plain": [
       "<Figure size 432x288 with 2 Axes>"
      ]
     },
     "metadata": {
      "needs_background": "light"
     },
     "output_type": "display_data"
    },
    {
     "name": "stdout",
     "output_type": "stream",
     "text": [
      "Prediction Accuracy:  0.9513170146594357\n",
      "F1:  0.12228014368824006\n",
      "Precision:  0.10004156029210948\n",
      "Recall:  0.1572317262830482\n",
      "\n"
     ]
    }
   ],
   "source": [
    "from sklearn.ensemble import AdaBoostClassifier\n",
    "from sklearn.naive_bayes import GaussianNB\n",
    "from numpy import ravel\n",
    "\n",
    "eff_abc = []\n",
    "\n",
    "for name, x_train, y_train, x_test, y_test in data_sets:\n",
    "    y_train_ravel=ravel(y_train)\n",
    "    abc = AdaBoostClassifier(base_estimator=RandomForestClassifier(max_depth=10, random_state=42, class_weight=\"balanced\", n_estimators=12, n_jobs=-1), n_estimators=5, random_state=42).fit(x_train, y_train_ravel)\n",
    "    pred = abc.predict(x_test)\n",
    "    print(f\"AdaBoost ({name} data):\")\n",
    "    ConfusionMatrixDisplay.from_predictions(y_test,pred, normalize='true')\n",
    "    plt.show()\n",
    "    eff_abc.append(effectiveness_measures_classifier(y_test, pred))\n",
    "    print(\"\")"
   ]
  },
  {
   "cell_type": "markdown",
   "metadata": {},
   "source": [
    "Na powyższych macierzch pomyłek można zauważyć, że model AdaBoost dobrze poradził sobie z klasyfikacją odwołanych lotów. Poprawnie zostało zaklasyfikowane 16% próbek dodatnich oraz 97% próbek ujemnych. Mimo niższej skuteczności przewidywania klasy dodatniej, na podstawie wyniku F1 score można stwierdzić, że model AdaBoost dla danych min-max najlepiej poradził sobie z zadaniem klasyfikacji."
   ]
  },
  {
   "cell_type": "markdown",
   "metadata": {
    "collapsed": false
   },
   "source": [
    "#### ENSEBLE - VOTING CLASSIFIER"
   ]
  },
  {
   "cell_type": "code",
   "execution_count": 14,
   "metadata": {
    "collapsed": false
   },
   "outputs": [
    {
     "name": "stdout",
     "output_type": "stream",
     "text": [
      "Voting (standarized data):\n"
     ]
    },
    {
     "data": {
      "image/png": "[encoded data removed]",
      "text/plain": [
       "<Figure size 432x288 with 2 Axes>"
      ]
     },
     "metadata": {
      "needs_background": "light"
     },
     "output_type": "display_data"
    },
    {
     "name": "stdout",
     "output_type": "stream",
     "text": [
      "Prediction Accuracy:  0.8732427058372086\n",
      "F1:  0.09356500714785995\n",
      "Precision:  0.05531354932389509\n",
      "Recall:  0.3033281493001555\n",
      "\n",
      "Voting (min-max data):\n"
     ]
    },
    {
     "data": {
      "image/png": "[encoded data removed]",
      "text/plain": [
       "<Figure size 432x288 with 2 Axes>"
      ]
     },
     "metadata": {
      "needs_background": "light"
     },
     "output_type": "display_data"
    },
    {
     "name": "stdout",
     "output_type": "stream",
     "text": [
      "Prediction Accuracy:  0.8708075167511492\n",
      "F1:  0.09592796717586638\n",
      "Precision:  0.0564899593064402\n",
      "Recall:  0.31779160186625194\n",
      "\n"
     ]
    }
   ],
   "source": [
    "from sklearn.ensemble import VotingClassifier\n",
    "from sklearn.naive_bayes import GaussianNB\n",
    "from numpy import ravel\n",
    "\n",
    "eff_vtc = []\n",
    "\n",
    "for name, x_train, y_train, x_test, y_test in data_sets:\n",
    "    y_train_ravel=ravel(y_train)\n",
    "    vtc = VotingClassifier(estimators=[('nb', GaussianNB()),\n",
    "                                    ('rfc', RandomForestClassifier(max_depth=10, random_state=42, class_weight=\"balanced\", n_estimators=12, n_jobs=-1)),\n",
    "                                    ('xgb', XGBClassifier(tree_method='gpu_hist', scale_pos_weight=49))], voting='hard').fit(x_train, y_train_ravel)\n",
    "    pred = vtc.predict(x_test)\n",
    "    print(f\"Voting ({name} data):\")\n",
    "    ConfusionMatrixDisplay.from_predictions(y_test,pred, normalize='true')\n",
    "    plt.show()\n",
    "    eff_vtc.append(effectiveness_measures_classifier(y_test, pred))\n",
    "    print(\"\")"
   ]
  },
  {
   "cell_type": "markdown",
   "metadata": {},
   "source": [
    "Na powyższych macierzch pomyłek można zauważyć, że model Voting Classifier bardzo dobrze poradził sobie z klasyfikacją odwołanych lotów. Poprawnie zostało zaklasyfikowane 32% próbek dodatnich oraz 88% próbek ujemnych. Pomimo wyższej od poprzednich modeli skuteczności przewidywania lotów odwołanych ze względu na niższą czułość na loty nieodwołane wynik F1 score jest niższy niż dla modeli AdaBoost i XGBoost."
   ]
  },
  {
   "cell_type": "markdown",
   "metadata": {
    "collapsed": false
   },
   "source": [
    "## WYNIKI"
   ]
  },
  {
   "cell_type": "code",
   "execution_count": 15,
   "metadata": {
    "collapsed": false
   },
   "outputs": [],
   "source": [
    "from prettytable import PrettyTable\n",
    "\n",
    "\n",
    "def add_results(table, normalization_type, model, results):\n",
    "    (acc, f1, prec, recall)= results\n",
    "    table.add_row([normalization_type, model, round(acc, 5), round(f1, 5), round(prec, 5), round(recall, 5)])\n",
    "\n",
    "def create_summary():\n",
    "    summaryTable = PrettyTable(['normalization type', 'model', 'Accuracy', 'F1', 'Precision', 'Recall'])\n",
    "    add_results(summaryTable, \"standard\", \"Decision Tree Classifier\", eff_dtc[0])\n",
    "    add_results(summaryTable, \"min-max\", \"Decision Tree Classifier\", eff_dtc[1])\n",
    "    add_results(summaryTable, \"standard\", \"Gaussian Naive Bayes\", eff_gnb[0])\n",
    "    add_results(summaryTable, \"min-max\", \"Gaussian Naive Bayes\", eff_gnb[1])\n",
    "    add_results(summaryTable, \"standard\", \"Logistic Regression\", eff_lr[0])\n",
    "    add_results(summaryTable, \"min-max\", \"Logistic Regression\", eff_lr[1])\n",
    "    add_results(summaryTable, \"standard\", \"Random Forest Classifier\", eff_rfc[0])\n",
    "    add_results(summaryTable, \"min-max\", \"Random Forest Classifier\", eff_rfc[1])\n",
    "    add_results(summaryTable, \"standard\", \"XGBoost Classifier\", eff_xgb[0])\n",
    "    add_results(summaryTable, \"min-max\", \"XGBoost Classifier\", eff_xgb[1])\n",
    "    add_results(summaryTable, \"standard\", \"AdaBoost Classifier\", eff_abc[0])\n",
    "    add_results(summaryTable, \"min-max\", \"AdaBoost Classifier\", eff_abc[1])\n",
    "    add_results(summaryTable, \"standard\", \"Voting Classifier\", eff_vtc[0])\n",
    "    add_results(summaryTable, \"min-max\", \"Voting Classifier\", eff_vtc[1])\n",
    "    print(summaryTable)\n"
   ]
  },
  {
   "cell_type": "code",
   "execution_count": 16,
   "metadata": {
    "collapsed": false
   },
   "outputs": [
    {
     "name": "stdout",
     "output_type": "stream",
     "text": [
      "+--------------------+--------------------------+----------+---------+-----------+---------+\n",
      "| normalization type |          model           | Accuracy |    F1   | Precision |  Recall |\n",
      "+--------------------+--------------------------+----------+---------+-----------+---------+\n",
      "|      standard      | Decision Tree Classifier |  0.8354  | 0.07157 |  0.04074  | 0.29415 |\n",
      "|      min-max       | Decision Tree Classifier | 0.82985  | 0.07083 |  0.04014  | 0.30068 |\n",
      "|      standard      |   Gaussian Naive Bayes   | 0.29958  | 0.05801 |  0.02987  | 0.99994 |\n",
      "|      min-max       |   Gaussian Naive Bayes   | 0.30754  | 0.05864 |   0.0302  | 0.99994 |\n",
      "|      standard      |   Logistic Regression    | 0.90659  | 0.04673 |  0.02996  | 0.10616 |\n",
      "|      min-max       |   Logistic Regression    | 0.95166  | 0.03262 |   0.0287  | 0.03779 |\n",
      "|      standard      | Random Forest Classifier |  0.8992  | 0.08331 |  0.05182  | 0.21238 |\n",
      "|      min-max       | Random Forest Classifier | 0.89504  | 0.08939 |  0.05498  | 0.23885 |\n",
      "|      standard      |    XGBoost Classifier    |  0.9263  | 0.11944 |  0.08045  | 0.23176 |\n",
      "|      min-max       |    XGBoost Classifier    |  0.9263  | 0.11944 |  0.08045  | 0.23176 |\n",
      "|      standard      |   AdaBoost Classifier    | 0.94421  |  0.1133 |  0.08619  | 0.16526 |\n",
      "|      min-max       |   AdaBoost Classifier    | 0.95132  | 0.12228 |  0.10004  | 0.15723 |\n",
      "|      standard      |    Voting Classifier     | 0.87324  | 0.09357 |  0.05531  | 0.30333 |\n",
      "|      min-max       |    Voting Classifier     | 0.87081  | 0.09593 |  0.05649  | 0.31779 |\n",
      "+--------------------+--------------------------+----------+---------+-----------+---------+\n"
     ]
    }
   ],
   "source": [
    "create_summary()"
   ]
  },
  {
   "cell_type": "markdown",
   "metadata": {
    "collapsed": false
   },
   "source": [
    "### STRATIFIED CROSS VALIDATION"
   ]
  },
  {
   "cell_type": "code",
   "execution_count": 17,
   "metadata": {
    "collapsed": false
   },
   "outputs": [],
   "source": [
    "def cross_validation_split(dataInput):\n",
    "    cancelled = dataInput['Cancelled']==1\n",
    "    dataCancelled = dataInput[cancelled]\n",
    "    dataNotCancelled = dataInput[~cancelled]\n",
    "    DF_x = pd.DataFrame(dataCancelled[:], columns = columns)\n",
    "    DF_y = pd.DataFrame(dataNotCancelled[:], columns = columns)\n",
    "    finalDF = DF_x.append(DF_y)\n",
    "    finalDF = finalDF.sample(frac=1, random_state=42)\n",
    "    finalDF = finalDF.to_numpy()\n",
    "    return finalDF[:, :-1], finalDF[:, -1:]\n"
   ]
  },
  {
   "cell_type": "code",
   "execution_count": 18,
   "metadata": {
    "collapsed": false
   },
   "outputs": [],
   "source": [
    "import numpy as np\n",
    "import pandas as pd\n",
    "import matplotlib.pyplot as plt\n",
    "from sklearn.utils import shuffle\n",
    "def mp(test, predicted):\n",
    "    tn=0\n",
    "    tp=0\n",
    "    fn=0\n",
    "    fp=0\n",
    "    for i in range(len(test)):\n",
    "        if test[i] == predicted[i]:\n",
    "            if test[i] == 0:\n",
    "                tn += 1\n",
    "            else:\n",
    "                tp += 1\n",
    "        else:\n",
    "            if test[i] == 0:\n",
    "                fn += 1\n",
    "            else:\n",
    "                fp += 1\n",
    "    return tp, tn, fn, fp\n",
    "\n",
    "def f1(tp, tn, fn, fp):\n",
    "    return 2*(2*tp/(2*tp+fp+fn))/2"
   ]
  },
  {
   "cell_type": "code",
   "execution_count": 21,
   "metadata": {
    "collapsed": false
   },
   "outputs": [],
   "source": [
    "def cross_validation(df, k, classifier, **kwargs):\n",
    "    tp = 0\n",
    "    tn = 0\n",
    "    fn = 0\n",
    "    fp = 0\n",
    "    sum_f1_score = 0\n",
    "    mod = len(df) % k\n",
    "    if(mod != 0):\n",
    "        df.drop(df.tail(mod).index,inplace=True)\n",
    "    n = int(len(df) / k)\n",
    "    resultSum = 0\n",
    "    for i in range(k):\n",
    "        test = df[i*n:(i+1)*n + 1]\n",
    "        x_test, y_test = cross_validation_split(test)\n",
    "        train = pd.concat([df[:i * n], df[(i+1) * n + 1:]])\n",
    "        x_train, y_train = cross_validation_split(train)\n",
    "        c = classifier(**kwargs)\n",
    "        if not isinstance(c, DecisionTreeClassifier):\n",
    "            y_train= ravel(y_train)\n",
    "        c.fit(x_train,y_train)\n",
    "        predictions = c.predict(x_test)\n",
    "        sum_f1_score += f1_score(y_test, predictions)\n",
    "        tp1, tn1, fn1, fp1 = mp(y_test, predictions)\n",
    "        tp += tp1\n",
    "        tn += tn1\n",
    "        fn += fn1\n",
    "        fp += fp1\n",
    "    print(\"Classification F1 - own implementation: \" +  str(f1(tp, tn, fn, fp)))\n",
    "    print(\"Classification F1 - build function: \" +  str(sum_f1_score/k))\n",
    "    return round(sum_f1_score/k, 5)"
   ]
  },
  {
   "cell_type": "code",
   "execution_count": 22,
   "metadata": {
    "collapsed": false
   },
   "outputs": [],
   "source": [
    "from sklearn import preprocessing\n",
    "\n",
    "\n",
    "def create_summary_cross_validation(n):\n",
    "    summaryTable = PrettyTable(['scaler', 'model', 'K folds', 'cross validation f1-score'])\n",
    "    summaryTable.add_row([\"standard\", \"Decision Tree Classifier\", n,  cross_validation(data_standard, n, DecisionTreeClassifier, max_depth=10, class_weight=\"balanced\")])\n",
    "    summaryTable.add_row([\"min-max\", \"Decision Tree Classifier\", n,  cross_validation(data_minmax, n, DecisionTreeClassifier, max_depth=10, class_weight=\"balanced\")])\n",
    "    summaryTable.add_row([\"standard\", \"Gaussian Naive Bayes\", n, cross_validation(data_standard, n,  GaussianNB)])\n",
    "    summaryTable.add_row([\"min-max\", \"Gaussian Naive Bayes\", n, cross_validation(data_minmax, n,  GaussianNB)])\n",
    "    print(summaryTable)"
   ]
  },
  {
   "cell_type": "code",
   "execution_count": 23,
   "metadata": {
    "collapsed": false
   },
   "outputs": [
    {
     "name": "stdout",
     "output_type": "stream",
     "text": [
      "Classification F1 - own implementation: 0.07602574876910148\n",
      "Classification F1 - build function: 0.07878909155950017\n",
      "Classification F1 - own implementation: 0.07667480402763804\n",
      "Classification F1 - build function: 0.0752072099852612\n",
      "Classification F1 - own implementation: 0.05877414183546071\n",
      "Classification F1 - build function: 0.059054887292804094\n",
      "Classification F1 - own implementation: 0.05932013773656266\n",
      "Classification F1 - build function: 0.05959630228368264\n",
      "+----------+--------------------------+---------+---------------------------+\n",
      "|  scaler  |          model           | K folds | cross validation f1-score |\n",
      "+----------+--------------------------+---------+---------------------------+\n",
      "| standard | Decision Tree Classifier |    5    |          0.07879          |\n",
      "| min-max  | Decision Tree Classifier |    5    |          0.07521          |\n",
      "| standard |   Gaussian Naive Bayes   |    5    |          0.05905          |\n",
      "| min-max  |   Gaussian Naive Bayes   |    5    |           0.0596          |\n",
      "+----------+--------------------------+---------+---------------------------+\n"
     ]
    }
   ],
   "source": [
    "create_summary_cross_validation(5)"
   ]
  },
  {
   "attachments": {},
   "cell_type": "markdown",
   "metadata": {},
   "source": [
    "### ETAP 3 - OPTYMALIZACJA CECH"
   ]
  },
  {
   "attachments": {},
   "cell_type": "markdown",
   "metadata": {},
   "source": [
    "#### Wynik odniesienia - algorytm XGBoost"
   ]
  },
  {
   "attachments": {},
   "cell_type": "markdown",
   "metadata": {},
   "source": [
    "Ze względy na dużą ilość rekordów w oryginalnym zbiorze - ok. 7,4 mln - próby optymalizacji algorytmu na całym zbiorze nie powiodły się - program wyłączał się ze względu na zbyt duże użycie procesora i pamięci RAM. Z tego powodu zbiór został ograniczony do około 320 tysięcy rekordów w taki sposób, że wzięte zostały wszystkie rekordy z klasy dodatniej (czyli odwołanych lotów) oraz losowo wybrane rekordy z klasy ujemnej (czyli nieodwołanych lotów). W ten sposób zbiór został zrównoważony i zawierał około 160 tysięcy rekordów z klasy dodatniej i 160 tysięcy rekordów z klasy ujemnej."
   ]
  },
  {
   "cell_type": "code",
   "execution_count": 9,
   "metadata": {},
   "outputs": [],
   "source": [
    "from sklearn.utils import shuffle\n",
    "\n",
    "def balance_data(data):\n",
    "    cancelled = data['Cancelled'] == 1\n",
    "    data_cancelled = data[cancelled]\n",
    "    data_not_cancelled = data[~cancelled]\n",
    "    data_not_cancelled = data_not_cancelled.sample(n=len(data_cancelled), random_state=42)\n",
    "    data = pd.concat([data_cancelled, data_not_cancelled])\n",
    "    data = shuffle(data, random_state=42)\n",
    "    return data"
   ]
  },
  {
   "cell_type": "code",
   "execution_count": 13,
   "metadata": {},
   "outputs": [],
   "source": [
    "from sklearn.model_selection import train_test_split\n",
    "\n",
    "balanced_data = balance_data(data_standard)\n",
    "\n",
    "balanced_data.drop(['Year'], axis=1, inplace=True)\n",
    "X = balanced_data.drop(['Cancelled'], axis=1)\n",
    "y = balanced_data['Cancelled']\n",
    "\n",
    "X_train, X_test, y_train, y_test = train_test_split(X, y, test_size=0.2, random_state=42, shuffle=True, stratify=y)"
   ]
  },
  {
   "cell_type": "code",
   "execution_count": 22,
   "metadata": {},
   "outputs": [
    {
     "name": "stdout",
     "output_type": "stream",
     "text": [
      "XGBoost Classifier - base score:\n"
     ]
    },
    {
     "data": {
      "image/png": "[encoded data removed]",
      "text/plain": [
       "<Figure size 432x288 with 2 Axes>"
      ]
     },
     "metadata": {
      "needs_background": "light"
     },
     "output_type": "display_data"
    },
    {
     "name": "stdout",
     "output_type": "stream",
     "text": [
      "Prediction Accuracy:  0.7692068429237947\n",
      "F1:  0.7765464072757935\n",
      "Precision:  0.752612223454556\n",
      "Recall:  0.8020528771384137\n",
      "\n"
     ]
    }
   ],
   "source": [
    "from xgboost import XGBClassifier\n",
    "from sklearn.metrics import ConfusionMatrixDisplay\n",
    "\n",
    "eff_xgb = []\n",
    "xgb = XGBClassifier(tree_method='gpu_hist').fit(X_train, y_train)\n",
    "pred = xgb.predict(X_test)\n",
    "print(f\"XGBoost Classifier - base score:\")\n",
    "ConfusionMatrixDisplay.from_predictions(y_test, pred, normalize='true')\n",
    "plt.show()\n",
    "eff_xgb.append(effectiveness_measures_classifier(y_test, pred))\n",
    "print(\"\")"
   ]
  },
  {
   "attachments": {},
   "cell_type": "markdown",
   "metadata": {},
   "source": [
    "Jako wynik odniesienia przyjmujemy wynik F1 score dla algorytmu XGBoost na zbiorze danych zrównoważonym."
   ]
  },
  {
   "attachments": {},
   "cell_type": "markdown",
   "metadata": {},
   "source": [
    "#### Optymalizacja cech metodą GridSearch"
   ]
  },
  {
   "cell_type": "code",
   "execution_count": 23,
   "metadata": {},
   "outputs": [
    {
     "name": "stdout",
     "output_type": "stream",
     "text": [
      "Fitting 2 folds for each of 240 candidates, totalling 480 fits\n"
     ]
    },
    {
     "data": {
      "text/plain": [
       "GridSearchCV(cv=2,\n",
       "             estimator=XGBClassifier(base_score=None, booster=None,\n",
       "                                     callbacks=None, colsample_bylevel=None,\n",
       "                                     colsample_bynode=None,\n",
       "                                     colsample_bytree=None,\n",
       "                                     early_stopping_rounds=None,\n",
       "                                     enable_categorical=False, eval_metric=None,\n",
       "                                     feature_types=None, gamma=None,\n",
       "                                     gpu_id=None, grow_policy=None,\n",
       "                                     importance_type=None,\n",
       "                                     interaction_constraints=None,\n",
       "                                     learning_rate=None,...\n",
       "                                     max_delta_step=None, max_depth=None,\n",
       "                                     max_leaves=None, min_child_weight=None,\n",
       "                                     missing=nan, monotone_constraints=None,\n",
       "                                     n_estimators=100, n_jobs=None,\n",
       "                                     num_parallel_tree=None, predictor=None,\n",
       "                                     random_state=None, ...),\n",
       "             n_jobs=-1,\n",
       "             param_grid={'learning_rate': [0.01, 0.1, 0.5, 1.0],\n",
       "                         'max_depth': [1, 5, 10, 15],\n",
       "                         'min_child_weight': [1, 5, 10],\n",
       "                         'n_estimators': [50, 75, 100, 125, 150]},\n",
       "             scoring='f1', verbose=4)"
      ]
     },
     "execution_count": 23,
     "metadata": {},
     "output_type": "execute_result"
    }
   ],
   "source": [
    "from sklearn.model_selection import GridSearchCV\n",
    "\n",
    "params = {\n",
    "    'learning_rate': [0.01, 0.1, 0.5, 1.0],\n",
    "    'max_depth': [1, 5, 10, 15],\n",
    "    'n_estimators': [50, 75, 100, 125, 150],\n",
    "    'min_child_weight': [1, 5, 10]\n",
    "}\n",
    "\n",
    "xgb = XGBClassifier(tree_method='gpu_hist')\n",
    "grid = GridSearchCV(xgb, params, cv=2, scoring='f1', n_jobs=-1, verbose=4)\n",
    "grid.fit(X_train, y_train)"
   ]
  },
  {
   "cell_type": "code",
   "execution_count": 25,
   "metadata": {},
   "outputs": [
    {
     "name": "stdout",
     "output_type": "stream",
     "text": [
      "XGBoost Classifier (GridSearchCV) - best score: 0.7801559184286166\n",
      "XGBoost Classifier (GridSearchCV) - best params: {'learning_rate': 0.1, 'max_depth': 15, 'min_child_weight': 10, 'n_estimators': 150}\n",
      "XGBoost Classifier (GridSearchCV) - best score on test set: 0.7860370364697412\n"
     ]
    }
   ],
   "source": [
    "print(f\"XGBoost Classifier (GridSearchCV) - best score: {grid.best_score_}\")\n",
    "print(f\"XGBoost Classifier (GridSearchCV) - best params: {grid.best_params_}\")\n",
    "\n",
    "pred = grid.predict(X_test)\n",
    "print(f\"XGBoost Classifier (GridSearchCV) - best score on test set: {f1_score(y_test, pred)}\")"
   ]
  },
  {
   "attachments": {},
   "cell_type": "markdown",
   "metadata": {},
   "source": [
    "#### Optymalizacja cech za pomocą Optuny"
   ]
  },
  {
   "cell_type": "code",
   "execution_count": 32,
   "metadata": {},
   "outputs": [
    {
     "name": "stderr",
     "output_type": "stream",
     "text": [
      "\u001b[32m[I 2022-12-18 23:50:48,310]\u001b[0m A new study created in memory with name: no-name-e8824439-f2e7-4156-ad36-0fb65a3d9116\u001b[0m\n",
      "\u001b[32m[I 2022-12-18 23:50:48,762]\u001b[0m Trial 0 finished with value: 0.7783327279331638 and parameters: {'learning_rate': 0.4182500284591305, 'max_depth': 6, 'n_estimators': 107, 'min_child_weight': 8, 'min_split_loss': 0.9186537534259472, 'max_delta_step': 3, 'reg_lambda': 0.24615113570692618, 'reg_alpha': 0.7472725553266728}. Best is trial 0 with value: 0.7783327279331638.\u001b[0m\n",
      "\u001b[32m[I 2022-12-18 23:50:49,102]\u001b[0m Trial 1 finished with value: 0.771882168296511 and parameters: {'learning_rate': 0.9933821455175506, 'max_depth': 4, 'n_estimators': 78, 'min_child_weight': 2, 'min_split_loss': 0.42414459830754175, 'max_delta_step': 3, 'reg_lambda': 0.9486475630100699, 'reg_alpha': 0.9931267051035182}. Best is trial 0 with value: 0.7783327279331638.\u001b[0m\n",
      "\u001b[32m[I 2022-12-18 23:50:50,262]\u001b[0m Trial 2 finished with value: 0.7826419481155164 and parameters: {'learning_rate': 0.38817846019108915, 'max_depth': 13, 'n_estimators': 110, 'min_child_weight': 6, 'min_split_loss': 0.23719673358165308, 'max_delta_step': 9, 'reg_lambda': 0.42181008455296304, 'reg_alpha': 0.877407085852398}. Best is trial 2 with value: 0.7826419481155164.\u001b[0m\n",
      "\u001b[32m[I 2022-12-18 23:50:51,198]\u001b[0m Trial 3 finished with value: 0.7788714311915388 and parameters: {'learning_rate': 0.37206592228174273, 'max_depth': 14, 'n_estimators': 195, 'min_child_weight': 1, 'min_split_loss': 0.6694160161240764, 'max_delta_step': 6, 'reg_lambda': 0.3621335346914132, 'reg_alpha': 0.4931148182455694}. Best is trial 2 with value: 0.7826419481155164.\u001b[0m\n",
      "\u001b[32m[I 2022-12-18 23:50:51,769]\u001b[0m Trial 4 finished with value: 0.7500227998176014 and parameters: {'learning_rate': 0.015426802836764683, 'max_depth': 5, 'n_estimators': 172, 'min_child_weight': 8, 'min_split_loss': 0.6277435539678764, 'max_delta_step': 6, 'reg_lambda': 0.23433471137149753, 'reg_alpha': 0.8940046416302451}. Best is trial 2 with value: 0.7826419481155164.\u001b[0m\n",
      "\u001b[32m[I 2022-12-18 23:50:52,472]\u001b[0m Trial 5 finished with value: 0.7750926521486109 and parameters: {'learning_rate': 0.4856896832041586, 'max_depth': 14, 'n_estimators': 54, 'min_child_weight': 2, 'min_split_loss': 0.6964545537438842, 'max_delta_step': 7, 'reg_lambda': 0.040097675836949086, 'reg_alpha': 0.6397223518203518}. Best is trial 2 with value: 0.7826419481155164.\u001b[0m\n",
      "\u001b[32m[I 2022-12-18 23:50:53,086]\u001b[0m Trial 6 finished with value: 0.7605100329613138 and parameters: {'learning_rate': 0.045529752608586146, 'max_depth': 8, 'n_estimators': 132, 'min_child_weight': 9, 'min_split_loss': 0.8310976829306564, 'max_delta_step': 10, 'reg_lambda': 0.8275471007002355, 'reg_alpha': 0.05768299663844193}. Best is trial 2 with value: 0.7826419481155164.\u001b[0m\n",
      "\u001b[32m[I 2022-12-18 23:50:53,967]\u001b[0m Trial 7 finished with value: 0.7690444434224042 and parameters: {'learning_rate': 0.8013876938428882, 'max_depth': 14, 'n_estimators': 140, 'min_child_weight': 5, 'min_split_loss': 0.7412261725024085, 'max_delta_step': 6, 'reg_lambda': 0.1054213267191699, 'reg_alpha': 0.5350964084132718}. Best is trial 2 with value: 0.7826419481155164.\u001b[0m\n",
      "\u001b[32m[I 2022-12-18 23:50:54,626]\u001b[0m Trial 8 finished with value: 0.7699748974468866 and parameters: {'learning_rate': 0.8113400475921766, 'max_depth': 12, 'n_estimators': 166, 'min_child_weight': 4, 'min_split_loss': 0.7792436200881145, 'max_delta_step': 4, 'reg_lambda': 0.8766009234084121, 'reg_alpha': 0.017134119321721746}. Best is trial 2 with value: 0.7826419481155164.\u001b[0m\n",
      "\u001b[32m[I 2022-12-18 23:50:55,120]\u001b[0m Trial 9 finished with value: 0.7734124193597701 and parameters: {'learning_rate': 0.7259778026388796, 'max_depth': 10, 'n_estimators': 109, 'min_child_weight': 2, 'min_split_loss': 0.7491630337637084, 'max_delta_step': 4, 'reg_lambda': 0.8407715467335108, 'reg_alpha': 0.12733281911143218}. Best is trial 2 with value: 0.7826419481155164.\u001b[0m\n",
      "\u001b[32m[I 2022-12-18 23:50:57,832]\u001b[0m Trial 10 finished with value: 0.7840051536904105 and parameters: {'learning_rate': 0.2315065479425282, 'max_depth': 20, 'n_estimators': 84, 'min_child_weight': 7, 'min_split_loss': 0.05867168356398289, 'max_delta_step': 10, 'reg_lambda': 0.5823181716957837, 'reg_alpha': 0.3264199346287272}. Best is trial 10 with value: 0.7840051536904105.\u001b[0m\n",
      "\u001b[32m[I 2022-12-18 23:51:00,647]\u001b[0m Trial 11 finished with value: 0.7818730747421496 and parameters: {'learning_rate': 0.265650188778341, 'max_depth': 20, 'n_estimators': 84, 'min_child_weight': 6, 'min_split_loss': 0.04592709031492353, 'max_delta_step': 10, 'reg_lambda': 0.5897291705027687, 'reg_alpha': 0.3205231228350711}. Best is trial 10 with value: 0.7840051536904105.\u001b[0m\n",
      "\u001b[32m[I 2022-12-18 23:51:03,307]\u001b[0m Trial 12 finished with value: 0.7848535423907883 and parameters: {'learning_rate': 0.2009854639168962, 'max_depth': 19, 'n_estimators': 87, 'min_child_weight': 6, 'min_split_loss': 0.08392340631309264, 'max_delta_step': 8, 'reg_lambda': 0.571316324017509, 'reg_alpha': 0.34512468065432483}. Best is trial 12 with value: 0.7848535423907883.\u001b[0m\n",
      "\u001b[32m[I 2022-12-18 23:51:05,477]\u001b[0m Trial 13 finished with value: 0.7845232611699677 and parameters: {'learning_rate': 0.1913211987524403, 'max_depth': 20, 'n_estimators': 72, 'min_child_weight': 10, 'min_split_loss': 0.04356791220411023, 'max_delta_step': 8, 'reg_lambda': 0.6406650498434835, 'reg_alpha': 0.2599581271899851}. Best is trial 12 with value: 0.7848535423907883.\u001b[0m\n",
      "\u001b[32m[I 2022-12-18 23:51:06,724]\u001b[0m Trial 14 finished with value: 0.784863607139577 and parameters: {'learning_rate': 0.18175898084697667, 'max_depth': 17, 'n_estimators': 55, 'min_child_weight': 10, 'min_split_loss': 0.24157333646993379, 'max_delta_step': 8, 'reg_lambda': 0.6794714308565848, 'reg_alpha': 0.26872046570341085}. Best is trial 14 with value: 0.784863607139577.\u001b[0m\n",
      "\u001b[32m[I 2022-12-18 23:51:08,015]\u001b[0m Trial 15 finished with value: 0.7818768839992043 and parameters: {'learning_rate': 0.12451570354971572, 'max_depth': 17, 'n_estimators': 60, 'min_child_weight': 10, 'min_split_loss': 0.277145787383941, 'max_delta_step': 8, 'reg_lambda': 0.7056590961307341, 'reg_alpha': 0.4238140732588627}. Best is trial 14 with value: 0.784863607139577.\u001b[0m\n",
      "\u001b[32m[I 2022-12-18 23:51:09,490]\u001b[0m Trial 16 finished with value: 0.7707548614301026 and parameters: {'learning_rate': 0.6334155320660084, 'max_depth': 16, 'n_estimators': 52, 'min_child_weight': 4, 'min_split_loss': 0.23601164036893157, 'max_delta_step': 1, 'reg_lambda': 0.7277050329912733, 'reg_alpha': 0.1779402934173251}. Best is trial 14 with value: 0.784863607139577.\u001b[0m\n",
      "\u001b[32m[I 2022-12-18 23:51:10,738]\u001b[0m Trial 17 finished with value: 0.7824860056744115 and parameters: {'learning_rate': 0.2756426446871372, 'max_depth': 17, 'n_estimators': 95, 'min_child_weight': 8, 'min_split_loss': 0.38100443441282095, 'max_delta_step': 8, 'reg_lambda': 0.4635962039366455, 'reg_alpha': 0.41542722205230886}. Best is trial 14 with value: 0.784863607139577.\u001b[0m\n",
      "\u001b[32m[I 2022-12-18 23:51:10,993]\u001b[0m Trial 18 finished with value: 0.7387595937883236 and parameters: {'learning_rate': 0.5646771631387897, 'max_depth': 1, 'n_estimators': 69, 'min_child_weight': 4, 'min_split_loss': 0.1619961978099796, 'max_delta_step': 7, 'reg_lambda': 0.7398120505054379, 'reg_alpha': 0.22219694735442944}. Best is trial 14 with value: 0.784863607139577.\u001b[0m\n",
      "\u001b[32m[I 2022-12-18 23:51:12,831]\u001b[0m Trial 19 finished with value: 0.784971311098156 and parameters: {'learning_rate': 0.12935727979198253, 'max_depth': 18, 'n_estimators': 92, 'min_child_weight': 9, 'min_split_loss': 0.5581207050474448, 'max_delta_step': 9, 'reg_lambda': 0.5261879051552322, 'reg_alpha': 0.6364884829964564}. Best is trial 19 with value: 0.784971311098156.\u001b[0m\n",
      "\u001b[32m[I 2022-12-18 23:51:14,642]\u001b[0m Trial 20 finished with value: 0.7846752212660398 and parameters: {'learning_rate': 0.114854350668748, 'max_depth': 16, 'n_estimators': 148, 'min_child_weight': 9, 'min_split_loss': 0.5088996953322596, 'max_delta_step': 9, 'reg_lambda': 0.3016679211416488, 'reg_alpha': 0.6567816046209559}. Best is trial 19 with value: 0.784971311098156.\u001b[0m\n",
      "\u001b[32m[I 2022-12-18 23:51:16,474]\u001b[0m Trial 21 finished with value: 0.7839491969996779 and parameters: {'learning_rate': 0.1388077512688806, 'max_depth': 19, 'n_estimators': 97, 'min_child_weight': 10, 'min_split_loss': 0.5023713377214569, 'max_delta_step': 9, 'reg_lambda': 0.5478382725406933, 'reg_alpha': 0.5957285035943125}. Best is trial 19 with value: 0.784971311098156.\u001b[0m\n",
      "\u001b[32m[I 2022-12-18 23:51:18,656]\u001b[0m Trial 22 finished with value: 0.7804982752012265 and parameters: {'learning_rate': 0.3086529286646996, 'max_depth': 18, 'n_estimators': 93, 'min_child_weight': 9, 'min_split_loss': 0.13967791450175202, 'max_delta_step': 7, 'reg_lambda': 0.458754806745008, 'reg_alpha': 0.35294516760429145}. Best is trial 19 with value: 0.784971311098156.\u001b[0m\n",
      "\u001b[32m[I 2022-12-18 23:51:20,344]\u001b[0m Trial 23 finished with value: 0.7858423350953803 and parameters: {'learning_rate': 0.1624850436739737, 'max_depth': 18, 'n_estimators': 68, 'min_child_weight': 7, 'min_split_loss': 0.3864782754286509, 'max_delta_step': 8, 'reg_lambda': 0.653721967869674, 'reg_alpha': 0.7603219546862625}. Best is trial 23 with value: 0.7858423350953803.\u001b[0m\n",
      "\u001b[32m[I 2022-12-18 23:51:21,538]\u001b[0m Trial 24 finished with value: 0.7806621060346934 and parameters: {'learning_rate': 0.09204253457792289, 'max_depth': 16, 'n_estimators': 64, 'min_child_weight': 7, 'min_split_loss': 0.342445662561572, 'max_delta_step': 9, 'reg_lambda': 0.6696255381425105, 'reg_alpha': 0.7527219686419653}. Best is trial 23 with value: 0.7858423350953803.\u001b[0m\n",
      "\u001b[32m[I 2022-12-18 23:51:22,259]\u001b[0m Trial 25 finished with value: 0.7820329385978264 and parameters: {'learning_rate': 0.30430613525188727, 'max_depth': 10, 'n_estimators': 121, 'min_child_weight': 9, 'min_split_loss': 0.5236003281913254, 'max_delta_step': 5, 'reg_lambda': 0.4976457962858928, 'reg_alpha': 0.7424109718107518}. Best is trial 23 with value: 0.7858423350953803.\u001b[0m\n",
      "\u001b[32m[I 2022-12-18 23:51:23,576]\u001b[0m Trial 26 finished with value: 0.78418633159669 and parameters: {'learning_rate': 0.18105043446744554, 'max_depth': 18, 'n_estimators': 51, 'min_child_weight': 7, 'min_split_loss': 0.5877099048808063, 'max_delta_step': 7, 'reg_lambda': 0.8026912418656282, 'reg_alpha': 0.8819744959161682}. Best is trial 23 with value: 0.7858423350953803.\u001b[0m\n",
      "\u001b[32m[I 2022-12-18 23:51:24,996]\u001b[0m Trial 27 finished with value: 0.7629883357728118 and parameters: {'learning_rate': 0.012765074975636864, 'max_depth': 15, 'n_estimators': 68, 'min_child_weight': 8, 'min_split_loss': 0.42771579464067033, 'max_delta_step': 9, 'reg_lambda': 0.9297607929454335, 'reg_alpha': 0.5334342642785916}. Best is trial 23 with value: 0.7858423350953803.\u001b[0m\n",
      "\u001b[32m[I 2022-12-18 23:51:25,764]\u001b[0m Trial 28 finished with value: 0.779407932054761 and parameters: {'learning_rate': 0.4788529269292669, 'max_depth': 11, 'n_estimators': 73, 'min_child_weight': 10, 'min_split_loss': 0.3047695212268037, 'max_delta_step': 8, 'reg_lambda': 0.6404854059739324, 'reg_alpha': 0.8121494046863251}. Best is trial 23 with value: 0.7858423350953803.\u001b[0m\n",
      "\u001b[32m[I 2022-12-18 23:51:26,525]\u001b[0m Trial 29 finished with value: 0.779014405780683 and parameters: {'learning_rate': 0.36957463120545575, 'max_depth': 17, 'n_estimators': 121, 'min_child_weight': 8, 'min_split_loss': 0.8993247389081311, 'max_delta_step': 1, 'reg_lambda': 0.997499945086338, 'reg_alpha': 0.7068067771406905}. Best is trial 23 with value: 0.7858423350953803.\u001b[0m\n",
      "\u001b[32m[I 2022-12-18 23:51:28,601]\u001b[0m Trial 30 finished with value: 0.7846850303076804 and parameters: {'learning_rate': 0.0847133864162642, 'max_depth': 18, 'n_estimators': 105, 'min_child_weight': 9, 'min_split_loss': 0.972062290364374, 'max_delta_step': 10, 'reg_lambda': 0.7800445202329003, 'reg_alpha': 0.46000637645319165}. Best is trial 23 with value: 0.7858423350953803.\u001b[0m\n",
      "\u001b[32m[I 2022-12-18 23:51:31,315]\u001b[0m Trial 31 finished with value: 0.7842655947961092 and parameters: {'learning_rate': 0.20465514962822492, 'max_depth': 19, 'n_estimators': 86, 'min_child_weight': 5, 'min_split_loss': 0.1482686173363167, 'max_delta_step': 8, 'reg_lambda': 0.5527665506417001, 'reg_alpha': 0.6087835135596226}. Best is trial 23 with value: 0.7858423350953803.\u001b[0m\n",
      "\u001b[32m[I 2022-12-18 23:51:33,014]\u001b[0m Trial 32 finished with value: 0.7841959263743505 and parameters: {'learning_rate': 0.19910222660248303, 'max_depth': 18, 'n_estimators': 80, 'min_child_weight': 6, 'min_split_loss': 0.4195619715499964, 'max_delta_step': 7, 'reg_lambda': 0.39452428879876, 'reg_alpha': 0.2636766196997643}. Best is trial 23 with value: 0.7858423350953803.\u001b[0m\n",
      "\u001b[32m[I 2022-12-18 23:51:34,851]\u001b[0m Trial 33 finished with value: 0.7847189219849459 and parameters: {'learning_rate': 0.16058436957555525, 'max_depth': 19, 'n_estimators': 62, 'min_child_weight': 7, 'min_split_loss': 0.22596276902680482, 'max_delta_step': 8, 'reg_lambda': 0.6066646936589245, 'reg_alpha': 0.980713674856126}. Best is trial 23 with value: 0.7858423350953803.\u001b[0m\n",
      "\u001b[32m[I 2022-12-18 23:51:36,808]\u001b[0m Trial 34 finished with value: 0.7790827654850317 and parameters: {'learning_rate': 0.39912724144631045, 'max_depth': 15, 'n_estimators': 99, 'min_child_weight': 5, 'min_split_loss': 0.11552075743124257, 'max_delta_step': 9, 'reg_lambda': 0.5144840068061671, 'reg_alpha': 0.378667048451629}. Best is trial 23 with value: 0.7858423350953803.\u001b[0m\n",
      "\u001b[32m[I 2022-12-18 23:51:37,312]\u001b[0m Trial 35 finished with value: 0.7788602857619054 and parameters: {'learning_rate': 0.33405668746497075, 'max_depth': 7, 'n_estimators': 88, 'min_child_weight': 8, 'min_split_loss': 0.1991314183105603, 'max_delta_step': 5, 'reg_lambda': 0.6710547301058475, 'reg_alpha': 0.8213359254753699}. Best is trial 23 with value: 0.7858423350953803.\u001b[0m\n",
      "\u001b[32m[I 2022-12-18 23:51:38,551]\u001b[0m Trial 36 finished with value: 0.7608241082410825 and parameters: {'learning_rate': 0.969629198049194, 'max_depth': 13, 'n_estimators': 76, 'min_child_weight': 6, 'min_split_loss': 0.30774026728817166, 'max_delta_step': 9, 'reg_lambda': 0.36015493190640613, 'reg_alpha': 0.5650675566235481}. Best is trial 23 with value: 0.7858423350953803.\u001b[0m\n",
      "\u001b[32m[I 2022-12-18 23:51:39,493]\u001b[0m Trial 37 finished with value: 0.7759177056978807 and parameters: {'learning_rate': 0.06769573094330439, 'max_depth': 15, 'n_estimators': 59, 'min_child_weight': 7, 'min_split_loss': 0.45395816903808606, 'max_delta_step': 6, 'reg_lambda': 0.20474058702377057, 'reg_alpha': 0.4716654197705974}. Best is trial 23 with value: 0.7858423350953803.\u001b[0m\n",
      "\u001b[32m[I 2022-12-18 23:51:39,853]\u001b[0m Trial 38 finished with value: 0.7561688217767364 and parameters: {'learning_rate': 0.22811591515316046, 'max_depth': 3, 'n_estimators': 111, 'min_child_weight': 3, 'min_split_loss': 0.5808936391209993, 'max_delta_step': 2, 'reg_lambda': 0.7572226163956464, 'reg_alpha': 0.6802617799982255}. Best is trial 23 with value: 0.7858423350953803.\u001b[0m\n",
      "\u001b[32m[I 2022-12-18 23:51:43,067]\u001b[0m Trial 39 finished with value: 0.7733035276825084 and parameters: {'learning_rate': 0.46217591461835467, 'max_depth': 19, 'n_estimators': 190, 'min_child_weight': 9, 'min_split_loss': 0.09173177668144153, 'max_delta_step': 7, 'reg_lambda': 0.43601616220140166, 'reg_alpha': 0.1278084178284818}. Best is trial 23 with value: 0.7858423350953803.\u001b[0m\n",
      "\u001b[32m[I 2022-12-18 23:51:44,018]\u001b[0m Trial 40 finished with value: 0.7843970763631914 and parameters: {'learning_rate': 0.25521855522969955, 'max_depth': 13, 'n_estimators': 77, 'min_child_weight': 8, 'min_split_loss': 0.3530029019806529, 'max_delta_step': 8, 'reg_lambda': 0.5262775574710539, 'reg_alpha': 0.9378708223069991}. Best is trial 23 with value: 0.7858423350953803.\u001b[0m\n",
      "\u001b[32m[I 2022-12-18 23:51:45,873]\u001b[0m Trial 41 finished with value: 0.7858238723534827 and parameters: {'learning_rate': 0.15408982452239883, 'max_depth': 19, 'n_estimators': 60, 'min_child_weight': 7, 'min_split_loss': 0.25314434948934683, 'max_delta_step': 8, 'reg_lambda': 0.5931124816279699, 'reg_alpha': 0.9486568508934602}. Best is trial 23 with value: 0.7858423350953803.\u001b[0m\n",
      "\u001b[32m[I 2022-12-18 23:51:47,427]\u001b[0m Trial 42 finished with value: 0.774073281789567 and parameters: {'learning_rate': 0.04979456558035206, 'max_depth': 17, 'n_estimators': 50, 'min_child_weight': 5, 'min_split_loss': 0.1770716945507972, 'max_delta_step': 10, 'reg_lambda': 0.6919581926088791, 'reg_alpha': 0.8374569134008701}. Best is trial 23 with value: 0.7858423350953803.\u001b[0m\n",
      "\u001b[32m[I 2022-12-18 23:51:49,603]\u001b[0m Trial 43 finished with value: 0.7830043657381786 and parameters: {'learning_rate': 0.13432689603589856, 'max_depth': 20, 'n_estimators': 61, 'min_child_weight': 7, 'min_split_loss': 0.2574651579806111, 'max_delta_step': 6, 'reg_lambda': 0.6183973024012233, 'reg_alpha': 0.9254782680331678}. Best is trial 23 with value: 0.7858423350953803.\u001b[0m\n",
      "\u001b[32m[I 2022-12-18 23:51:50,858]\u001b[0m Trial 44 finished with value: 0.782067552483907 and parameters: {'learning_rate': 0.3527863532159691, 'max_depth': 19, 'n_estimators': 69, 'min_child_weight': 6, 'min_split_loss': 0.3839714966164567, 'max_delta_step': 9, 'reg_lambda': 0.5668595126051319, 'reg_alpha': 0.7637933070284963}. Best is trial 23 with value: 0.7858423350953803.\u001b[0m\n",
      "\u001b[32m[I 2022-12-18 23:51:52,452]\u001b[0m Trial 45 finished with value: 0.7836725921832305 and parameters: {'learning_rate': 0.16617354287421982, 'max_depth': 20, 'n_estimators': 57, 'min_child_weight': 10, 'min_split_loss': 0.6614862265881951, 'max_delta_step': 7, 'reg_lambda': 0.4811733644880469, 'reg_alpha': 0.2921770780412132}. Best is trial 23 with value: 0.7858423350953803.\u001b[0m\n",
      "\u001b[32m[I 2022-12-18 23:51:54,444]\u001b[0m Trial 46 finished with value: 0.7765116706487778 and parameters: {'learning_rate': 0.43920020123831083, 'max_depth': 16, 'n_estimators': 89, 'min_child_weight': 6, 'min_split_loss': 0.08906543267949785, 'max_delta_step': 8, 'reg_lambda': 0.392849897340835, 'reg_alpha': 0.18496002702124864}. Best is trial 23 with value: 0.7858423350953803.\u001b[0m\n",
      "\u001b[32m[I 2022-12-18 23:51:58,327]\u001b[0m Trial 47 finished with value: 0.7752325207238404 and parameters: {'learning_rate': 0.5390240810373408, 'max_depth': 18, 'n_estimators': 81, 'min_child_weight': 1, 'min_split_loss': 0.02130449520981635, 'max_delta_step': 10, 'reg_lambda': 0.6533990110679166, 'reg_alpha': 0.9994784591361322}. Best is trial 23 with value: 0.7858423350953803.\u001b[0m\n",
      "\u001b[32m[I 2022-12-18 23:51:59,805]\u001b[0m Trial 48 finished with value: 0.7847499961691108 and parameters: {'learning_rate': 0.23221657270031346, 'max_depth': 17, 'n_estimators': 66, 'min_child_weight': 7, 'min_split_loss': 0.20206092304303758, 'max_delta_step': 6, 'reg_lambda': 0.8599104647814635, 'reg_alpha': 0.5114655236212782}. Best is trial 23 with value: 0.7858423350953803.\u001b[0m\n",
      "\u001b[32m[I 2022-12-18 23:52:01,013]\u001b[0m Trial 49 finished with value: 0.7738584199081904 and parameters: {'learning_rate': 0.03638199567818218, 'max_depth': 14, 'n_estimators': 101, 'min_child_weight': 8, 'min_split_loss': 0.2855431578964015, 'max_delta_step': 8, 'reg_lambda': 0.5811188110870271, 'reg_alpha': 0.3958971090853809}. Best is trial 23 with value: 0.7858423350953803.\u001b[0m\n",
      "\u001b[32m[I 2022-12-18 23:52:03,340]\u001b[0m Trial 50 finished with value: 0.7854523133583978 and parameters: {'learning_rate': 0.10808220764062162, 'max_depth': 20, 'n_estimators': 74, 'min_child_weight': 9, 'min_split_loss': 0.3349974638619887, 'max_delta_step': 9, 'reg_lambda': 0.7207069999851341, 'reg_alpha': 0.6326488007956361}. Best is trial 23 with value: 0.7858423350953803.\u001b[0m\n",
      "\u001b[32m[I 2022-12-18 23:52:05,737]\u001b[0m Trial 51 finished with value: 0.7844871263414859 and parameters: {'learning_rate': 0.10489873618564695, 'max_depth': 20, 'n_estimators': 74, 'min_child_weight': 9, 'min_split_loss': 0.473708554054854, 'max_delta_step': 9, 'reg_lambda': 0.7029385892158408, 'reg_alpha': 0.6363961841233463}. Best is trial 23 with value: 0.7858423350953803.\u001b[0m\n",
      "\u001b[32m[I 2022-12-18 23:52:07,407]\u001b[0m Trial 52 finished with value: 0.7843618620922453 and parameters: {'learning_rate': 0.1534900433867119, 'max_depth': 19, 'n_estimators': 57, 'min_child_weight': 10, 'min_split_loss': 0.36560172376203165, 'max_delta_step': 8, 'reg_lambda': 0.6223205589890675, 'reg_alpha': 0.5771449959763514}. Best is trial 23 with value: 0.7858423350953803.\u001b[0m\n",
      "\u001b[32m[I 2022-12-18 23:52:10,245]\u001b[0m Trial 53 finished with value: 0.7819112155995022 and parameters: {'learning_rate': 0.06913652782417146, 'max_depth': 20, 'n_estimators': 80, 'min_child_weight': 9, 'min_split_loss': 0.32173589499408695, 'max_delta_step': 10, 'reg_lambda': 0.7488381596595284, 'reg_alpha': 0.6848239695550794}. Best is trial 23 with value: 0.7858423350953803.\u001b[0m\n",
      "\u001b[32m[I 2022-12-18 23:52:11,236]\u001b[0m Trial 54 finished with value: 0.7808563459711282 and parameters: {'learning_rate': 0.2830155563083155, 'max_depth': 18, 'n_estimators': 66, 'min_child_weight': 10, 'min_split_loss': 0.562753290047454, 'max_delta_step': 9, 'reg_lambda': 0.8152995782207917, 'reg_alpha': 0.7194359296521278}. Best is trial 23 with value: 0.7858423350953803.\u001b[0m\n",
      "\u001b[32m[I 2022-12-18 23:52:13,301]\u001b[0m Trial 55 finished with value: 0.785375657803894 and parameters: {'learning_rate': 0.11544580821827691, 'max_depth': 17, 'n_estimators': 154, 'min_child_weight': 8, 'min_split_loss': 0.42040137290645213, 'max_delta_step': 7, 'reg_lambda': 0.7110793443415733, 'reg_alpha': 0.774903228551051}. Best is trial 23 with value: 0.7858423350953803.\u001b[0m\n",
      "\u001b[32m[I 2022-12-18 23:52:15,380]\u001b[0m Trial 56 finished with value: 0.7864086601858382 and parameters: {'learning_rate': 0.11585493304510093, 'max_depth': 17, 'n_estimators': 152, 'min_child_weight': 8, 'min_split_loss': 0.4103227105470031, 'max_delta_step': 7, 'reg_lambda': 0.8854511857627952, 'reg_alpha': 0.7764440424828012}. Best is trial 56 with value: 0.7864086601858382.\u001b[0m\n",
      "\u001b[32m[I 2022-12-18 23:52:17,214]\u001b[0m Trial 57 finished with value: 0.7854766249099189 and parameters: {'learning_rate': 0.11268703498944659, 'max_depth': 16, 'n_estimators': 156, 'min_child_weight': 8, 'min_split_loss': 0.3948290915814061, 'max_delta_step': 7, 'reg_lambda': 0.8877675837873167, 'reg_alpha': 0.8034808450978579}. Best is trial 56 with value: 0.7864086601858382.\u001b[0m\n",
      "\u001b[32m[I 2022-12-18 23:52:20,193]\u001b[0m Trial 58 finished with value: 0.7755598091939354 and parameters: {'learning_rate': 0.01965246251204497, 'max_depth': 16, 'n_estimators': 152, 'min_child_weight': 8, 'min_split_loss': 0.4140989667106023, 'max_delta_step': 7, 'reg_lambda': 0.9042378173406856, 'reg_alpha': 0.7919986263541036}. Best is trial 56 with value: 0.7864086601858382.\u001b[0m\n",
      "\u001b[32m[I 2022-12-18 23:52:21,207]\u001b[0m Trial 59 finished with value: 0.7799945670218225 and parameters: {'learning_rate': 0.09719837417480823, 'max_depth': 9, 'n_estimators': 163, 'min_child_weight': 8, 'min_split_loss': 0.46735484112069864, 'max_delta_step': 6, 'reg_lambda': 0.9465247537445308, 'reg_alpha': 0.8595738238150654}. Best is trial 56 with value: 0.7864086601858382.\u001b[0m\n",
      "\u001b[32m[I 2022-12-18 23:52:23,672]\u001b[0m Trial 60 finished with value: 0.7824864369221365 and parameters: {'learning_rate': 0.048777759730777914, 'max_depth': 15, 'n_estimators': 176, 'min_child_weight': 7, 'min_split_loss': 0.3944837731353612, 'max_delta_step': 5, 'reg_lambda': 0.8853979624851886, 'reg_alpha': 0.7793770392267138}. Best is trial 56 with value: 0.7864086601858382.\u001b[0m\n",
      "\u001b[32m[I 2022-12-18 23:52:25,359]\u001b[0m Trial 61 finished with value: 0.7854633592587479 and parameters: {'learning_rate': 0.1274037632958927, 'max_depth': 17, 'n_estimators': 146, 'min_child_weight': 8, 'min_split_loss': 0.5544033429131153, 'max_delta_step': 7, 'reg_lambda': 0.9773752730817957, 'reg_alpha': 0.9161291864939473}. Best is trial 56 with value: 0.7864086601858382.\u001b[0m\n",
      "\u001b[32m[I 2022-12-18 23:52:26,951]\u001b[0m Trial 62 finished with value: 0.7839490094534757 and parameters: {'learning_rate': 0.13118941148708393, 'max_depth': 17, 'n_estimators': 144, 'min_child_weight': 8, 'min_split_loss': 0.6287881884389719, 'max_delta_step': 7, 'reg_lambda': 0.9151178432644775, 'reg_alpha': 0.9198401938626559}. Best is trial 56 with value: 0.7864086601858382.\u001b[0m\n",
      "\u001b[32m[I 2022-12-18 23:52:28,132]\u001b[0m Trial 63 finished with value: 0.7829046202900328 and parameters: {'learning_rate': 0.24020501275961667, 'max_depth': 16, 'n_estimators': 157, 'min_child_weight': 8, 'min_split_loss': 0.5244445426312859, 'max_delta_step': 7, 'reg_lambda': 0.994017848731231, 'reg_alpha': 0.9587148447271232}. Best is trial 56 with value: 0.7864086601858382.\u001b[0m\n",
      "\u001b[32m[I 2022-12-18 23:52:29,480]\u001b[0m Trial 64 finished with value: 0.7849483686948034 and parameters: {'learning_rate': 0.10228116739139706, 'max_depth': 12, 'n_estimators': 133, 'min_child_weight': 7, 'min_split_loss': 0.3383484135605632, 'max_delta_step': 7, 'reg_lambda': 0.8513590042722207, 'reg_alpha': 0.8608055795024849}. Best is trial 56 with value: 0.7864086601858382.\u001b[0m\n",
      "\u001b[32m[I 2022-12-18 23:52:31,053]\u001b[0m Trial 65 finished with value: 0.7835330261136714 and parameters: {'learning_rate': 0.18000099056679666, 'max_depth': 18, 'n_estimators': 170, 'min_child_weight': 9, 'min_split_loss': 0.45044283900028215, 'max_delta_step': 6, 'reg_lambda': 0.9671624267145721, 'reg_alpha': 0.90356130497774}. Best is trial 56 with value: 0.7864086601858382.\u001b[0m\n",
      "\u001b[32m[I 2022-12-18 23:52:34,212]\u001b[0m Trial 66 finished with value: 0.7865072063784115 and parameters: {'learning_rate': 0.07892541194999404, 'max_depth': 17, 'n_estimators': 157, 'min_child_weight': 8, 'min_split_loss': 0.2721036854027207, 'max_delta_step': 6, 'reg_lambda': 0.7761467965728504, 'reg_alpha': 0.7280677044180788}. Best is trial 66 with value: 0.7865072063784115.\u001b[0m\n",
      "\u001b[32m[I 2022-12-18 23:52:35,513]\u001b[0m Trial 67 finished with value: 0.7725141719013329 and parameters: {'learning_rate': 0.6950814966305212, 'max_depth': 14, 'n_estimators': 134, 'min_child_weight': 7, 'min_split_loss': 0.26520048161717463, 'max_delta_step': 4, 'reg_lambda': 0.7802616135673366, 'reg_alpha': 0.7228779236898647}. Best is trial 66 with value: 0.7865072063784115.\u001b[0m\n",
      "\u001b[32m[I 2022-12-18 23:52:38,937]\u001b[0m Trial 68 finished with value: 0.7857164788602659 and parameters: {'learning_rate': 0.0720082883161966, 'max_depth': 19, 'n_estimators': 138, 'min_child_weight': 9, 'min_split_loss': 0.49450032059723764, 'max_delta_step': 6, 'reg_lambda': 0.7964949085102176, 'reg_alpha': 0.836012702355931}. Best is trial 66 with value: 0.7865072063784115.\u001b[0m\n",
      "\u001b[32m[I 2022-12-18 23:52:41,441]\u001b[0m Trial 69 finished with value: 0.7670032041593614 and parameters: {'learning_rate': 0.01135495716815596, 'max_depth': 15, 'n_estimators': 141, 'min_child_weight': 8, 'min_split_loss': 0.503379810008567, 'max_delta_step': 5, 'reg_lambda': 0.8181413435314335, 'reg_alpha': 0.8464831246384767}. Best is trial 66 with value: 0.7865072063784115.\u001b[0m\n",
      "\u001b[32m[I 2022-12-18 23:52:44,925]\u001b[0m Trial 70 finished with value: 0.7846168029008666 and parameters: {'learning_rate': 0.06724850277226993, 'max_depth': 19, 'n_estimators': 181, 'min_child_weight': 7, 'min_split_loss': 0.7266360880420927, 'max_delta_step': 6, 'reg_lambda': 0.8883376243533954, 'reg_alpha': 0.8987481755777477}. Best is trial 66 with value: 0.7865072063784115.\u001b[0m\n",
      "\u001b[32m[I 2022-12-18 23:52:46,901]\u001b[0m Trial 71 finished with value: 0.7848330468941812 and parameters: {'learning_rate': 0.16328958483576128, 'max_depth': 18, 'n_estimators': 160, 'min_child_weight': 9, 'min_split_loss': 0.3036603764203569, 'max_delta_step': 6, 'reg_lambda': 0.9602392093566032, 'reg_alpha': 0.8151987467844497}. Best is trial 66 with value: 0.7865072063784115.\u001b[0m\n",
      "\u001b[32m[I 2022-12-18 23:52:48,795]\u001b[0m Trial 72 finished with value: 0.7838857037741056 and parameters: {'learning_rate': 0.20799222447441928, 'max_depth': 20, 'n_estimators': 149, 'min_child_weight': 9, 'min_split_loss': 0.3637742619052709, 'max_delta_step': 7, 'reg_lambda': 0.7872446802420618, 'reg_alpha': 0.9568135950126214}. Best is trial 66 with value: 0.7865072063784115.\u001b[0m\n",
      "\u001b[32m[I 2022-12-18 23:52:51,334]\u001b[0m Trial 73 finished with value: 0.7841411042944785 and parameters: {'learning_rate': 0.07489018654302465, 'max_depth': 17, 'n_estimators': 127, 'min_child_weight': 8, 'min_split_loss': 0.4895345959213855, 'max_delta_step': 8, 'reg_lambda': 0.8381579785614834, 'reg_alpha': 0.8024706984197301}. Best is trial 66 with value: 0.7865072063784115.\u001b[0m\n",
      "\u001b[32m[I 2022-12-18 23:52:53,238]\u001b[0m Trial 74 finished with value: 0.7837166513339466 and parameters: {'learning_rate': 0.1487154316069355, 'max_depth': 19, 'n_estimators': 139, 'min_child_weight': 9, 'min_split_loss': 0.5490543506187735, 'max_delta_step': 6, 'reg_lambda': 0.7318571706456243, 'reg_alpha': 0.7369627240938225}. Best is trial 66 with value: 0.7865072063784115.\u001b[0m\n",
      "\u001b[32m[I 2022-12-18 23:52:55,783]\u001b[0m Trial 75 finished with value: 0.7831150372147759 and parameters: {'learning_rate': 0.04963882467907278, 'max_depth': 16, 'n_estimators': 156, 'min_child_weight': 8, 'min_split_loss': 0.4431250522746022, 'max_delta_step': 5, 'reg_lambda': 0.7688554358502528, 'reg_alpha': 0.874714113574844}. Best is trial 66 with value: 0.7865072063784115.\u001b[0m\n",
      "\u001b[32m[I 2022-12-18 23:52:58,052]\u001b[0m Trial 76 finished with value: 0.7863329092386223 and parameters: {'learning_rate': 0.11969083299507702, 'max_depth': 18, 'n_estimators': 146, 'min_child_weight': 8, 'min_split_loss': 0.40645616489191194, 'max_delta_step': 8, 'reg_lambda': 0.8650873070606344, 'reg_alpha': 0.6627832566125278}. Best is trial 66 with value: 0.7865072063784115.\u001b[0m\n",
      "\u001b[32m[I 2022-12-18 23:52:59,553]\u001b[0m Trial 77 finished with value: 0.7841450158457982 and parameters: {'learning_rate': 0.2032618852830917, 'max_depth': 17, 'n_estimators': 146, 'min_child_weight': 7, 'min_split_loss': 0.3932893483832911, 'max_delta_step': 8, 'reg_lambda': 0.9276432024054118, 'reg_alpha': 0.6897600411388882}. Best is trial 66 with value: 0.7865072063784115.\u001b[0m\n",
      "\u001b[32m[I 2022-12-18 23:53:01,246]\u001b[0m Trial 78 finished with value: 0.7854941347849421 and parameters: {'learning_rate': 0.13788207607173567, 'max_depth': 18, 'n_estimators': 168, 'min_child_weight': 8, 'min_split_loss': 0.6218601668348004, 'max_delta_step': 7, 'reg_lambda': 0.8871081049020061, 'reg_alpha': 0.8437237751946562}. Best is trial 66 with value: 0.7865072063784115.\u001b[0m\n",
      "\u001b[32m[I 2022-12-18 23:53:03,471]\u001b[0m Trial 79 finished with value: 0.7841185747752989 and parameters: {'learning_rate': 0.08741772858271285, 'max_depth': 18, 'n_estimators': 170, 'min_child_weight': 7, 'min_split_loss': 0.8248906443729747, 'max_delta_step': 7, 'reg_lambda': 0.8539851048311656, 'reg_alpha': 0.7552779181338176}. Best is trial 66 with value: 0.7865072063784115.\u001b[0m\n",
      "\u001b[32m[I 2022-12-18 23:53:08,315]\u001b[0m Trial 80 finished with value: 0.7814315129536864 and parameters: {'learning_rate': 0.033935730752344254, 'max_depth': 19, 'n_estimators': 163, 'min_child_weight': 8, 'min_split_loss': 0.6086871796286161, 'max_delta_step': 8, 'reg_lambda': 0.8785737841945611, 'reg_alpha': 0.6645332490573848}. Best is trial 66 with value: 0.7865072063784115.\u001b[0m\n",
      "\u001b[32m[I 2022-12-18 23:53:10,043]\u001b[0m Trial 81 finished with value: 0.7844774653076262 and parameters: {'learning_rate': 0.13583907633108808, 'max_depth': 18, 'n_estimators': 151, 'min_child_weight': 8, 'min_split_loss': 0.6350615922735612, 'max_delta_step': 7, 'reg_lambda': 0.93844374564947, 'reg_alpha': 0.8288807038959017}. Best is trial 66 with value: 0.7865072063784115.\u001b[0m\n",
      "\u001b[32m[I 2022-12-18 23:53:11,548]\u001b[0m Trial 82 finished with value: 0.7860579132832849 and parameters: {'learning_rate': 0.1645996746236888, 'max_depth': 17, 'n_estimators': 136, 'min_child_weight': 8, 'min_split_loss': 0.5247771642750996, 'max_delta_step': 7, 'reg_lambda': 0.9068490882732037, 'reg_alpha': 0.8821059254785171}. Best is trial 66 with value: 0.7865072063784115.\u001b[0m\n",
      "\u001b[32m[I 2022-12-18 23:53:12,790]\u001b[0m Trial 83 finished with value: 0.7844256259204713 and parameters: {'learning_rate': 0.17672014470231878, 'max_depth': 16, 'n_estimators': 138, 'min_child_weight': 7, 'min_split_loss': 0.5334206178396077, 'max_delta_step': 6, 'reg_lambda': 0.8077401477013283, 'reg_alpha': 0.7965336531706484}. Best is trial 66 with value: 0.7865072063784115.\u001b[0m\n",
      "\u001b[32m[I 2022-12-18 23:53:13,950]\u001b[0m Trial 84 finished with value: 0.7677068159165836 and parameters: {'learning_rate': 0.862528702024042, 'max_depth': 19, 'n_estimators': 114, 'min_child_weight': 9, 'min_split_loss': 0.48189829586349736, 'max_delta_step': 8, 'reg_lambda': 0.9094329470029282, 'reg_alpha': 0.8907815063281511}. Best is trial 66 with value: 0.7865072063784115.\u001b[0m\n",
      "\u001b[32m[I 2022-12-18 23:53:15,691]\u001b[0m Trial 85 finished with value: 0.7830391075150177 and parameters: {'learning_rate': 0.2957786069909302, 'max_depth': 18, 'n_estimators': 166, 'min_child_weight': 8, 'min_split_loss': 0.23008598431276087, 'max_delta_step': 7, 'reg_lambda': 0.8703775442680406, 'reg_alpha': 0.8472845309525567}. Best is trial 66 with value: 0.7865072063784115.\u001b[0m\n",
      "\u001b[32m[I 2022-12-18 23:53:16,890]\u001b[0m Trial 86 finished with value: 0.781887070301115 and parameters: {'learning_rate': 0.24998217855771404, 'max_depth': 18, 'n_estimators': 130, 'min_child_weight': 7, 'min_split_loss': 0.6892744965159562, 'max_delta_step': 7, 'reg_lambda': 0.8348065819057473, 'reg_alpha': 0.9520446248757758}. Best is trial 66 with value: 0.7865072063784115.\u001b[0m\n",
      "\u001b[32m[I 2022-12-18 23:53:18,217]\u001b[0m Trial 87 finished with value: 0.7826299619399905 and parameters: {'learning_rate': 0.22611739451405338, 'max_depth': 16, 'n_estimators': 121, 'min_child_weight': 6, 'min_split_loss': 0.40980132077627757, 'max_delta_step': 8, 'reg_lambda': 0.8985783927982993, 'reg_alpha': 0.7422205859964265}. Best is trial 66 with value: 0.7865072063784115.\u001b[0m\n",
      "\u001b[32m[I 2022-12-18 23:53:20,664]\u001b[0m Trial 88 finished with value: 0.7848799779269751 and parameters: {'learning_rate': 0.07906097643272542, 'max_depth': 17, 'n_estimators': 181, 'min_child_weight': 8, 'min_split_loss': 0.5885442495945894, 'max_delta_step': 6, 'reg_lambda': 0.7909200426372955, 'reg_alpha': 0.701049164382411}. Best is trial 66 with value: 0.7865072063784115.\u001b[0m\n",
      "\u001b[32m[I 2022-12-18 23:53:21,176]\u001b[0m Trial 89 finished with value: 0.7708422719001051 and parameters: {'learning_rate': 0.15257235465057997, 'max_depth': 5, 'n_estimators': 136, 'min_child_weight': 9, 'min_split_loss': 0.36031164871679555, 'max_delta_step': 8, 'reg_lambda': 0.826821504868246, 'reg_alpha': 0.8769440407586839}. Best is trial 66 with value: 0.7865072063784115.\u001b[0m\n",
      "\u001b[32m[I 2022-12-18 23:53:22,536]\u001b[0m Trial 90 finished with value: 0.7805468702102876 and parameters: {'learning_rate': 0.32500849436325974, 'max_depth': 19, 'n_estimators': 142, 'min_child_weight': 7, 'min_split_loss': 0.4437821187791329, 'max_delta_step': 6, 'reg_lambda': 0.017660220652975123, 'reg_alpha': 0.9784433477937222}. Best is trial 66 with value: 0.7865072063784115.\u001b[0m\n",
      "\u001b[32m[I 2022-12-18 23:53:24,334]\u001b[0m Trial 91 finished with value: 0.7845370000920782 and parameters: {'learning_rate': 0.1136058840969992, 'max_depth': 17, 'n_estimators': 147, 'min_child_weight': 8, 'min_split_loss': 0.6555021704012242, 'max_delta_step': 7, 'reg_lambda': 0.9744776743432586, 'reg_alpha': 0.9214434609746132}. Best is trial 66 with value: 0.7865072063784115.\u001b[0m\n",
      "\u001b[32m[I 2022-12-18 23:53:26,090]\u001b[0m Trial 92 finished with value: 0.7839970524118026 and parameters: {'learning_rate': 0.1261672142365323, 'max_depth': 17, 'n_estimators': 159, 'min_child_weight': 8, 'min_split_loss': 0.5435410937285896, 'max_delta_step': 7, 'reg_lambda': 0.9196343576572334, 'reg_alpha': 0.8019696265777514}. Best is trial 66 with value: 0.7865072063784115.\u001b[0m\n",
      "\u001b[32m[I 2022-12-18 23:53:27,564]\u001b[0m Trial 93 finished with value: 0.7851495464574652 and parameters: {'learning_rate': 0.18566749097737006, 'max_depth': 18, 'n_estimators': 151, 'min_child_weight': 8, 'min_split_loss': 0.5130293866197526, 'max_delta_step': 7, 'reg_lambda': 0.9784137774680542, 'reg_alpha': 0.8285287264139125}. Best is trial 66 with value: 0.7865072063784115.\u001b[0m\n",
      "\u001b[32m[I 2022-12-18 23:53:28,608]\u001b[0m Trial 94 finished with value: 0.7841764022264358 and parameters: {'learning_rate': 0.21160084337170915, 'max_depth': 15, 'n_estimators': 144, 'min_child_weight': 9, 'min_split_loss': 0.5797646428780936, 'max_delta_step': 8, 'reg_lambda': 0.9448085600335624, 'reg_alpha': 0.7632716189612663}. Best is trial 66 with value: 0.7865072063784115.\u001b[0m\n",
      "\u001b[32m[I 2022-12-18 23:53:30,718]\u001b[0m Trial 95 finished with value: 0.7828828553062537 and parameters: {'learning_rate': 0.06300248666914346, 'max_depth': 16, 'n_estimators': 128, 'min_child_weight': 8, 'min_split_loss': 0.2857725563700674, 'max_delta_step': 6, 'reg_lambda': 0.8604830851408911, 'reg_alpha': 0.8650070721605732}. Best is trial 66 with value: 0.7865072063784115.\u001b[0m\n",
      "\u001b[32m[I 2022-12-18 23:53:32,441]\u001b[0m Trial 96 finished with value: 0.7835345740192394 and parameters: {'learning_rate': 0.14624821863099968, 'max_depth': 18, 'n_estimators': 155, 'min_child_weight': 6, 'min_split_loss': 0.6088772909703565, 'max_delta_step': 7, 'reg_lambda': 0.754400037210938, 'reg_alpha': 0.9407658303896862}. Best is trial 66 with value: 0.7865072063784115.\u001b[0m\n",
      "\u001b[32m[I 2022-12-18 23:53:35,734]\u001b[0m Trial 97 finished with value: 0.7855859176996453 and parameters: {'learning_rate': 0.09106493811338044, 'max_depth': 20, 'n_estimators': 160, 'min_child_weight': 7, 'min_split_loss': 0.47152959206030076, 'max_delta_step': 7, 'reg_lambda': 0.08698367041204041, 'reg_alpha': 0.9057964136345897}. Best is trial 66 with value: 0.7865072063784115.\u001b[0m\n",
      "\u001b[32m[I 2022-12-18 23:53:38,787]\u001b[0m Trial 98 finished with value: 0.7858316821037432 and parameters: {'learning_rate': 0.09507771691551387, 'max_depth': 20, 'n_estimators': 175, 'min_child_weight': 7, 'min_split_loss': 0.4700631234983615, 'max_delta_step': 8, 'reg_lambda': 0.11536383268333239, 'reg_alpha': 0.7733882208283377}. Best is trial 66 with value: 0.7865072063784115.\u001b[0m\n",
      "\u001b[32m[I 2022-12-18 23:53:42,423]\u001b[0m Trial 99 finished with value: 0.785747211210473 and parameters: {'learning_rate': 0.08681263445409387, 'max_depth': 20, 'n_estimators': 176, 'min_child_weight': 7, 'min_split_loss': 0.47223302008694384, 'max_delta_step': 8, 'reg_lambda': 0.08419571452087563, 'reg_alpha': 0.7227040218128593}. Best is trial 66 with value: 0.7865072063784115.\u001b[0m\n",
      "\u001b[32m[I 2022-12-18 23:53:48,456]\u001b[0m Trial 100 finished with value: 0.784882828096686 and parameters: {'learning_rate': 0.04393133897933722, 'max_depth': 20, 'n_estimators': 175, 'min_child_weight': 6, 'min_split_loss': 0.4892967293142162, 'max_delta_step': 8, 'reg_lambda': 0.07432689834774536, 'reg_alpha': 0.7248476360357426}. Best is trial 66 with value: 0.7865072063784115.\u001b[0m\n",
      "\u001b[32m[I 2022-12-18 23:53:51,846]\u001b[0m Trial 101 finished with value: 0.7857351382081343 and parameters: {'learning_rate': 0.09268627278947844, 'max_depth': 20, 'n_estimators': 188, 'min_child_weight': 7, 'min_split_loss': 0.4406973755132003, 'max_delta_step': 8, 'reg_lambda': 0.17069912667763248, 'reg_alpha': 0.7884458655145397}. Best is trial 66 with value: 0.7865072063784115.\u001b[0m\n",
      "\u001b[32m[I 2022-12-18 23:53:55,442]\u001b[0m Trial 102 finished with value: 0.786475447593895 and parameters: {'learning_rate': 0.08819263612537555, 'max_depth': 20, 'n_estimators': 195, 'min_child_weight': 7, 'min_split_loss': 0.4654431311797483, 'max_delta_step': 9, 'reg_lambda': 0.17224604627229861, 'reg_alpha': 0.7808817287563732}. Best is trial 66 with value: 0.7865072063784115.\u001b[0m\n",
      "\u001b[32m[I 2022-12-18 23:54:03,805]\u001b[0m Trial 103 finished with value: 0.7808385441472445 and parameters: {'learning_rate': 0.02304962058662713, 'max_depth': 20, 'n_estimators': 200, 'min_child_weight': 6, 'min_split_loss': 0.4199843335958492, 'max_delta_step': 9, 'reg_lambda': 0.1672419688035793, 'reg_alpha': 0.7775244074063753}. Best is trial 66 with value: 0.7865072063784115.\u001b[0m\n",
      "\u001b[32m[I 2022-12-18 23:54:06,976]\u001b[0m Trial 104 finished with value: 0.7858546168958742 and parameters: {'learning_rate': 0.09180443528992785, 'max_depth': 19, 'n_estimators': 185, 'min_child_weight': 7, 'min_split_loss': 0.4330817964615891, 'max_delta_step': 9, 'reg_lambda': 0.20616519567225877, 'reg_alpha': 0.7214602380639175}. Best is trial 66 with value: 0.7865072063784115.\u001b[0m\n",
      "\u001b[32m[I 2022-12-18 23:54:10,264]\u001b[0m Trial 105 finished with value: 0.7852691044180405 and parameters: {'learning_rate': 0.09700163719178947, 'max_depth': 20, 'n_estimators': 189, 'min_child_weight': 7, 'min_split_loss': 0.4375189045640306, 'max_delta_step': 9, 'reg_lambda': 0.15405965999203708, 'reg_alpha': 0.6162842004159115}. Best is trial 66 with value: 0.7865072063784115.\u001b[0m\n",
      "\u001b[32m[I 2022-12-18 23:54:12,266]\u001b[0m Trial 106 finished with value: 0.7837589000736558 and parameters: {'learning_rate': 0.16690369948117634, 'max_depth': 19, 'n_estimators': 191, 'min_child_weight': 7, 'min_split_loss': 0.40813291412979785, 'max_delta_step': 9, 'reg_lambda': 0.22117778717392833, 'reg_alpha': 0.6529445673849767}. Best is trial 66 with value: 0.7865072063784115.\u001b[0m\n",
      "\u001b[32m[I 2022-12-18 23:54:17,566]\u001b[0m Trial 107 finished with value: 0.7861188279895016 and parameters: {'learning_rate': 0.05654316470404387, 'max_depth': 20, 'n_estimators': 184, 'min_child_weight': 7, 'min_split_loss': 0.4614782821887302, 'max_delta_step': 9, 'reg_lambda': 0.2685731156111101, 'reg_alpha': 0.7101441834348426}. Best is trial 66 with value: 0.7865072063784115.\u001b[0m\n",
      "\u001b[32m[I 2022-12-18 23:54:20,166]\u001b[0m Trial 108 finished with value: 0.7852447939062597 and parameters: {'learning_rate': 0.11818959607322933, 'max_depth': 19, 'n_estimators': 180, 'min_child_weight': 6, 'min_split_loss': 0.46353046775087653, 'max_delta_step': 9, 'reg_lambda': 0.3087311057622162, 'reg_alpha': 0.6700811469699163}. Best is trial 66 with value: 0.7865072063784115.\u001b[0m\n",
      "\u001b[32m[I 2022-12-18 23:54:25,135]\u001b[0m Trial 109 finished with value: 0.7861024963920532 and parameters: {'learning_rate': 0.06531553099687652, 'max_depth': 20, 'n_estimators': 198, 'min_child_weight': 7, 'min_split_loss': 0.3682685917201478, 'max_delta_step': 10, 'reg_lambda': 0.14185856131804095, 'reg_alpha': 0.6978106397354066}. Best is trial 66 with value: 0.7865072063784115.\u001b[0m\n",
      "\u001b[32m[I 2022-12-18 23:54:30,109]\u001b[0m Trial 110 finished with value: 0.7869612614964149 and parameters: {'learning_rate': 0.05791008948261413, 'max_depth': 19, 'n_estimators': 196, 'min_child_weight': 7, 'min_split_loss': 0.3225470375726054, 'max_delta_step': 10, 'reg_lambda': 0.2735690843713172, 'reg_alpha': 0.7505975141929601}. Best is trial 110 with value: 0.7869612614964149.\u001b[0m\n",
      "\u001b[32m[I 2022-12-18 23:54:35,584]\u001b[0m Trial 111 finished with value: 0.7864895985261381 and parameters: {'learning_rate': 0.05163172085589671, 'max_depth': 19, 'n_estimators': 197, 'min_child_weight': 7, 'min_split_loss': 0.25716877946856753, 'max_delta_step': 10, 'reg_lambda': 0.27016151342229267, 'reg_alpha': 0.6963278568817276}. Best is trial 110 with value: 0.7869612614964149.\u001b[0m\n",
      "\u001b[32m[I 2022-12-18 23:54:41,675]\u001b[0m Trial 112 finished with value: 0.7832139893666062 and parameters: {'learning_rate': 0.03133055188572094, 'max_depth': 19, 'n_estimators': 198, 'min_child_weight': 7, 'min_split_loss': 0.3743862252385723, 'max_delta_step': 10, 'reg_lambda': 0.27403028634575816, 'reg_alpha': 0.7069217866970896}. Best is trial 110 with value: 0.7869612614964149.\u001b[0m\n",
      "\u001b[32m[I 2022-12-18 23:54:47,431]\u001b[0m Trial 113 finished with value: 0.7858974555840487 and parameters: {'learning_rate': 0.06009689492229821, 'max_depth': 20, 'n_estimators': 195, 'min_child_weight': 6, 'min_split_loss': 0.3241159537551652, 'max_delta_step': 10, 'reg_lambda': 0.13675353419812816, 'reg_alpha': 0.6933628046805543}. Best is trial 110 with value: 0.7869612614964149.\u001b[0m\n",
      "\u001b[32m[I 2022-12-18 23:54:52,497]\u001b[0m Trial 114 finished with value: 0.7865365134911133 and parameters: {'learning_rate': 0.05750007561574206, 'max_depth': 19, 'n_estimators': 193, 'min_child_weight': 6, 'min_split_loss': 0.34499892067700577, 'max_delta_step': 10, 'reg_lambda': 0.2530420421177775, 'reg_alpha': 0.6914916418976883}. Best is trial 110 with value: 0.7869612614964149.\u001b[0m\n",
      "\u001b[32m[I 2022-12-18 23:54:57,801]\u001b[0m Trial 115 finished with value: 0.7877346183950029 and parameters: {'learning_rate': 0.059054052060057434, 'max_depth': 19, 'n_estimators': 193, 'min_child_weight': 6, 'min_split_loss': 0.32093499414540755, 'max_delta_step': 10, 'reg_lambda': 0.25871010562495766, 'reg_alpha': 0.6917015748678507}. Best is trial 115 with value: 0.7877346183950029.\u001b[0m\n",
      "\u001b[32m[I 2022-12-18 23:55:04,854]\u001b[0m Trial 116 finished with value: 0.7855630236626461 and parameters: {'learning_rate': 0.04270801983882358, 'max_depth': 20, 'n_estimators': 192, 'min_child_weight': 5, 'min_split_loss': 0.32826350737094623, 'max_delta_step': 10, 'reg_lambda': 0.24659784131820028, 'reg_alpha': 0.6503472201061136}. Best is trial 115 with value: 0.7877346183950029.\u001b[0m\n",
      "\u001b[32m[I 2022-12-18 23:55:10,803]\u001b[0m Trial 117 finished with value: 0.7867363997484701 and parameters: {'learning_rate': 0.05652081092875663, 'max_depth': 19, 'n_estimators': 195, 'min_child_weight': 5, 'min_split_loss': 0.3139012429226735, 'max_delta_step': 10, 'reg_lambda': 0.3082391161484149, 'reg_alpha': 0.5897225998664146}. Best is trial 115 with value: 0.7877346183950029.\u001b[0m\n",
      "\u001b[32m[I 2022-12-18 23:55:17,920]\u001b[0m Trial 118 finished with value: 0.7805485134823692 and parameters: {'learning_rate': 0.023949393110879846, 'max_depth': 19, 'n_estimators': 195, 'min_child_weight': 5, 'min_split_loss': 0.28965648777951897, 'max_delta_step': 10, 'reg_lambda': 0.3126022649216864, 'reg_alpha': 0.592733231470492}. Best is trial 115 with value: 0.7877346183950029.\u001b[0m\n",
      "\u001b[32m[I 2022-12-18 23:55:23,832]\u001b[0m Trial 119 finished with value: 0.786575821747537 and parameters: {'learning_rate': 0.0518116820971063, 'max_depth': 19, 'n_estimators': 184, 'min_child_weight': 4, 'min_split_loss': 0.26494157276403063, 'max_delta_step': 10, 'reg_lambda': 0.3343629575897604, 'reg_alpha': 0.6208324363063298}. Best is trial 115 with value: 0.7877346183950029.\u001b[0m\n",
      "\u001b[32m[I 2022-12-18 23:55:34,119]\u001b[0m Trial 120 finished with value: 0.7742963031026985 and parameters: {'learning_rate': 0.0105303060125876, 'max_depth': 19, 'n_estimators': 185, 'min_child_weight': 4, 'min_split_loss': 0.2152281052589956, 'max_delta_step': 10, 'reg_lambda': 0.33608113004946577, 'reg_alpha': 0.5481157854209043}. Best is trial 115 with value: 0.7877346183950029.\u001b[0m\n",
      "\u001b[32m[I 2022-12-18 23:55:41,091]\u001b[0m Trial 121 finished with value: 0.7870413020113619 and parameters: {'learning_rate': 0.05947053817944836, 'max_depth': 19, 'n_estimators': 198, 'min_child_weight': 3, 'min_split_loss': 0.2492402903112803, 'max_delta_step': 10, 'reg_lambda': 0.25640818870782955, 'reg_alpha': 0.6176947695015806}. Best is trial 115 with value: 0.7877346183950029.\u001b[0m\n",
      "\u001b[32m[I 2022-12-18 23:55:47,918]\u001b[0m Trial 122 finished with value: 0.7855334427889706 and parameters: {'learning_rate': 0.05038981171162354, 'max_depth': 19, 'n_estimators': 198, 'min_child_weight': 3, 'min_split_loss': 0.250717920241786, 'max_delta_step': 10, 'reg_lambda': 0.2645596560409147, 'reg_alpha': 0.6209553428170344}. Best is trial 115 with value: 0.7877346183950029.\u001b[0m\n",
      "\u001b[32m[I 2022-12-18 23:55:55,550]\u001b[0m Trial 123 finished with value: 0.7876583007137923 and parameters: {'learning_rate': 0.061707566293532065, 'max_depth': 20, 'n_estimators': 186, 'min_child_weight': 3, 'min_split_loss': 0.26958016990039313, 'max_delta_step': 10, 'reg_lambda': 0.2492420543073598, 'reg_alpha': 0.5751926429576415}. Best is trial 115 with value: 0.7877346183950029.\u001b[0m\n",
      "\u001b[32m[I 2022-12-18 23:56:01,129]\u001b[0m Trial 124 finished with value: 0.7831207065750735 and parameters: {'learning_rate': 0.03238945305555383, 'max_depth': 18, 'n_estimators': 187, 'min_child_weight': 3, 'min_split_loss': 0.31066820209544127, 'max_delta_step': 10, 'reg_lambda': 0.2841190432717238, 'reg_alpha': 0.5835617759288226}. Best is trial 115 with value: 0.7877346183950029.\u001b[0m\n",
      "\u001b[32m[I 2022-12-18 23:56:07,581]\u001b[0m Trial 125 finished with value: 0.7871586919527189 and parameters: {'learning_rate': 0.06263531332301919, 'max_depth': 19, 'n_estimators': 193, 'min_child_weight': 4, 'min_split_loss': 0.1856319809265023, 'max_delta_step': 10, 'reg_lambda': 0.2470577505293178, 'reg_alpha': 0.5415432796679808}. Best is trial 115 with value: 0.7877346183950029.\u001b[0m\n",
      "\u001b[32m[I 2022-12-18 23:56:10,742]\u001b[0m Trial 126 finished with value: 0.7704935638779361 and parameters: {'learning_rate': 0.6180235711037582, 'max_depth': 19, 'n_estimators': 194, 'min_child_weight': 2, 'min_split_loss': 0.16972132474185242, 'max_delta_step': 10, 'reg_lambda': 0.2412021181309239, 'reg_alpha': 0.5592815355080878}. Best is trial 115 with value: 0.7877346183950029.\u001b[0m\n",
      "\u001b[32m[I 2022-12-18 23:56:15,406]\u001b[0m Trial 127 finished with value: 0.7871005354321043 and parameters: {'learning_rate': 0.07465921702178681, 'max_depth': 18, 'n_estimators': 192, 'min_child_weight': 4, 'min_split_loss': 0.27336232327901344, 'max_delta_step': 10, 'reg_lambda': 0.3701047413271771, 'reg_alpha': 0.4684939975016852}. Best is trial 115 with value: 0.7877346183950029.\u001b[0m\n",
      "\u001b[32m[I 2022-12-18 23:56:21,858]\u001b[0m Trial 128 finished with value: 0.7875442711926773 and parameters: {'learning_rate': 0.07101688235935359, 'max_depth': 19, 'n_estimators': 192, 'min_child_weight': 4, 'min_split_loss': 0.19169953654650174, 'max_delta_step': 10, 'reg_lambda': 0.36488149333438236, 'reg_alpha': 0.5022349506112908}. Best is trial 115 with value: 0.7877346183950029.\u001b[0m\n",
      "\u001b[32m[I 2022-12-18 23:56:28,312]\u001b[0m Trial 129 finished with value: 0.7867996930161166 and parameters: {'learning_rate': 0.07543608944975125, 'max_depth': 19, 'n_estimators': 191, 'min_child_weight': 4, 'min_split_loss': 0.1926192917353417, 'max_delta_step': 10, 'reg_lambda': 0.37143826101046334, 'reg_alpha': 0.5104158439580927}. Best is trial 115 with value: 0.7877346183950029.\u001b[0m\n",
      "\u001b[32m[I 2022-12-18 23:56:34,886]\u001b[0m Trial 130 finished with value: 0.7864671357895707 and parameters: {'learning_rate': 0.0680228357341927, 'max_depth': 19, 'n_estimators': 192, 'min_child_weight': 4, 'min_split_loss': 0.12073536504532092, 'max_delta_step': 10, 'reg_lambda': 0.38543254056352727, 'reg_alpha': 0.5109094504650697}. Best is trial 115 with value: 0.7877346183950029.\u001b[0m\n",
      "\u001b[32m[I 2022-12-18 23:56:41,528]\u001b[0m Trial 131 finished with value: 0.7853533414225813 and parameters: {'learning_rate': 0.042967802751101306, 'max_depth': 19, 'n_estimators': 200, 'min_child_weight': 4, 'min_split_loss': 0.19087636203152838, 'max_delta_step': 10, 'reg_lambda': 0.3472913428527581, 'reg_alpha': 0.4832878360091721}. Best is trial 115 with value: 0.7877346183950029.\u001b[0m\n",
      "\u001b[32m[I 2022-12-18 23:56:50,480]\u001b[0m Trial 132 finished with value: 0.7729801811744149 and parameters: {'learning_rate': 0.01075733744861014, 'max_depth': 18, 'n_estimators': 193, 'min_child_weight': 3, 'min_split_loss': 0.2677023748934482, 'max_delta_step': 10, 'reg_lambda': 0.3258236869648441, 'reg_alpha': 0.4519216848982717}. Best is trial 115 with value: 0.7877346183950029.\u001b[0m\n",
      "\u001b[32m[I 2022-12-18 23:56:56,292]\u001b[0m Trial 133 finished with value: 0.7870302137067059 and parameters: {'learning_rate': 0.07557269327528504, 'max_depth': 19, 'n_estimators': 197, 'min_child_weight': 4, 'min_split_loss': 0.21521033769236064, 'max_delta_step': 10, 'reg_lambda': 0.4222890787352524, 'reg_alpha': 0.550210746050559}. Best is trial 115 with value: 0.7877346183950029.\u001b[0m\n",
      "\u001b[32m[I 2022-12-18 23:57:01,700]\u001b[0m Trial 134 finished with value: 0.7876167257003541 and parameters: {'learning_rate': 0.073039487487811, 'max_depth': 18, 'n_estimators': 188, 'min_child_weight': 4, 'min_split_loss': 0.2200966670363405, 'max_delta_step': 10, 'reg_lambda': 0.4210907649095067, 'reg_alpha': 0.5176186843933052}. Best is trial 115 with value: 0.7877346183950029.\u001b[0m\n",
      "\u001b[32m[I 2022-12-18 23:57:07,066]\u001b[0m Trial 135 finished with value: 0.7883468959281565 and parameters: {'learning_rate': 0.06970761634774822, 'max_depth': 18, 'n_estimators': 189, 'min_child_weight': 4, 'min_split_loss': 0.21866526725436392, 'max_delta_step': 10, 'reg_lambda': 0.410068159733869, 'reg_alpha': 0.5237859814125276}. Best is trial 135 with value: 0.7883468959281565.\u001b[0m\n",
      "\u001b[32m[I 2022-12-18 23:57:12,452]\u001b[0m Trial 136 finished with value: 0.7830501196245628 and parameters: {'learning_rate': 0.033235600477609054, 'max_depth': 18, 'n_estimators': 189, 'min_child_weight': 4, 'min_split_loss': 0.22261626618384006, 'max_delta_step': 10, 'reg_lambda': 0.41376827931844873, 'reg_alpha': 0.5346485841276476}. Best is trial 135 with value: 0.7883468959281565.\u001b[0m\n",
      "\u001b[32m[I 2022-12-18 23:57:12,858]\u001b[0m Trial 137 finished with value: 0.747104319939634 and parameters: {'learning_rate': 0.06374834804589637, 'max_depth': 1, 'n_estimators': 182, 'min_child_weight': 4, 'min_split_loss': 0.15401492600617098, 'max_delta_step': 10, 'reg_lambda': 0.37565766388527755, 'reg_alpha': 0.43322984877178317}. Best is trial 135 with value: 0.7883468959281565.\u001b[0m\n",
      "\u001b[32m[I 2022-12-18 23:57:13,714]\u001b[0m Trial 138 finished with value: 0.7712230215827338 and parameters: {'learning_rate': 0.07618386103868428, 'max_depth': 7, 'n_estimators': 186, 'min_child_weight': 3, 'min_split_loss': 0.1833914032319255, 'max_delta_step': 10, 'reg_lambda': 0.44219063534085806, 'reg_alpha': 0.4989613381831624}. Best is trial 135 with value: 0.7883468959281565.\u001b[0m\n",
      "\u001b[32m[I 2022-12-18 23:57:14,261]\u001b[0m Trial 139 finished with value: 0.7557109224513092 and parameters: {'learning_rate': 0.10556214325380069, 'max_depth': 3, 'n_estimators': 190, 'min_child_weight': 5, 'min_split_loss': 0.20712406210706705, 'max_delta_step': 10, 'reg_lambda': 0.40880613645932695, 'reg_alpha': 0.5223484282148461}. Best is trial 135 with value: 0.7883468959281565.\u001b[0m\n",
      "\u001b[32m[I 2022-12-18 23:57:19,312]\u001b[0m Trial 140 finished with value: 0.7826100310206087 and parameters: {'learning_rate': 0.03537121116219713, 'max_depth': 18, 'n_estimators': 178, 'min_child_weight': 4, 'min_split_loss': 0.23958458458372237, 'max_delta_step': 10, 'reg_lambda': 0.3616485904676784, 'reg_alpha': 0.5729600074249839}. Best is trial 135 with value: 0.7883468959281565.\u001b[0m\n",
      "\u001b[32m[I 2022-12-18 23:57:24,233]\u001b[0m Trial 141 finished with value: 0.7861999109869704 and parameters: {'learning_rate': 0.07810682907861402, 'max_depth': 19, 'n_estimators': 193, 'min_child_weight': 4, 'min_split_loss': 0.2781560996186667, 'max_delta_step': 3, 'reg_lambda': 0.29366807224883046, 'reg_alpha': 0.5552710383397351}. Best is trial 135 with value: 0.7883468959281565.\u001b[0m\n",
      "\u001b[32m[I 2022-12-18 23:57:29,341]\u001b[0m Trial 142 finished with value: 0.78617896158095 and parameters: {'learning_rate': 0.05340305389773873, 'max_depth': 18, 'n_estimators': 183, 'min_child_weight': 4, 'min_split_loss': 0.23567754011980668, 'max_delta_step': 10, 'reg_lambda': 0.47622444649347134, 'reg_alpha': 0.4590967097349601}. Best is trial 135 with value: 0.7883468959281565.\u001b[0m\n",
      "\u001b[32m[I 2022-12-18 23:57:40,793]\u001b[0m Trial 143 finished with value: 0.7724381083774047 and parameters: {'learning_rate': 0.010092343005905953, 'max_depth': 19, 'n_estimators': 188, 'min_child_weight': 3, 'min_split_loss': 0.3030283551378672, 'max_delta_step': 10, 'reg_lambda': 0.4284430396953674, 'reg_alpha': 0.4809444612988929}. Best is trial 135 with value: 0.7883468959281565.\u001b[0m\n",
      "\u001b[32m[I 2022-12-18 23:57:44,685]\u001b[0m Trial 144 finished with value: 0.7871601904469359 and parameters: {'learning_rate': 0.10926731377409928, 'max_depth': 18, 'n_estimators': 200, 'min_child_weight': 5, 'min_split_loss': 0.20336051462113425, 'max_delta_step': 10, 'reg_lambda': 0.3490093050629236, 'reg_alpha': 0.5953514810170171}. Best is trial 135 with value: 0.7883468959281565.\u001b[0m\n",
      "\u001b[32m[I 2022-12-18 23:57:48,348]\u001b[0m Trial 145 finished with value: 0.7860591291553635 and parameters: {'learning_rate': 0.12055532990762485, 'max_depth': 18, 'n_estimators': 197, 'min_child_weight': 5, 'min_split_loss': 0.20360753077503532, 'max_delta_step': 10, 'reg_lambda': 0.3291953907043875, 'reg_alpha': 0.6070486307262138}. Best is trial 135 with value: 0.7883468959281565.\u001b[0m\n",
      "\u001b[32m[I 2022-12-18 23:57:53,287]\u001b[0m Trial 146 finished with value: 0.7863439162361455 and parameters: {'learning_rate': 0.10359849561857196, 'max_depth': 19, 'n_estimators': 200, 'min_child_weight': 5, 'min_split_loss': 0.13900269052368308, 'max_delta_step': 10, 'reg_lambda': 0.36990851018046267, 'reg_alpha': 0.5287265815608843}. Best is trial 135 with value: 0.7883468959281565.\u001b[0m\n",
      "\u001b[32m[I 2022-12-18 23:57:58,803]\u001b[0m Trial 147 finished with value: 0.7879233716475096 and parameters: {'learning_rate': 0.07864430394300762, 'max_depth': 18, 'n_estimators': 191, 'min_child_weight': 4, 'min_split_loss': 0.16021577473305185, 'max_delta_step': 10, 'reg_lambda': 0.34492889244224695, 'reg_alpha': 0.5996826042788346}. Best is trial 135 with value: 0.7883468959281565.\u001b[0m\n",
      "\u001b[32m[I 2022-12-18 23:58:04,337]\u001b[0m Trial 148 finished with value: 0.7880190689332741 and parameters: {'learning_rate': 0.07780515936508679, 'max_depth': 18, 'n_estimators': 195, 'min_child_weight': 4, 'min_split_loss': 0.16896355290744758, 'max_delta_step': 10, 'reg_lambda': 0.35097198394416673, 'reg_alpha': 0.5453794043978533}. Best is trial 135 with value: 0.7883468959281565.\u001b[0m\n",
      "\u001b[32m[I 2022-12-18 23:58:10,136]\u001b[0m Trial 149 finished with value: 0.7884662576687117 and parameters: {'learning_rate': 0.0783107508508314, 'max_depth': 18, 'n_estimators': 196, 'min_child_weight': 4, 'min_split_loss': 0.11915355177032738, 'max_delta_step': 10, 'reg_lambda': 0.400503545093707, 'reg_alpha': 0.5482500784279924}. Best is trial 149 with value: 0.7884662576687117.\u001b[0m\n",
      "\u001b[32m[I 2022-12-18 23:58:16,209]\u001b[0m Trial 150 finished with value: 0.7865804241784793 and parameters: {'learning_rate': 0.14128874680902948, 'max_depth': 18, 'n_estimators': 190, 'min_child_weight': 3, 'min_split_loss': 0.11345020878531577, 'max_delta_step': 10, 'reg_lambda': 0.3994898592164734, 'reg_alpha': 0.49982020708160274}. Best is trial 149 with value: 0.7884662576687117.\u001b[0m\n",
      "\u001b[32m[I 2022-12-18 23:58:21,954]\u001b[0m Trial 151 finished with value: 0.7876344910032798 and parameters: {'learning_rate': 0.07552933075605224, 'max_depth': 18, 'n_estimators': 195, 'min_child_weight': 4, 'min_split_loss': 0.16775810923739012, 'max_delta_step': 10, 'reg_lambda': 0.360774557723528, 'reg_alpha': 0.5382423216381883}. Best is trial 149 with value: 0.7884662576687117.\u001b[0m\n",
      "\u001b[32m[I 2022-12-18 23:58:26,744]\u001b[0m Trial 152 finished with value: 0.786763578372742 and parameters: {'learning_rate': 0.10786743509272813, 'max_depth': 18, 'n_estimators': 197, 'min_child_weight': 4, 'min_split_loss': 0.14033755885940508, 'max_delta_step': 10, 'reg_lambda': 0.446758745078719, 'reg_alpha': 0.5455803798403318}. Best is trial 149 with value: 0.7884662576687117.\u001b[0m\n",
      "\u001b[32m[I 2022-12-18 23:58:31,599]\u001b[0m Trial 153 finished with value: 0.7878444059428712 and parameters: {'learning_rate': 0.08383215825058112, 'max_depth': 17, 'n_estimators': 191, 'min_child_weight': 4, 'min_split_loss': 0.16640606445181244, 'max_delta_step': 10, 'reg_lambda': 0.3899270282469251, 'reg_alpha': 0.5181201232095662}. Best is trial 149 with value: 0.7884662576687117.\u001b[0m\n",
      "\u001b[32m[I 2022-12-18 23:58:36,859]\u001b[0m Trial 154 finished with value: 0.7887531237064406 and parameters: {'learning_rate': 0.08907221851001633, 'max_depth': 17, 'n_estimators': 200, 'min_child_weight': 4, 'min_split_loss': 0.06622793142425584, 'max_delta_step': 10, 'reg_lambda': 0.22359322421155797, 'reg_alpha': 0.570744063994978}. Best is trial 154 with value: 0.7887531237064406.\u001b[0m\n",
      "\u001b[32m[I 2022-12-18 23:58:41,642]\u001b[0m Trial 155 finished with value: 0.7866443766199905 and parameters: {'learning_rate': 0.08569746179566477, 'max_depth': 17, 'n_estimators': 187, 'min_child_weight': 4, 'min_split_loss': 0.08782032096687249, 'max_delta_step': 10, 'reg_lambda': 0.3522560566659378, 'reg_alpha': 0.5418443289734366}. Best is trial 154 with value: 0.7887531237064406.\u001b[0m\n",
      "\u001b[32m[I 2022-12-18 23:58:48,045]\u001b[0m Trial 156 finished with value: 0.7877024833879414 and parameters: {'learning_rate': 0.12822382015255435, 'max_depth': 17, 'n_estimators': 199, 'min_child_weight': 2, 'min_split_loss': 0.04397781140486534, 'max_delta_step': 10, 'reg_lambda': 0.21940506158722223, 'reg_alpha': 0.5698306848663024}. Best is trial 154 with value: 0.7887531237064406.\u001b[0m\n",
      "\u001b[32m[I 2022-12-18 23:58:54,667]\u001b[0m Trial 157 finished with value: 0.7860211094747176 and parameters: {'learning_rate': 0.1337629567150344, 'max_depth': 17, 'n_estimators': 200, 'min_child_weight': 2, 'min_split_loss': 0.059762842619215925, 'max_delta_step': 10, 'reg_lambda': 0.21144531034498615, 'reg_alpha': 0.5727279941023258}. Best is trial 154 with value: 0.7887531237064406.\u001b[0m\n",
      "\u001b[32m[I 2022-12-18 23:59:01,801]\u001b[0m Trial 158 finished with value: 0.7873620401977742 and parameters: {'learning_rate': 0.11056528460719889, 'max_depth': 17, 'n_estimators': 192, 'min_child_weight': 1, 'min_split_loss': 0.01306494067525164, 'max_delta_step': 10, 'reg_lambda': 0.19135075578400873, 'reg_alpha': 0.6030307985283406}. Best is trial 154 with value: 0.7887531237064406.\u001b[0m\n",
      "\u001b[32m[I 2022-12-18 23:59:09,416]\u001b[0m Trial 159 finished with value: 0.7859973377805659 and parameters: {'learning_rate': 0.11091298745847818, 'max_depth': 17, 'n_estimators': 192, 'min_child_weight': 1, 'min_split_loss': 0.025978286315442373, 'max_delta_step': 9, 'reg_lambda': 0.18876857690113746, 'reg_alpha': 0.5241361640870382}. Best is trial 154 with value: 0.7887531237064406.\u001b[0m\n",
      "\u001b[32m[I 2022-12-18 23:59:14,290]\u001b[0m Trial 160 finished with value: 0.7866691194505764 and parameters: {'learning_rate': 0.13307664450046475, 'max_depth': 17, 'n_estimators': 188, 'min_child_weight': 4, 'min_split_loss': 0.06282223037558526, 'max_delta_step': 10, 'reg_lambda': 0.39379937807743975, 'reg_alpha': 0.43311420262965034}. Best is trial 154 with value: 0.7887531237064406.\u001b[0m\n",
      "\u001b[32m[I 2022-12-18 23:59:21,731]\u001b[0m Trial 161 finished with value: 0.7873702263191743 and parameters: {'learning_rate': 0.09748697496000192, 'max_depth': 18, 'n_estimators': 200, 'min_child_weight': 2, 'min_split_loss': 0.012623779589774287, 'max_delta_step': 10, 'reg_lambda': 0.22923461252310057, 'reg_alpha': 0.5747553022571371}. Best is trial 154 with value: 0.7887531237064406.\u001b[0m\n",
      "\u001b[32m[I 2022-12-18 23:59:28,558]\u001b[0m Trial 162 finished with value: 0.786269489628528 and parameters: {'learning_rate': 0.10001417174035367, 'max_depth': 17, 'n_estimators': 193, 'min_child_weight': 1, 'min_split_loss': 0.03661199152768579, 'max_delta_step': 10, 'reg_lambda': 0.2366172028508074, 'reg_alpha': 0.5951531231989837}. Best is trial 154 with value: 0.7887531237064406.\u001b[0m\n",
      "\u001b[32m[I 2022-12-18 23:59:35,529]\u001b[0m Trial 163 finished with value: 0.7876244447848062 and parameters: {'learning_rate': 0.08974493984548011, 'max_depth': 18, 'n_estimators': 195, 'min_child_weight': 2, 'min_split_loss': 0.10754788167486774, 'max_delta_step': 10, 'reg_lambda': 0.22759683170491796, 'reg_alpha': 0.5671724681102035}. Best is trial 154 with value: 0.7887531237064406.\u001b[0m\n",
      "\u001b[32m[I 2022-12-18 23:59:42,267]\u001b[0m Trial 164 finished with value: 0.7870572936586858 and parameters: {'learning_rate': 0.11265327223196242, 'max_depth': 17, 'n_estimators': 200, 'min_child_weight': 1, 'min_split_loss': 0.11721519068849781, 'max_delta_step': 10, 'reg_lambda': 0.2185657819541438, 'reg_alpha': 0.5673359977537726}. Best is trial 154 with value: 0.7887531237064406.\u001b[0m\n",
      "\u001b[32m[I 2022-12-18 23:59:47,443]\u001b[0m Trial 165 finished with value: 0.7869786243645496 and parameters: {'learning_rate': 0.08858898847546506, 'max_depth': 16, 'n_estimators': 196, 'min_child_weight': 2, 'min_split_loss': 0.011280170146862112, 'max_delta_step': 10, 'reg_lambda': 0.22053003430351514, 'reg_alpha': 0.5775851963010648}. Best is trial 154 with value: 0.7887531237064406.\u001b[0m\n",
      "\u001b[32m[I 2022-12-18 23:59:52,238]\u001b[0m Trial 166 finished with value: 0.7849791717716246 and parameters: {'learning_rate': 0.1479235487420985, 'max_depth': 18, 'n_estimators': 190, 'min_child_weight': 2, 'min_split_loss': 0.16966344533944228, 'max_delta_step': 9, 'reg_lambda': 0.18366451801546835, 'reg_alpha': 0.6029092560898904}. Best is trial 154 with value: 0.7887531237064406.\u001b[0m\n",
      "\u001b[32m[I 2022-12-18 23:59:59,387]\u001b[0m Trial 167 finished with value: 0.7859147585233809 and parameters: {'learning_rate': 0.12470278892268008, 'max_depth': 18, 'n_estimators': 187, 'min_child_weight': 2, 'min_split_loss': 0.07543492372796998, 'max_delta_step': 10, 'reg_lambda': 0.19735096154696363, 'reg_alpha': 0.5195263533727941}. Best is trial 154 with value: 0.7887531237064406.\u001b[0m\n",
      "\u001b[32m[I 2022-12-19 00:00:04,744]\u001b[0m Trial 168 finished with value: 0.7867510690802078 and parameters: {'learning_rate': 0.0975049890073304, 'max_depth': 17, 'n_estimators': 195, 'min_child_weight': 3, 'min_split_loss': 0.09973398912050233, 'max_delta_step': 10, 'reg_lambda': 0.23401416499388455, 'reg_alpha': 0.4971092059143003}. Best is trial 154 with value: 0.7887531237064406.\u001b[0m\n",
      "\u001b[32m[I 2022-12-19 00:00:11,004]\u001b[0m Trial 169 finished with value: 0.782688681414708 and parameters: {'learning_rate': 0.029504157360255398, 'max_depth': 18, 'n_estimators': 200, 'min_child_weight': 2, 'min_split_loss': 0.046301829221153834, 'max_delta_step': 10, 'reg_lambda': 0.29234312844320315, 'reg_alpha': 0.6337587595435026}. Best is trial 154 with value: 0.7887531237064406.\u001b[0m\n",
      "\u001b[32m[I 2022-12-19 00:00:13,452]\u001b[0m Trial 170 finished with value: 0.7675007287176105 and parameters: {'learning_rate': 0.8481385772924817, 'max_depth': 16, 'n_estimators': 194, 'min_child_weight': 4, 'min_split_loss': 0.16335037644946096, 'max_delta_step': 9, 'reg_lambda': 0.4597697217854302, 'reg_alpha': 0.5551045068401849}. Best is trial 154 with value: 0.7887531237064406.\u001b[0m\n",
      "\u001b[32m[I 2022-12-19 00:00:19,056]\u001b[0m Trial 171 finished with value: 0.7871064697673705 and parameters: {'learning_rate': 0.08078590116281525, 'max_depth': 18, 'n_estimators': 192, 'min_child_weight': 4, 'min_split_loss': 0.13412991763752344, 'max_delta_step': 10, 'reg_lambda': 0.3566137309897746, 'reg_alpha': 0.474137897470857}. Best is trial 154 with value: 0.7887531237064406.\u001b[0m\n",
      "\u001b[32m[I 2022-12-19 00:00:20,784]\u001b[0m Trial 172 finished with value: 0.7845256763546123 and parameters: {'learning_rate': 0.08586850172955936, 'max_depth': 11, 'n_estimators': 190, 'min_child_weight': 4, 'min_split_loss': 0.13248760323917524, 'max_delta_step': 10, 'reg_lambda': 0.3169808861514809, 'reg_alpha': 0.5343573762778759}. Best is trial 154 with value: 0.7887531237064406.\u001b[0m\n",
      "\u001b[32m[I 2022-12-19 00:00:25,485]\u001b[0m Trial 173 finished with value: 0.7880245022970904 and parameters: {'learning_rate': 0.12184250371027552, 'max_depth': 18, 'n_estimators': 185, 'min_child_weight': 4, 'min_split_loss': 0.10488414712198565, 'max_delta_step': 10, 'reg_lambda': 0.34395357670170423, 'reg_alpha': 0.5639728967022148}. Best is trial 154 with value: 0.7887531237064406.\u001b[0m\n",
      "\u001b[32m[I 2022-12-19 00:00:30,091]\u001b[0m Trial 174 finished with value: 0.7864624808575803 and parameters: {'learning_rate': 0.12452531270741947, 'max_depth': 17, 'n_estimators': 180, 'min_child_weight': 4, 'min_split_loss': 0.10310483970884668, 'max_delta_step': 10, 'reg_lambda': 0.387069851591686, 'reg_alpha': 0.5826098838016848}. Best is trial 154 with value: 0.7887531237064406.\u001b[0m\n",
      "\u001b[32m[I 2022-12-19 00:00:36,047]\u001b[0m Trial 175 finished with value: 0.7876800490346307 and parameters: {'learning_rate': 0.10345233912751373, 'max_depth': 18, 'n_estimators': 186, 'min_child_weight': 3, 'min_split_loss': 0.06900884640017182, 'max_delta_step': 10, 'reg_lambda': 0.3393803189560403, 'reg_alpha': 0.5639356976193887}. Best is trial 154 with value: 0.7887531237064406.\u001b[0m\n",
      "\u001b[32m[I 2022-12-19 00:00:42,052]\u001b[0m Trial 176 finished with value: 0.7859132510943097 and parameters: {'learning_rate': 0.14869469663219098, 'max_depth': 18, 'n_estimators': 186, 'min_child_weight': 3, 'min_split_loss': 0.044983378898035886, 'max_delta_step': 10, 'reg_lambda': 0.3432370942460518, 'reg_alpha': 0.564697199432692}. Best is trial 154 with value: 0.7887531237064406.\u001b[0m\n",
      "\u001b[32m[I 2022-12-19 00:00:48,113]\u001b[0m Trial 177 finished with value: 0.785648686707892 and parameters: {'learning_rate': 0.16905705045645283, 'max_depth': 17, 'n_estimators': 184, 'min_child_weight': 2, 'min_split_loss': 0.07537838201690206, 'max_delta_step': 10, 'reg_lambda': 0.4077909780289597, 'reg_alpha': 0.6040882993059151}. Best is trial 154 with value: 0.7887531237064406.\u001b[0m\n",
      "\u001b[32m[I 2022-12-19 00:00:54,176]\u001b[0m Trial 178 finished with value: 0.764206981016534 and parameters: {'learning_rate': 0.9844977519218729, 'max_depth': 18, 'n_estimators': 196, 'min_child_weight': 3, 'min_split_loss': 0.012198652465372703, 'max_delta_step': 10, 'reg_lambda': 0.3455661649397422, 'reg_alpha': 0.5846871435038931}. Best is trial 154 with value: 0.7887531237064406.\u001b[0m\n",
      "\u001b[32m[I 2022-12-19 00:01:00,211]\u001b[0m Trial 179 finished with value: 0.7860788009746679 and parameters: {'learning_rate': 0.10568134395697576, 'max_depth': 18, 'n_estimators': 188, 'min_child_weight': 1, 'min_split_loss': 0.15596144895455968, 'max_delta_step': 10, 'reg_lambda': 0.29400704592649274, 'reg_alpha': 0.5198618845289962}. Best is trial 154 with value: 0.7887531237064406.\u001b[0m\n",
      "\u001b[32m[I 2022-12-19 00:01:06,486]\u001b[0m Trial 180 finished with value: 0.7868661475259059 and parameters: {'learning_rate': 0.13183727534885722, 'max_depth': 17, 'n_estimators': 197, 'min_child_weight': 2, 'min_split_loss': 0.06923627249194403, 'max_delta_step': 9, 'reg_lambda': 0.4913392213652231, 'reg_alpha': 0.5640587065659903}. Best is trial 154 with value: 0.7887531237064406.\u001b[0m\n",
      "\u001b[32m[I 2022-12-19 00:01:12,099]\u001b[0m Trial 181 finished with value: 0.7877989367732448 and parameters: {'learning_rate': 0.07171630252035932, 'max_depth': 18, 'n_estimators': 194, 'min_child_weight': 4, 'min_split_loss': 0.17542098969822773, 'max_delta_step': 10, 'reg_lambda': 0.2396862530243408, 'reg_alpha': 0.5359878776021986}. Best is trial 154 with value: 0.7887531237064406.\u001b[0m\n",
      "\u001b[32m[I 2022-12-19 00:01:17,976]\u001b[0m Trial 182 finished with value: 0.7873439056155672 and parameters: {'learning_rate': 0.09827707666339924, 'max_depth': 18, 'n_estimators': 200, 'min_child_weight': 4, 'min_split_loss': 0.04487746083320255, 'max_delta_step': 10, 'reg_lambda': 0.23101685821828946, 'reg_alpha': 0.49503969465349307}. Best is trial 154 with value: 0.7887531237064406.\u001b[0m\n",
      "\u001b[32m[I 2022-12-19 00:01:23,098]\u001b[0m Trial 183 finished with value: 0.7760549137376276 and parameters: {'learning_rate': 0.41635321000811426, 'max_depth': 17, 'n_estimators': 195, 'min_child_weight': 4, 'min_split_loss': 0.0318475870437051, 'max_delta_step': 10, 'reg_lambda': 0.18784220585267622, 'reg_alpha': 0.48676645755406783}. Best is trial 154 with value: 0.7887531237064406.\u001b[0m\n",
      "\u001b[32m[I 2022-12-19 00:01:28,592]\u001b[0m Trial 184 finished with value: 0.7887112351110633 and parameters: {'learning_rate': 0.0880736551056384, 'max_depth': 18, 'n_estimators': 190, 'min_child_weight': 4, 'min_split_loss': 0.09393638350923517, 'max_delta_step': 10, 'reg_lambda': 0.23650075873763532, 'reg_alpha': 0.5446183786883243}. Best is trial 154 with value: 0.7887531237064406.\u001b[0m\n",
      "\u001b[32m[I 2022-12-19 00:01:33,629]\u001b[0m Trial 185 finished with value: 0.7846595004063607 and parameters: {'learning_rate': 0.041074871535686, 'max_depth': 18, 'n_estimators': 182, 'min_child_weight': 4, 'min_split_loss': 0.09315900687241127, 'max_delta_step': 10, 'reg_lambda': 0.2025699624179936, 'reg_alpha': 0.5404642309504435}. Best is trial 154 with value: 0.7887531237064406.\u001b[0m\n",
      "\u001b[32m[I 2022-12-19 00:01:37,620]\u001b[0m Trial 186 finished with value: 0.7885714285714285 and parameters: {'learning_rate': 0.08282344843146236, 'max_depth': 16, 'n_estimators': 189, 'min_child_weight': 4, 'min_split_loss': 0.11420506623899046, 'max_delta_step': 10, 'reg_lambda': 0.2567085266361884, 'reg_alpha': 0.5122321813036874}. Best is trial 154 with value: 0.7887531237064406.\u001b[0m\n",
      "\u001b[32m[I 2022-12-19 00:01:40,344]\u001b[0m Trial 187 finished with value: 0.7736850176353319 and parameters: {'learning_rate': 0.5224612311673261, 'max_depth': 18, 'n_estimators': 185, 'min_child_weight': 4, 'min_split_loss': 0.1275567796570749, 'max_delta_step': 10, 'reg_lambda': 0.2539055269876873, 'reg_alpha': 0.5242122784462377}. Best is trial 154 with value: 0.7887531237064406.\u001b[0m\n",
      "\u001b[32m[I 2022-12-19 00:01:45,324]\u001b[0m Trial 188 finished with value: 0.7872363240858469 and parameters: {'learning_rate': 0.0757547970357572, 'max_depth': 18, 'n_estimators': 179, 'min_child_weight': 4, 'min_split_loss': 0.15280919137438098, 'max_delta_step': 10, 'reg_lambda': 0.27940000790457353, 'reg_alpha': 0.5079582452932633}. Best is trial 154 with value: 0.7887531237064406.\u001b[0m\n",
      "\u001b[32m[I 2022-12-19 00:01:48,533]\u001b[0m Trial 189 finished with value: 0.7818448919630288 and parameters: {'learning_rate': 0.04015477945201637, 'max_depth': 16, 'n_estimators': 189, 'min_child_weight': 3, 'min_split_loss': 0.10894283486562367, 'max_delta_step': 9, 'reg_lambda': 0.3193856495532279, 'reg_alpha': 0.5479582710598713}. Best is trial 154 with value: 0.7887531237064406.\u001b[0m\n",
      "\u001b[32m[I 2022-12-19 00:01:53,170]\u001b[0m Trial 190 finished with value: 0.7863053657787672 and parameters: {'learning_rate': 0.07294623465661883, 'max_depth': 17, 'n_estimators': 190, 'min_child_weight': 4, 'min_split_loss': 0.08855218822094917, 'max_delta_step': 10, 'reg_lambda': 0.3865910901472415, 'reg_alpha': 0.5590931299978327}. Best is trial 154 with value: 0.7887531237064406.\u001b[0m\n",
      "\u001b[32m[I 2022-12-19 00:01:57,198]\u001b[0m Trial 191 finished with value: 0.7870862906810969 and parameters: {'learning_rate': 0.09630956053578808, 'max_depth': 17, 'n_estimators': 193, 'min_child_weight': 4, 'min_split_loss': 0.1680575065863154, 'max_delta_step': 10, 'reg_lambda': 0.2193699435092787, 'reg_alpha': 0.5707274532630427}. Best is trial 154 with value: 0.7887531237064406.\u001b[0m\n",
      "\u001b[32m[I 2022-12-19 00:02:01,626]\u001b[0m Trial 192 finished with value: 0.7867192414502049 and parameters: {'learning_rate': 0.06740595686780063, 'max_depth': 17, 'n_estimators': 185, 'min_child_weight': 4, 'min_split_loss': 0.06326431577865203, 'max_delta_step': 10, 'reg_lambda': 0.23062611977973432, 'reg_alpha': 0.5324674896312009}. Best is trial 154 with value: 0.7887531237064406.\u001b[0m\n",
      "\u001b[32m[I 2022-12-19 00:02:06,072]\u001b[0m Trial 193 finished with value: 0.7865437420423692 and parameters: {'learning_rate': 0.11970560461885024, 'max_depth': 18, 'n_estimators': 191, 'min_child_weight': 3, 'min_split_loss': 0.17941593397384525, 'max_delta_step': 10, 'reg_lambda': 0.4337488381904418, 'reg_alpha': 0.5091476204112236}. Best is trial 154 with value: 0.7887531237064406.\u001b[0m\n",
      "\u001b[32m[I 2022-12-19 00:02:11,702]\u001b[0m Trial 194 finished with value: 0.7884350197652682 and parameters: {'learning_rate': 0.08808806005247083, 'max_depth': 18, 'n_estimators': 195, 'min_child_weight': 4, 'min_split_loss': 0.1422541022859924, 'max_delta_step': 10, 'reg_lambda': 0.2580086563873424, 'reg_alpha': 0.5546737332103154}. Best is trial 154 with value: 0.7887531237064406.\u001b[0m\n",
      "\u001b[32m[I 2022-12-19 00:02:17,282]\u001b[0m Trial 195 finished with value: 0.7881891212362789 and parameters: {'learning_rate': 0.07966375108374416, 'max_depth': 18, 'n_estimators': 195, 'min_child_weight': 4, 'min_split_loss': 0.14499382590371016, 'max_delta_step': 10, 'reg_lambda': 0.24781403867352242, 'reg_alpha': 0.5463091286713648}. Best is trial 154 with value: 0.7887531237064406.\u001b[0m\n",
      "\u001b[32m[I 2022-12-19 00:02:22,738]\u001b[0m Trial 196 finished with value: 0.7874829431335572 and parameters: {'learning_rate': 0.0531389790806968, 'max_depth': 18, 'n_estimators': 196, 'min_child_weight': 4, 'min_split_loss': 0.1457707377716443, 'max_delta_step': 10, 'reg_lambda': 0.2585438381739609, 'reg_alpha': 0.541397184923062}. Best is trial 154 with value: 0.7887531237064406.\u001b[0m\n",
      "\u001b[32m[I 2022-12-19 00:02:23,670]\u001b[0m Trial 197 finished with value: 0.763293938461989 and parameters: {'learning_rate': 0.0308381882360172, 'max_depth': 9, 'n_estimators': 187, 'min_child_weight': 4, 'min_split_loss': 0.12099299312188601, 'max_delta_step': 10, 'reg_lambda': 0.3005456893394496, 'reg_alpha': 0.5143379704418696}. Best is trial 154 with value: 0.7887531237064406.\u001b[0m\n",
      "\u001b[32m[I 2022-12-19 00:02:29,211]\u001b[0m Trial 198 finished with value: 0.7883442165609001 and parameters: {'learning_rate': 0.08096336199649647, 'max_depth': 18, 'n_estimators': 195, 'min_child_weight': 4, 'min_split_loss': 0.10472043756984166, 'max_delta_step': 10, 'reg_lambda': 0.2558117961439076, 'reg_alpha': 0.5569833730313689}. Best is trial 154 with value: 0.7887531237064406.\u001b[0m\n",
      "\u001b[32m[I 2022-12-19 00:02:33,392]\u001b[0m Trial 199 finished with value: 0.7873446050554133 and parameters: {'learning_rate': 0.08338815980934924, 'max_depth': 16, 'n_estimators': 195, 'min_child_weight': 4, 'min_split_loss': 0.10100563771222995, 'max_delta_step': 10, 'reg_lambda': 0.2797948888364914, 'reg_alpha': 0.5555246582968195}. Best is trial 154 with value: 0.7887531237064406.\u001b[0m\n"
     ]
    }
   ],
   "source": [
    "import optuna\n",
    "from sklearn.metrics import f1_score\n",
    "\n",
    "def objective(trial):\n",
    "    learning_rate = trial.suggest_uniform('learning_rate', 0.01, 1)\n",
    "    max_depth = trial.suggest_int('max_depth', 1, 20)\n",
    "    n_estimators = trial.suggest_int('n_estimators', 50, 200)\n",
    "    min_child_weight = trial.suggest_int('min_child_weight', 1, 10)\n",
    "    min_split_loss = trial.suggest_uniform('min_split_loss', 0.01, 1)\n",
    "    max_delta_step = trial.suggest_int('max_delta_step', 1, 10)\n",
    "    reg_lambda = trial.suggest_uniform('reg_lambda', 0.01, 1)\n",
    "    reg_alpha = trial.suggest_uniform('reg_alpha', 0.01, 1)\n",
    "    xgb = XGBClassifier(learning_rate=learning_rate, max_depth=max_depth, n_estimators=n_estimators, min_child_weight=min_child_weight, min_split_loss=min_split_loss, max_delta_step=max_delta_step, reg_lambda=reg_lambda, reg_alpha=reg_alpha, tree_method='gpu_hist')\n",
    "    xgb.fit(X_train, y_train)\n",
    "    pred = xgb.predict(X_test)\n",
    "    return f1_score(y_test, pred)\n",
    "\n",
    "study = optuna.create_study(direction='maximize')\n",
    "study.optimize(objective, n_trials=200)"
   ]
  },
  {
   "cell_type": "code",
   "execution_count": 33,
   "metadata": {},
   "outputs": [
    {
     "name": "stdout",
     "output_type": "stream",
     "text": [
      "XGBoost Classifier (Optuna) - best score: 0.7887531237064406\n",
      "XGBoost Classifier (Optuna) - best params: {'learning_rate': 0.08907221851001633, 'max_depth': 17, 'n_estimators': 200, 'min_child_weight': 4, 'min_split_loss': 0.06622793142425584, 'max_delta_step': 10, 'reg_lambda': 0.22359322421155797, 'reg_alpha': 0.570744063994978}\n"
     ]
    }
   ],
   "source": [
    "print(f\"XGBoost Classifier (Optuna) - best score: {study.best_value}\")\n",
    "print(f\"XGBoost Classifier (Optuna) - best params: {study.best_params}\")"
   ]
  },
  {
   "attachments": {},
   "cell_type": "markdown",
   "metadata": {},
   "source": [
    "#### Genetyczna optymalizacja cech - PySwarm"
   ]
  },
  {
   "cell_type": "code",
   "execution_count": 38,
   "metadata": {},
   "outputs": [],
   "source": [
    "import pyswarm as ps\n",
    "from sklearn.metrics import f1_score\n",
    "\n",
    "def f(x):\n",
    "        learning_rate = x[0]\n",
    "        max_depth = int(x[1])\n",
    "        n_estimators = int(x[2])\n",
    "        min_child_weight = int(x[3])\n",
    "        min_split_loss = x[4]\n",
    "        max_delta_step = int(x[5])\n",
    "        reg_lambda = x[6]\n",
    "        reg_alpha = x[7]\n",
    "\n",
    "        xgb = XGBClassifier(learning_rate=learning_rate, max_depth=max_depth, n_estimators=n_estimators, min_child_weight=min_child_weight, min_split_loss=min_split_loss, max_delta_step=max_delta_step, reg_lambda=reg_lambda, reg_alpha=reg_alpha, tree_method='gpu_hist')\n",
    "        xgb.fit(X_train, y_train)\n",
    "        pred = xgb.predict(X_test)\n",
    "        return -f1_score(y_test, pred)\n",
    "\n",
    "def find_best_parameters():\n",
    "    lb = [0.01, 1, 50, 1, 0.01, 1, 0.01, 0.01]\n",
    "    ub = [1, 20, 200, 10, 1, 10, 1, 1]\n",
    "    xopt, fopt = ps.pso(f, lb, ub, swarmsize=40, maxiter=40, debug=True)\n",
    "    print(xopt, fopt)\n",
    "    return xopt, fopt"
   ]
  },
  {
   "cell_type": "code",
   "execution_count": 39,
   "metadata": {},
   "outputs": [
    {
     "name": "stdout",
     "output_type": "stream",
     "text": [
      "No constraints given.\n",
      "Best after iteration 1: [  0.2162357   12.61702212 129.56103857   4.54250395   0.17402518\n",
      "   7.33417724   0.2157176    0.94353487] -0.7866368756121449\n",
      "Best after iteration 2: [  0.2162357   12.61702212 129.56103857   4.54250395   0.17402518\n",
      "   7.33417724   0.2157176    0.94353487] -0.7866368756121449\n",
      "Best after iteration 3: [  0.2162357   12.61702212 129.56103857   4.54250395   0.17402518\n",
      "   7.33417724   0.2157176    0.94353487] -0.7866368756121449\n",
      "New best for swarm at iteration 4: [  0.18308861  14.13771108 112.65086083   4.4961677    0.16067666\n",
      "   6.42302895   0.22924376   0.92235321] -0.7871727267153105\n",
      "New best for swarm at iteration 4: [2.11707382e-01 1.38455919e+01 1.16345177e+02 2.30893103e+00\n",
      " 7.89834327e-02 6.86406151e+00 3.26317192e-01 9.18302076e-01] -0.7879825178031113\n",
      "Best after iteration 4: [2.11707382e-01 1.38455919e+01 1.16345177e+02 2.30893103e+00\n",
      " 7.89834327e-02 6.86406151e+00 3.26317192e-01 9.18302076e-01] -0.7879825178031113\n",
      "Best after iteration 5: [2.11707382e-01 1.38455919e+01 1.16345177e+02 2.30893103e+00\n",
      " 7.89834327e-02 6.86406151e+00 3.26317192e-01 9.18302076e-01] -0.7879825178031113\n",
      "Best after iteration 6: [2.11707382e-01 1.38455919e+01 1.16345177e+02 2.30893103e+00\n",
      " 7.89834327e-02 6.86406151e+00 3.26317192e-01 9.18302076e-01] -0.7879825178031113\n",
      "Best after iteration 7: [2.11707382e-01 1.38455919e+01 1.16345177e+02 2.30893103e+00\n",
      " 7.89834327e-02 6.86406151e+00 3.26317192e-01 9.18302076e-01] -0.7879825178031113\n",
      "Best after iteration 8: [2.11707382e-01 1.38455919e+01 1.16345177e+02 2.30893103e+00\n",
      " 7.89834327e-02 6.86406151e+00 3.26317192e-01 9.18302076e-01] -0.7879825178031113\n",
      "Best after iteration 9: [2.11707382e-01 1.38455919e+01 1.16345177e+02 2.30893103e+00\n",
      " 7.89834327e-02 6.86406151e+00 3.26317192e-01 9.18302076e-01] -0.7879825178031113\n",
      "New best for swarm at iteration 10: [1.73114533e-01 1.43796775e+01 1.15479238e+02 2.38865256e+00\n",
      " 5.96471732e-02 6.73282618e+00 2.97209695e-01 9.20233963e-01] -0.787990083555229\n",
      "Best after iteration 10: [1.73114533e-01 1.43796775e+01 1.15479238e+02 2.38865256e+00\n",
      " 5.96471732e-02 6.73282618e+00 2.97209695e-01 9.20233963e-01] -0.787990083555229\n",
      "Best after iteration 11: [1.73114533e-01 1.43796775e+01 1.15479238e+02 2.38865256e+00\n",
      " 5.96471732e-02 6.73282618e+00 2.97209695e-01 9.20233963e-01] -0.787990083555229\n",
      "Best after iteration 12: [1.73114533e-01 1.43796775e+01 1.15479238e+02 2.38865256e+00\n",
      " 5.96471732e-02 6.73282618e+00 2.97209695e-01 9.20233963e-01] -0.787990083555229\n",
      "Best after iteration 13: [1.73114533e-01 1.43796775e+01 1.15479238e+02 2.38865256e+00\n",
      " 5.96471732e-02 6.73282618e+00 2.97209695e-01 9.20233963e-01] -0.787990083555229\n",
      "New best for swarm at iteration 14: [1.76002124e-01 1.50823936e+01 1.18293363e+02 4.22013128e+00\n",
      " 7.62601102e-02 6.50552707e+00 4.10232476e-01 9.00392465e-01] -0.788059427732942\n",
      "Best after iteration 14: [1.76002124e-01 1.50823936e+01 1.18293363e+02 4.22013128e+00\n",
      " 7.62601102e-02 6.50552707e+00 4.10232476e-01 9.00392465e-01] -0.788059427732942\n",
      "Best after iteration 15: [1.76002124e-01 1.50823936e+01 1.18293363e+02 4.22013128e+00\n",
      " 7.62601102e-02 6.50552707e+00 4.10232476e-01 9.00392465e-01] -0.788059427732942\n",
      "Best after iteration 16: [1.76002124e-01 1.50823936e+01 1.18293363e+02 4.22013128e+00\n",
      " 7.62601102e-02 6.50552707e+00 4.10232476e-01 9.00392465e-01] -0.788059427732942\n",
      "New best for swarm at iteration 17: [1.77107997e-01 1.47200108e+01 1.17473833e+02 4.29706231e+00\n",
      " 9.59290522e-02 6.56474270e+00 3.07248934e-01 9.03282021e-01] -0.7881112469437652\n",
      "Best after iteration 17: [1.77107997e-01 1.47200108e+01 1.17473833e+02 4.29706231e+00\n",
      " 9.59290522e-02 6.56474270e+00 3.07248934e-01 9.03282021e-01] -0.7881112469437652\n",
      "Best after iteration 18: [1.77107997e-01 1.47200108e+01 1.17473833e+02 4.29706231e+00\n",
      " 9.59290522e-02 6.56474270e+00 3.07248934e-01 9.03282021e-01] -0.7881112469437652\n",
      "Best after iteration 19: [1.77107997e-01 1.47200108e+01 1.17473833e+02 4.29706231e+00\n",
      " 9.59290522e-02 6.56474270e+00 3.07248934e-01 9.03282021e-01] -0.7881112469437652\n",
      "Best after iteration 20: [1.77107997e-01 1.47200108e+01 1.17473833e+02 4.29706231e+00\n",
      " 9.59290522e-02 6.56474270e+00 3.07248934e-01 9.03282021e-01] -0.7881112469437652\n",
      "Best after iteration 21: [1.77107997e-01 1.47200108e+01 1.17473833e+02 4.29706231e+00\n",
      " 9.59290522e-02 6.56474270e+00 3.07248934e-01 9.03282021e-01] -0.7881112469437652\n",
      "New best for swarm at iteration 22: [1.88584959e-01 1.43898421e+01 1.23056125e+02 3.85622728e+00\n",
      " 1.09305372e-01 6.70945058e+00 3.15288830e-01 9.03064695e-01] -0.7886884267548088\n",
      "Best after iteration 22: [1.88584959e-01 1.43898421e+01 1.23056125e+02 3.85622728e+00\n",
      " 1.09305372e-01 6.70945058e+00 3.15288830e-01 9.03064695e-01] -0.7886884267548088\n",
      "Best after iteration 23: [1.88584959e-01 1.43898421e+01 1.23056125e+02 3.85622728e+00\n",
      " 1.09305372e-01 6.70945058e+00 3.15288830e-01 9.03064695e-01] -0.7886884267548088\n",
      "Best after iteration 24: [1.88584959e-01 1.43898421e+01 1.23056125e+02 3.85622728e+00\n",
      " 1.09305372e-01 6.70945058e+00 3.15288830e-01 9.03064695e-01] -0.7886884267548088\n",
      "Best after iteration 25: [1.88584959e-01 1.43898421e+01 1.23056125e+02 3.85622728e+00\n",
      " 1.09305372e-01 6.70945058e+00 3.15288830e-01 9.03064695e-01] -0.7886884267548088\n",
      "Best after iteration 26: [1.88584959e-01 1.43898421e+01 1.23056125e+02 3.85622728e+00\n",
      " 1.09305372e-01 6.70945058e+00 3.15288830e-01 9.03064695e-01] -0.7886884267548088\n",
      "Best after iteration 27: [1.88584959e-01 1.43898421e+01 1.23056125e+02 3.85622728e+00\n",
      " 1.09305372e-01 6.70945058e+00 3.15288830e-01 9.03064695e-01] -0.7886884267548088\n",
      "Best after iteration 28: [1.88584959e-01 1.43898421e+01 1.23056125e+02 3.85622728e+00\n",
      " 1.09305372e-01 6.70945058e+00 3.15288830e-01 9.03064695e-01] -0.7886884267548088\n",
      "Best after iteration 29: [1.88584959e-01 1.43898421e+01 1.23056125e+02 3.85622728e+00\n",
      " 1.09305372e-01 6.70945058e+00 3.15288830e-01 9.03064695e-01] -0.7886884267548088\n",
      "Best after iteration 30: [1.88584959e-01 1.43898421e+01 1.23056125e+02 3.85622728e+00\n",
      " 1.09305372e-01 6.70945058e+00 3.15288830e-01 9.03064695e-01] -0.7886884267548088\n",
      "Best after iteration 31: [1.88584959e-01 1.43898421e+01 1.23056125e+02 3.85622728e+00\n",
      " 1.09305372e-01 6.70945058e+00 3.15288830e-01 9.03064695e-01] -0.7886884267548088\n",
      "Best after iteration 32: [1.88584959e-01 1.43898421e+01 1.23056125e+02 3.85622728e+00\n",
      " 1.09305372e-01 6.70945058e+00 3.15288830e-01 9.03064695e-01] -0.7886884267548088\n",
      "Best after iteration 33: [1.88584959e-01 1.43898421e+01 1.23056125e+02 3.85622728e+00\n",
      " 1.09305372e-01 6.70945058e+00 3.15288830e-01 9.03064695e-01] -0.7886884267548088\n",
      "Best after iteration 34: [1.88584959e-01 1.43898421e+01 1.23056125e+02 3.85622728e+00\n",
      " 1.09305372e-01 6.70945058e+00 3.15288830e-01 9.03064695e-01] -0.7886884267548088\n",
      "Best after iteration 35: [1.88584959e-01 1.43898421e+01 1.23056125e+02 3.85622728e+00\n",
      " 1.09305372e-01 6.70945058e+00 3.15288830e-01 9.03064695e-01] -0.7886884267548088\n",
      "Best after iteration 36: [1.88584959e-01 1.43898421e+01 1.23056125e+02 3.85622728e+00\n",
      " 1.09305372e-01 6.70945058e+00 3.15288830e-01 9.03064695e-01] -0.7886884267548088\n",
      "Best after iteration 37: [1.88584959e-01 1.43898421e+01 1.23056125e+02 3.85622728e+00\n",
      " 1.09305372e-01 6.70945058e+00 3.15288830e-01 9.03064695e-01] -0.7886884267548088\n"
     ]
    }
   ],
   "source": [
    "xopt, fopt = find_best_parameters()"
   ]
  },
  {
   "attachments": {},
   "cell_type": "markdown",
   "metadata": {},
   "source": [
    "Algorytm uruchomiony ponownie jako samodzielny skrypt pythona, ponieważ w notebooku nie działał poprawnie - zakończył działanie przed osiągnięciem 40 iteracji."
   ]
  },
  {
   "attachments": {},
   "cell_type": "markdown",
   "metadata": {},
   "source": [
    "#### Wynik algorytmu genetycznego PSO - 100 osobników, 100 iteracji (poniżej zapis z działania algorytmu)"
   ]
  },
  {
   "cell_type": "code",
   "execution_count": null,
   "metadata": {},
   "outputs": [],
   "source": [
    "\"\"\"\n",
    "No constraints given.\n",
    "New best for swarm at iteration 1: [1.84859443e-01 1.63735736e+01 1.04235495e+02 1.00000000e+01\n",
    " 1.00000000e-02 5.20033438e+00 1.00000000e-02 7.90345869e-01] -0.7852378835037794\n",
    "New best for swarm at iteration 1: [1.49332201e-01 1.15783302e+01 1.94470675e+02 9.92633489e+00\n",
    " 1.00000000e-02 1.00000000e+00 5.63353895e-01 2.56253254e-01] -0.7854273275796229\n",
    "Best after iteration 1: [1.49332201e-01 1.15783302e+01 1.94470675e+02 9.92633489e+00\n",
    " 1.00000000e-02 1.00000000e+00 5.63353895e-01 2.56253254e-01] -0.7854273275796229\n",
    "New best for swarm at iteration 2: [8.50570070e-02 1.44799437e+01 1.62378816e+02 1.00000000e+00\n",
    " 2.80734681e-01 6.98385300e+00 6.95426453e-01 1.27180564e-01] -0.7860798362333673\n",
    "New best for swarm at iteration 2: [2.16944127e-01 9.10069595e+00 2.00000000e+02 5.84724220e+00\n",
    " 1.00000000e-02 7.60821470e+00 8.33975570e-01 1.52948830e-01] -0.7864606373079915\n",
    "Best after iteration 2: [2.16944127e-01 9.10069595e+00 2.00000000e+02 5.84724220e+00\n",
    " 1.00000000e-02 7.60821470e+00 8.33975570e-01 1.52948830e-01] -0.7864606373079915\n",
    "New best for swarm at iteration 3: [2.13749759e-01 1.68271121e+01 1.27233498e+02 8.75468617e+00\n",
    " 3.94132684e-02 5.69487069e+00 3.31279316e-01 5.79310474e-01] -0.7864878961740251\n",
    "New best for swarm at iteration 3: [1.10459905e-01 1.35781046e+01 1.90660153e+02 8.91799821e+00\n",
    " 1.00000000e-02 1.42753995e+00 5.78186266e-01 1.00000000e-02] -0.7867376928728875\n",
    "New best for swarm at iteration 3: [1.51004387e-01 1.32146792e+01 1.50803238e+02 2.19634517e+00\n",
    " 1.54204199e-02 3.36793015e+00 1.74526794e-01 3.97452162e-01] -0.7883155833027299\n",
    "Best after iteration 3: [1.51004387e-01 1.32146792e+01 1.50803238e+02 2.19634517e+00\n",
    " 1.54204199e-02 3.36793015e+00 1.74526794e-01 3.97452162e-01] -0.7883155833027299\n",
    "Best after iteration 4: [1.51004387e-01 1.32146792e+01 1.50803238e+02 2.19634517e+00\n",
    " 1.54204199e-02 3.36793015e+00 1.74526794e-01 3.97452162e-01] -0.7883155833027299\n",
    "New best for swarm at iteration 5: [1.08942456e-01 1.76729502e+01 1.79654874e+02 4.53804322e+00\n",
    " 1.00000000e-02 2.34149821e+00 3.14756399e-01 1.57854451e-01] -0.7883647269444403\n",
    "Best after iteration 5: [1.08942456e-01 1.76729502e+01 1.79654874e+02 4.53804322e+00\n",
    " 1.00000000e-02 2.34149821e+00 3.14756399e-01 1.57854451e-01] -0.7883647269444403\n",
    "New best for swarm at iteration 6: [1.66904456e-01 1.33011647e+01 1.63904254e+02 6.90789938e+00\n",
    " 1.00000000e-02 3.42004149e+00 4.21109571e-01 3.51472973e-01] -0.7884156416375988\n",
    "Best after iteration 6: [1.66904456e-01 1.33011647e+01 1.63904254e+02 6.90789938e+00\n",
    " 1.00000000e-02 3.42004149e+00 4.21109571e-01 3.51472973e-01] -0.7884156416375988\n",
    "New best for swarm at iteration 7: [1.44807143e-01 1.57496278e+01 1.64648926e+02 4.23729048e+00\n",
    " 1.00000000e-02 3.75036416e+00 3.04687561e-01 3.33604765e-01] -0.788460065268351\n",
    "New best for swarm at iteration 7: [1.19758569e-01 1.59774839e+01 1.69250027e+02 4.08761911e+00\n",
    " 1.00000000e-02 2.95784403e+00 1.18726208e-01 3.12760928e-01] -0.7886680864755542\n",
    "Best after iteration 7: [1.19758569e-01 1.59774839e+01 1.69250027e+02 4.08761911e+00\n",
    " 1.00000000e-02 2.95784403e+00 1.18726208e-01 3.12760928e-01] -0.7886680864755542\n",
    "New best for swarm at iteration 8: [1.29575705e-01 1.52216982e+01 1.70359268e+02 4.81397610e+00\n",
    " 1.00000000e-02 4.34093842e+00 3.07272396e-01 3.40580357e-01] -0.7888482772331737\n",
    "New best for swarm at iteration 8: [1.04240829e-01 1.53918173e+01 1.49529144e+02 4.40746650e+00\n",
    " 1.00000000e-02 3.45165612e+00 3.52907483e-01 3.01550249e-01] -0.788969778539092\n",
    "Best after iteration 8: [1.04240829e-01 1.53918173e+01 1.49529144e+02 4.40746650e+00\n",
    " 1.00000000e-02 3.45165612e+00 3.52907483e-01 3.01550249e-01] -0.788969778539092\n",
    "New best for swarm at iteration 9: [1.01049074e-01 1.67784272e+01 1.69743175e+02 4.65785786e+00\n",
    " 1.00000000e-02 2.49971731e+00 2.13464765e-01 3.05634325e-01] -0.7889958818756602\n",
    "Best after iteration 9: [1.01049074e-01 1.67784272e+01 1.69743175e+02 4.65785786e+00\n",
    " 1.00000000e-02 2.49971731e+00 2.13464765e-01 3.05634325e-01] -0.7889958818756602\n",
    "Best after iteration 10: [1.01049074e-01 1.67784272e+01 1.69743175e+02 4.65785786e+00\n",
    " 1.00000000e-02 2.49971731e+00 2.13464765e-01 3.05634325e-01] -0.7889958818756602\n",
    "New best for swarm at iteration 11: [1.18450624e-01 1.62700988e+01 1.65724104e+02 4.43380273e+00\n",
    " 1.00000000e-02 3.16687283e+00 2.23656374e-01 3.05092542e-01] -0.7890602269421008\n",
    "Best after iteration 11: [1.18450624e-01 1.62700988e+01 1.65724104e+02 4.43380273e+00\n",
    " 1.00000000e-02 3.16687283e+00 2.23656374e-01 3.05092542e-01] -0.7890602269421008\n",
    "New best for swarm at iteration 12: [1.09933205e-01 1.59777653e+01 1.66308893e+02 4.14378709e+00\n",
    " 1.00000000e-02 3.73051784e+00 2.74835539e-01 2.84985098e-01] -0.7892093820809604\n",
    "Best after iteration 12: [1.09933205e-01 1.59777653e+01 1.66308893e+02 4.14378709e+00\n",
    " 1.00000000e-02 3.73051784e+00 2.74835539e-01 2.84985098e-01] -0.7892093820809604\n",
    "New best for swarm at iteration 13: [1.08854344e-01 1.59424278e+01 1.65285414e+02 4.21678051e+00\n",
    " 1.31643863e-02 3.73098097e+00 2.61719354e-01 2.93663223e-01] -0.7892410966863922\n",
    "Best after iteration 13: [1.08854344e-01 1.59424278e+01 1.65285414e+02 4.21678051e+00\n",
    " 1.31643863e-02 3.73098097e+00 2.61719354e-01 2.93663223e-01] -0.7892410966863922\n",
    "New best for swarm at iteration 14: [1.10733858e-01 1.69994203e+01 1.68272182e+02 4.11619656e+00\n",
    " 1.13772997e-02 3.57915242e+00 2.80339017e-01 2.94910187e-01] -0.7894019032440964\n",
    "Best after iteration 14: [1.10733858e-01 1.69994203e+01 1.68272182e+02 4.11619656e+00\n",
    " 1.13772997e-02 3.57915242e+00 2.80339017e-01 2.94910187e-01] -0.7894019032440964\n",
    "New best for swarm at iteration 15: [1.17441394e-01 1.66650390e+01 1.68478444e+02 4.20861847e+00\n",
    " 1.00000000e-02 3.36208502e+00 2.59486505e-01 3.01919416e-01] -0.789488192593954\n",
    "Best after iteration 15: [1.17441394e-01 1.66650390e+01 1.68478444e+02 4.20861847e+00\n",
    " 1.00000000e-02 3.36208502e+00 2.59486505e-01 3.01919416e-01] -0.789488192593954\n",
    "Best after iteration 16: [1.17441394e-01 1.66650390e+01 1.68478444e+02 4.20861847e+00\n",
    " 1.00000000e-02 3.36208502e+00 2.59486505e-01 3.01919416e-01] -0.789488192593954\n",
    "New best for swarm at iteration 17: [1.22929986e-01 1.64234136e+01 1.69494154e+02 4.37547621e+00\n",
    " 2.17964690e-02 3.26767506e+00 2.46344899e-01 3.05963913e-01] -0.7894978848629759\n",
    "Best after iteration 17: [1.22929986e-01 1.64234136e+01 1.69494154e+02 4.37547621e+00\n",
    " 2.17964690e-02 3.26767506e+00 2.46344899e-01 3.05963913e-01] -0.7894978848629759\n",
    "Best after iteration 18: [1.22929986e-01 1.64234136e+01 1.69494154e+02 4.37547621e+00\n",
    " 2.17964690e-02 3.26767506e+00 2.46344899e-01 3.05963913e-01] -0.7894978848629759\n",
    "New best for swarm at iteration 19: [1.19818506e-01 1.63847304e+01 1.68809708e+02 4.33691044e+00\n",
    " 1.67618558e-02 3.34314708e+00 2.63727840e-01 3.04278488e-01] -0.789660772837312\n",
    "Best after iteration 19: [1.19818506e-01 1.63847304e+01 1.68809708e+02 4.33691044e+00\n",
    " 1.67618558e-02 3.34314708e+00 2.63727840e-01 3.04278488e-01] -0.789660772837312\n",
    "Best after iteration 20: [1.19818506e-01 1.63847304e+01 1.68809708e+02 4.33691044e+00\n",
    " 1.67618558e-02 3.34314708e+00 2.63727840e-01 3.04278488e-01] -0.789660772837312\n",
    "Best after iteration 21: [1.19818506e-01 1.63847304e+01 1.68809708e+02 4.33691044e+00\n",
    " 1.67618558e-02 3.34314708e+00 2.63727840e-01 3.04278488e-01] -0.789660772837312\n",
    "Best after iteration 22: [1.19818506e-01 1.63847304e+01 1.68809708e+02 4.33691044e+00\n",
    " 1.67618558e-02 3.34314708e+00 2.63727840e-01 3.04278488e-01] -0.789660772837312\n",
    "Best after iteration 23: [1.19818506e-01 1.63847304e+01 1.68809708e+02 4.33691044e+00\n",
    " 1.67618558e-02 3.34314708e+00 2.63727840e-01 3.04278488e-01] -0.789660772837312\n",
    "Best after iteration 24: [1.19818506e-01 1.63847304e+01 1.68809708e+02 4.33691044e+00\n",
    " 1.67618558e-02 3.34314708e+00 2.63727840e-01 3.04278488e-01] -0.789660772837312\n",
    "Best after iteration 25: [1.19818506e-01 1.63847304e+01 1.68809708e+02 4.33691044e+00\n",
    " 1.67618558e-02 3.34314708e+00 2.63727840e-01 3.04278488e-01] -0.789660772837312\n",
    "Best after iteration 26: [1.19818506e-01 1.63847304e+01 1.68809708e+02 4.33691044e+00\n",
    " 1.67618558e-02 3.34314708e+00 2.63727840e-01 3.04278488e-01] -0.789660772837312\n",
    "Best after iteration 27: [1.19818506e-01 1.63847304e+01 1.68809708e+02 4.33691044e+00\n",
    " 1.67618558e-02 3.34314708e+00 2.63727840e-01 3.04278488e-01] -0.789660772837312\n",
    "Best after iteration 28: [1.19818506e-01 1.63847304e+01 1.68809708e+02 4.33691044e+00\n",
    " 1.67618558e-02 3.34314708e+00 2.63727840e-01 3.04278488e-01] -0.789660772837312\n",
    "Best after iteration 29: [1.19818506e-01 1.63847304e+01 1.68809708e+02 4.33691044e+00\n",
    " 1.67618558e-02 3.34314708e+00 2.63727840e-01 3.04278488e-01] -0.789660772837312\n",
    "Best after iteration 30: [1.19818506e-01 1.63847304e+01 1.68809708e+02 4.33691044e+00\n",
    " 1.67618558e-02 3.34314708e+00 2.63727840e-01 3.04278488e-01] -0.789660772837312\n",
    "Best after iteration 31: [1.19818506e-01 1.63847304e+01 1.68809708e+02 4.33691044e+00\n",
    " 1.67618558e-02 3.34314708e+00 2.63727840e-01 3.04278488e-01] -0.789660772837312\n",
    "Best after iteration 32: [1.19818506e-01 1.63847304e+01 1.68809708e+02 4.33691044e+00\n",
    " 1.67618558e-02 3.34314708e+00 2.63727840e-01 3.04278488e-01] -0.789660772837312\n",
    "Best after iteration 33: [1.19818506e-01 1.63847304e+01 1.68809708e+02 4.33691044e+00\n",
    " 1.67618558e-02 3.34314708e+00 2.63727840e-01 3.04278488e-01] -0.789660772837312\n",
    "Best after iteration 34: [1.19818506e-01 1.63847304e+01 1.68809708e+02 4.33691044e+00\n",
    " 1.67618558e-02 3.34314708e+00 2.63727840e-01 3.04278488e-01] -0.789660772837312\n",
    "Best after iteration 35: [1.19818506e-01 1.63847304e+01 1.68809708e+02 4.33691044e+00\n",
    " 1.67618558e-02 3.34314708e+00 2.63727840e-01 3.04278488e-01] -0.789660772837312\n",
    "Best after iteration 36: [1.19818506e-01 1.63847304e+01 1.68809708e+02 4.33691044e+00\n",
    " 1.67618558e-02 3.34314708e+00 2.63727840e-01 3.04278488e-01] -0.789660772837312\n",
    "Best after iteration 37: [1.19818506e-01 1.63847304e+01 1.68809708e+02 4.33691044e+00\n",
    " 1.67618558e-02 3.34314708e+00 2.63727840e-01 3.04278488e-01] -0.789660772837312\n",
    "Best after iteration 38: [1.19818506e-01 1.63847304e+01 1.68809708e+02 4.33691044e+00\n",
    " 1.67618558e-02 3.34314708e+00 2.63727840e-01 3.04278488e-01] -0.789660772837312\n",
    "Best after iteration 39: [1.19818506e-01 1.63847304e+01 1.68809708e+02 4.33691044e+00\n",
    " 1.67618558e-02 3.34314708e+00 2.63727840e-01 3.04278488e-01] -0.789660772837312\n",
    "Best after iteration 40: [1.19818506e-01 1.63847304e+01 1.68809708e+02 4.33691044e+00\n",
    " 1.67618558e-02 3.34314708e+00 2.63727840e-01 3.04278488e-01] -0.789660772837312\n",
    "Best after iteration 41: [1.19818506e-01 1.63847304e+01 1.68809708e+02 4.33691044e+00\n",
    " 1.67618558e-02 3.34314708e+00 2.63727840e-01 3.04278488e-01] -0.789660772837312\n",
    "Best after iteration 42: [1.19818506e-01 1.63847304e+01 1.68809708e+02 4.33691044e+00\n",
    " 1.67618558e-02 3.34314708e+00 2.63727840e-01 3.04278488e-01] -0.789660772837312\n",
    "Best after iteration 43: [1.19818506e-01 1.63847304e+01 1.68809708e+02 4.33691044e+00\n",
    " 1.67618558e-02 3.34314708e+00 2.63727840e-01 3.04278488e-01] -0.789660772837312\n",
    "Best after iteration 44: [1.19818506e-01 1.63847304e+01 1.68809708e+02 4.33691044e+00\n",
    " 1.67618558e-02 3.34314708e+00 2.63727840e-01 3.04278488e-01] -0.789660772837312\n",
    "Best after iteration 45: [1.19818506e-01 1.63847304e+01 1.68809708e+02 4.33691044e+00\n",
    " 1.67618558e-02 3.34314708e+00 2.63727840e-01 3.04278488e-01] -0.789660772837312\n",
    "Best after iteration 46: [1.19818506e-01 1.63847304e+01 1.68809708e+02 4.33691044e+00\n",
    " 1.67618558e-02 3.34314708e+00 2.63727840e-01 3.04278488e-01] -0.789660772837312\n",
    "Best after iteration 47: [1.19818506e-01 1.63847304e+01 1.68809708e+02 4.33691044e+00\n",
    " 1.67618558e-02 3.34314708e+00 2.63727840e-01 3.04278488e-01] -0.789660772837312\n",
    "Best after iteration 48: [1.19818506e-01 1.63847304e+01 1.68809708e+02 4.33691044e+00\n",
    " 1.67618558e-02 3.34314708e+00 2.63727840e-01 3.04278488e-01] -0.789660772837312\n",
    "Best after iteration 49: [1.19818506e-01 1.63847304e+01 1.68809708e+02 4.33691044e+00\n",
    " 1.67618558e-02 3.34314708e+00 2.63727840e-01 3.04278488e-01] -0.789660772837312\n",
    "Best after iteration 50: [1.19818506e-01 1.63847304e+01 1.68809708e+02 4.33691044e+00\n",
    " 1.67618558e-02 3.34314708e+00 2.63727840e-01 3.04278488e-01] -0.789660772837312\n",
    "Best after iteration 51: [1.19818506e-01 1.63847304e+01 1.68809708e+02 4.33691044e+00\n",
    " 1.67618558e-02 3.34314708e+00 2.63727840e-01 3.04278488e-01] -0.789660772837312\n",
    "Best after iteration 52: [1.19818506e-01 1.63847304e+01 1.68809708e+02 4.33691044e+00\n",
    " 1.67618558e-02 3.34314708e+00 2.63727840e-01 3.04278488e-01] -0.789660772837312\n",
    "Best after iteration 53: [1.19818506e-01 1.63847304e+01 1.68809708e+02 4.33691044e+00\n",
    " 1.67618558e-02 3.34314708e+00 2.63727840e-01 3.04278488e-01] -0.789660772837312\n",
    "Best after iteration 54: [1.19818506e-01 1.63847304e+01 1.68809708e+02 4.33691044e+00\n",
    " 1.67618558e-02 3.34314708e+00 2.63727840e-01 3.04278488e-01] -0.789660772837312\n",
    "Best after iteration 55: [1.19818506e-01 1.63847304e+01 1.68809708e+02 4.33691044e+00\n",
    " 1.67618558e-02 3.34314708e+00 2.63727840e-01 3.04278488e-01] -0.789660772837312\n",
    "Best after iteration 56: [1.19818506e-01 1.63847304e+01 1.68809708e+02 4.33691044e+00\n",
    " 1.67618558e-02 3.34314708e+00 2.63727840e-01 3.04278488e-01] -0.789660772837312\n",
    "Best after iteration 57: [1.19818506e-01 1.63847304e+01 1.68809708e+02 4.33691044e+00\n",
    " 1.67618558e-02 3.34314708e+00 2.63727840e-01 3.04278488e-01] -0.789660772837312\n",
    "Best after iteration 58: [1.19818506e-01 1.63847304e+01 1.68809708e+02 4.33691044e+00\n",
    " 1.67618558e-02 3.34314708e+00 2.63727840e-01 3.04278488e-01] -0.789660772837312\n",
    "Best after iteration 59: [1.19818506e-01 1.63847304e+01 1.68809708e+02 4.33691044e+00\n",
    " 1.67618558e-02 3.34314708e+00 2.63727840e-01 3.04278488e-01] -0.789660772837312\n",
    "Best after iteration 60: [1.19818506e-01 1.63847304e+01 1.68809708e+02 4.33691044e+00\n",
    " 1.67618558e-02 3.34314708e+00 2.63727840e-01 3.04278488e-01] -0.789660772837312\n",
    "New best for swarm at iteration 61: [1.23060443e-01 1.61721638e+01 1.67550551e+02 4.38319301e+00\n",
    " 1.42779816e-02 3.22728508e+00 2.65883996e-01 3.01022956e-01] -0.7897732488754247\n",
    "Best after iteration 61: [1.23060443e-01 1.61721638e+01 1.67550551e+02 4.38319301e+00\n",
    " 1.42779816e-02 3.22728508e+00 2.65883996e-01 3.01022956e-01] -0.7897732488754247\n",
    "Best after iteration 62: [1.23060443e-01 1.61721638e+01 1.67550551e+02 4.38319301e+00\n",
    " 1.42779816e-02 3.22728508e+00 2.65883996e-01 3.01022956e-01] -0.7897732488754247\n",
    "Best after iteration 63: [1.23060443e-01 1.61721638e+01 1.67550551e+02 4.38319301e+00\n",
    " 1.42779816e-02 3.22728508e+00 2.65883996e-01 3.01022956e-01] -0.7897732488754247\n",
    "Best after iteration 64: [1.23060443e-01 1.61721638e+01 1.67550551e+02 4.38319301e+00\n",
    " 1.42779816e-02 3.22728508e+00 2.65883996e-01 3.01022956e-01] -0.7897732488754247\n",
    "Best after iteration 65: [1.23060443e-01 1.61721638e+01 1.67550551e+02 4.38319301e+00\n",
    " 1.42779816e-02 3.22728508e+00 2.65883996e-01 3.01022956e-01] -0.7897732488754247\n",
    "New best for swarm at iteration 66: [1.21771214e-01 1.58554228e+01 1.70031772e+02 4.29559179e+00\n",
    " 1.68794283e-02 3.02374791e+00 2.60124823e-01 3.14125584e-01] -0.7897985754767557\n",
    "Best after iteration 66: [1.21771214e-01 1.58554228e+01 1.70031772e+02 4.29559179e+00\n",
    " 1.68794283e-02 3.02374791e+00 2.60124823e-01 3.14125584e-01] -0.7897985754767557\n",
    "Best after iteration 67: [1.21771214e-01 1.58554228e+01 1.70031772e+02 4.29559179e+00\n",
    " 1.68794283e-02 3.02374791e+00 2.60124823e-01 3.14125584e-01] -0.7897985754767557\n",
    "Best after iteration 68: [1.21771214e-01 1.58554228e+01 1.70031772e+02 4.29559179e+00\n",
    " 1.68794283e-02 3.02374791e+00 2.60124823e-01 3.14125584e-01] -0.7897985754767557\n",
    "Best after iteration 69: [1.21771214e-01 1.58554228e+01 1.70031772e+02 4.29559179e+00\n",
    " 1.68794283e-02 3.02374791e+00 2.60124823e-01 3.14125584e-01] -0.7897985754767557\n",
    "Best after iteration 70: [1.21771214e-01 1.58554228e+01 1.70031772e+02 4.29559179e+00\n",
    " 1.68794283e-02 3.02374791e+00 2.60124823e-01 3.14125584e-01] -0.7897985754767557\n",
    "Best after iteration 71: [1.21771214e-01 1.58554228e+01 1.70031772e+02 4.29559179e+00\n",
    " 1.68794283e-02 3.02374791e+00 2.60124823e-01 3.14125584e-01] -0.7897985754767557\n",
    "Best after iteration 72: [1.21771214e-01 1.58554228e+01 1.70031772e+02 4.29559179e+00\n",
    " 1.68794283e-02 3.02374791e+00 2.60124823e-01 3.14125584e-01] -0.7897985754767557\n",
    "New best for swarm at iteration 73: [1.21086791e-01 1.58763382e+01 1.69356153e+02 4.38002527e+00\n",
    " 1.51022025e-02 3.15619592e+00 2.62185763e-01 3.10350453e-01] -0.7899350251317886\n",
    "Best after iteration 73: [1.21086791e-01 1.58763382e+01 1.69356153e+02 4.38002527e+00\n",
    " 1.51022025e-02 3.15619592e+00 2.62185763e-01 3.10350453e-01] -0.7899350251317886\n",
    "Best after iteration 74: [1.21086791e-01 1.58763382e+01 1.69356153e+02 4.38002527e+00\n",
    " 1.51022025e-02 3.15619592e+00 2.62185763e-01 3.10350453e-01] -0.7899350251317886\n",
    "Best after iteration 75: [1.21086791e-01 1.58763382e+01 1.69356153e+02 4.38002527e+00\n",
    " 1.51022025e-02 3.15619592e+00 2.62185763e-01 3.10350453e-01] -0.7899350251317886\n",
    "Best after iteration 76: [1.21086791e-01 1.58763382e+01 1.69356153e+02 4.38002527e+00\n",
    " 1.51022025e-02 3.15619592e+00 2.62185763e-01 3.10350453e-01] -0.7899350251317886\n",
    "Best after iteration 77: [1.21086791e-01 1.58763382e+01 1.69356153e+02 4.38002527e+00\n",
    " 1.51022025e-02 3.15619592e+00 2.62185763e-01 3.10350453e-01] -0.7899350251317886\n",
    "Best after iteration 78: [1.21086791e-01 1.58763382e+01 1.69356153e+02 4.38002527e+00\n",
    " 1.51022025e-02 3.15619592e+00 2.62185763e-01 3.10350453e-01] -0.7899350251317886\n",
    "Best after iteration 79: [1.21086791e-01 1.58763382e+01 1.69356153e+02 4.38002527e+00\n",
    " 1.51022025e-02 3.15619592e+00 2.62185763e-01 3.10350453e-01] -0.7899350251317886\n",
    "Best after iteration 80: [1.21086791e-01 1.58763382e+01 1.69356153e+02 4.38002527e+00\n",
    " 1.51022025e-02 3.15619592e+00 2.62185763e-01 3.10350453e-01] -0.7899350251317886\n",
    "Best after iteration 81: [1.21086791e-01 1.58763382e+01 1.69356153e+02 4.38002527e+00\n",
    " 1.51022025e-02 3.15619592e+00 2.62185763e-01 3.10350453e-01] -0.7899350251317886\n",
    "Best after iteration 82: [1.21086791e-01 1.58763382e+01 1.69356153e+02 4.38002527e+00\n",
    " 1.51022025e-02 3.15619592e+00 2.62185763e-01 3.10350453e-01] -0.7899350251317886\n",
    "Best after iteration 83: [1.21086791e-01 1.58763382e+01 1.69356153e+02 4.38002527e+00\n",
    " 1.51022025e-02 3.15619592e+00 2.62185763e-01 3.10350453e-01] -0.7899350251317886\n",
    "New best for swarm at iteration 84: [1.21973987e-01 1.59727333e+01 1.68619573e+02 4.41940904e+00\n",
    " 1.41973285e-02 3.23333669e+00 2.65547617e-01 3.15130029e-01] -0.7900871509748963\n",
    "Best after iteration 84: [1.21973987e-01 1.59727333e+01 1.68619573e+02 4.41940904e+00\n",
    " 1.41973285e-02 3.23333669e+00 2.65547617e-01 3.15130029e-01] -0.7900871509748963\n",
    "Best after iteration 85: [1.21973987e-01 1.59727333e+01 1.68619573e+02 4.41940904e+00\n",
    " 1.41973285e-02 3.23333669e+00 2.65547617e-01 3.15130029e-01] -0.7900871509748963\n",
    "Best after iteration 86: [1.21973987e-01 1.59727333e+01 1.68619573e+02 4.41940904e+00\n",
    " 1.41973285e-02 3.23333669e+00 2.65547617e-01 3.15130029e-01] -0.7900871509748963\n",
    "Best after iteration 87: [1.21973987e-01 1.59727333e+01 1.68619573e+02 4.41940904e+00\n",
    " 1.41973285e-02 3.23333669e+00 2.65547617e-01 3.15130029e-01] -0.7900871509748963\n",
    "Best after iteration 88: [1.21973987e-01 1.59727333e+01 1.68619573e+02 4.41940904e+00\n",
    " 1.41973285e-02 3.23333669e+00 2.65547617e-01 3.15130029e-01] -0.7900871509748963\n",
    "Best after iteration 89: [1.21973987e-01 1.59727333e+01 1.68619573e+02 4.41940904e+00\n",
    " 1.41973285e-02 3.23333669e+00 2.65547617e-01 3.15130029e-01] -0.7900871509748963\n",
    "Best after iteration 90: [1.21973987e-01 1.59727333e+01 1.68619573e+02 4.41940904e+00\n",
    " 1.41973285e-02 3.23333669e+00 2.65547617e-01 3.15130029e-01] -0.7900871509748963\n",
    "Best after iteration 91: [1.21973987e-01 1.59727333e+01 1.68619573e+02 4.41940904e+00\n",
    " 1.41973285e-02 3.23333669e+00 2.65547617e-01 3.15130029e-01] -0.7900871509748963\n",
    "Best after iteration 92: [1.21973987e-01 1.59727333e+01 1.68619573e+02 4.41940904e+00\n",
    " 1.41973285e-02 3.23333669e+00 2.65547617e-01 3.15130029e-01] -0.7900871509748963\n",
    "Best after iteration 93: [1.21973987e-01 1.59727333e+01 1.68619573e+02 4.41940904e+00\n",
    " 1.41973285e-02 3.23333669e+00 2.65547617e-01 3.15130029e-01] -0.7900871509748963\n",
    "Best after iteration 94: [1.21973987e-01 1.59727333e+01 1.68619573e+02 4.41940904e+00\n",
    " 1.41973285e-02 3.23333669e+00 2.65547617e-01 3.15130029e-01] -0.7900871509748963\n",
    "Best after iteration 95: [1.21973987e-01 1.59727333e+01 1.68619573e+02 4.41940904e+00\n",
    " 1.41973285e-02 3.23333669e+00 2.65547617e-01 3.15130029e-01] -0.7900871509748963\n",
    "Best after iteration 96: [1.21973987e-01 1.59727333e+01 1.68619573e+02 4.41940904e+00\n",
    " 1.41973285e-02 3.23333669e+00 2.65547617e-01 3.15130029e-01] -0.7900871509748963\n",
    "Best after iteration 97: [1.21973987e-01 1.59727333e+01 1.68619573e+02 4.41940904e+00\n",
    " 1.41973285e-02 3.23333669e+00 2.65547617e-01 3.15130029e-01] -0.7900871509748963\n",
    "Best after iteration 98: [1.21973987e-01 1.59727333e+01 1.68619573e+02 4.41940904e+00\n",
    " 1.41973285e-02 3.23333669e+00 2.65547617e-01 3.15130029e-01] -0.7900871509748963\n",
    "Best after iteration 99: [1.21973987e-01 1.59727333e+01 1.68619573e+02 4.41940904e+00\n",
    " 1.41973285e-02 3.23333669e+00 2.65547617e-01 3.15130029e-01] -0.7900871509748963\n",
    "Best after iteration 100: [1.21973987e-01 1.59727333e+01 1.68619573e+02 4.41940904e+00\n",
    " 1.41973285e-02 3.23333669e+00 2.65547617e-01 3.15130029e-01] -0.7900871509748963\n",
    "Stopping search: maximum iterations reached --> 100\n",
    "[1.21973987e-01 1.59727333e+01 1.68619573e+02 4.41940904e+00\n",
    " 1.41973285e-02 3.23333669e+00 2.65547617e-01 3.15130029e-01] -0.7900871509748963\n",
    "\"\"\""
   ]
  },
  {
   "attachments": {},
   "cell_type": "markdown",
   "metadata": {},
   "source": [
    "#### Podsumowanie optymalizacji cech"
   ]
  },
  {
   "cell_type": "code",
   "execution_count": 15,
   "metadata": {},
   "outputs": [],
   "source": [
    "from prettytable import PrettyTable\n",
    "\n",
    "summaryTable = PrettyTable(['metoda', 'F-score', 'Learning rate', 'Max depth', 'N estimators', 'Min child weight', 'Min split loss', 'Min deta step', 'Reg lambda', 'Reg alpha'])\n",
    "summaryTable.add_row(['PSO', 0.79009, 0.12197, 15, 168, 4, 0.0141973, 3, 0.26555, 0.31513])\n",
    "summaryTable.add_row(['Optuna', 0.78875, 0.089072, 17, 200,  4, 0.06622793, 10, 0.223593, 0.570744])\n",
    "summaryTable.add_row(['GridSearchCV',  0.78604, 0.1, 15, 150, 10, '-', '-', '-', '-'])\n",
    "summaryTable.add_row(['Bez optymalizacji', 0.7765, '-', '-', '-', '-', '-', '-', '-', '-'])\n"
   ]
  },
  {
   "cell_type": "code",
   "execution_count": 16,
   "metadata": {},
   "outputs": [
    {
     "data": {
      "text/html": [
       "<table>\n",
       "    <thead>\n",
       "        <tr>\n",
       "            <th>metoda</th>\n",
       "            <th>F-score</th>\n",
       "            <th>Learning rate</th>\n",
       "            <th>Max depth</th>\n",
       "            <th>N estimators</th>\n",
       "            <th>Min child weight</th>\n",
       "            <th>Min split loss</th>\n",
       "            <th>Min deta step</th>\n",
       "            <th>Reg lambda</th>\n",
       "            <th>Reg alpha</th>\n",
       "        </tr>\n",
       "    </thead>\n",
       "    <tbody>\n",
       "        <tr>\n",
       "            <td>PSO</td>\n",
       "            <td>0.79009</td>\n",
       "            <td>0.12197</td>\n",
       "            <td>15</td>\n",
       "            <td>168</td>\n",
       "            <td>4</td>\n",
       "            <td>0.0141973</td>\n",
       "            <td>3</td>\n",
       "            <td>0.26555</td>\n",
       "            <td>0.31513</td>\n",
       "        </tr>\n",
       "        <tr>\n",
       "            <td>Optuna</td>\n",
       "            <td>0.78875</td>\n",
       "            <td>0.089072</td>\n",
       "            <td>17</td>\n",
       "            <td>200</td>\n",
       "            <td>4</td>\n",
       "            <td>0.06622793</td>\n",
       "            <td>10</td>\n",
       "            <td>0.223593</td>\n",
       "            <td>0.570744</td>\n",
       "        </tr>\n",
       "        <tr>\n",
       "            <td>GridSearchCV</td>\n",
       "            <td>0.78604</td>\n",
       "            <td>0.1</td>\n",
       "            <td>15</td>\n",
       "            <td>150</td>\n",
       "            <td>10</td>\n",
       "            <td>-</td>\n",
       "            <td>-</td>\n",
       "            <td>-</td>\n",
       "            <td>-</td>\n",
       "        </tr>\n",
       "        <tr>\n",
       "            <td>Bez optymalizacji</td>\n",
       "            <td>0.7765</td>\n",
       "            <td>-</td>\n",
       "            <td>-</td>\n",
       "            <td>-</td>\n",
       "            <td>-</td>\n",
       "            <td>-</td>\n",
       "            <td>-</td>\n",
       "            <td>-</td>\n",
       "            <td>-</td>\n",
       "        </tr>\n",
       "    </tbody>\n",
       "</table>"
      ],
      "text/plain": [
       "+-------------------+---------+---------------+-----------+--------------+------------------+----------------+---------------+------------+-----------+\n",
       "|       metoda      | F-score | Learning rate | Max depth | N estimators | Min child weight | Min split loss | Min deta step | Reg lambda | Reg alpha |\n",
       "+-------------------+---------+---------------+-----------+--------------+------------------+----------------+---------------+------------+-----------+\n",
       "|        PSO        | 0.79009 |    0.12197    |     15    |     168      |        4         |   0.0141973    |       3       |  0.26555   |  0.31513  |\n",
       "|       Optuna      | 0.78875 |    0.089072   |     17    |     200      |        4         |   0.06622793   |       10      |  0.223593  |  0.570744 |\n",
       "|    GridSearchCV   | 0.78604 |      0.1      |     15    |     150      |        10        |       -        |       -       |     -      |     -     |\n",
       "| Bez optymalizacji |  0.7765 |       -       |     -     |      -       |        -         |       -        |       -       |     -      |     -     |\n",
       "+-------------------+---------+---------------+-----------+--------------+------------------+----------------+---------------+------------+-----------+"
      ]
     },
     "execution_count": 16,
     "metadata": {},
     "output_type": "execute_result"
    }
   ],
   "source": [
    "summaryTable"
   ]
  },
  {
   "attachments": {},
   "cell_type": "markdown",
   "metadata": {},
   "source": [
    "Na postawie otrzymanych rezultatów można stwierdzić, że najlepszy wynik F1 score osiągnięto dla algorytmu XGBoost zoptymalizowanym za pomocą algorytmu genetycznego. Wynik ten jest lepszy niż wynik odniesienia dla algorytmu XGBoost o około 0,015. Wynik osiągnięty za pomocą Optuny i GridSeachCV nie jest jednak dużo słabszy niż ten osiągnięty za pomocą algorytmu genetycznego."
   ]
  }
 ],
 "metadata": {
  "kernelspec": {
   "display_name": "Python 3.9.1 ('base')",
   "language": "python",
   "name": "python3"
  },
  "language_info": {
   "codemirror_mode": {
    "name": "ipython",
    "version": 3
   },
   "file_extension": ".py",
   "mimetype": "text/x-python",
   "name": "python",
   "nbconvert_exporter": "python",
   "pygments_lexer": "ipython3",
   "version": "3.9.1"
  },
  "vscode": {
   "interpreter": {
    "hash": "b8be385d48e05b4f2d5b0c548e070dbf7e445fa615772f44dee8b1f60efa8125"
   }
  }
 },
 "nbformat": 4,
 "nbformat_minor": 4
}
