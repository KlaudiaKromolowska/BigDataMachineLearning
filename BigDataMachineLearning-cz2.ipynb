{
 "cells": [
  {
   "cell_type": "markdown",
   "metadata": {
    "collapsed": false
   },
   "source": [
    "# CZĘŚĆ 2"
   ]
  },
  {
   "cell_type": "markdown",
   "metadata": {
    "collapsed": false
   },
   "source": [
    "## OPIS ZESTAWU DANYCH\n",
    "Dane składają się z informacji o przylotach i odlotach wszystkich lotów komercyjnych w USA od października 1987 do kwietnia 2008 – przede wszystkim o ich opóźnieniach. \\\n",
    "Zbiór danych jest bardzo duży (120mln rekordów, 12GB danych) – na potrzeby projektu wykorzystamy jedynie dane z roku 2007 co ograniczy rozmiar przetwarzanych danych."
   ]
  },
  {
   "cell_type": "code",
   "execution_count": 1,
   "metadata": {},
   "outputs": [],
   "source": [
    "import pandas as pd\n",
    "import numpy as np\n",
    "from matplotlib import pyplot as plt\n",
    "import seaborn as sns"
   ]
  },
  {
   "cell_type": "code",
   "execution_count": 2,
   "metadata": {
    "collapsed": false
   },
   "outputs": [
    {
     "data": {
      "text/html": [
       "<div>\n",
       "<style scoped>\n",
       "    .dataframe tbody tr th:only-of-type {\n",
       "        vertical-align: middle;\n",
       "    }\n",
       "\n",
       "    .dataframe tbody tr th {\n",
       "        vertical-align: top;\n",
       "    }\n",
       "\n",
       "    .dataframe thead th {\n",
       "        text-align: right;\n",
       "    }\n",
       "</style>\n",
       "<table border=\"1\" class=\"dataframe\">\n",
       "  <thead>\n",
       "    <tr style=\"text-align: right;\">\n",
       "      <th></th>\n",
       "      <th>Year</th>\n",
       "      <th>Month</th>\n",
       "      <th>DayofMonth</th>\n",
       "      <th>DayOfWeek</th>\n",
       "      <th>DepTime</th>\n",
       "      <th>CRSDepTime</th>\n",
       "      <th>ArrTime</th>\n",
       "      <th>CRSArrTime</th>\n",
       "      <th>UniqueCarrier</th>\n",
       "      <th>FlightNum</th>\n",
       "      <th>TailNum</th>\n",
       "      <th>ActualElapsedTime</th>\n",
       "      <th>CRSElapsedTime</th>\n",
       "      <th>AirTime</th>\n",
       "      <th>ArrDelay</th>\n",
       "      <th>DepDelay</th>\n",
       "      <th>Origin</th>\n",
       "      <th>Dest</th>\n",
       "      <th>Distance</th>\n",
       "      <th>TaxiIn</th>\n",
       "      <th>TaxiOut</th>\n",
       "      <th>Cancelled</th>\n",
       "      <th>CancellationCode</th>\n",
       "      <th>Diverted</th>\n",
       "      <th>CarrierDelay</th>\n",
       "      <th>WeatherDelay</th>\n",
       "      <th>NASDelay</th>\n",
       "      <th>SecurityDelay</th>\n",
       "      <th>LateAircraftDelay</th>\n",
       "    </tr>\n",
       "  </thead>\n",
       "  <tbody>\n",
       "    <tr>\n",
       "      <th>0</th>\n",
       "      <td>2007</td>\n",
       "      <td>1</td>\n",
       "      <td>1</td>\n",
       "      <td>1</td>\n",
       "      <td>1232.00</td>\n",
       "      <td>1225</td>\n",
       "      <td>1341.00</td>\n",
       "      <td>1340</td>\n",
       "      <td>WN</td>\n",
       "      <td>2891</td>\n",
       "      <td>N351</td>\n",
       "      <td>69.00</td>\n",
       "      <td>75.00</td>\n",
       "      <td>54.00</td>\n",
       "      <td>1.00</td>\n",
       "      <td>7.00</td>\n",
       "      <td>SMF</td>\n",
       "      <td>ONT</td>\n",
       "      <td>389</td>\n",
       "      <td>4</td>\n",
       "      <td>11</td>\n",
       "      <td>0</td>\n",
       "      <td>NaN</td>\n",
       "      <td>0</td>\n",
       "      <td>0</td>\n",
       "      <td>0</td>\n",
       "      <td>0</td>\n",
       "      <td>0</td>\n",
       "      <td>0</td>\n",
       "    </tr>\n",
       "    <tr>\n",
       "      <th>1</th>\n",
       "      <td>2007</td>\n",
       "      <td>1</td>\n",
       "      <td>1</td>\n",
       "      <td>1</td>\n",
       "      <td>1918.00</td>\n",
       "      <td>1905</td>\n",
       "      <td>2043.00</td>\n",
       "      <td>2035</td>\n",
       "      <td>WN</td>\n",
       "      <td>462</td>\n",
       "      <td>N370</td>\n",
       "      <td>85.00</td>\n",
       "      <td>90.00</td>\n",
       "      <td>74.00</td>\n",
       "      <td>8.00</td>\n",
       "      <td>13.00</td>\n",
       "      <td>SMF</td>\n",
       "      <td>PDX</td>\n",
       "      <td>479</td>\n",
       "      <td>5</td>\n",
       "      <td>6</td>\n",
       "      <td>0</td>\n",
       "      <td>NaN</td>\n",
       "      <td>0</td>\n",
       "      <td>0</td>\n",
       "      <td>0</td>\n",
       "      <td>0</td>\n",
       "      <td>0</td>\n",
       "      <td>0</td>\n",
       "    </tr>\n",
       "    <tr>\n",
       "      <th>2</th>\n",
       "      <td>2007</td>\n",
       "      <td>1</td>\n",
       "      <td>1</td>\n",
       "      <td>1</td>\n",
       "      <td>2206.00</td>\n",
       "      <td>2130</td>\n",
       "      <td>2334.00</td>\n",
       "      <td>2300</td>\n",
       "      <td>WN</td>\n",
       "      <td>1229</td>\n",
       "      <td>N685</td>\n",
       "      <td>88.00</td>\n",
       "      <td>90.00</td>\n",
       "      <td>73.00</td>\n",
       "      <td>34.00</td>\n",
       "      <td>36.00</td>\n",
       "      <td>SMF</td>\n",
       "      <td>PDX</td>\n",
       "      <td>479</td>\n",
       "      <td>6</td>\n",
       "      <td>9</td>\n",
       "      <td>0</td>\n",
       "      <td>NaN</td>\n",
       "      <td>0</td>\n",
       "      <td>3</td>\n",
       "      <td>0</td>\n",
       "      <td>0</td>\n",
       "      <td>0</td>\n",
       "      <td>31</td>\n",
       "    </tr>\n",
       "    <tr>\n",
       "      <th>3</th>\n",
       "      <td>2007</td>\n",
       "      <td>1</td>\n",
       "      <td>1</td>\n",
       "      <td>1</td>\n",
       "      <td>1230.00</td>\n",
       "      <td>1200</td>\n",
       "      <td>1356.00</td>\n",
       "      <td>1330</td>\n",
       "      <td>WN</td>\n",
       "      <td>1355</td>\n",
       "      <td>N364</td>\n",
       "      <td>86.00</td>\n",
       "      <td>90.00</td>\n",
       "      <td>75.00</td>\n",
       "      <td>26.00</td>\n",
       "      <td>30.00</td>\n",
       "      <td>SMF</td>\n",
       "      <td>PDX</td>\n",
       "      <td>479</td>\n",
       "      <td>3</td>\n",
       "      <td>8</td>\n",
       "      <td>0</td>\n",
       "      <td>NaN</td>\n",
       "      <td>0</td>\n",
       "      <td>23</td>\n",
       "      <td>0</td>\n",
       "      <td>0</td>\n",
       "      <td>0</td>\n",
       "      <td>3</td>\n",
       "    </tr>\n",
       "    <tr>\n",
       "      <th>4</th>\n",
       "      <td>2007</td>\n",
       "      <td>1</td>\n",
       "      <td>1</td>\n",
       "      <td>1</td>\n",
       "      <td>831.00</td>\n",
       "      <td>830</td>\n",
       "      <td>957.00</td>\n",
       "      <td>1000</td>\n",
       "      <td>WN</td>\n",
       "      <td>2278</td>\n",
       "      <td>N480</td>\n",
       "      <td>86.00</td>\n",
       "      <td>90.00</td>\n",
       "      <td>74.00</td>\n",
       "      <td>-3.00</td>\n",
       "      <td>1.00</td>\n",
       "      <td>SMF</td>\n",
       "      <td>PDX</td>\n",
       "      <td>479</td>\n",
       "      <td>3</td>\n",
       "      <td>9</td>\n",
       "      <td>0</td>\n",
       "      <td>NaN</td>\n",
       "      <td>0</td>\n",
       "      <td>0</td>\n",
       "      <td>0</td>\n",
       "      <td>0</td>\n",
       "      <td>0</td>\n",
       "      <td>0</td>\n",
       "    </tr>\n",
       "  </tbody>\n",
       "</table>\n",
       "</div>"
      ],
      "text/plain": [
       "   Year  Month  DayofMonth  DayOfWeek  DepTime  CRSDepTime  ArrTime  \\\n",
       "0  2007      1           1          1  1232.00        1225  1341.00   \n",
       "1  2007      1           1          1  1918.00        1905  2043.00   \n",
       "2  2007      1           1          1  2206.00        2130  2334.00   \n",
       "3  2007      1           1          1  1230.00        1200  1356.00   \n",
       "4  2007      1           1          1   831.00         830   957.00   \n",
       "\n",
       "   CRSArrTime UniqueCarrier  FlightNum TailNum  ActualElapsedTime  \\\n",
       "0        1340            WN       2891    N351              69.00   \n",
       "1        2035            WN        462    N370              85.00   \n",
       "2        2300            WN       1229    N685              88.00   \n",
       "3        1330            WN       1355    N364              86.00   \n",
       "4        1000            WN       2278    N480              86.00   \n",
       "\n",
       "   CRSElapsedTime  AirTime  ArrDelay  DepDelay Origin Dest  Distance  TaxiIn  \\\n",
       "0           75.00    54.00      1.00      7.00    SMF  ONT       389       4   \n",
       "1           90.00    74.00      8.00     13.00    SMF  PDX       479       5   \n",
       "2           90.00    73.00     34.00     36.00    SMF  PDX       479       6   \n",
       "3           90.00    75.00     26.00     30.00    SMF  PDX       479       3   \n",
       "4           90.00    74.00     -3.00      1.00    SMF  PDX       479       3   \n",
       "\n",
       "   TaxiOut  Cancelled CancellationCode  Diverted  CarrierDelay  WeatherDelay  \\\n",
       "0       11          0              NaN         0             0             0   \n",
       "1        6          0              NaN         0             0             0   \n",
       "2        9          0              NaN         0             3             0   \n",
       "3        8          0              NaN         0            23             0   \n",
       "4        9          0              NaN         0             0             0   \n",
       "\n",
       "   NASDelay  SecurityDelay  LateAircraftDelay  \n",
       "0         0              0                  0  \n",
       "1         0              0                  0  \n",
       "2         0              0                 31  \n",
       "3         0              0                  3  \n",
       "4         0              0                  0  "
      ]
     },
     "metadata": {},
     "output_type": "display_data"
    }
   ],
   "source": [
    "import zipfile\n",
    "\n",
    "zf = zipfile.ZipFile(\"./data_mow.zip\")\n",
    "namelist = zf.namelist()[1:]\n",
    "dfs = [pd.read_csv(zf.open(f)) for f in namelist]\n",
    "data = pd.concat(dfs, ignore_index=True)\n",
    "data = data[data[\"Year\"] == 2007]\n",
    "with pd.option_context('display.float_format', '{:.2f}'.format, 'display.max_rows', None, 'display.max_columns', None):\n",
    "    display(data.head())"
   ]
  },
  {
   "cell_type": "code",
   "execution_count": 3,
   "metadata": {
    "collapsed": false
   },
   "outputs": [],
   "source": [
    "data.drop(\n",
    "    ['UniqueCarrier', 'TailNum', 'Origin', 'Dest', 'CancellationCode', 'FlightNum', 'TaxiIn', 'TaxiOut', 'DepTime',\n",
    "     'ArrTime', 'ActualElapsedTime', 'AirTime', 'DepDelay', 'ArrDelay'], inplace=True, axis=1)"
   ]
  },
  {
   "cell_type": "code",
   "execution_count": 4,
   "metadata": {},
   "outputs": [],
   "source": [
    "for column in ['CRSDepTime', 'CRSArrTime']:\n",
    "    data[column] = data[column] // 100 + (data[column] % 100) / 60"
   ]
  },
  {
   "cell_type": "code",
   "execution_count": 5,
   "metadata": {
    "collapsed": false
   },
   "outputs": [
    {
     "data": {
      "text/html": [
       "<div>\n",
       "<style scoped>\n",
       "    .dataframe tbody tr th:only-of-type {\n",
       "        vertical-align: middle;\n",
       "    }\n",
       "\n",
       "    .dataframe tbody tr th {\n",
       "        vertical-align: top;\n",
       "    }\n",
       "\n",
       "    .dataframe thead th {\n",
       "        text-align: right;\n",
       "    }\n",
       "</style>\n",
       "<table border=\"1\" class=\"dataframe\">\n",
       "  <thead>\n",
       "    <tr style=\"text-align: right;\">\n",
       "      <th></th>\n",
       "      <th>Year</th>\n",
       "      <th>Month</th>\n",
       "      <th>DayofMonth</th>\n",
       "      <th>DayOfWeek</th>\n",
       "      <th>CRSDepTime</th>\n",
       "      <th>CRSArrTime</th>\n",
       "      <th>CRSElapsedTime</th>\n",
       "      <th>Distance</th>\n",
       "      <th>Cancelled</th>\n",
       "      <th>Diverted</th>\n",
       "      <th>CarrierDelay</th>\n",
       "      <th>WeatherDelay</th>\n",
       "      <th>NASDelay</th>\n",
       "      <th>SecurityDelay</th>\n",
       "      <th>LateAircraftDelay</th>\n",
       "    </tr>\n",
       "  </thead>\n",
       "  <tbody>\n",
       "    <tr>\n",
       "      <th>count</th>\n",
       "      <td>7453215.00</td>\n",
       "      <td>7453215.00</td>\n",
       "      <td>7453215.00</td>\n",
       "      <td>7453215.00</td>\n",
       "      <td>7453215.00</td>\n",
       "      <td>7453215.00</td>\n",
       "      <td>7452221.00</td>\n",
       "      <td>7453215.00</td>\n",
       "      <td>7453215.00</td>\n",
       "      <td>7453215.00</td>\n",
       "      <td>7453215.00</td>\n",
       "      <td>7453215.00</td>\n",
       "      <td>7453215.00</td>\n",
       "      <td>7453215.00</td>\n",
       "      <td>7453215.00</td>\n",
       "    </tr>\n",
       "    <tr>\n",
       "      <th>mean</th>\n",
       "      <td>2007.00</td>\n",
       "      <td>6.51</td>\n",
       "      <td>15.73</td>\n",
       "      <td>3.93</td>\n",
       "      <td>13.48</td>\n",
       "      <td>15.15</td>\n",
       "      <td>127.25</td>\n",
       "      <td>719.81</td>\n",
       "      <td>0.02</td>\n",
       "      <td>0.00</td>\n",
       "      <td>3.87</td>\n",
       "      <td>0.77</td>\n",
       "      <td>3.78</td>\n",
       "      <td>0.02</td>\n",
       "      <td>5.10</td>\n",
       "    </tr>\n",
       "    <tr>\n",
       "      <th>std</th>\n",
       "      <td>0.00</td>\n",
       "      <td>3.43</td>\n",
       "      <td>8.78</td>\n",
       "      <td>1.99</td>\n",
       "      <td>4.66</td>\n",
       "      <td>4.82</td>\n",
       "      <td>70.36</td>\n",
       "      <td>562.31</td>\n",
       "      <td>0.15</td>\n",
       "      <td>0.05</td>\n",
       "      <td>20.84</td>\n",
       "      <td>9.62</td>\n",
       "      <td>16.18</td>\n",
       "      <td>1.08</td>\n",
       "      <td>21.28</td>\n",
       "    </tr>\n",
       "    <tr>\n",
       "      <th>min</th>\n",
       "      <td>2007.00</td>\n",
       "      <td>1.00</td>\n",
       "      <td>1.00</td>\n",
       "      <td>1.00</td>\n",
       "      <td>0.00</td>\n",
       "      <td>0.00</td>\n",
       "      <td>-1240.00</td>\n",
       "      <td>11.00</td>\n",
       "      <td>0.00</td>\n",
       "      <td>0.00</td>\n",
       "      <td>0.00</td>\n",
       "      <td>0.00</td>\n",
       "      <td>0.00</td>\n",
       "      <td>0.00</td>\n",
       "      <td>0.00</td>\n",
       "    </tr>\n",
       "    <tr>\n",
       "      <th>25%</th>\n",
       "      <td>2007.00</td>\n",
       "      <td>4.00</td>\n",
       "      <td>8.00</td>\n",
       "      <td>2.00</td>\n",
       "      <td>9.50</td>\n",
       "      <td>11.25</td>\n",
       "      <td>77.00</td>\n",
       "      <td>319.00</td>\n",
       "      <td>0.00</td>\n",
       "      <td>0.00</td>\n",
       "      <td>0.00</td>\n",
       "      <td>0.00</td>\n",
       "      <td>0.00</td>\n",
       "      <td>0.00</td>\n",
       "      <td>0.00</td>\n",
       "    </tr>\n",
       "    <tr>\n",
       "      <th>50%</th>\n",
       "      <td>2007.00</td>\n",
       "      <td>7.00</td>\n",
       "      <td>16.00</td>\n",
       "      <td>4.00</td>\n",
       "      <td>13.37</td>\n",
       "      <td>15.33</td>\n",
       "      <td>110.00</td>\n",
       "      <td>569.00</td>\n",
       "      <td>0.00</td>\n",
       "      <td>0.00</td>\n",
       "      <td>0.00</td>\n",
       "      <td>0.00</td>\n",
       "      <td>0.00</td>\n",
       "      <td>0.00</td>\n",
       "      <td>0.00</td>\n",
       "    </tr>\n",
       "    <tr>\n",
       "      <th>75%</th>\n",
       "      <td>2007.00</td>\n",
       "      <td>9.00</td>\n",
       "      <td>23.00</td>\n",
       "      <td>6.00</td>\n",
       "      <td>17.33</td>\n",
       "      <td>19.10</td>\n",
       "      <td>156.00</td>\n",
       "      <td>946.00</td>\n",
       "      <td>0.00</td>\n",
       "      <td>0.00</td>\n",
       "      <td>0.00</td>\n",
       "      <td>0.00</td>\n",
       "      <td>0.00</td>\n",
       "      <td>0.00</td>\n",
       "      <td>0.00</td>\n",
       "    </tr>\n",
       "    <tr>\n",
       "      <th>max</th>\n",
       "      <td>2007.00</td>\n",
       "      <td>12.00</td>\n",
       "      <td>31.00</td>\n",
       "      <td>7.00</td>\n",
       "      <td>23.98</td>\n",
       "      <td>24.00</td>\n",
       "      <td>1430.00</td>\n",
       "      <td>4962.00</td>\n",
       "      <td>1.00</td>\n",
       "      <td>1.00</td>\n",
       "      <td>2580.00</td>\n",
       "      <td>1429.00</td>\n",
       "      <td>1386.00</td>\n",
       "      <td>382.00</td>\n",
       "      <td>1031.00</td>\n",
       "    </tr>\n",
       "  </tbody>\n",
       "</table>\n",
       "</div>"
      ],
      "text/plain": [
       "            Year      Month  DayofMonth  DayOfWeek  CRSDepTime  CRSArrTime  \\\n",
       "count 7453215.00 7453215.00  7453215.00 7453215.00  7453215.00  7453215.00   \n",
       "mean     2007.00       6.51       15.73       3.93       13.48       15.15   \n",
       "std         0.00       3.43        8.78       1.99        4.66        4.82   \n",
       "min      2007.00       1.00        1.00       1.00        0.00        0.00   \n",
       "25%      2007.00       4.00        8.00       2.00        9.50       11.25   \n",
       "50%      2007.00       7.00       16.00       4.00       13.37       15.33   \n",
       "75%      2007.00       9.00       23.00       6.00       17.33       19.10   \n",
       "max      2007.00      12.00       31.00       7.00       23.98       24.00   \n",
       "\n",
       "       CRSElapsedTime   Distance  Cancelled   Diverted  CarrierDelay  \\\n",
       "count      7452221.00 7453215.00 7453215.00 7453215.00    7453215.00   \n",
       "mean           127.25     719.81       0.02       0.00          3.87   \n",
       "std             70.36     562.31       0.15       0.05         20.84   \n",
       "min          -1240.00      11.00       0.00       0.00          0.00   \n",
       "25%             77.00     319.00       0.00       0.00          0.00   \n",
       "50%            110.00     569.00       0.00       0.00          0.00   \n",
       "75%            156.00     946.00       0.00       0.00          0.00   \n",
       "max           1430.00    4962.00       1.00       1.00       2580.00   \n",
       "\n",
       "       WeatherDelay   NASDelay  SecurityDelay  LateAircraftDelay  \n",
       "count    7453215.00 7453215.00     7453215.00         7453215.00  \n",
       "mean           0.77       3.78           0.02               5.10  \n",
       "std            9.62      16.18           1.08              21.28  \n",
       "min            0.00       0.00           0.00               0.00  \n",
       "25%            0.00       0.00           0.00               0.00  \n",
       "50%            0.00       0.00           0.00               0.00  \n",
       "75%            0.00       0.00           0.00               0.00  \n",
       "max         1429.00    1386.00         382.00            1031.00  "
      ]
     },
     "metadata": {},
     "output_type": "display_data"
    }
   ],
   "source": [
    "with pd.option_context('display.float_format', '{:.2f}'.format, 'display.max_rows', None, 'display.max_columns', None):\n",
    "    display(data.describe())"
   ]
  },
  {
   "cell_type": "code",
   "execution_count": 6,
   "metadata": {
    "collapsed": false
   },
   "outputs": [],
   "source": [
    "data[\"Year\"] = data[\"Year\"].astype(\"int\")"
   ]
  },
  {
   "cell_type": "markdown",
   "metadata": {
    "collapsed": false
   },
   "source": [
    "## PROBLEMY Z DANYMI - DANE BRAKUJĄCE, NIEPRAWIDŁOWE, ODSTAJĄCE"
   ]
  },
  {
   "cell_type": "markdown",
   "metadata": {
    "collapsed": false
   },
   "source": [
    "### SPRAWDZENIE POPRAWNOŚCI TYPÓW DANYCH"
   ]
  },
  {
   "cell_type": "code",
   "execution_count": 7,
   "metadata": {},
   "outputs": [],
   "source": [
    "# data = pd.read_parquet(\"./data_mow_2007.parquet\")"
   ]
  },
  {
   "cell_type": "code",
   "execution_count": 8,
   "metadata": {
    "collapsed": false
   },
   "outputs": [
    {
     "data": {
      "text/plain": [
       "Year                   int32\n",
       "Month                  int64\n",
       "DayofMonth             int64\n",
       "DayOfWeek              int64\n",
       "CRSDepTime           float64\n",
       "CRSArrTime           float64\n",
       "CRSElapsedTime       float64\n",
       "Distance               int64\n",
       "Cancelled              int64\n",
       "Diverted               int64\n",
       "CarrierDelay           int64\n",
       "WeatherDelay           int64\n",
       "NASDelay               int64\n",
       "SecurityDelay          int64\n",
       "LateAircraftDelay      int64\n",
       "dtype: object"
      ]
     },
     "execution_count": 8,
     "metadata": {},
     "output_type": "execute_result"
    }
   ],
   "source": [
    "data.dtypes"
   ]
  },
  {
   "cell_type": "markdown",
   "metadata": {
    "collapsed": false
   },
   "source": [
    "Jak widać wyżej - wszystkie dane występują w poprawnym formacie."
   ]
  },
  {
   "cell_type": "markdown",
   "metadata": {
    "collapsed": false
   },
   "source": [
    "### NAPRAWA WIERSZY Z PUSTYMI DANYMI"
   ]
  },
  {
   "cell_type": "code",
   "execution_count": 9,
   "metadata": {},
   "outputs": [],
   "source": [
    "data[\"CRSElapsedTime\"] = data[\"CRSElapsedTime\"].map(lambda v: np.NAN if v < 0 else v)"
   ]
  },
  {
   "cell_type": "code",
   "execution_count": 10,
   "metadata": {},
   "outputs": [],
   "source": [
    "data_with_nulls = data.copy()\n",
    "np.random.seed(42)\n",
    "data_with_nulls[\"Distance\"] = data_with_nulls[\"Distance\"].mask(np.random.random(data_with_nulls.shape[0]) < 0.1)\n",
    "data_with_nulls[\"WeatherDelay\"] = data_with_nulls[\"WeatherDelay\"].mask(np.random.random(data_with_nulls.shape[0]) < 0.1)"
   ]
  },
  {
   "cell_type": "code",
   "execution_count": 11,
   "metadata": {
    "collapsed": false
   },
   "outputs": [
    {
     "data": {
      "text/plain": [
       "Year                      0\n",
       "Month                     0\n",
       "DayofMonth                0\n",
       "DayOfWeek                 0\n",
       "CRSDepTime                0\n",
       "CRSArrTime                0\n",
       "CRSElapsedTime          996\n",
       "Distance             746296\n",
       "Cancelled                 0\n",
       "Diverted                  0\n",
       "CarrierDelay              0\n",
       "WeatherDelay         743989\n",
       "NASDelay                  0\n",
       "SecurityDelay             0\n",
       "LateAircraftDelay         0\n",
       "dtype: int64"
      ]
     },
     "execution_count": 11,
     "metadata": {},
     "output_type": "execute_result"
    }
   ],
   "source": [
    "np.sum(data_with_nulls.isna())"
   ]
  },
  {
   "cell_type": "markdown",
   "metadata": {},
   "source": [
    "##### PROSTA METODA - WYPEŁNIANIE 0"
   ]
  },
  {
   "cell_type": "code",
   "execution_count": 12,
   "metadata": {},
   "outputs": [
    {
     "data": {
      "text/plain": [
       "count   7452219.00\n",
       "mean        127.25\n",
       "std          70.36\n",
       "min           1.00\n",
       "25%          77.00\n",
       "50%         110.00\n",
       "75%         156.00\n",
       "max        1430.00\n",
       "Name: CRSElapsedTime, dtype: float64"
      ]
     },
     "metadata": {},
     "output_type": "display_data"
    }
   ],
   "source": [
    "with pd.option_context('display.float_format', '{:.2f}'.format):\n",
    "    display(data_with_nulls[\"CRSElapsedTime\"].describe())"
   ]
  },
  {
   "cell_type": "code",
   "execution_count": 13,
   "metadata": {},
   "outputs": [],
   "source": [
    "data_with_nulls[\"CRSElapsedTime\"].fillna(0, inplace=True)"
   ]
  },
  {
   "cell_type": "code",
   "execution_count": 14,
   "metadata": {},
   "outputs": [
    {
     "data": {
      "text/plain": [
       "count   7453215.00\n",
       "mean        127.23\n",
       "std          70.37\n",
       "min           0.00\n",
       "25%          77.00\n",
       "50%         110.00\n",
       "75%         156.00\n",
       "max        1430.00\n",
       "Name: CRSElapsedTime, dtype: float64"
      ]
     },
     "metadata": {},
     "output_type": "display_data"
    }
   ],
   "source": [
    "with pd.option_context('display.float_format', '{:.2f}'.format):\n",
    "    display(data_with_nulls[\"CRSElapsedTime\"].describe())"
   ]
  },
  {
   "cell_type": "markdown",
   "metadata": {},
   "source": [
    "##### ROZKŁAD ZMIENNEJ"
   ]
  },
  {
   "cell_type": "code",
   "execution_count": 15,
   "metadata": {},
   "outputs": [
    {
     "data": {
      "text/plain": [
       "count   7453215.00\n",
       "mean        719.81\n",
       "std         562.31\n",
       "min          11.00\n",
       "25%         319.00\n",
       "50%         569.00\n",
       "75%         946.00\n",
       "max        4962.00\n",
       "Name: Distance, dtype: float64"
      ]
     },
     "metadata": {},
     "output_type": "display_data"
    }
   ],
   "source": [
    "with pd.option_context('display.float_format', '{:.2f}'.format):\n",
    "    display(data[\"Distance\"].describe())"
   ]
  },
  {
   "cell_type": "code",
   "execution_count": 16,
   "metadata": {},
   "outputs": [],
   "source": [
    "from scipy.stats import gaussian_kde\n",
    "\n",
    "# estimate density\n",
    "density = gaussian_kde(data[\"Distance\"])\n",
    "\n",
    "# use density to imput missing values\n",
    "data_with_nulls[\"Distance\"].fillna(density.resample(1)[0][0], inplace=True)"
   ]
  },
  {
   "cell_type": "code",
   "execution_count": 17,
   "metadata": {},
   "outputs": [
    {
     "data": {
      "text/plain": [
       "count   7453215.00\n",
       "mean        893.01\n",
       "std         744.25\n",
       "min          11.00\n",
       "25%         337.00\n",
       "50%         622.00\n",
       "75%        1127.00\n",
       "max        4962.00\n",
       "Name: Distance, dtype: float64"
      ]
     },
     "metadata": {},
     "output_type": "display_data"
    }
   ],
   "source": [
    "with pd.option_context('display.float_format', '{:.2f}'.format):\n",
    "    display(data_with_nulls[\"Distance\"].describe())"
   ]
  },
  {
   "cell_type": "markdown",
   "metadata": {},
   "source": [
    "##### Regresja"
   ]
  },
  {
   "cell_type": "code",
   "execution_count": 18,
   "metadata": {},
   "outputs": [
    {
     "data": {
      "text/plain": [
       "count   6709226.00\n",
       "mean          0.77\n",
       "std           9.57\n",
       "min           0.00\n",
       "25%           0.00\n",
       "50%           0.00\n",
       "75%           0.00\n",
       "max        1429.00\n",
       "Name: WeatherDelay, dtype: float64"
      ]
     },
     "metadata": {},
     "output_type": "display_data"
    }
   ],
   "source": [
    "with pd.option_context('display.float_format', '{:.2f}'.format):\n",
    "    display(data_with_nulls[\"WeatherDelay\"].describe())"
   ]
  },
  {
   "cell_type": "code",
   "execution_count": 19,
   "metadata": {},
   "outputs": [],
   "source": [
    "# build regression model for WeatherDelay\n",
    "from sklearn.linear_model import LinearRegression\n",
    "\n",
    "columns = ['Year', 'Month', 'DayofMonth', 'DayOfWeek', 'CRSDepTime', 'CRSArrTime',\n",
    "           'CRSElapsedTime', 'Distance', 'Cancelled', 'Diverted', 'CarrierDelay',\n",
    "           'NASDelay', 'SecurityDelay', 'LateAircraftDelay']\n",
    "\n",
    "model = LinearRegression()\n",
    "model = model.fit(data_with_nulls.dropna()[columns], data_with_nulls[\"WeatherDelay\"].dropna())"
   ]
  },
  {
   "cell_type": "code",
   "execution_count": 20,
   "metadata": {},
   "outputs": [],
   "source": [
    "# impute missing values using regression model\n",
    "# for each row with missing value in WeatherDelay\n",
    "data_with_nulls.loc[data_with_nulls[\"WeatherDelay\"].isna(), \"WeatherDelay\"] = model.predict(\n",
    "    data_with_nulls[data_with_nulls[\"WeatherDelay\"].isna()][columns])"
   ]
  },
  {
   "cell_type": "code",
   "execution_count": 21,
   "metadata": {},
   "outputs": [
    {
     "data": {
      "text/plain": [
       "count   7453215.00\n",
       "mean          0.77\n",
       "std           9.08\n",
       "min          -6.00\n",
       "25%           0.00\n",
       "50%           0.00\n",
       "75%           0.00\n",
       "max        1429.00\n",
       "Name: WeatherDelay, dtype: float64"
      ]
     },
     "metadata": {},
     "output_type": "display_data"
    }
   ],
   "source": [
    "with pd.option_context('display.float_format', '{:.2f}'.format):\n",
    "    display(data_with_nulls[\"WeatherDelay\"].describe())"
   ]
  },
  {
   "cell_type": "code",
   "execution_count": 22,
   "metadata": {},
   "outputs": [],
   "source": [
    "# if value less than 0, set to 0\n",
    "data_with_nulls[\"WeatherDelay\"] = data_with_nulls[\"WeatherDelay\"].map(lambda v: 0 if v < 0 else v)"
   ]
  },
  {
   "cell_type": "code",
   "execution_count": 23,
   "metadata": {},
   "outputs": [
    {
     "data": {
      "text/plain": [
       "count   7453215.00\n",
       "mean          0.77\n",
       "std           9.08\n",
       "min           0.00\n",
       "25%           0.00\n",
       "50%           0.00\n",
       "75%           0.00\n",
       "max        1429.00\n",
       "Name: WeatherDelay, dtype: float64"
      ]
     },
     "metadata": {},
     "output_type": "display_data"
    }
   ],
   "source": [
    "with pd.option_context('display.float_format', '{:.2f}'.format):\n",
    "    display(data_with_nulls[\"WeatherDelay\"].describe())"
   ]
  },
  {
   "cell_type": "markdown",
   "metadata": {},
   "source": [
    "#### SKALOWANIE DANYCH"
   ]
  },
  {
   "cell_type": "code",
   "execution_count": 24,
   "metadata": {},
   "outputs": [],
   "source": [
    "data_to_scale = data_with_nulls.copy()\n",
    "\n",
    "data_minmax = data_to_scale.copy()\n",
    "columns = [column for column in data_minmax.columns if column != 'Cancelled']\n",
    "for column in columns:\n",
    "    data_minmax[column] = (data_minmax[column] - data_minmax[column].min()) / (\n",
    "                data_minmax[column].max() - data_minmax[column].min())"
   ]
  },
  {
   "cell_type": "code",
   "execution_count": 25,
   "metadata": {},
   "outputs": [
    {
     "data": {
      "text/html": [
       "<div>\n",
       "<style scoped>\n",
       "    .dataframe tbody tr th:only-of-type {\n",
       "        vertical-align: middle;\n",
       "    }\n",
       "\n",
       "    .dataframe tbody tr th {\n",
       "        vertical-align: top;\n",
       "    }\n",
       "\n",
       "    .dataframe thead th {\n",
       "        text-align: right;\n",
       "    }\n",
       "</style>\n",
       "<table border=\"1\" class=\"dataframe\">\n",
       "  <thead>\n",
       "    <tr style=\"text-align: right;\">\n",
       "      <th></th>\n",
       "      <th>Year</th>\n",
       "      <th>Month</th>\n",
       "      <th>DayofMonth</th>\n",
       "      <th>DayOfWeek</th>\n",
       "      <th>CRSDepTime</th>\n",
       "      <th>CRSArrTime</th>\n",
       "      <th>CRSElapsedTime</th>\n",
       "      <th>Distance</th>\n",
       "      <th>Cancelled</th>\n",
       "      <th>Diverted</th>\n",
       "      <th>CarrierDelay</th>\n",
       "      <th>WeatherDelay</th>\n",
       "      <th>NASDelay</th>\n",
       "      <th>SecurityDelay</th>\n",
       "      <th>LateAircraftDelay</th>\n",
       "    </tr>\n",
       "  </thead>\n",
       "  <tbody>\n",
       "    <tr>\n",
       "      <th>count</th>\n",
       "      <td>0.00</td>\n",
       "      <td>7453215.00</td>\n",
       "      <td>7453215.00</td>\n",
       "      <td>7453215.00</td>\n",
       "      <td>7453215.00</td>\n",
       "      <td>7453215.00</td>\n",
       "      <td>7453215.00</td>\n",
       "      <td>7453215.00</td>\n",
       "      <td>7453215.00</td>\n",
       "      <td>7453215.00</td>\n",
       "      <td>7453215.00</td>\n",
       "      <td>7453215.00</td>\n",
       "      <td>7453215.00</td>\n",
       "      <td>7453215.00</td>\n",
       "      <td>7453215.00</td>\n",
       "    </tr>\n",
       "    <tr>\n",
       "      <th>mean</th>\n",
       "      <td>NaN</td>\n",
       "      <td>0.50</td>\n",
       "      <td>0.49</td>\n",
       "      <td>0.49</td>\n",
       "      <td>0.56</td>\n",
       "      <td>0.63</td>\n",
       "      <td>0.09</td>\n",
       "      <td>0.18</td>\n",
       "      <td>0.02</td>\n",
       "      <td>0.00</td>\n",
       "      <td>0.00</td>\n",
       "      <td>0.00</td>\n",
       "      <td>0.00</td>\n",
       "      <td>0.00</td>\n",
       "      <td>0.00</td>\n",
       "    </tr>\n",
       "    <tr>\n",
       "      <th>std</th>\n",
       "      <td>NaN</td>\n",
       "      <td>0.31</td>\n",
       "      <td>0.29</td>\n",
       "      <td>0.33</td>\n",
       "      <td>0.19</td>\n",
       "      <td>0.20</td>\n",
       "      <td>0.05</td>\n",
       "      <td>0.15</td>\n",
       "      <td>0.15</td>\n",
       "      <td>0.05</td>\n",
       "      <td>0.01</td>\n",
       "      <td>0.01</td>\n",
       "      <td>0.01</td>\n",
       "      <td>0.00</td>\n",
       "      <td>0.02</td>\n",
       "    </tr>\n",
       "    <tr>\n",
       "      <th>min</th>\n",
       "      <td>NaN</td>\n",
       "      <td>0.00</td>\n",
       "      <td>0.00</td>\n",
       "      <td>0.00</td>\n",
       "      <td>0.00</td>\n",
       "      <td>0.00</td>\n",
       "      <td>0.00</td>\n",
       "      <td>0.00</td>\n",
       "      <td>0.00</td>\n",
       "      <td>0.00</td>\n",
       "      <td>0.00</td>\n",
       "      <td>0.00</td>\n",
       "      <td>0.00</td>\n",
       "      <td>0.00</td>\n",
       "      <td>0.00</td>\n",
       "    </tr>\n",
       "    <tr>\n",
       "      <th>25%</th>\n",
       "      <td>NaN</td>\n",
       "      <td>0.27</td>\n",
       "      <td>0.23</td>\n",
       "      <td>0.17</td>\n",
       "      <td>0.40</td>\n",
       "      <td>0.47</td>\n",
       "      <td>0.05</td>\n",
       "      <td>0.07</td>\n",
       "      <td>0.00</td>\n",
       "      <td>0.00</td>\n",
       "      <td>0.00</td>\n",
       "      <td>0.00</td>\n",
       "      <td>0.00</td>\n",
       "      <td>0.00</td>\n",
       "      <td>0.00</td>\n",
       "    </tr>\n",
       "    <tr>\n",
       "      <th>50%</th>\n",
       "      <td>NaN</td>\n",
       "      <td>0.55</td>\n",
       "      <td>0.50</td>\n",
       "      <td>0.50</td>\n",
       "      <td>0.56</td>\n",
       "      <td>0.64</td>\n",
       "      <td>0.08</td>\n",
       "      <td>0.12</td>\n",
       "      <td>0.00</td>\n",
       "      <td>0.00</td>\n",
       "      <td>0.00</td>\n",
       "      <td>0.00</td>\n",
       "      <td>0.00</td>\n",
       "      <td>0.00</td>\n",
       "      <td>0.00</td>\n",
       "    </tr>\n",
       "    <tr>\n",
       "      <th>75%</th>\n",
       "      <td>NaN</td>\n",
       "      <td>0.73</td>\n",
       "      <td>0.73</td>\n",
       "      <td>0.83</td>\n",
       "      <td>0.72</td>\n",
       "      <td>0.80</td>\n",
       "      <td>0.11</td>\n",
       "      <td>0.23</td>\n",
       "      <td>0.00</td>\n",
       "      <td>0.00</td>\n",
       "      <td>0.00</td>\n",
       "      <td>0.00</td>\n",
       "      <td>0.00</td>\n",
       "      <td>0.00</td>\n",
       "      <td>0.00</td>\n",
       "    </tr>\n",
       "    <tr>\n",
       "      <th>max</th>\n",
       "      <td>NaN</td>\n",
       "      <td>1.00</td>\n",
       "      <td>1.00</td>\n",
       "      <td>1.00</td>\n",
       "      <td>1.00</td>\n",
       "      <td>1.00</td>\n",
       "      <td>1.00</td>\n",
       "      <td>1.00</td>\n",
       "      <td>1.00</td>\n",
       "      <td>1.00</td>\n",
       "      <td>1.00</td>\n",
       "      <td>1.00</td>\n",
       "      <td>1.00</td>\n",
       "      <td>1.00</td>\n",
       "      <td>1.00</td>\n",
       "    </tr>\n",
       "  </tbody>\n",
       "</table>\n",
       "</div>"
      ],
      "text/plain": [
       "       Year      Month  DayofMonth  DayOfWeek  CRSDepTime  CRSArrTime  \\\n",
       "count  0.00 7453215.00  7453215.00 7453215.00  7453215.00  7453215.00   \n",
       "mean    NaN       0.50        0.49       0.49        0.56        0.63   \n",
       "std     NaN       0.31        0.29       0.33        0.19        0.20   \n",
       "min     NaN       0.00        0.00       0.00        0.00        0.00   \n",
       "25%     NaN       0.27        0.23       0.17        0.40        0.47   \n",
       "50%     NaN       0.55        0.50       0.50        0.56        0.64   \n",
       "75%     NaN       0.73        0.73       0.83        0.72        0.80   \n",
       "max     NaN       1.00        1.00       1.00        1.00        1.00   \n",
       "\n",
       "       CRSElapsedTime   Distance  Cancelled   Diverted  CarrierDelay  \\\n",
       "count      7453215.00 7453215.00 7453215.00 7453215.00    7453215.00   \n",
       "mean             0.09       0.18       0.02       0.00          0.00   \n",
       "std              0.05       0.15       0.15       0.05          0.01   \n",
       "min              0.00       0.00       0.00       0.00          0.00   \n",
       "25%              0.05       0.07       0.00       0.00          0.00   \n",
       "50%              0.08       0.12       0.00       0.00          0.00   \n",
       "75%              0.11       0.23       0.00       0.00          0.00   \n",
       "max              1.00       1.00       1.00       1.00          1.00   \n",
       "\n",
       "       WeatherDelay   NASDelay  SecurityDelay  LateAircraftDelay  \n",
       "count    7453215.00 7453215.00     7453215.00         7453215.00  \n",
       "mean           0.00       0.00           0.00               0.00  \n",
       "std            0.01       0.01           0.00               0.02  \n",
       "min            0.00       0.00           0.00               0.00  \n",
       "25%            0.00       0.00           0.00               0.00  \n",
       "50%            0.00       0.00           0.00               0.00  \n",
       "75%            0.00       0.00           0.00               0.00  \n",
       "max            1.00       1.00           1.00               1.00  "
      ]
     },
     "metadata": {},
     "output_type": "display_data"
    }
   ],
   "source": [
    "with pd.option_context('display.float_format', '{:.2f}'.format, 'display.max_rows', None, 'display.max_columns', None):\n",
    "    display(data_minmax.describe())"
   ]
  },
  {
   "cell_type": "code",
   "execution_count": 26,
   "metadata": {},
   "outputs": [],
   "source": [
    "data_standard = data_to_scale.copy()\n",
    "columns = [column for column in data_minmax.columns if column != 'Cancelled']\n",
    "for column in columns:\n",
    "    data_standard[column] = (data_standard[column] - data_standard[column].mean()) / data_standard[column].std()"
   ]
  },
  {
   "cell_type": "code",
   "execution_count": 27,
   "metadata": {},
   "outputs": [
    {
     "data": {
      "text/html": [
       "<div>\n",
       "<style scoped>\n",
       "    .dataframe tbody tr th:only-of-type {\n",
       "        vertical-align: middle;\n",
       "    }\n",
       "\n",
       "    .dataframe tbody tr th {\n",
       "        vertical-align: top;\n",
       "    }\n",
       "\n",
       "    .dataframe thead th {\n",
       "        text-align: right;\n",
       "    }\n",
       "</style>\n",
       "<table border=\"1\" class=\"dataframe\">\n",
       "  <thead>\n",
       "    <tr style=\"text-align: right;\">\n",
       "      <th></th>\n",
       "      <th>Year</th>\n",
       "      <th>Month</th>\n",
       "      <th>DayofMonth</th>\n",
       "      <th>DayOfWeek</th>\n",
       "      <th>CRSDepTime</th>\n",
       "      <th>CRSArrTime</th>\n",
       "      <th>CRSElapsedTime</th>\n",
       "      <th>Distance</th>\n",
       "      <th>Cancelled</th>\n",
       "      <th>Diverted</th>\n",
       "      <th>CarrierDelay</th>\n",
       "      <th>WeatherDelay</th>\n",
       "      <th>NASDelay</th>\n",
       "      <th>SecurityDelay</th>\n",
       "      <th>LateAircraftDelay</th>\n",
       "    </tr>\n",
       "  </thead>\n",
       "  <tbody>\n",
       "    <tr>\n",
       "      <th>count</th>\n",
       "      <td>0.00</td>\n",
       "      <td>7453215.00</td>\n",
       "      <td>7453215.00</td>\n",
       "      <td>7453215.00</td>\n",
       "      <td>7453215.00</td>\n",
       "      <td>7453215.00</td>\n",
       "      <td>7453215.00</td>\n",
       "      <td>7453215.00</td>\n",
       "      <td>7453215.00</td>\n",
       "      <td>7453215.00</td>\n",
       "      <td>7453215.00</td>\n",
       "      <td>7453215.00</td>\n",
       "      <td>7453215.00</td>\n",
       "      <td>7453215.00</td>\n",
       "      <td>7453215.00</td>\n",
       "    </tr>\n",
       "    <tr>\n",
       "      <th>mean</th>\n",
       "      <td>NaN</td>\n",
       "      <td>-0.00</td>\n",
       "      <td>-0.00</td>\n",
       "      <td>-0.00</td>\n",
       "      <td>0.00</td>\n",
       "      <td>-0.00</td>\n",
       "      <td>-0.00</td>\n",
       "      <td>0.00</td>\n",
       "      <td>0.02</td>\n",
       "      <td>0.00</td>\n",
       "      <td>-0.00</td>\n",
       "      <td>0.00</td>\n",
       "      <td>-0.00</td>\n",
       "      <td>-0.00</td>\n",
       "      <td>0.00</td>\n",
       "    </tr>\n",
       "    <tr>\n",
       "      <th>std</th>\n",
       "      <td>NaN</td>\n",
       "      <td>1.00</td>\n",
       "      <td>1.00</td>\n",
       "      <td>1.00</td>\n",
       "      <td>1.00</td>\n",
       "      <td>1.00</td>\n",
       "      <td>1.00</td>\n",
       "      <td>1.00</td>\n",
       "      <td>0.15</td>\n",
       "      <td>1.00</td>\n",
       "      <td>1.00</td>\n",
       "      <td>1.00</td>\n",
       "      <td>1.00</td>\n",
       "      <td>1.00</td>\n",
       "      <td>1.00</td>\n",
       "    </tr>\n",
       "    <tr>\n",
       "      <th>min</th>\n",
       "      <td>NaN</td>\n",
       "      <td>-1.61</td>\n",
       "      <td>-1.68</td>\n",
       "      <td>-1.47</td>\n",
       "      <td>-2.89</td>\n",
       "      <td>-3.14</td>\n",
       "      <td>-1.81</td>\n",
       "      <td>-1.19</td>\n",
       "      <td>0.00</td>\n",
       "      <td>-0.05</td>\n",
       "      <td>-0.19</td>\n",
       "      <td>-0.08</td>\n",
       "      <td>-0.23</td>\n",
       "      <td>-0.02</td>\n",
       "      <td>-0.24</td>\n",
       "    </tr>\n",
       "    <tr>\n",
       "      <th>25%</th>\n",
       "      <td>NaN</td>\n",
       "      <td>-0.73</td>\n",
       "      <td>-0.88</td>\n",
       "      <td>-0.97</td>\n",
       "      <td>-0.85</td>\n",
       "      <td>-0.81</td>\n",
       "      <td>-0.71</td>\n",
       "      <td>-0.75</td>\n",
       "      <td>0.00</td>\n",
       "      <td>-0.05</td>\n",
       "      <td>-0.19</td>\n",
       "      <td>-0.08</td>\n",
       "      <td>-0.23</td>\n",
       "      <td>-0.02</td>\n",
       "      <td>-0.24</td>\n",
       "    </tr>\n",
       "    <tr>\n",
       "      <th>50%</th>\n",
       "      <td>NaN</td>\n",
       "      <td>0.14</td>\n",
       "      <td>0.03</td>\n",
       "      <td>0.03</td>\n",
       "      <td>-0.02</td>\n",
       "      <td>0.04</td>\n",
       "      <td>-0.24</td>\n",
       "      <td>-0.36</td>\n",
       "      <td>0.00</td>\n",
       "      <td>-0.05</td>\n",
       "      <td>-0.19</td>\n",
       "      <td>-0.08</td>\n",
       "      <td>-0.23</td>\n",
       "      <td>-0.02</td>\n",
       "      <td>-0.24</td>\n",
       "    </tr>\n",
       "    <tr>\n",
       "      <th>75%</th>\n",
       "      <td>NaN</td>\n",
       "      <td>0.73</td>\n",
       "      <td>0.83</td>\n",
       "      <td>1.04</td>\n",
       "      <td>0.83</td>\n",
       "      <td>0.82</td>\n",
       "      <td>0.41</td>\n",
       "      <td>0.31</td>\n",
       "      <td>0.00</td>\n",
       "      <td>-0.05</td>\n",
       "      <td>-0.19</td>\n",
       "      <td>-0.08</td>\n",
       "      <td>-0.23</td>\n",
       "      <td>-0.02</td>\n",
       "      <td>-0.24</td>\n",
       "    </tr>\n",
       "    <tr>\n",
       "      <th>max</th>\n",
       "      <td>NaN</td>\n",
       "      <td>1.60</td>\n",
       "      <td>1.74</td>\n",
       "      <td>1.54</td>\n",
       "      <td>2.25</td>\n",
       "      <td>1.84</td>\n",
       "      <td>18.51</td>\n",
       "      <td>5.47</td>\n",
       "      <td>1.00</td>\n",
       "      <td>20.81</td>\n",
       "      <td>123.60</td>\n",
       "      <td>157.32</td>\n",
       "      <td>85.44</td>\n",
       "      <td>352.05</td>\n",
       "      <td>48.22</td>\n",
       "    </tr>\n",
       "  </tbody>\n",
       "</table>\n",
       "</div>"
      ],
      "text/plain": [
       "       Year      Month  DayofMonth  DayOfWeek  CRSDepTime  CRSArrTime  \\\n",
       "count  0.00 7453215.00  7453215.00 7453215.00  7453215.00  7453215.00   \n",
       "mean    NaN      -0.00       -0.00      -0.00        0.00       -0.00   \n",
       "std     NaN       1.00        1.00       1.00        1.00        1.00   \n",
       "min     NaN      -1.61       -1.68      -1.47       -2.89       -3.14   \n",
       "25%     NaN      -0.73       -0.88      -0.97       -0.85       -0.81   \n",
       "50%     NaN       0.14        0.03       0.03       -0.02        0.04   \n",
       "75%     NaN       0.73        0.83       1.04        0.83        0.82   \n",
       "max     NaN       1.60        1.74       1.54        2.25        1.84   \n",
       "\n",
       "       CRSElapsedTime   Distance  Cancelled   Diverted  CarrierDelay  \\\n",
       "count      7453215.00 7453215.00 7453215.00 7453215.00    7453215.00   \n",
       "mean            -0.00       0.00       0.02       0.00         -0.00   \n",
       "std              1.00       1.00       0.15       1.00          1.00   \n",
       "min             -1.81      -1.19       0.00      -0.05         -0.19   \n",
       "25%             -0.71      -0.75       0.00      -0.05         -0.19   \n",
       "50%             -0.24      -0.36       0.00      -0.05         -0.19   \n",
       "75%              0.41       0.31       0.00      -0.05         -0.19   \n",
       "max             18.51       5.47       1.00      20.81        123.60   \n",
       "\n",
       "       WeatherDelay   NASDelay  SecurityDelay  LateAircraftDelay  \n",
       "count    7453215.00 7453215.00     7453215.00         7453215.00  \n",
       "mean           0.00      -0.00          -0.00               0.00  \n",
       "std            1.00       1.00           1.00               1.00  \n",
       "min           -0.08      -0.23          -0.02              -0.24  \n",
       "25%           -0.08      -0.23          -0.02              -0.24  \n",
       "50%           -0.08      -0.23          -0.02              -0.24  \n",
       "75%           -0.08      -0.23          -0.02              -0.24  \n",
       "max          157.32      85.44         352.05              48.22  "
      ]
     },
     "metadata": {},
     "output_type": "display_data"
    }
   ],
   "source": [
    "with pd.option_context('display.float_format', '{:.2f}'.format, 'display.max_rows', None, 'display.max_columns', None):\n",
    "    display(data_standard.describe())"
   ]
  },
  {
   "cell_type": "code",
   "execution_count": 28,
   "metadata": {},
   "outputs": [],
   "source": [
    "# data_standard.to_parquet(\"./data_mow_2007_standard.parquet\")"
   ]
  },
  {
   "cell_type": "code",
   "execution_count": 29,
   "metadata": {},
   "outputs": [],
   "source": [
    "# data_minmax.to_parquet(\"./data_mow_2007_minmax.parquet\")"
   ]
  },
  {
   "cell_type": "markdown",
   "metadata": {
    "collapsed": false
   },
   "source": [
    "### PODZIAŁ DANYCH"
   ]
  },
  {
   "cell_type": "code",
   "execution_count": 5,
   "metadata": {},
   "outputs": [],
   "source": [
    "import pandas as pd\n",
    "import numpy as np\n",
    "import matplotlib.pyplot as plt"
   ]
  },
  {
   "cell_type": "code",
   "execution_count": 1,
   "metadata": {},
   "outputs": [],
   "source": [
    "data_standard = pd.read_parquet(\"./data_mow_2007_standard.parquet\")\n",
    "data_minmax = pd.read_parquet(\"./data_mow_2007_minmax.parquet\")"
   ]
  },
  {
   "cell_type": "code",
   "execution_count": 2,
   "metadata": {
    "collapsed": false
   },
   "outputs": [
    {
     "name": "stdout",
     "output_type": "stream",
     "text": [
      "\n",
      "x_train_standard:  (5962571, 13)\n",
      "x_test_standard:  (1490644, 13)\n",
      "y_train_standard:  (5962571, 1)\n",
      "y_test_standard:  (1490644, 1)\n",
      "\n",
      "x_train_minmax.shape:  (5962571, 13)\n",
      "x_test_minmax.shape:  (1490644, 13)\n",
      "y_train_minmax.shape:  (5962571, 1)\n",
      "y_test_minmax.shape:  (1490644, 1)\n"
     ]
    }
   ],
   "source": [
    "import warnings\n",
    "warnings.simplefilter(action='ignore', category=FutureWarning)\n",
    "\n",
    "columns =['Month', 'DayofMonth', 'DayOfWeek', 'CRSDepTime', 'CRSArrTime',\n",
    "       'CRSElapsedTime', 'Distance', 'Diverted', 'CarrierDelay',\n",
    "       'WeatherDelay', 'NASDelay', 'SecurityDelay', 'LateAircraftDelay', 'Cancelled']\n",
    "\n",
    "def train_test_split(X, Y, test_size):\n",
    "    train_pct_index = int((1 - test_size) * len(X))\n",
    "    train_pct_indexY = int((1 - 0.20) * len(Y))\n",
    "\n",
    "    trainDF_x = pd.DataFrame(X[:train_pct_index], columns = columns)\n",
    "    trainDF_y = pd.DataFrame(Y[:train_pct_indexY], columns = columns)\n",
    "    trainDF = trainDF_x.append(trainDF_y)\n",
    "    trainDF = trainDF.sample(frac=1, random_state=42)\n",
    "    trainDF = trainDF.to_numpy()\n",
    "\n",
    "    testDF_x = pd.DataFrame(X[train_pct_index:], columns = columns)\n",
    "    testDF_y = pd.DataFrame(Y[train_pct_indexY:], columns = columns)\n",
    "    testDF = testDF_x.append(testDF_y)\n",
    "    testDF = testDF.sample(frac=1, random_state=42)\n",
    "    testDF = testDF.to_numpy()\n",
    "\n",
    "    return trainDF[:, :-1], testDF[:, :-1], trainDF[:, -1:], testDF[:, -1:]\n",
    "\n",
    "\n",
    "\n",
    "def splitOfData(dataInput, testSize):\n",
    "    cancelled = dataInput['Cancelled']==1\n",
    "    dataCancelled = dataInput[cancelled]\n",
    "    dataNotCancelled = dataInput[~cancelled]\n",
    "    return train_test_split(dataNotCancelled, dataCancelled, test_size=testSize)\n",
    "\n",
    "data_for_training_standard = data_standard[['Month', 'DayofMonth', 'DayOfWeek', 'CRSDepTime', 'CRSArrTime','CRSElapsedTime', 'Distance', 'Diverted', 'CarrierDelay','WeatherDelay', 'NASDelay', 'SecurityDelay', 'LateAircraftDelay', 'Cancelled']]\n",
    "data_for_training_minmax = data_minmax[['Month', 'DayofMonth', 'DayOfWeek', 'CRSDepTime', 'CRSArrTime','CRSElapsedTime', 'Distance', 'Diverted', 'CarrierDelay','WeatherDelay', 'NASDelay', 'SecurityDelay', 'LateAircraftDelay', 'Cancelled']]\n",
    "\n",
    "x_train_standard, x_test_standard, y_train_standard, y_test_standard = splitOfData(data_for_training_standard, 0.2)\n",
    "x_train_minmax, x_test_minmax, y_train_minmax, y_test_minmax = splitOfData(data_for_training_minmax, 0.2)\n",
    "\n",
    "data_sets = [(\"standarized\", x_train_standard, y_train_standard, x_test_standard, y_test_standard), (\"min-max\", x_train_minmax, y_train_minmax, x_test_minmax, y_test_minmax)]\n",
    "print(\"\")\n",
    "print(\"x_train_standard: \", x_train_standard.shape)\n",
    "print(\"x_test_standard: \", x_test_standard.shape)\n",
    "print(\"y_train_standard: \", y_train_standard.shape)\n",
    "print(\"y_test_standard: \", y_test_standard.shape)\n",
    "\n",
    "print(\"\")\n",
    "print(\"x_train_minmax.shape: \", x_train_minmax.shape)\n",
    "print(\"x_test_minmax.shape: \", x_test_minmax.shape)\n",
    "print(\"y_train_minmax.shape: \", y_train_minmax.shape)\n",
    "print(\"y_test_minmax.shape: \", y_test_minmax.shape)\n"
   ]
  },
  {
   "cell_type": "markdown",
   "metadata": {
    "collapsed": false
   },
   "source": [
    "### MIARY SKUTECZNOŚCI"
   ]
  },
  {
   "cell_type": "code",
   "execution_count": 3,
   "metadata": {
    "collapsed": false
   },
   "outputs": [],
   "source": [
    "from sklearn.metrics import accuracy_score, f1_score, precision_score, recall_score\n",
    "\n",
    "def effectiveness_measures_classifier(y_test, predictions):\n",
    "    acc=accuracy_score(y_test, predictions)\n",
    "    print(\"Prediction Accuracy: \", acc)\n",
    "\n",
    "    f1=f1_score(y_test, predictions)\n",
    "    print(\"F1: \", f1)\n",
    "\n",
    "    precision=precision_score(y_test, predictions)\n",
    "    print(\"Precision: \", precision)\n",
    "\n",
    "    recall=recall_score(y_test, predictions)\n",
    "    print(\"Recall: \", recall)\n",
    "\n",
    "    return acc, f1, precision, recall\n"
   ]
  },
  {
   "cell_type": "markdown",
   "metadata": {
    "collapsed": false
   },
   "source": [
    "### DECISION TREE CLASSIFIER"
   ]
  },
  {
   "cell_type": "code",
   "execution_count": 6,
   "metadata": {
    "collapsed": false
   },
   "outputs": [
    {
     "name": "stdout",
     "output_type": "stream",
     "text": [
      "Decision Tree Classifier (standarized data):\n"
     ]
    },
    {
     "data": {
      "image/png": "[encoded data removed]",
      "text/plain": [
       "<Figure size 432x288 with 2 Axes>"
      ]
     },
     "metadata": {
      "needs_background": "light"
     },
     "output_type": "display_data"
    },
    {
     "name": "stdout",
     "output_type": "stream",
     "text": [
      "Prediction Accuracy:  0.8353979890570787\n",
      "F1:  0.07156884632412204\n",
      "Precision:  0.04074062905219988\n",
      "Recall:  0.2941524105754277\n",
      "\n",
      "Decision Tree Classifier (min-max data):\n"
     ]
    },
    {
     "data": {
      "image/png": "[encoded data removed]",
      "text/plain": [
       "<Figure size 432x288 with 2 Axes>"
      ]
     },
     "metadata": {
      "needs_background": "light"
     },
     "output_type": "display_data"
    },
    {
     "name": "stdout",
     "output_type": "stream",
     "text": [
      "Prediction Accuracy:  0.8298507222381736\n",
      "F1:  0.07082933405625609\n",
      "Precision:  0.040142681549398714\n",
      "Recall:  0.30068429237947125\n",
      "\n"
     ]
    }
   ],
   "source": [
    "from sklearn.metrics import ConfusionMatrixDisplay\n",
    "from sklearn.tree import DecisionTreeClassifier\n",
    "\n",
    "eff_dtc = []\n",
    "\n",
    "for name, x_train, y_train, x_test, y_test in data_sets:\n",
    "    dtc = DecisionTreeClassifier(max_depth=10, class_weight=\"balanced\").fit(x_train, y_train)\n",
    "    pred = dtc.predict(x_test)\n",
    "    print(f\"Decision Tree Classifier ({name} data):\")\n",
    "    ConfusionMatrixDisplay.from_predictions(y_test,pred, normalize='true')\n",
    "    plt.show()\n",
    "    eff_dtc.append(effectiveness_measures_classifier(y_test, pred))\n",
    "    print(\"\")"
   ]
  },
  {
   "cell_type": "markdown",
   "metadata": {},
   "source": [
    "Na powyższych macierzch pomyłek można zauważyć, że model drzewa decyzyjnego dość słabo poradził sobie z klasyfikacją odwołanych lotów. Poprawnie zostało zaklasyfikowane tylko około 30% próbek dodatnich. Trochę lepsze wyniki zostały osiągnięte dla danych przeskalowanych metodą min-max - poprawnie sklasyfikowane zostało o 1% więcej próbek dodatnich. Jeśli chodzi o klasę negatywną tutaj wyniki są dobre - poprawnie sklasyfikowano około 85% próbek."
   ]
  },
  {
   "cell_type": "markdown",
   "metadata": {
    "collapsed": false
   },
   "source": [
    "### GAUSSIAN NB"
   ]
  },
  {
   "cell_type": "code",
   "execution_count": 7,
   "metadata": {
    "collapsed": false
   },
   "outputs": [
    {
     "name": "stdout",
     "output_type": "stream",
     "text": [
      "Gaussian Naive Bayes (standarized data):\n"
     ]
    },
    {
     "data": {
      "image/png": "[encoded data removed]",
      "text/plain": [
       "<Figure size 432x288 with 2 Axes>"
      ]
     },
     "metadata": {
      "needs_background": "light"
     },
     "output_type": "display_data"
    },
    {
     "name": "stdout",
     "output_type": "stream",
     "text": [
      "Prediction Accuracy:  0.2995805839623679\n",
      "F1:  0.05800940478467518\n",
      "Precision:  0.02987116041114194\n",
      "Recall:  0.9999377916018662\n",
      "\n",
      "Gaussian Naive Bayes (min-max data):\n"
     ]
    },
    {
     "data": {
      "image/png": "[encoded data removed]",
      "text/plain": [
       "<Figure size 432x288 with 2 Axes>"
      ]
     },
     "metadata": {
      "needs_background": "light"
     },
     "output_type": "display_data"
    },
    {
     "name": "stdout",
     "output_type": "stream",
     "text": [
      "Prediction Accuracy:  0.30754023093374405\n",
      "F1:  0.05863710856383043\n",
      "Precision:  0.03020415142663599\n",
      "Recall:  0.9999377916018662\n",
      "\n"
     ]
    }
   ],
   "source": [
    "from sklearn.naive_bayes import GaussianNB\n",
    "from numpy import ravel\n",
    "\n",
    "eff_gnb = []\n",
    "\n",
    "for name, x_train, y_train, x_test, y_test in data_sets:\n",
    "    y_train_ravel=ravel(y_train)\n",
    "    gnb = GaussianNB().fit(x_train, y_train_ravel)\n",
    "    pred = gnb.predict(x_test)\n",
    "    print(f\"Gaussian Naive Bayes ({name} data):\")\n",
    "    ConfusionMatrixDisplay.from_predictions(y_test,pred, normalize='true')\n",
    "    plt.show()\n",
    "    eff_gnb.append(effectiveness_measures_classifier(y_test, pred))\n",
    "    print(\"\")"
   ]
  },
  {
   "cell_type": "markdown",
   "metadata": {},
   "source": [
    "Na powyższych macierzch pomyłek można zauważyć, że model naiwny Bayessa przeuczył się względem próbek z klasy pozytywnej - poprawnie zaklasyfikowano prawie 100% próbek. Jednak spowodowało to bardzo niską skuteczność wykrywania próbek ujemnych - czyli lotów, które nie zostały odwołane - jedynie niecałe 30% z nich zostało przewidziane poprawnie. Trochę lepiej radził sobie model z danymi skalowanymi min-max, podobnie jak w poprzednim modelu, uzyskał on wynik o 1% lepszy niż model ze standardowym skalowaniem."
   ]
  },
  {
   "cell_type": "markdown",
   "metadata": {
    "collapsed": false
   },
   "source": [
    "### LOGISTIC REGRESSION"
   ]
  },
  {
   "cell_type": "code",
   "execution_count": 8,
   "metadata": {
    "collapsed": false
   },
   "outputs": [
    {
     "name": "stdout",
     "output_type": "stream",
     "text": [
      "Logistic Regression (standarized data):\n"
     ]
    },
    {
     "data": {
      "image/png": "[encoded data removed]",
      "text/plain": [
       "<Figure size 432x288 with 2 Axes>"
      ]
     },
     "metadata": {
      "needs_background": "light"
     },
     "output_type": "display_data"
    },
    {
     "name": "stdout",
     "output_type": "stream",
     "text": [
      "Prediction Accuracy:  0.906592050147453\n",
      "F1:  0.046732938985650126\n",
      "Precision:  0.029961198799094053\n",
      "Recall:  0.10615863141524105\n",
      "\n",
      "Logistic Regression (min-max data):\n"
     ]
    },
    {
     "data": {
      "image/png": "[encoded data removed]",
      "text/plain": [
       "<Figure size 432x288 with 2 Axes>"
      ]
     },
     "metadata": {
      "needs_background": "light"
     },
     "output_type": "display_data"
    },
    {
     "name": "stdout",
     "output_type": "stream",
     "text": [
      "Prediction Accuracy:  0.9516396939846133\n",
      "F1:  0.03266149593408658\n",
      "Precision:  0.028721797413386197\n",
      "Recall:  0.037853810264385696\n",
      "\n"
     ]
    }
   ],
   "source": [
    "from sklearn.linear_model import LogisticRegression\n",
    "from numpy import ravel\n",
    "\n",
    "eff_lr = []\n",
    "\n",
    "for name, x_train, y_train, x_test, y_test in data_sets:\n",
    "    y_train_ravel=ravel(y_train)\n",
    "    lr = LogisticRegression(random_state=42, max_iter=5000, class_weight=\"balanced\").fit(x_train, y_train_ravel)\n",
    "    pred = lr.predict(x_test)\n",
    "    print(f\"Logistic Regression ({name} data):\")\n",
    "    ConfusionMatrixDisplay.from_predictions(y_test,pred, normalize='true')\n",
    "    plt.show()\n",
    "    eff_lr.append(effectiveness_measures_classifier(y_test, pred))\n",
    "    print(\"\")"
   ]
  },
  {
   "cell_type": "markdown",
   "metadata": {},
   "source": [
    "Na powyższych macierzch pomyłek można zauważyć, że model regresji logistycznej przeuczył się względem próbek z klasy negatywnej - poprawnie zaklasyfikowano ponad 90% próbek. Jednak spowodowało to bardzo niską skuteczność wykrywania próbek dodatnich - czyli lotów, które zostały odwołane - jedynie od 4 do 11 % z nich zostało przewidziane poprawnie. W tym przypadku rodzaj skalowania danych miał duży wpływ na jakość klasyfikacji - dane przeskalowane metodą standardową (czyli w przeciwieństwie do poprzednich dwóch modeli) zaklasyfikował o 8% więcej próbek pozytywnych od modelu ze skalowaniem metodą min-max, przy niższej o około 5% skuteczności przewidywania klasy negatywnej."
   ]
  },
  {
   "cell_type": "markdown",
   "metadata": {},
   "source": [
    "### RANDOM FOREST"
   ]
  },
  {
   "cell_type": "code",
   "execution_count": 9,
   "metadata": {},
   "outputs": [
    {
     "name": "stdout",
     "output_type": "stream",
     "text": [
      "Random Forest Classifier (standarized data):\n"
     ]
    },
    {
     "data": {
      "image/png": "[encoded data removed]",
      "text/plain": [
       "<Figure size 432x288 with 2 Axes>"
      ]
     },
     "metadata": {
      "needs_background": "light"
     },
     "output_type": "display_data"
    },
    {
     "name": "stdout",
     "output_type": "stream",
     "text": [
      "Prediction Accuracy:  0.8991986014098604\n",
      "F1:  0.08331147240948052\n",
      "Precision:  0.051819527188555384\n",
      "Recall:  0.21237947122861586\n",
      "\n",
      "Random Forest Classifier (min-max data):\n"
     ]
    },
    {
     "data": {
      "image/png": "[encoded data removed]",
      "text/plain": [
       "<Figure size 432x288 with 2 Axes>"
      ]
     },
     "metadata": {
      "needs_background": "light"
     },
     "output_type": "display_data"
    },
    {
     "name": "stdout",
     "output_type": "stream",
     "text": [
      "Prediction Accuracy:  0.8950426795398498\n",
      "F1:  0.0893884012758131\n",
      "Precision:  0.05498274405350059\n",
      "Recall:  0.23884914463452567\n",
      "\n"
     ]
    }
   ],
   "source": [
    "from sklearn.ensemble import RandomForestClassifier\n",
    "from numpy import ravel\n",
    "\n",
    "eff_rfc = []\n",
    "\n",
    "for name, x_train, y_train, x_test, y_test in data_sets:\n",
    "    y_train_ravel=ravel(y_train)\n",
    "    rfc = RandomForestClassifier(max_depth=10, random_state=42, class_weight=\"balanced\", n_estimators=12, n_jobs=-1).fit(x_train, y_train_ravel)\n",
    "    pred = rfc.predict(x_test)\n",
    "    print(f\"Random Forest Classifier ({name} data):\")\n",
    "    ConfusionMatrixDisplay.from_predictions(y_test,pred, normalize='true')\n",
    "    plt.show()\n",
    "    eff_rfc.append(effectiveness_measures_classifier(y_test, pred))\n",
    "    print(\"\")"
   ]
  },
  {
   "cell_type": "markdown",
   "metadata": {},
   "source": [
    "Na powyższych macierzch pomyłek można zauważyć, że model lasu losowego najlepiej ze wszystkich modeli poradził sobie z klasyfikacją odwołanych lotów. Poprawnie zostało zaklasyfikowane między 21 a 24% próbek dodatnich oraz 91% próbek ujemnych. Trochę lepsze wyniki zostały osiągnięte dla danych przeskalowanych metodą min-max - poprawnie sklasyfikowane zostało o 3% więcej próbek dodatnich. Mimo niższej skuteczności przewidywania klasy dodatniej, na podstawie wyniku F1 score można stwierdzić, że model lasu losowego ze skalowaniem min-max najlepiej ze wszystkich testowanych  poradził sobie z klasyfikacją danych dotyczących odwołanych lotów."
   ]
  },
  {
   "cell_type": "markdown",
   "metadata": {
    "collapsed": false
   },
   "source": [
    "## WYNIKI"
   ]
  },
  {
   "cell_type": "code",
   "execution_count": 16,
   "metadata": {
    "collapsed": false
   },
   "outputs": [],
   "source": [
    "from prettytable import PrettyTable\n",
    "\n",
    "\n",
    "def add_results(table, normalization_type, model, results):\n",
    "    (acc, f1, prec, recall)= results\n",
    "    table.add_row([normalization_type, model, round(acc, 5), round(f1, 5), round(prec, 5), round(recall, 5)])\n",
    "\n",
    "def create_summary():\n",
    "    summaryTable = PrettyTable(['normalization type', 'model', 'Accuracy', 'F1', 'Precision', 'Recall'])\n",
    "    add_results(summaryTable, \"standard\", \"Decision Tree Classifier\", eff_dtc[0])\n",
    "    add_results(summaryTable, \"min-max\", \"Decision Tree Classifier\", eff_dtc[1])\n",
    "    add_results(summaryTable, \"standard\", \"Gaussian Naive Bayes\", eff_gnb[0])\n",
    "    add_results(summaryTable, \"min-max\", \"Gaussian Naive Bayes\", eff_gnb[1])\n",
    "    add_results(summaryTable, \"standard\", \"Logistic Regression\", eff_lr[0])\n",
    "    add_results(summaryTable, \"min-max\", \"Logistic Regression\", eff_lr[1])\n",
    "    add_results(summaryTable, \"standard\", \"Random Forest Classifier\", eff_rfc[0])\n",
    "    add_results(summaryTable, \"min-max\", \"Random Forest Classifier\", eff_rfc[1])\n",
    "    print(summaryTable)\n"
   ]
  },
  {
   "cell_type": "code",
   "execution_count": 17,
   "metadata": {
    "collapsed": false
   },
   "outputs": [
    {
     "name": "stdout",
     "output_type": "stream",
     "text": [
      "+--------------------+--------------------------+----------+---------+-----------+---------+\n",
      "| normalization type |          model           | Accuracy |    F1   | Precision |  Recall |\n",
      "+--------------------+--------------------------+----------+---------+-----------+---------+\n",
      "|      standard      | Decision Tree Classifier |  0.8354  | 0.07157 |  0.04074  | 0.29415 |\n",
      "|      min-max       | Decision Tree Classifier | 0.82985  | 0.07083 |  0.04014  | 0.30068 |\n",
      "|      standard      |   Gaussian Naive Bayes   | 0.29958  | 0.05801 |  0.02987  | 0.99994 |\n",
      "|      min-max       |   Gaussian Naive Bayes   | 0.30754  | 0.05864 |   0.0302  | 0.99994 |\n",
      "|      standard      |   Logistic Regression    | 0.90659  | 0.04673 |  0.02996  | 0.10616 |\n",
      "|      min-max       |   Logistic Regression    | 0.95164  | 0.03266 |  0.02872  | 0.03785 |\n",
      "|      standard      | Random Forest Classifier |  0.8992  | 0.08331 |  0.05182  | 0.21238 |\n",
      "|      min-max       | Random Forest Classifier | 0.89504  | 0.08939 |  0.05498  | 0.23885 |\n",
      "+--------------------+--------------------------+----------+---------+-----------+---------+\n"
     ]
    }
   ],
   "source": [
    "create_summary()"
   ]
  },
  {
   "cell_type": "markdown",
   "metadata": {
    "collapsed": false
   },
   "source": [
    "### STRATIFIED CROSS VALIDATION"
   ]
  },
  {
   "cell_type": "code",
   "execution_count": 24,
   "metadata": {
    "collapsed": false
   },
   "outputs": [],
   "source": [
    "def cross_validation_split(dataInput):\n",
    "    cancelled = dataInput['Cancelled']==1\n",
    "    dataCancelled = dataInput[cancelled]\n",
    "    dataNotCancelled = dataInput[~cancelled]\n",
    "    DF_x = pd.DataFrame(dataCancelled[:], columns = columns)\n",
    "    DF_y = pd.DataFrame(dataNotCancelled[:], columns = columns)\n",
    "    finalDF = DF_x.append(DF_y)\n",
    "    finalDF = finalDF.sample(frac=1, random_state=42)\n",
    "    finalDF = finalDF.to_numpy()\n",
    "    return finalDF[:, :-1], finalDF[:, -1:]\n"
   ]
  },
  {
   "cell_type": "code",
   "execution_count": 25,
   "metadata": {
    "collapsed": false
   },
   "outputs": [],
   "source": [
    "import numpy as np\n",
    "import pandas as pd\n",
    "import matplotlib.pyplot as plt\n",
    "from sklearn.utils import shuffle\n",
    "def mp(test, predicted):\n",
    "    tn=0\n",
    "    tp=0\n",
    "    fn=0\n",
    "    fp=0\n",
    "    for i in range(len(test)):\n",
    "        if test[i] == predicted[i]:\n",
    "            if test[i] == 0:\n",
    "                tn += 1\n",
    "            else:\n",
    "                tp += 1\n",
    "        else:\n",
    "            if test[i] == 0:\n",
    "                fn += 1\n",
    "            else:\n",
    "                fp += 1\n",
    "    return tp, tn, fn, fp\n",
    "\n",
    "def f1(tp, tn, fn, fp):\n",
    "    return 2*(2*tp/(2*tp+fp+fn))/2"
   ]
  },
  {
   "cell_type": "code",
   "execution_count": 27,
   "metadata": {
    "collapsed": false
   },
   "outputs": [],
   "source": [
    "def cross_validation(df, k, classifier):\n",
    "    tp = 0\n",
    "    tn = 0\n",
    "    fn = 0\n",
    "    fp = 0\n",
    "    sum_f1_score = 0\n",
    "    mod = len(df) % k\n",
    "    if(mod != 0):\n",
    "        df.drop(df.tail(mod).index,inplace=True)\n",
    "    n = int(len(df) / k)\n",
    "    resultSum = 0\n",
    "    for i in range(k):\n",
    "        test = df[i*n:(i+1)*n + 1]\n",
    "        x_test, y_test = cross_validation_split(test)\n",
    "        train = pd.concat([df[:i * n], df[(i+1) * n + 1:]])\n",
    "        x_train, y_train = cross_validation_split(train)\n",
    "        if classifier!= DecisionTreeClassifier(max_depth=10, class_weight=\"balanced\"):\n",
    "            y_train= ravel(y_train)\n",
    "        classifier.fit(x_train,y_train)\n",
    "        predictions = classifier.predict(x_test)\n",
    "        sum_f1_score += f1_score(y_test, predictions)\n",
    "        tp1, tn1, fn1, fp1 = mp(y_test, predictions)\n",
    "        tp += tp1\n",
    "        tn += tn1\n",
    "        fn += fn1\n",
    "        fp += fp1\n",
    "        resultSum += classifier.score(x_test, y_test)\n",
    "    print(\"Classification F1 - own implementation: \" +  str(f1(tp, tn, fn, fp)))\n",
    "    print(\"Classification F1 - build function: \" +  str(sum_f1_score/k))\n",
    "    return resultSum/k"
   ]
  },
  {
   "cell_type": "code",
   "execution_count": 28,
   "metadata": {
    "collapsed": false
   },
   "outputs": [],
   "source": [
    "from sklearn import preprocessing\n",
    "\n",
    "\n",
    "def create_summary_cross_validation(n):\n",
    "    summaryTable = PrettyTable(['scaler', 'model', 'K folds', 'cross validation score'])\n",
    "    summaryTable.add_row([\"standard\", \"Decision Tree Classifier\", n,  cross_validation(data_standard, n, DecisionTreeClassifier(max_depth=10, class_weight=\"balanced\"))])\n",
    "    summaryTable.add_row([\"min-max\", \"Decision Tree Classifier\", n,  cross_validation(data_minmax, n, DecisionTreeClassifier(max_depth=10, class_weight=\"balanced\"))])\n",
    "    summaryTable.add_row([\"standard\", \"Gaussian Naive Bayes\", n, cross_validation(data_standard, n,  GaussianNB())])\n",
    "    summaryTable.add_row([\"min-max\", \"Gaussian Naive Bayes\", n, cross_validation(data_minmax, n,  GaussianNB())])\n",
    "    print(summaryTable)"
   ]
  },
  {
   "cell_type": "code",
   "execution_count": 29,
   "metadata": {
    "collapsed": false
   },
   "outputs": [
    {
     "name": "stdout",
     "output_type": "stream",
     "text": [
      "Classification F1 - own implementation: 0.07602656186475132\n",
      "Classification F1 - build function: 0.07878954555607519\n",
      "Classification F1 - own implementation: 0.07667483432534626\n",
      "Classification F1 - build function: 0.07520731322377108\n",
      "Classification F1 - own implementation: 0.05877414183546071\n",
      "Classification F1 - build function: 0.059054887292804094\n",
      "Classification F1 - own implementation: 0.05932013773656266\n",
      "Classification F1 - build function: 0.05959630228368264\n",
      "+----------+--------------------------+---------+------------------------+\n",
      "|  scaler  |          model           | K folds | cross validation score |\n",
      "+----------+--------------------------+---------+------------------------+\n",
      "| standard | Decision Tree Classifier |    5    |   0.718250077215809    |\n",
      "| min-max  | Decision Tree Classifier |    5    |   0.6864883687234553   |\n",
      "| standard |   Gaussian Naive Bayes   |    5    |   0.309457160655591    |\n",
      "| min-max  |   Gaussian Naive Bayes   |    5    |   0.3168993142369123   |\n",
      "+----------+--------------------------+---------+------------------------+\n"
     ]
    }
   ],
   "source": [
    "create_summary_cross_validation(5)"
   ]
  },
  {
   "cell_type": "code",
   "execution_count": 44,
   "metadata": {
    "collapsed": false
   },
   "outputs": [
    {
     "data": {
      "text/plain": [
       "0.7182504797264018"
      ]
     },
     "execution_count": 44,
     "metadata": {},
     "output_type": "execute_result"
    }
   ],
   "source": [
    "from sklearn import preprocessing\n",
    "cross_validation(data_with_nulls, preprocessing.StandardScaler(), 5,  DecisionTreeClassifier(max_depth=10, class_weight=\"balanced\"))"
   ]
  }
 ],
 "metadata": {
  "kernelspec": {
   "display_name": "Python 3.9.1 ('base')",
   "language": "python",
   "name": "python3"
  },
  "language_info": {
   "codemirror_mode": {
    "name": "ipython",
    "version": 3
   },
   "file_extension": ".py",
   "mimetype": "text/x-python",
   "name": "python",
   "nbconvert_exporter": "python",
   "pygments_lexer": "ipython3",
   "version": "3.9.1"
  },
  "vscode": {
   "interpreter": {
    "hash": "b8be385d48e05b4f2d5b0c548e070dbf7e445fa615772f44dee8b1f60efa8125"
   }
  }
 },
 "nbformat": 4,
 "nbformat_minor": 4
}
