{
 "cells": [
  {
   "cell_type": "markdown",
   "source": [
    "# CZĘŚĆ 1 - OPTYMALIZACJA"
   ],
   "metadata": {
    "collapsed": false
   }
  },
  {
   "cell_type": "markdown",
   "source": [
    "## OPIS ZESTAWU DANYCH\n",
    "Dane składają się z informacji o przylotach i odlotach wszystkich lotów komercyjnych w USA od października 1987 do kwietnia 2008 – przede wszystkim o ich opóźnieniach. Zbiór danych jest bardzo duży (120mln rekordów, 12GB danych) – na potrzeby projektu wykorzystamy jedynie dane z lat 2006-2008 (to ograniczy ich rozmiar do ok. 1.5GB)."
   ],
   "metadata": {
    "collapsed": false
   }
  },
  {
   "cell_type": "code",
   "execution_count": 2,
   "metadata": {},
   "outputs": [],
   "source": [
    "import pandas as pd\n",
    "import numpy as np\n",
    "from sklearn import preprocessing\n",
    "from matplotlib.pyplot import figure\n",
    "from matplotlib import pyplot as plt\n",
    "import statistics\n",
    "from sklearn.impute import KNNImputer\n",
    "import seaborn as sns\n",
    "from pyspark.sql import SparkSession\n",
    "from pyspark.sql.functions import isnull, when, count, col, hour, mean, lit, stddev,abs"
   ]
  },
  {
   "cell_type": "markdown",
   "source": [
    "#### OPIS KLAS\n",
    "W sumie klas jest 29, opisują one następujące informacje:\n",
    "Rok, miesiąc, dzień miesiąca, dzień tygodnia, rzeczywisty czas odlotu, zaplanowany czas odlotu, rzeczywisty czas przylotu, zaplanowany czas przylotu, kod przewoźnika, numer lotu, numer ogonowy samolotu, całkowity czas lotu w minutach, rzeczywisty czas lotu, całkowity czas w powietrzu, opóźnienie lotu w minutach, miejsce startu, miejsce docelowe, odległość w milach, dane dotyczące przyjazdu taksówki, informacje o tym czy lot był anulowany, powód anulowania (pogoda, przewoźnik, ochron, NAS), przekierowanie (tak/nie), opóźnienie przewoźnika w minutach, opóźnienie pogodowe w minutach, opóźnienie NAS w minutach, opóźnienie z powodów bezpieczeństwa w minutach, sumaryczne opóźnienie w minutach."
   ],
   "metadata": {
    "collapsed": false
   }
  },
  {
   "cell_type": "code",
   "execution_count": 3,
   "outputs": [
    {
     "data": {
      "text/plain": "   Year  Month  DayofMonth  DayOfWeek  DepTime  CRSDepTime  ArrTime  \\\n0  2007      1           1          1   1232.0        1225   1341.0   \n1  2007      1           1          1   1918.0        1905   2043.0   \n2  2007      1           1          1   2206.0        2130   2334.0   \n3  2007      1           1          1   1230.0        1200   1356.0   \n4  2007      1           1          1    831.0         830    957.0   \n\n   CRSArrTime UniqueCarrier  FlightNum  ... TaxiIn  TaxiOut  Cancelled  \\\n0        1340            WN       2891  ...    4.0     11.0        0.0   \n1        2035            WN        462  ...    5.0      6.0        0.0   \n2        2300            WN       1229  ...    6.0      9.0        0.0   \n3        1330            WN       1355  ...    3.0      8.0        0.0   \n4        1000            WN       2278  ...    3.0      9.0        0.0   \n\n   CancellationCode  Diverted  CarrierDelay WeatherDelay NASDelay  \\\n0               NaN       0.0           0.0          0.0      0.0   \n1               NaN       0.0           0.0          0.0      0.0   \n2               NaN       0.0           3.0          0.0      0.0   \n3               NaN       0.0          23.0          0.0      0.0   \n4               NaN       0.0           0.0          0.0      0.0   \n\n   SecurityDelay  LateAircraftDelay  \n0            0.0                0.0  \n1            0.0                0.0  \n2            0.0               31.0  \n3            0.0                3.0  \n4            0.0                0.0  \n\n[5 rows x 29 columns]",
      "text/html": "<div>\n<style scoped>\n    .dataframe tbody tr th:only-of-type {\n        vertical-align: middle;\n    }\n\n    .dataframe tbody tr th {\n        vertical-align: top;\n    }\n\n    .dataframe thead th {\n        text-align: right;\n    }\n</style>\n<table border=\"1\" class=\"dataframe\">\n  <thead>\n    <tr style=\"text-align: right;\">\n      <th></th>\n      <th>Year</th>\n      <th>Month</th>\n      <th>DayofMonth</th>\n      <th>DayOfWeek</th>\n      <th>DepTime</th>\n      <th>CRSDepTime</th>\n      <th>ArrTime</th>\n      <th>CRSArrTime</th>\n      <th>UniqueCarrier</th>\n      <th>FlightNum</th>\n      <th>...</th>\n      <th>TaxiIn</th>\n      <th>TaxiOut</th>\n      <th>Cancelled</th>\n      <th>CancellationCode</th>\n      <th>Diverted</th>\n      <th>CarrierDelay</th>\n      <th>WeatherDelay</th>\n      <th>NASDelay</th>\n      <th>SecurityDelay</th>\n      <th>LateAircraftDelay</th>\n    </tr>\n  </thead>\n  <tbody>\n    <tr>\n      <th>0</th>\n      <td>2007</td>\n      <td>1</td>\n      <td>1</td>\n      <td>1</td>\n      <td>1232.0</td>\n      <td>1225</td>\n      <td>1341.0</td>\n      <td>1340</td>\n      <td>WN</td>\n      <td>2891</td>\n      <td>...</td>\n      <td>4.0</td>\n      <td>11.0</td>\n      <td>0.0</td>\n      <td>NaN</td>\n      <td>0.0</td>\n      <td>0.0</td>\n      <td>0.0</td>\n      <td>0.0</td>\n      <td>0.0</td>\n      <td>0.0</td>\n    </tr>\n    <tr>\n      <th>1</th>\n      <td>2007</td>\n      <td>1</td>\n      <td>1</td>\n      <td>1</td>\n      <td>1918.0</td>\n      <td>1905</td>\n      <td>2043.0</td>\n      <td>2035</td>\n      <td>WN</td>\n      <td>462</td>\n      <td>...</td>\n      <td>5.0</td>\n      <td>6.0</td>\n      <td>0.0</td>\n      <td>NaN</td>\n      <td>0.0</td>\n      <td>0.0</td>\n      <td>0.0</td>\n      <td>0.0</td>\n      <td>0.0</td>\n      <td>0.0</td>\n    </tr>\n    <tr>\n      <th>2</th>\n      <td>2007</td>\n      <td>1</td>\n      <td>1</td>\n      <td>1</td>\n      <td>2206.0</td>\n      <td>2130</td>\n      <td>2334.0</td>\n      <td>2300</td>\n      <td>WN</td>\n      <td>1229</td>\n      <td>...</td>\n      <td>6.0</td>\n      <td>9.0</td>\n      <td>0.0</td>\n      <td>NaN</td>\n      <td>0.0</td>\n      <td>3.0</td>\n      <td>0.0</td>\n      <td>0.0</td>\n      <td>0.0</td>\n      <td>31.0</td>\n    </tr>\n    <tr>\n      <th>3</th>\n      <td>2007</td>\n      <td>1</td>\n      <td>1</td>\n      <td>1</td>\n      <td>1230.0</td>\n      <td>1200</td>\n      <td>1356.0</td>\n      <td>1330</td>\n      <td>WN</td>\n      <td>1355</td>\n      <td>...</td>\n      <td>3.0</td>\n      <td>8.0</td>\n      <td>0.0</td>\n      <td>NaN</td>\n      <td>0.0</td>\n      <td>23.0</td>\n      <td>0.0</td>\n      <td>0.0</td>\n      <td>0.0</td>\n      <td>3.0</td>\n    </tr>\n    <tr>\n      <th>4</th>\n      <td>2007</td>\n      <td>1</td>\n      <td>1</td>\n      <td>1</td>\n      <td>831.0</td>\n      <td>830</td>\n      <td>957.0</td>\n      <td>1000</td>\n      <td>WN</td>\n      <td>2278</td>\n      <td>...</td>\n      <td>3.0</td>\n      <td>9.0</td>\n      <td>0.0</td>\n      <td>NaN</td>\n      <td>0.0</td>\n      <td>0.0</td>\n      <td>0.0</td>\n      <td>0.0</td>\n      <td>0.0</td>\n      <td>0.0</td>\n    </tr>\n  </tbody>\n</table>\n<p>5 rows × 29 columns</p>\n</div>"
     },
     "execution_count": 3,
     "metadata": {},
     "output_type": "execute_result"
    }
   ],
   "source": [
    "data = pd.read_csv('./data/2007.xls', delimiter=',')\n",
    "data.head()"
   ],
   "metadata": {
    "collapsed": false
   }
  },
  {
   "cell_type": "markdown",
   "source": [
    "Jak widać w powyższej tabeli, niektóre kolumny zawierają dane tekstowe - UniqueCarrier, TailNum, Origin, Dest i CancellationCode.\n",
    "Z racji tego, że w projekcie chcielibyśmy się skupić na powiązaniach między opóźnieniami/odwołaniami lotów, a momentem ich odbywania, część danych będzie nam zbędna. Dlatego też zdecydowaliśmy się na usuięcie kolumn:\n",
    "- UniqueCarrier - indywidualny kod przewoźnika\n",
    "- TailNum - numer ogonowy\n",
    "- Origin - miejsce rozpoczęcia podróży\n",
    "- Dest - cel podróży\n",
    "- CancellationCode - kod odwołania"
   ],
   "metadata": {
    "collapsed": false
   }
  },
  {
   "cell_type": "code",
   "execution_count": 4,
   "outputs": [],
   "source": [
    "data.drop('UniqueCarrier', inplace=True, axis =1)\n",
    "data.drop('TailNum', inplace=True, axis =1)\n",
    "data.drop('Origin', inplace=True, axis =1)\n",
    "data.drop('Dest', inplace=True, axis =1)\n",
    "data.drop('CancellationCode', inplace=True, axis =1)"
   ],
   "metadata": {
    "collapsed": false
   }
  },
  {
   "cell_type": "code",
   "execution_count": 5,
   "outputs": [
    {
     "data": {
      "text/plain": "            Year         Month    DayofMonth     DayOfWeek       DepTime  \\\ncount  3593413.0  3.593413e+06  3.593413e+06  3.593413e+06  3.502301e+06   \nmean      2007.0  3.454024e+00  1.564337e+01  3.918267e+00  1.340944e+03   \nstd          0.0  1.679768e+00  8.734800e+00  1.980029e+00  4.787119e+02   \nmin       2007.0  1.000000e+00  1.000000e+00  1.000000e+00  1.000000e+00   \n25%       2007.0  2.000000e+00  8.000000e+00  2.000000e+00  9.300000e+02   \n50%       2007.0  3.000000e+00  1.600000e+01  4.000000e+00  1.330000e+03   \n75%       2007.0  5.000000e+00  2.300000e+01  6.000000e+00  1.734000e+03   \nmax       2007.0  6.000000e+00  3.100000e+01  7.000000e+00  2.400000e+03   \n\n         CRSDepTime       ArrTime    CRSArrTime     FlightNum  \\\ncount  3.593413e+06  3.494258e+06  3.593413e+06  3.593413e+06   \nmean   1.331584e+03  1.484115e+03  1.496190e+03  2.237950e+03   \nstd    4.639604e+02  5.055874e+02  4.803858e+02  1.988754e+03   \nmin    0.000000e+00  1.000000e+00  1.000000e+00  1.000000e+00   \n25%    9.300000e+02  1.108000e+03  1.115000e+03  6.170000e+02   \n50%    1.325000e+03  1.514000e+03  1.519000e+03  1.550000e+03   \n75%    1.720000e+03  1.912000e+03  1.907000e+03  3.685000e+03   \nmax    2.359000e+03  2.400000e+03  2.400000e+03  9.600000e+03   \n\n       ActualElapsedTime  ...      Distance        TaxiIn       TaxiOut  \\\ncount       3.494258e+06  ...  3.593412e+06  3.593412e+06  3.593412e+06   \nmean        1.249881e+02  ...  7.081792e+02  6.554661e+00  1.600806e+01   \nstd         7.028618e+01  ...  5.536289e+02  5.165002e+00  1.168459e+01   \nmin         1.200000e+01  ...  1.100000e+01  0.000000e+00  0.000000e+00   \n25%         7.500000e+01  ...  3.140000e+02  4.000000e+00  1.000000e+01   \n50%         1.070000e+02  ...  5.520000e+02  5.000000e+00  1.300000e+01   \n75%         1.550000e+02  ...  9.360000e+02  8.000000e+00  1.900000e+01   \nmax         1.270000e+03  ...  4.962000e+03  5.450000e+02  4.350000e+02   \n\n          Cancelled      Diverted  CarrierDelay  WeatherDelay      NASDelay  \\\ncount  3.593412e+06  3.593412e+06  3.593412e+06  3.593412e+06  3.593412e+06   \nmean   2.535529e-02  2.238263e-03  3.864038e+00  8.129967e-01  3.736539e+00   \nstd    1.572018e-01  4.725731e-02  2.058578e+01  1.001654e+01  1.587624e+01   \nmin    0.000000e+00  0.000000e+00  0.000000e+00  0.000000e+00  0.000000e+00   \n25%    0.000000e+00  0.000000e+00  0.000000e+00  0.000000e+00  0.000000e+00   \n50%    0.000000e+00  0.000000e+00  0.000000e+00  0.000000e+00  0.000000e+00   \n75%    0.000000e+00  0.000000e+00  0.000000e+00  0.000000e+00  0.000000e+00   \nmax    1.000000e+00  1.000000e+00  1.409000e+03  1.137000e+03  1.352000e+03   \n\n       SecurityDelay  LateAircraftDelay  \ncount   3.593412e+06       3.593412e+06  \nmean    2.299653e-02       5.139931e+00  \nstd     1.036474e+00       2.140643e+01  \nmin     0.000000e+00       0.000000e+00  \n25%     0.000000e+00       0.000000e+00  \n50%     0.000000e+00       0.000000e+00  \n75%     0.000000e+00       0.000000e+00  \nmax     3.820000e+02       1.014000e+03  \n\n[8 rows x 24 columns]",
      "text/html": "<div>\n<style scoped>\n    .dataframe tbody tr th:only-of-type {\n        vertical-align: middle;\n    }\n\n    .dataframe tbody tr th {\n        vertical-align: top;\n    }\n\n    .dataframe thead th {\n        text-align: right;\n    }\n</style>\n<table border=\"1\" class=\"dataframe\">\n  <thead>\n    <tr style=\"text-align: right;\">\n      <th></th>\n      <th>Year</th>\n      <th>Month</th>\n      <th>DayofMonth</th>\n      <th>DayOfWeek</th>\n      <th>DepTime</th>\n      <th>CRSDepTime</th>\n      <th>ArrTime</th>\n      <th>CRSArrTime</th>\n      <th>FlightNum</th>\n      <th>ActualElapsedTime</th>\n      <th>...</th>\n      <th>Distance</th>\n      <th>TaxiIn</th>\n      <th>TaxiOut</th>\n      <th>Cancelled</th>\n      <th>Diverted</th>\n      <th>CarrierDelay</th>\n      <th>WeatherDelay</th>\n      <th>NASDelay</th>\n      <th>SecurityDelay</th>\n      <th>LateAircraftDelay</th>\n    </tr>\n  </thead>\n  <tbody>\n    <tr>\n      <th>count</th>\n      <td>3593413.0</td>\n      <td>3.593413e+06</td>\n      <td>3.593413e+06</td>\n      <td>3.593413e+06</td>\n      <td>3.502301e+06</td>\n      <td>3.593413e+06</td>\n      <td>3.494258e+06</td>\n      <td>3.593413e+06</td>\n      <td>3.593413e+06</td>\n      <td>3.494258e+06</td>\n      <td>...</td>\n      <td>3.593412e+06</td>\n      <td>3.593412e+06</td>\n      <td>3.593412e+06</td>\n      <td>3.593412e+06</td>\n      <td>3.593412e+06</td>\n      <td>3.593412e+06</td>\n      <td>3.593412e+06</td>\n      <td>3.593412e+06</td>\n      <td>3.593412e+06</td>\n      <td>3.593412e+06</td>\n    </tr>\n    <tr>\n      <th>mean</th>\n      <td>2007.0</td>\n      <td>3.454024e+00</td>\n      <td>1.564337e+01</td>\n      <td>3.918267e+00</td>\n      <td>1.340944e+03</td>\n      <td>1.331584e+03</td>\n      <td>1.484115e+03</td>\n      <td>1.496190e+03</td>\n      <td>2.237950e+03</td>\n      <td>1.249881e+02</td>\n      <td>...</td>\n      <td>7.081792e+02</td>\n      <td>6.554661e+00</td>\n      <td>1.600806e+01</td>\n      <td>2.535529e-02</td>\n      <td>2.238263e-03</td>\n      <td>3.864038e+00</td>\n      <td>8.129967e-01</td>\n      <td>3.736539e+00</td>\n      <td>2.299653e-02</td>\n      <td>5.139931e+00</td>\n    </tr>\n    <tr>\n      <th>std</th>\n      <td>0.0</td>\n      <td>1.679768e+00</td>\n      <td>8.734800e+00</td>\n      <td>1.980029e+00</td>\n      <td>4.787119e+02</td>\n      <td>4.639604e+02</td>\n      <td>5.055874e+02</td>\n      <td>4.803858e+02</td>\n      <td>1.988754e+03</td>\n      <td>7.028618e+01</td>\n      <td>...</td>\n      <td>5.536289e+02</td>\n      <td>5.165002e+00</td>\n      <td>1.168459e+01</td>\n      <td>1.572018e-01</td>\n      <td>4.725731e-02</td>\n      <td>2.058578e+01</td>\n      <td>1.001654e+01</td>\n      <td>1.587624e+01</td>\n      <td>1.036474e+00</td>\n      <td>2.140643e+01</td>\n    </tr>\n    <tr>\n      <th>min</th>\n      <td>2007.0</td>\n      <td>1.000000e+00</td>\n      <td>1.000000e+00</td>\n      <td>1.000000e+00</td>\n      <td>1.000000e+00</td>\n      <td>0.000000e+00</td>\n      <td>1.000000e+00</td>\n      <td>1.000000e+00</td>\n      <td>1.000000e+00</td>\n      <td>1.200000e+01</td>\n      <td>...</td>\n      <td>1.100000e+01</td>\n      <td>0.000000e+00</td>\n      <td>0.000000e+00</td>\n      <td>0.000000e+00</td>\n      <td>0.000000e+00</td>\n      <td>0.000000e+00</td>\n      <td>0.000000e+00</td>\n      <td>0.000000e+00</td>\n      <td>0.000000e+00</td>\n      <td>0.000000e+00</td>\n    </tr>\n    <tr>\n      <th>25%</th>\n      <td>2007.0</td>\n      <td>2.000000e+00</td>\n      <td>8.000000e+00</td>\n      <td>2.000000e+00</td>\n      <td>9.300000e+02</td>\n      <td>9.300000e+02</td>\n      <td>1.108000e+03</td>\n      <td>1.115000e+03</td>\n      <td>6.170000e+02</td>\n      <td>7.500000e+01</td>\n      <td>...</td>\n      <td>3.140000e+02</td>\n      <td>4.000000e+00</td>\n      <td>1.000000e+01</td>\n      <td>0.000000e+00</td>\n      <td>0.000000e+00</td>\n      <td>0.000000e+00</td>\n      <td>0.000000e+00</td>\n      <td>0.000000e+00</td>\n      <td>0.000000e+00</td>\n      <td>0.000000e+00</td>\n    </tr>\n    <tr>\n      <th>50%</th>\n      <td>2007.0</td>\n      <td>3.000000e+00</td>\n      <td>1.600000e+01</td>\n      <td>4.000000e+00</td>\n      <td>1.330000e+03</td>\n      <td>1.325000e+03</td>\n      <td>1.514000e+03</td>\n      <td>1.519000e+03</td>\n      <td>1.550000e+03</td>\n      <td>1.070000e+02</td>\n      <td>...</td>\n      <td>5.520000e+02</td>\n      <td>5.000000e+00</td>\n      <td>1.300000e+01</td>\n      <td>0.000000e+00</td>\n      <td>0.000000e+00</td>\n      <td>0.000000e+00</td>\n      <td>0.000000e+00</td>\n      <td>0.000000e+00</td>\n      <td>0.000000e+00</td>\n      <td>0.000000e+00</td>\n    </tr>\n    <tr>\n      <th>75%</th>\n      <td>2007.0</td>\n      <td>5.000000e+00</td>\n      <td>2.300000e+01</td>\n      <td>6.000000e+00</td>\n      <td>1.734000e+03</td>\n      <td>1.720000e+03</td>\n      <td>1.912000e+03</td>\n      <td>1.907000e+03</td>\n      <td>3.685000e+03</td>\n      <td>1.550000e+02</td>\n      <td>...</td>\n      <td>9.360000e+02</td>\n      <td>8.000000e+00</td>\n      <td>1.900000e+01</td>\n      <td>0.000000e+00</td>\n      <td>0.000000e+00</td>\n      <td>0.000000e+00</td>\n      <td>0.000000e+00</td>\n      <td>0.000000e+00</td>\n      <td>0.000000e+00</td>\n      <td>0.000000e+00</td>\n    </tr>\n    <tr>\n      <th>max</th>\n      <td>2007.0</td>\n      <td>6.000000e+00</td>\n      <td>3.100000e+01</td>\n      <td>7.000000e+00</td>\n      <td>2.400000e+03</td>\n      <td>2.359000e+03</td>\n      <td>2.400000e+03</td>\n      <td>2.400000e+03</td>\n      <td>9.600000e+03</td>\n      <td>1.270000e+03</td>\n      <td>...</td>\n      <td>4.962000e+03</td>\n      <td>5.450000e+02</td>\n      <td>4.350000e+02</td>\n      <td>1.000000e+00</td>\n      <td>1.000000e+00</td>\n      <td>1.409000e+03</td>\n      <td>1.137000e+03</td>\n      <td>1.352000e+03</td>\n      <td>3.820000e+02</td>\n      <td>1.014000e+03</td>\n    </tr>\n  </tbody>\n</table>\n<p>8 rows × 24 columns</p>\n</div>"
     },
     "execution_count": 5,
     "metadata": {},
     "output_type": "execute_result"
    }
   ],
   "source": [
    "data.describe()"
   ],
   "metadata": {
    "collapsed": false
   }
  },
  {
   "cell_type": "markdown",
   "source": [
    "#### TO DO: dodać komentarz dotyczący średnich"
   ],
   "metadata": {
    "collapsed": false
   }
  },
  {
   "cell_type": "markdown",
   "source": [
    "## WIZUALIZACJA DANYCH"
   ],
   "metadata": {
    "collapsed": false
   }
  },
  {
   "cell_type": "markdown",
   "source": [
    "### BOXPLOTY"
   ],
   "metadata": {
    "collapsed": false
   }
  },
  {
   "cell_type": "code",
   "execution_count": null,
   "outputs": [],
   "source": [
    "fig, axes = plt.subplots(6,4, figsize=(10,10))\n",
    "for c, i in zip(data.columns, range(0,24)):\n",
    "    a = data.boxplot(column=c, ax=axes.flatten()[i])\n",
    "plt.tight_layout()\n",
    "plt.show()"
   ],
   "metadata": {
    "collapsed": false,
    "pycharm": {
     "is_executing": true
    }
   }
  },
  {
   "cell_type": "markdown",
   "source": [
    "#### TO DO: Dodać komentarz dotyczący boxplotów"
   ],
   "metadata": {
    "collapsed": false
   },
   "execution_count": 62
  },
  {
   "cell_type": "markdown",
   "source": [
    "### HISTOGRAMY"
   ],
   "metadata": {
    "collapsed": false
   }
  },
  {
   "cell_type": "code",
   "execution_count": null,
   "outputs": [],
   "source": [
    "fig, axes = plt.subplots(4, 6, figsize=(10,10))\n",
    "data = data.toPandas()\n",
    "for c, i in zip(data.columns, range(0,24)):\n",
    "    a = data.hist(column=c, ax=axes.flatten()[i])\n",
    "plt.tight_layout()\n",
    "plt.show()"
   ],
   "metadata": {
    "collapsed": false,
    "pycharm": {
     "is_executing": true
    }
   }
  },
  {
   "cell_type": "markdown",
   "source": [
    "#### TO DO: Dodać komentarz dotyczący histogramów"
   ],
   "metadata": {
    "collapsed": false
   }
  },
  {
   "cell_type": "markdown",
   "source": [
    "### SCATTER PLOT"
   ],
   "metadata": {
    "collapsed": false
   }
  },
  {
   "cell_type": "code",
   "execution_count": null,
   "outputs": [],
   "source": [
    "plt.scatter(data)"
   ],
   "metadata": {
    "collapsed": false,
    "pycharm": {
     "is_executing": true
    }
   }
  },
  {
   "cell_type": "markdown",
   "source": [
    "#### TO DO: Dodać komentarz dotyczący scatterplot"
   ],
   "metadata": {
    "collapsed": false
   }
  },
  {
   "cell_type": "markdown",
   "source": [
    "## PROBLEMY Z DANYMI - DANE BRAKUJĄCE, NIEPRAWIDŁOWE, ODSTAJĄCE"
   ],
   "metadata": {
    "collapsed": false
   }
  },
  {
   "cell_type": "markdown",
   "source": [
    "### SPRAWDZENIE POPRAWNOŚCI TYPÓW DANYCH"
   ],
   "metadata": {
    "collapsed": false
   }
  },
  {
   "cell_type": "code",
   "execution_count": null,
   "outputs": [],
   "source": [
    "import pyarrow as pa\n",
    "\n",
    "table = pa.Table.from_pandas(data)\n",
    "print(table.schema)"
   ],
   "metadata": {
    "collapsed": false,
    "pycharm": {
     "is_executing": true
    }
   }
  },
  {
   "cell_type": "markdown",
   "source": [
    "#### TO DO: Dodać komentarz dotyczący danych w złym formacie"
   ],
   "metadata": {
    "collapsed": false
   }
  },
  {
   "cell_type": "markdown",
   "source": [
    "### USUWANIE DANYCH ODSTAJĄCYCH"
   ],
   "metadata": {
    "collapsed": false
   }
  },
  {
   "cell_type": "code",
   "execution_count": null,
   "outputs": [],
   "source": [
    "sizeBefore = np.shape(data)[0]\n",
    "for col in data.columns:\n",
    "    data = data[np.abs(data[col]-data[col].mean()) <= (3*data[col].std())]\n",
    "sizeAfter =  np.shape(data)[0]\n",
    "print(\"Count of reduced rows: \", sizeBefore - sizeAfter)\n",
    "print(\"Percent od reduced rows: \", 100*sum(sizeBefore - sizeAfter)/sum(sizeBefore))"
   ],
   "metadata": {
    "collapsed": false,
    "pycharm": {
     "is_executing": true
    }
   }
  },
  {
   "cell_type": "markdown",
   "source": [
    "#### TO DO: Dodać komentarz dotyczący danych odstających"
   ],
   "metadata": {
    "collapsed": false
   }
  },
  {
   "cell_type": "markdown",
   "source": [
    "### NAPRAWA WIERSZY Z PUSTYMI DANYMI"
   ],
   "metadata": {
    "collapsed": false
   }
  },
  {
   "cell_type": "code",
   "execution_count": null,
   "outputs": [],
   "source": [
    "# Obliczenie ilosci pustych danych\n",
    "np.max(np.sum(data.isna()))"
   ],
   "metadata": {
    "collapsed": false,
    "pycharm": {
     "is_executing": true
    }
   }
  },
  {
   "cell_type": "code",
   "execution_count": null,
   "outputs": [],
   "source": [
    "sizeBeforeDeleteNull= data.count()\n",
    "dataWithoutNull = data.dropna()\n",
    "sizeAfterDeleteNull =  dataWithoutNull.count()\n",
    "print(\"Usunieto: \", sizeBeforeDeleteNull - sizeAfterDeleteNull)\n",
    "\n",
    "print(\"Percent od reduced rows: \", 100*sum(sizeBeforeDeleteNull - sizeAfterDeleteNull)/sum(sizeBeforeDeleteNull))"
   ],
   "metadata": {
    "collapsed": false,
    "pycharm": {
     "is_executing": true
    }
   }
  },
  {
   "cell_type": "code",
   "execution_count": null,
   "outputs": [],
   "source": [
    "### TO DO: ZMIENIC SPOSÓB RADZENIA SOBIE Z PUSTYMI DANYMI\n",
    "### TO DO: Dodać komentarz dotyczący danych pustych"
   ],
   "metadata": {
    "collapsed": false,
    "pycharm": {
     "is_executing": true
    }
   }
  },
  {
   "cell_type": "markdown",
   "source": [
    "# KORELACJE"
   ],
   "metadata": {
    "collapsed": false
   }
  },
  {
   "cell_type": "code",
   "execution_count": null,
   "outputs": [],
   "source": [
    "sns.pairplot(data)"
   ],
   "metadata": {
    "collapsed": false,
    "pycharm": {
     "is_executing": true
    }
   }
  },
  {
   "cell_type": "markdown",
   "source": [],
   "metadata": {
    "collapsed": false
   }
  },
  {
   "cell_type": "code",
   "execution_count": null,
   "outputs": [],
   "source": [
    "plt.figure(figsize=(20, 20), dpi=80)\n",
    "corrMatrix = data.corr()\n",
    "sns.heatmap(corrMatrix, annot=True)\n",
    "plt.show()"
   ],
   "metadata": {
    "collapsed": false,
    "pycharm": {
     "is_executing": true
    }
   }
  },
  {
   "cell_type": "markdown",
   "source": [
    "#### TO DO: Dodać komentarz dotyczący korelacji między danymi, ew dodać pairploty do wybranych danych"
   ],
   "metadata": {
    "collapsed": false
   }
  },
  {
   "cell_type": "code",
   "execution_count": null,
   "metadata": {
    "pycharm": {
     "is_executing": true
    }
   },
   "outputs": [],
   "source": [
    "### TO DO: \"Normalizacja danych (przedstawić wyniki min-max i standaryzacji). Zastanowić się nad zakresem skalowania danych\"\n"
   ]
  },
  {
   "cell_type": "markdown",
   "source": [
    "# REDUKCJA WYMIAROWOŚCI"
   ],
   "metadata": {
    "collapsed": false
   }
  },
  {
   "cell_type": "code",
   "execution_count": null,
   "outputs": [],
   "source": [
    "### TO DO: Genetyczna optymalizacja cech"
   ],
   "metadata": {
    "collapsed": false,
    "pycharm": {
     "is_executing": true
    }
   }
  },
  {
   "cell_type": "code",
   "execution_count": null,
   "outputs": [],
   "source": [
    "# Genetyczna optymalizacja cech - NA RAZIE SAMA SELEKCJA NA PODSTAWIE KORELACJI\n",
    "pandasDF = data.filter([\"DayOfWeek\", \"DayofMonth\", \"Distance\", \"DepTime\", \"Cancelled\", \"Diverted\", \"LateAircraftDelay\", \"DepDelay\", \"ArrDelay\"], axis = 1)"
   ],
   "metadata": {
    "collapsed": false,
    "pycharm": {
     "is_executing": true
    }
   }
  },
  {
   "cell_type": "code",
   "execution_count": null,
   "outputs": [],
   "source": [
    "spark = SparkSession.builder.master(\"local\").appName(\"Project\").getOrCreate()\n",
    "sparkDF=spark.createDataFrame(pandasDF)\n",
    "sparkDF.printSchema()\n",
    "sparkDF.show()"
   ],
   "metadata": {
    "collapsed": false,
    "pycharm": {
     "is_executing": true
    }
   }
  },
  {
   "cell_type": "code",
   "execution_count": null,
   "metadata": {
    "pycharm": {
     "is_executing": true
    }
   },
   "outputs": [],
   "source": [
    "#wybor algorytmu uczenia maszynowego- min 3 modele i wybrac najlepszy"
   ]
  },
  {
   "cell_type": "code",
   "execution_count": null,
   "metadata": {
    "pycharm": {
     "is_executing": true
    }
   },
   "outputs": [],
   "source": [
    "#przetestowanie zespolu klasyfikatorow pjedyncznych i porownanie wynikow"
   ]
  },
  {
   "cell_type": "code",
   "execution_count": null,
   "metadata": {
    "pycharm": {
     "is_executing": true
    }
   },
   "outputs": [],
   "source": [
    "#wybranie odpowiedniej metryki wraz z komentarzem, dkonanie testow innych metryk, przedstawienie wynikow (czulosc, precyzja, f1, accuracy, macierz pmylek), reczna walidacja krzyzowa  testwanie na niej wszytkich miar"
   ]
  },
  {
   "cell_type": "code",
   "execution_count": null,
   "metadata": {
    "pycharm": {
     "is_executing": true
    }
   },
   "outputs": [],
   "source": [
    "# optymalizacja parametrow klasyfikatorow"
   ]
  },
  {
   "cell_type": "code",
   "execution_count": null,
   "metadata": {
    "pycharm": {
     "is_executing": true
    }
   },
   "outputs": [],
   "source": [
    "# wyniki"
   ]
  }
 ],
 "metadata": {
  "kernelspec": {
   "display_name": "Python 3",
   "language": "python",
   "name": "python3"
  },
  "language_info": {
   "codemirror_mode": {
    "name": "ipython",
    "version": 3
   },
   "file_extension": ".py",
   "mimetype": "text/x-python",
   "name": "python",
   "nbconvert_exporter": "python",
   "pygments_lexer": "ipython3",
   "version": "3.8.5"
  }
 },
 "nbformat": 4,
 "nbformat_minor": 4
}
