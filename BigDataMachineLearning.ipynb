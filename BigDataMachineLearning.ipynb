{
 "cells": [
  {
   "cell_type": "markdown",
   "source": [
    "# CZĘŚĆ 1 - OPTYMALIZACJA"
   ],
   "metadata": {
    "collapsed": false
   }
  },
  {
   "cell_type": "markdown",
   "source": [
    "## OPIS ZESTAWU DANYCH\n",
    "Dane składają się z informacji o przylotach i odlotach wszystkich lotów komercyjnych w USA od października 1987 do kwietnia 2008 – przede wszystkim o ich opóźnieniach. Zbiór danych jest bardzo duży (120mln rekordów, 12GB danych) – na potrzeby projektu wykorzystamy jedynie dane z lat 2006-2008 (to ograniczy ich rozmiar do ok. 1.5GB)."
   ],
   "metadata": {
    "collapsed": false
   }
  },
  {
   "cell_type": "code",
   "execution_count": 1,
   "metadata": {},
   "outputs": [],
   "source": [
    "import pandas as pd\n",
    "import numpy as np\n",
    "from sklearn import preprocessing\n",
    "from matplotlib.pyplot import figure\n",
    "from matplotlib import pyplot as plt\n",
    "import statistics\n",
    "from sklearn.impute import KNNImputer\n",
    "import seaborn as sns\n",
    "from pyspark.sql import SparkSession\n",
    "from pyspark.sql.functions import isnull, when, count, col, hour, mean, lit, stddev,abs"
   ]
  },
  {
   "cell_type": "markdown",
   "source": [
    "#### OPIS KLAS\n",
    "W sumie klas jest 29, opisują one następujące informacje:\n",
    "Rok, miesiąc, dzień miesiąca, dzień tygodnia, rzeczywisty czas odlotu, zaplanowany czas odlotu, rzeczywisty czas przylotu, zaplanowany czas przylotu, kod przewoźnika, numer lotu, numer ogonowy samolotu, całkowity czas lotu w minutach, rzeczywisty czas lotu, całkowity czas w powietrzu, opóźnienie lotu w minutach, miejsce startu, miejsce docelowe, odległość w milach, dane dotyczące przyjazdu taksówki, informacje o tym czy lot był anulowany, powód anulowania (pogoda, przewoźnik, ochron, NAS), przekierowanie (tak/nie), opóźnienie przewoźnika w minutach, opóźnienie pogodowe w minutach, opóźnienie NAS w minutach, opóźnienie z powodów bezpieczeństwa w minutach, sumaryczne opóźnienie w minutach."
   ],
   "metadata": {
    "collapsed": false
   }
  },
  {
   "cell_type": "code",
   "execution_count": 2,
   "outputs": [
    {
     "data": {
      "text/plain": "   Year  Month  DayofMonth  DayOfWeek  DepTime  CRSDepTime  ArrTime  \\\n0  2007      1           1          1   1232.0        1225   1341.0   \n1  2007      1           1          1   1918.0        1905   2043.0   \n2  2007      1           1          1   2206.0        2130   2334.0   \n3  2007      1           1          1   1230.0        1200   1356.0   \n4  2007      1           1          1    831.0         830    957.0   \n\n   CRSArrTime UniqueCarrier  FlightNum  ... TaxiIn  TaxiOut  Cancelled  \\\n0        1340            WN       2891  ...    4.0     11.0        0.0   \n1        2035            WN        462  ...    5.0      6.0        0.0   \n2        2300            WN       1229  ...    6.0      9.0        0.0   \n3        1330            WN       1355  ...    3.0      8.0        0.0   \n4        1000            WN       2278  ...    3.0      9.0        0.0   \n\n   CancellationCode  Diverted  CarrierDelay WeatherDelay NASDelay  \\\n0               NaN       0.0           0.0          0.0      0.0   \n1               NaN       0.0           0.0          0.0      0.0   \n2               NaN       0.0           3.0          0.0      0.0   \n3               NaN       0.0          23.0          0.0      0.0   \n4               NaN       0.0           0.0          0.0      0.0   \n\n   SecurityDelay  LateAircraftDelay  \n0            0.0                0.0  \n1            0.0                0.0  \n2            0.0               31.0  \n3            0.0                3.0  \n4            0.0                0.0  \n\n[5 rows x 29 columns]",
      "text/html": "<div>\n<style scoped>\n    .dataframe tbody tr th:only-of-type {\n        vertical-align: middle;\n    }\n\n    .dataframe tbody tr th {\n        vertical-align: top;\n    }\n\n    .dataframe thead th {\n        text-align: right;\n    }\n</style>\n<table border=\"1\" class=\"dataframe\">\n  <thead>\n    <tr style=\"text-align: right;\">\n      <th></th>\n      <th>Year</th>\n      <th>Month</th>\n      <th>DayofMonth</th>\n      <th>DayOfWeek</th>\n      <th>DepTime</th>\n      <th>CRSDepTime</th>\n      <th>ArrTime</th>\n      <th>CRSArrTime</th>\n      <th>UniqueCarrier</th>\n      <th>FlightNum</th>\n      <th>...</th>\n      <th>TaxiIn</th>\n      <th>TaxiOut</th>\n      <th>Cancelled</th>\n      <th>CancellationCode</th>\n      <th>Diverted</th>\n      <th>CarrierDelay</th>\n      <th>WeatherDelay</th>\n      <th>NASDelay</th>\n      <th>SecurityDelay</th>\n      <th>LateAircraftDelay</th>\n    </tr>\n  </thead>\n  <tbody>\n    <tr>\n      <th>0</th>\n      <td>2007</td>\n      <td>1</td>\n      <td>1</td>\n      <td>1</td>\n      <td>1232.0</td>\n      <td>1225</td>\n      <td>1341.0</td>\n      <td>1340</td>\n      <td>WN</td>\n      <td>2891</td>\n      <td>...</td>\n      <td>4.0</td>\n      <td>11.0</td>\n      <td>0.0</td>\n      <td>NaN</td>\n      <td>0.0</td>\n      <td>0.0</td>\n      <td>0.0</td>\n      <td>0.0</td>\n      <td>0.0</td>\n      <td>0.0</td>\n    </tr>\n    <tr>\n      <th>1</th>\n      <td>2007</td>\n      <td>1</td>\n      <td>1</td>\n      <td>1</td>\n      <td>1918.0</td>\n      <td>1905</td>\n      <td>2043.0</td>\n      <td>2035</td>\n      <td>WN</td>\n      <td>462</td>\n      <td>...</td>\n      <td>5.0</td>\n      <td>6.0</td>\n      <td>0.0</td>\n      <td>NaN</td>\n      <td>0.0</td>\n      <td>0.0</td>\n      <td>0.0</td>\n      <td>0.0</td>\n      <td>0.0</td>\n      <td>0.0</td>\n    </tr>\n    <tr>\n      <th>2</th>\n      <td>2007</td>\n      <td>1</td>\n      <td>1</td>\n      <td>1</td>\n      <td>2206.0</td>\n      <td>2130</td>\n      <td>2334.0</td>\n      <td>2300</td>\n      <td>WN</td>\n      <td>1229</td>\n      <td>...</td>\n      <td>6.0</td>\n      <td>9.0</td>\n      <td>0.0</td>\n      <td>NaN</td>\n      <td>0.0</td>\n      <td>3.0</td>\n      <td>0.0</td>\n      <td>0.0</td>\n      <td>0.0</td>\n      <td>31.0</td>\n    </tr>\n    <tr>\n      <th>3</th>\n      <td>2007</td>\n      <td>1</td>\n      <td>1</td>\n      <td>1</td>\n      <td>1230.0</td>\n      <td>1200</td>\n      <td>1356.0</td>\n      <td>1330</td>\n      <td>WN</td>\n      <td>1355</td>\n      <td>...</td>\n      <td>3.0</td>\n      <td>8.0</td>\n      <td>0.0</td>\n      <td>NaN</td>\n      <td>0.0</td>\n      <td>23.0</td>\n      <td>0.0</td>\n      <td>0.0</td>\n      <td>0.0</td>\n      <td>3.0</td>\n    </tr>\n    <tr>\n      <th>4</th>\n      <td>2007</td>\n      <td>1</td>\n      <td>1</td>\n      <td>1</td>\n      <td>831.0</td>\n      <td>830</td>\n      <td>957.0</td>\n      <td>1000</td>\n      <td>WN</td>\n      <td>2278</td>\n      <td>...</td>\n      <td>3.0</td>\n      <td>9.0</td>\n      <td>0.0</td>\n      <td>NaN</td>\n      <td>0.0</td>\n      <td>0.0</td>\n      <td>0.0</td>\n      <td>0.0</td>\n      <td>0.0</td>\n      <td>0.0</td>\n    </tr>\n  </tbody>\n</table>\n<p>5 rows × 29 columns</p>\n</div>"
     },
     "execution_count": 2,
     "metadata": {},
     "output_type": "execute_result"
    }
   ],
   "source": [
    "#TO DO dodać czytanie z kilku plików na raz\n",
    "data = pd.read_csv('./data/2007.xls', delimiter=',')\n",
    "data.head()"
   ],
   "metadata": {
    "collapsed": false
   }
  },
  {
   "cell_type": "code",
   "execution_count": 4,
   "outputs": [],
   "source": [
    "data.to_parquet(\"2007.gzip\", compression='gzip')"
   ],
   "metadata": {
    "collapsed": false
   }
  },
  {
   "cell_type": "markdown",
   "source": [
    "  Jak widać w powyższej tabeli, niektóre kolumny zawierają dane tekstowe - UniqueCarrier, TailNum, Origin, Dest i CancellationCode.\n",
    "Z racji tego, że w projekcie chcielibyśmy się skupić na powiązaniach między opóźnieniami/odwołaniami lotów, a momentem ich odbywania, część danych będzie nam zbędna. Dlatego też zdecydowaliśmy się na usuięcie kolumn:\n",
    "- UniqueCarrier - indywidualny kod przewoźnika\n",
    "- TailNum - numer ogonowy\n",
    "- Origin - miejsce rozpoczęcia podróży\n",
    "- Dest - cel podróży\n",
    "- CancellationCode - kod odwołania"
   ],
   "metadata": {
    "collapsed": false
   }
  },
  {
   "cell_type": "code",
   "execution_count": 18,
   "outputs": [],
   "source": [
    "data.drop('UniqueCarrier', inplace=True, axis =1)\n",
    "data.drop('TailNum', inplace=True, axis =1)\n",
    "data.drop('Origin', inplace=True, axis =1)\n",
    "data.drop('Dest', inplace=True, axis =1)\n",
    "data.drop('CancellationCode', inplace=True, axis =1)"
   ],
   "metadata": {
    "collapsed": false
   }
  },
  {
   "cell_type": "code",
   "execution_count": 19,
   "outputs": [
    {
     "data": {
      "text/plain": "            Year         Month    DayofMonth     DayOfWeek       DepTime  \\\ncount  3593413.0  3.593413e+06  3.593413e+06  3.593413e+06  3.502301e+06   \nmean      2007.0  3.454024e+00  1.564337e+01  3.918267e+00  1.340944e+03   \nstd          0.0  1.679768e+00  8.734800e+00  1.980029e+00  4.787119e+02   \nmin       2007.0  1.000000e+00  1.000000e+00  1.000000e+00  1.000000e+00   \n25%       2007.0  2.000000e+00  8.000000e+00  2.000000e+00  9.300000e+02   \n50%       2007.0  3.000000e+00  1.600000e+01  4.000000e+00  1.330000e+03   \n75%       2007.0  5.000000e+00  2.300000e+01  6.000000e+00  1.734000e+03   \nmax       2007.0  6.000000e+00  3.100000e+01  7.000000e+00  2.400000e+03   \n\n         CRSDepTime       ArrTime    CRSArrTime     FlightNum  \\\ncount  3.593413e+06  3.494258e+06  3.593413e+06  3.593413e+06   \nmean   1.331584e+03  1.484115e+03  1.496190e+03  2.237950e+03   \nstd    4.639604e+02  5.055874e+02  4.803858e+02  1.988754e+03   \nmin    0.000000e+00  1.000000e+00  1.000000e+00  1.000000e+00   \n25%    9.300000e+02  1.108000e+03  1.115000e+03  6.170000e+02   \n50%    1.325000e+03  1.514000e+03  1.519000e+03  1.550000e+03   \n75%    1.720000e+03  1.912000e+03  1.907000e+03  3.685000e+03   \nmax    2.359000e+03  2.400000e+03  2.400000e+03  9.600000e+03   \n\n       ActualElapsedTime  ...      Distance        TaxiIn       TaxiOut  \\\ncount       3.494258e+06  ...  3.593412e+06  3.593412e+06  3.593412e+06   \nmean        1.249881e+02  ...  7.081792e+02  6.554661e+00  1.600806e+01   \nstd         7.028618e+01  ...  5.536289e+02  5.165002e+00  1.168459e+01   \nmin         1.200000e+01  ...  1.100000e+01  0.000000e+00  0.000000e+00   \n25%         7.500000e+01  ...  3.140000e+02  4.000000e+00  1.000000e+01   \n50%         1.070000e+02  ...  5.520000e+02  5.000000e+00  1.300000e+01   \n75%         1.550000e+02  ...  9.360000e+02  8.000000e+00  1.900000e+01   \nmax         1.270000e+03  ...  4.962000e+03  5.450000e+02  4.350000e+02   \n\n          Cancelled      Diverted  CarrierDelay  WeatherDelay      NASDelay  \\\ncount  3.593412e+06  3.593412e+06  3.593412e+06  3.593412e+06  3.593412e+06   \nmean   2.535529e-02  2.238263e-03  3.864038e+00  8.129967e-01  3.736539e+00   \nstd    1.572018e-01  4.725731e-02  2.058578e+01  1.001654e+01  1.587624e+01   \nmin    0.000000e+00  0.000000e+00  0.000000e+00  0.000000e+00  0.000000e+00   \n25%    0.000000e+00  0.000000e+00  0.000000e+00  0.000000e+00  0.000000e+00   \n50%    0.000000e+00  0.000000e+00  0.000000e+00  0.000000e+00  0.000000e+00   \n75%    0.000000e+00  0.000000e+00  0.000000e+00  0.000000e+00  0.000000e+00   \nmax    1.000000e+00  1.000000e+00  1.409000e+03  1.137000e+03  1.352000e+03   \n\n       SecurityDelay  LateAircraftDelay  \ncount   3.593412e+06       3.593412e+06  \nmean    2.299653e-02       5.139931e+00  \nstd     1.036474e+00       2.140643e+01  \nmin     0.000000e+00       0.000000e+00  \n25%     0.000000e+00       0.000000e+00  \n50%     0.000000e+00       0.000000e+00  \n75%     0.000000e+00       0.000000e+00  \nmax     3.820000e+02       1.014000e+03  \n\n[8 rows x 24 columns]",
      "text/html": "<div>\n<style scoped>\n    .dataframe tbody tr th:only-of-type {\n        vertical-align: middle;\n    }\n\n    .dataframe tbody tr th {\n        vertical-align: top;\n    }\n\n    .dataframe thead th {\n        text-align: right;\n    }\n</style>\n<table border=\"1\" class=\"dataframe\">\n  <thead>\n    <tr style=\"text-align: right;\">\n      <th></th>\n      <th>Year</th>\n      <th>Month</th>\n      <th>DayofMonth</th>\n      <th>DayOfWeek</th>\n      <th>DepTime</th>\n      <th>CRSDepTime</th>\n      <th>ArrTime</th>\n      <th>CRSArrTime</th>\n      <th>FlightNum</th>\n      <th>ActualElapsedTime</th>\n      <th>...</th>\n      <th>Distance</th>\n      <th>TaxiIn</th>\n      <th>TaxiOut</th>\n      <th>Cancelled</th>\n      <th>Diverted</th>\n      <th>CarrierDelay</th>\n      <th>WeatherDelay</th>\n      <th>NASDelay</th>\n      <th>SecurityDelay</th>\n      <th>LateAircraftDelay</th>\n    </tr>\n  </thead>\n  <tbody>\n    <tr>\n      <th>count</th>\n      <td>3593413.0</td>\n      <td>3.593413e+06</td>\n      <td>3.593413e+06</td>\n      <td>3.593413e+06</td>\n      <td>3.502301e+06</td>\n      <td>3.593413e+06</td>\n      <td>3.494258e+06</td>\n      <td>3.593413e+06</td>\n      <td>3.593413e+06</td>\n      <td>3.494258e+06</td>\n      <td>...</td>\n      <td>3.593412e+06</td>\n      <td>3.593412e+06</td>\n      <td>3.593412e+06</td>\n      <td>3.593412e+06</td>\n      <td>3.593412e+06</td>\n      <td>3.593412e+06</td>\n      <td>3.593412e+06</td>\n      <td>3.593412e+06</td>\n      <td>3.593412e+06</td>\n      <td>3.593412e+06</td>\n    </tr>\n    <tr>\n      <th>mean</th>\n      <td>2007.0</td>\n      <td>3.454024e+00</td>\n      <td>1.564337e+01</td>\n      <td>3.918267e+00</td>\n      <td>1.340944e+03</td>\n      <td>1.331584e+03</td>\n      <td>1.484115e+03</td>\n      <td>1.496190e+03</td>\n      <td>2.237950e+03</td>\n      <td>1.249881e+02</td>\n      <td>...</td>\n      <td>7.081792e+02</td>\n      <td>6.554661e+00</td>\n      <td>1.600806e+01</td>\n      <td>2.535529e-02</td>\n      <td>2.238263e-03</td>\n      <td>3.864038e+00</td>\n      <td>8.129967e-01</td>\n      <td>3.736539e+00</td>\n      <td>2.299653e-02</td>\n      <td>5.139931e+00</td>\n    </tr>\n    <tr>\n      <th>std</th>\n      <td>0.0</td>\n      <td>1.679768e+00</td>\n      <td>8.734800e+00</td>\n      <td>1.980029e+00</td>\n      <td>4.787119e+02</td>\n      <td>4.639604e+02</td>\n      <td>5.055874e+02</td>\n      <td>4.803858e+02</td>\n      <td>1.988754e+03</td>\n      <td>7.028618e+01</td>\n      <td>...</td>\n      <td>5.536289e+02</td>\n      <td>5.165002e+00</td>\n      <td>1.168459e+01</td>\n      <td>1.572018e-01</td>\n      <td>4.725731e-02</td>\n      <td>2.058578e+01</td>\n      <td>1.001654e+01</td>\n      <td>1.587624e+01</td>\n      <td>1.036474e+00</td>\n      <td>2.140643e+01</td>\n    </tr>\n    <tr>\n      <th>min</th>\n      <td>2007.0</td>\n      <td>1.000000e+00</td>\n      <td>1.000000e+00</td>\n      <td>1.000000e+00</td>\n      <td>1.000000e+00</td>\n      <td>0.000000e+00</td>\n      <td>1.000000e+00</td>\n      <td>1.000000e+00</td>\n      <td>1.000000e+00</td>\n      <td>1.200000e+01</td>\n      <td>...</td>\n      <td>1.100000e+01</td>\n      <td>0.000000e+00</td>\n      <td>0.000000e+00</td>\n      <td>0.000000e+00</td>\n      <td>0.000000e+00</td>\n      <td>0.000000e+00</td>\n      <td>0.000000e+00</td>\n      <td>0.000000e+00</td>\n      <td>0.000000e+00</td>\n      <td>0.000000e+00</td>\n    </tr>\n    <tr>\n      <th>25%</th>\n      <td>2007.0</td>\n      <td>2.000000e+00</td>\n      <td>8.000000e+00</td>\n      <td>2.000000e+00</td>\n      <td>9.300000e+02</td>\n      <td>9.300000e+02</td>\n      <td>1.108000e+03</td>\n      <td>1.115000e+03</td>\n      <td>6.170000e+02</td>\n      <td>7.500000e+01</td>\n      <td>...</td>\n      <td>3.140000e+02</td>\n      <td>4.000000e+00</td>\n      <td>1.000000e+01</td>\n      <td>0.000000e+00</td>\n      <td>0.000000e+00</td>\n      <td>0.000000e+00</td>\n      <td>0.000000e+00</td>\n      <td>0.000000e+00</td>\n      <td>0.000000e+00</td>\n      <td>0.000000e+00</td>\n    </tr>\n    <tr>\n      <th>50%</th>\n      <td>2007.0</td>\n      <td>3.000000e+00</td>\n      <td>1.600000e+01</td>\n      <td>4.000000e+00</td>\n      <td>1.330000e+03</td>\n      <td>1.325000e+03</td>\n      <td>1.514000e+03</td>\n      <td>1.519000e+03</td>\n      <td>1.550000e+03</td>\n      <td>1.070000e+02</td>\n      <td>...</td>\n      <td>5.520000e+02</td>\n      <td>5.000000e+00</td>\n      <td>1.300000e+01</td>\n      <td>0.000000e+00</td>\n      <td>0.000000e+00</td>\n      <td>0.000000e+00</td>\n      <td>0.000000e+00</td>\n      <td>0.000000e+00</td>\n      <td>0.000000e+00</td>\n      <td>0.000000e+00</td>\n    </tr>\n    <tr>\n      <th>75%</th>\n      <td>2007.0</td>\n      <td>5.000000e+00</td>\n      <td>2.300000e+01</td>\n      <td>6.000000e+00</td>\n      <td>1.734000e+03</td>\n      <td>1.720000e+03</td>\n      <td>1.912000e+03</td>\n      <td>1.907000e+03</td>\n      <td>3.685000e+03</td>\n      <td>1.550000e+02</td>\n      <td>...</td>\n      <td>9.360000e+02</td>\n      <td>8.000000e+00</td>\n      <td>1.900000e+01</td>\n      <td>0.000000e+00</td>\n      <td>0.000000e+00</td>\n      <td>0.000000e+00</td>\n      <td>0.000000e+00</td>\n      <td>0.000000e+00</td>\n      <td>0.000000e+00</td>\n      <td>0.000000e+00</td>\n    </tr>\n    <tr>\n      <th>max</th>\n      <td>2007.0</td>\n      <td>6.000000e+00</td>\n      <td>3.100000e+01</td>\n      <td>7.000000e+00</td>\n      <td>2.400000e+03</td>\n      <td>2.359000e+03</td>\n      <td>2.400000e+03</td>\n      <td>2.400000e+03</td>\n      <td>9.600000e+03</td>\n      <td>1.270000e+03</td>\n      <td>...</td>\n      <td>4.962000e+03</td>\n      <td>5.450000e+02</td>\n      <td>4.350000e+02</td>\n      <td>1.000000e+00</td>\n      <td>1.000000e+00</td>\n      <td>1.409000e+03</td>\n      <td>1.137000e+03</td>\n      <td>1.352000e+03</td>\n      <td>3.820000e+02</td>\n      <td>1.014000e+03</td>\n    </tr>\n  </tbody>\n</table>\n<p>8 rows × 24 columns</p>\n</div>"
     },
     "execution_count": 19,
     "metadata": {},
     "output_type": "execute_result"
    }
   ],
   "source": [
    "data.describe()"
   ],
   "metadata": {
    "collapsed": false
   }
  },
  {
   "cell_type": "markdown",
   "source": [
    "#### TO DO: dodać komentarz dotyczący średnich"
   ],
   "metadata": {
    "collapsed": false
   }
  },
  {
   "cell_type": "markdown",
   "source": [
    "## WIZUALIZACJA DANYCH"
   ],
   "metadata": {
    "collapsed": false
   }
  },
  {
   "cell_type": "markdown",
   "source": [
    "### BOXPLOTY"
   ],
   "metadata": {
    "collapsed": false
   }
  },
  {
   "cell_type": "code",
   "execution_count": null,
   "outputs": [],
   "source": [
    "fig, axes = plt.subplots(6,4, figsize=(10,10))\n",
    "for c, i in zip(data.columns, range(0,24)):\n",
    "    a = data.boxplot(column=c, ax=axes.flatten()[i])\n",
    "plt.tight_layout()\n",
    "plt.show()"
   ],
   "metadata": {
    "collapsed": false
   }
  },
  {
   "cell_type": "markdown",
   "source": [
    "#### TO DO: Dodać komentarz dotyczący boxplotów"
   ],
   "metadata": {
    "collapsed": false
   },
   "execution_count": 62
  },
  {
   "cell_type": "markdown",
   "source": [
    "### HISTOGRAMY"
   ],
   "metadata": {
    "collapsed": false
   }
  },
  {
   "cell_type": "code",
   "execution_count": null,
   "outputs": [],
   "source": [
    "fig, axes = plt.subplots(4, 6, figsize=(10,10))\n",
    "for c, i in zip(data.columns, range(0,24)):\n",
    "    a = data.hist(column=c, ax=axes.flatten()[i], log= True)\n",
    "plt.tight_layout()\n",
    "plt.show()"
   ],
   "metadata": {
    "collapsed": false
   }
  },
  {
   "cell_type": "markdown",
   "source": [
    "#### TO DO: Dodać komentarz dotyczący histogramów"
   ],
   "metadata": {
    "collapsed": false
   }
  },
  {
   "cell_type": "markdown",
   "source": [
    "### SCATTER PLOT"
   ],
   "metadata": {
    "collapsed": false
   }
  },
  {
   "cell_type": "code",
   "execution_count": null,
   "outputs": [],
   "source": [
    "# plt.scatter(range(len(data)), data)\n",
    "# TO DO: Dodać scatter plot"
   ],
   "metadata": {
    "collapsed": false
   }
  },
  {
   "cell_type": "markdown",
   "source": [
    "#### TO DO: Dodać komentarz dotyczący scatterplot"
   ],
   "metadata": {
    "collapsed": false
   }
  },
  {
   "cell_type": "markdown",
   "source": [
    "## PROBLEMY Z DANYMI - DANE BRAKUJĄCE, NIEPRAWIDŁOWE, ODSTAJĄCE"
   ],
   "metadata": {
    "collapsed": false
   }
  },
  {
   "cell_type": "markdown",
   "source": [
    "### SPRAWDZENIE POPRAWNOŚCI TYPÓW DANYCH"
   ],
   "metadata": {
    "collapsed": false
   }
  },
  {
   "cell_type": "code",
   "execution_count": 20,
   "outputs": [
    {
     "name": "stdout",
     "output_type": "stream",
     "text": [
      "Year: int64\n",
      "Month: int64\n",
      "DayofMonth: int64\n",
      "DayOfWeek: int64\n",
      "DepTime: double\n",
      "CRSDepTime: int64\n",
      "ArrTime: double\n",
      "CRSArrTime: int64\n",
      "FlightNum: int64\n",
      "ActualElapsedTime: double\n",
      "CRSElapsedTime: double\n",
      "AirTime: double\n",
      "ArrDelay: double\n",
      "DepDelay: double\n",
      "Distance: double\n",
      "TaxiIn: double\n",
      "TaxiOut: double\n",
      "Cancelled: double\n",
      "Diverted: double\n",
      "CarrierDelay: double\n",
      "WeatherDelay: double\n",
      "NASDelay: double\n",
      "SecurityDelay: double\n",
      "LateAircraftDelay: double\n",
      "-- schema metadata --\n",
      "pandas: '{\"index_columns\": [{\"kind\": \"range\", \"name\": null, \"start\": 0, \"' + 3110\n"
     ]
    }
   ],
   "source": [
    "import pyarrow as pa\n",
    "\n",
    "table = pa.Table.from_pandas(data)\n",
    "print(table.schema)"
   ],
   "metadata": {
    "collapsed": false
   }
  },
  {
   "cell_type": "markdown",
   "source": [
    "#### TO DO: Dodać komentarz dotyczący danych w złym formacie"
   ],
   "metadata": {
    "collapsed": false
   }
  },
  {
   "cell_type": "markdown",
   "source": [
    "### NAPRAWA WIERSZY Z PUSTYMI DANYMI"
   ],
   "metadata": {
    "collapsed": false
   }
  },
  {
   "cell_type": "code",
   "execution_count": 21,
   "outputs": [
    {
     "data": {
      "text/plain": "Year                     0\nMonth                    0\nDayofMonth               0\nDayOfWeek                0\nDepTime              91112\nCRSDepTime               0\nArrTime              99155\nCRSArrTime               0\nFlightNum                0\nActualElapsedTime    99155\nCRSElapsedTime         390\nAirTime              99155\nArrDelay             99155\nDepDelay             91112\nDistance                 1\nTaxiIn                   1\nTaxiOut                  1\nCancelled                1\nDiverted                 1\nCarrierDelay             1\nWeatherDelay             1\nNASDelay                 1\nSecurityDelay            1\nLateAircraftDelay        1\ndtype: int64"
     },
     "execution_count": 21,
     "metadata": {},
     "output_type": "execute_result"
    }
   ],
   "source": [
    "# Obliczenie ilosci pustych danych\n",
    "np.sum(data.isna())"
   ],
   "metadata": {
    "collapsed": false
   }
  },
  {
   "cell_type": "code",
   "execution_count": 22,
   "outputs": [
    {
     "name": "stdout",
     "output_type": "stream",
     "text": [
      "Usunieto:  Year                 99156\n",
      "Month                99156\n",
      "DayofMonth           99156\n",
      "DayOfWeek            99156\n",
      "DepTime               8044\n",
      "CRSDepTime           99156\n",
      "ArrTime                  1\n",
      "CRSArrTime           99156\n",
      "FlightNum            99156\n",
      "ActualElapsedTime        1\n",
      "CRSElapsedTime       98766\n",
      "AirTime                  1\n",
      "ArrDelay                 1\n",
      "DepDelay              8044\n",
      "Distance             99155\n",
      "TaxiIn               99155\n",
      "TaxiOut              99155\n",
      "Cancelled            99155\n",
      "Diverted             99155\n",
      "CarrierDelay         99155\n",
      "WeatherDelay         99155\n",
      "NASDelay             99155\n",
      "SecurityDelay        99155\n",
      "LateAircraftDelay    99155\n",
      "dtype: int64\n",
      "Percent od reduced rows:  2.1018490808621557\n"
     ]
    }
   ],
   "source": [
    "sizeBeforeDeleteNull= data.count()\n",
    "dataWithoutNull = data.dropna()\n",
    "sizeAfterDeleteNull =  dataWithoutNull.count()\n",
    "print(\"Usunieto: \", sizeBeforeDeleteNull - sizeAfterDeleteNull)\n",
    "\n",
    "print(\"Percent od reduced rows: \", 100*sum(sizeBeforeDeleteNull - sizeAfterDeleteNull)/sum(sizeBeforeDeleteNull))"
   ],
   "metadata": {
    "collapsed": false
   }
  },
  {
   "cell_type": "code",
   "execution_count": null,
   "outputs": [],
   "source": [
    "### TO DO: ZMIENIC SPOSÓB RADZENIA SOBIE Z PUSTYMI DANYMI\n",
    "### TO DO: Dodać komentarz dotyczący danych pustych"
   ],
   "metadata": {
    "collapsed": false
   }
  },
  {
   "cell_type": "markdown",
   "source": [
    "### USUWANIE DANYCH ODSTAJĄCYCH"
   ],
   "metadata": {
    "collapsed": false
   }
  },
  {
   "cell_type": "code",
   "execution_count": 23,
   "outputs": [
    {
     "name": "stdout",
     "output_type": "stream",
     "text": [
      "Count of reduced rows:  847397\n",
      "Percent od reduced rows:  23.581953980797643\n"
     ]
    }
   ],
   "source": [
    "sizeBefore = np.shape(data)[0]\n",
    "for col in data.columns:\n",
    "    data = data[np.abs(data[col]-data[col].mean()) <= (3*data[col].std())]\n",
    "sizeAfter =  np.shape(data)[0]\n",
    "print(\"Count of reduced rows: \", sizeBefore - sizeAfter)\n",
    "print(\"Percent od reduced rows: \", 100*(sizeBefore - sizeAfter)/sizeBefore)"
   ],
   "metadata": {
    "collapsed": false
   }
  },
  {
   "cell_type": "markdown",
   "source": [
    "#### TO DO: Dodać komentarz dotyczący danych odstających"
   ],
   "metadata": {
    "collapsed": false
   }
  },
  {
   "cell_type": "markdown",
   "source": [
    "# KORELACJE"
   ],
   "metadata": {
    "collapsed": false
   }
  },
  {
   "cell_type": "code",
   "execution_count": null,
   "outputs": [],
   "source": [
    "# sns.pairplot(data)"
   ],
   "metadata": {
    "collapsed": false
   }
  },
  {
   "cell_type": "code",
   "execution_count": null,
   "outputs": [],
   "source": [
    "# plt.figure(figsize=(20, 20), dpi=80)\n",
    "# corrMatrix = data.corr()\n",
    "# sns.heatmap(corrMatrix, annot=True)\n",
    "# plt.show()"
   ],
   "metadata": {
    "collapsed": false
   }
  },
  {
   "cell_type": "markdown",
   "source": [
    "#### TO DO: Dodać komentarz dotyczący korelacji między danymi, ew dodać pairploty do wybranych danych"
   ],
   "metadata": {
    "collapsed": false
   }
  },
  {
   "cell_type": "code",
   "execution_count": null,
   "metadata": {},
   "outputs": [],
   "source": [
    "### TO DO: \"Normalizacja danych (przedstawić wyniki min-max i standaryzacji). Zastanowić się nad zakresem skalowania danych\"\n"
   ]
  },
  {
   "cell_type": "markdown",
   "source": [
    "## REDUKCJA WYMIAROWOŚCI"
   ],
   "metadata": {
    "collapsed": false
   }
  },
  {
   "cell_type": "code",
   "execution_count": null,
   "outputs": [],
   "source": [
    "### TO DO: Genetyczna optymalizacja cech"
   ],
   "metadata": {
    "collapsed": false
   }
  },
  {
   "cell_type": "code",
   "execution_count": 29,
   "outputs": [],
   "source": [
    "# Genetyczna optymalizacja cech - NA RAZIE SAMA SELEKCJA NA PODSTAWIE KORELACJI\n",
    "pandasDF = data.filter([\"DayOfWeek\", \"DayofMonth\", \"Distance\", \"DepTime\", \"Cancelled\", \"Diverted\", \"LateAircraftDelay\"], axis = 1)"
   ],
   "metadata": {
    "collapsed": false
   }
  },
  {
   "cell_type": "markdown",
   "source": [
    "# PRZYGOTOWANIE MODELI REGRESJI"
   ],
   "metadata": {
    "collapsed": false
   }
  },
  {
   "cell_type": "code",
   "execution_count": 30,
   "outputs": [
    {
     "name": "stdout",
     "output_type": "stream",
     "text": [
      "root\n",
      " |-- DayOfWeek: long (nullable = true)\n",
      " |-- DayofMonth: long (nullable = true)\n",
      " |-- Distance: double (nullable = true)\n",
      " |-- DepTime: double (nullable = true)\n",
      " |-- Cancelled: double (nullable = true)\n",
      " |-- Diverted: double (nullable = true)\n",
      " |-- LateAircraftDelay: double (nullable = true)\n",
      "\n"
     ]
    }
   ],
   "source": [
    "spark = SparkSession.builder.master(\"local\").appName(\"Project\").getOrCreate()\n",
    "sparkDF=spark.createDataFrame(pandasDF)\n",
    "sparkDF.printSchema()"
   ],
   "metadata": {
    "collapsed": false
   }
  },
  {
   "cell_type": "markdown",
   "source": [
    "### PODZIAŁ DANYCH\n",
    "Zeby nieco uproscic model przypisalismy opoznienie do 5 kategorii."
   ],
   "metadata": {
    "collapsed": false
   }
  },
  {
   "cell_type": "code",
   "execution_count": null,
   "outputs": [
    {
     "ename": "KeyboardInterrupt",
     "evalue": "",
     "output_type": "error",
     "traceback": [
      "\u001B[1;31m---------------------------------------------------------------------------\u001B[0m",
      "\u001B[1;31mKeyboardInterrupt\u001B[0m                         Traceback (most recent call last)",
      "\u001B[1;32m~\\PycharmProjects\\MOW\\venv\\lib\\site-packages\\py4j\\java_gateway.py\u001B[0m in \u001B[0;36msend_command\u001B[1;34m(self, command, retry, binary)\u001B[0m\n\u001B[0;32m   1037\u001B[0m         \u001B[1;32mtry\u001B[0m\u001B[1;33m:\u001B[0m\u001B[1;33m\u001B[0m\u001B[1;33m\u001B[0m\u001B[0m\n\u001B[1;32m-> 1038\u001B[1;33m             \u001B[0mresponse\u001B[0m \u001B[1;33m=\u001B[0m \u001B[0mconnection\u001B[0m\u001B[1;33m.\u001B[0m\u001B[0msend_command\u001B[0m\u001B[1;33m(\u001B[0m\u001B[0mcommand\u001B[0m\u001B[1;33m)\u001B[0m\u001B[1;33m\u001B[0m\u001B[1;33m\u001B[0m\u001B[0m\n\u001B[0m\u001B[0;32m   1039\u001B[0m             \u001B[1;32mif\u001B[0m \u001B[0mbinary\u001B[0m\u001B[1;33m:\u001B[0m\u001B[1;33m\u001B[0m\u001B[1;33m\u001B[0m\u001B[0m\n",
      "\u001B[1;32m~\\PycharmProjects\\MOW\\venv\\lib\\site-packages\\py4j\\clientserver.py\u001B[0m in \u001B[0;36msend_command\u001B[1;34m(self, command)\u001B[0m\n\u001B[0;32m    510\u001B[0m             \u001B[1;32mwhile\u001B[0m \u001B[1;32mTrue\u001B[0m\u001B[1;33m:\u001B[0m\u001B[1;33m\u001B[0m\u001B[1;33m\u001B[0m\u001B[0m\n\u001B[1;32m--> 511\u001B[1;33m                 \u001B[0manswer\u001B[0m \u001B[1;33m=\u001B[0m \u001B[0msmart_decode\u001B[0m\u001B[1;33m(\u001B[0m\u001B[0mself\u001B[0m\u001B[1;33m.\u001B[0m\u001B[0mstream\u001B[0m\u001B[1;33m.\u001B[0m\u001B[0mreadline\u001B[0m\u001B[1;33m(\u001B[0m\u001B[1;33m)\u001B[0m\u001B[1;33m[\u001B[0m\u001B[1;33m:\u001B[0m\u001B[1;33m-\u001B[0m\u001B[1;36m1\u001B[0m\u001B[1;33m]\u001B[0m\u001B[1;33m)\u001B[0m\u001B[1;33m\u001B[0m\u001B[1;33m\u001B[0m\u001B[0m\n\u001B[0m\u001B[0;32m    512\u001B[0m                 \u001B[0mlogger\u001B[0m\u001B[1;33m.\u001B[0m\u001B[0mdebug\u001B[0m\u001B[1;33m(\u001B[0m\u001B[1;34m\"Answer received: {0}\"\u001B[0m\u001B[1;33m.\u001B[0m\u001B[0mformat\u001B[0m\u001B[1;33m(\u001B[0m\u001B[0manswer\u001B[0m\u001B[1;33m)\u001B[0m\u001B[1;33m)\u001B[0m\u001B[1;33m\u001B[0m\u001B[1;33m\u001B[0m\u001B[0m\n",
      "\u001B[1;32m~\\AppData\\Local\\Programs\\Python\\Python37\\lib\\socket.py\u001B[0m in \u001B[0;36mreadinto\u001B[1;34m(self, b)\u001B[0m\n\u001B[0;32m    588\u001B[0m             \u001B[1;32mtry\u001B[0m\u001B[1;33m:\u001B[0m\u001B[1;33m\u001B[0m\u001B[1;33m\u001B[0m\u001B[0m\n\u001B[1;32m--> 589\u001B[1;33m                 \u001B[1;32mreturn\u001B[0m \u001B[0mself\u001B[0m\u001B[1;33m.\u001B[0m\u001B[0m_sock\u001B[0m\u001B[1;33m.\u001B[0m\u001B[0mrecv_into\u001B[0m\u001B[1;33m(\u001B[0m\u001B[0mb\u001B[0m\u001B[1;33m)\u001B[0m\u001B[1;33m\u001B[0m\u001B[1;33m\u001B[0m\u001B[0m\n\u001B[0m\u001B[0;32m    590\u001B[0m             \u001B[1;32mexcept\u001B[0m \u001B[0mtimeout\u001B[0m\u001B[1;33m:\u001B[0m\u001B[1;33m\u001B[0m\u001B[1;33m\u001B[0m\u001B[0m\n",
      "\u001B[1;31mKeyboardInterrupt\u001B[0m: ",
      "\nDuring handling of the above exception, another exception occurred:\n",
      "\u001B[1;31mKeyboardInterrupt\u001B[0m                         Traceback (most recent call last)",
      "\u001B[1;32m~\\AppData\\Local\\Temp\\ipykernel_11652\\2799036699.py\u001B[0m in \u001B[0;36m<module>\u001B[1;34m\u001B[0m\n\u001B[0;32m      3\u001B[0m ], outputCol = 'features')\n\u001B[0;32m      4\u001B[0m \u001B[0mvectorData\u001B[0m \u001B[1;33m=\u001B[0m \u001B[0mvector\u001B[0m\u001B[1;33m.\u001B[0m\u001B[0mtransform\u001B[0m\u001B[1;33m(\u001B[0m\u001B[0msparkDF\u001B[0m\u001B[1;33m)\u001B[0m\u001B[1;33m.\u001B[0m\u001B[0mselect\u001B[0m\u001B[1;33m(\u001B[0m\u001B[1;33m[\u001B[0m\u001B[1;34m'features'\u001B[0m\u001B[1;33m,\u001B[0m \u001B[1;34m'LateAircraftDelay'\u001B[0m\u001B[1;33m]\u001B[0m\u001B[1;33m)\u001B[0m\u001B[1;33m\u001B[0m\u001B[1;33m\u001B[0m\u001B[0m\n\u001B[1;32m----> 5\u001B[1;33m \u001B[0mprint\u001B[0m\u001B[1;33m(\u001B[0m\u001B[0mvectorData\u001B[0m\u001B[1;33m.\u001B[0m\u001B[0mshow\u001B[0m\u001B[1;33m(\u001B[0m\u001B[1;36m5\u001B[0m\u001B[1;33m)\u001B[0m\u001B[1;33m)\u001B[0m\u001B[1;33m\u001B[0m\u001B[1;33m\u001B[0m\u001B[0m\n\u001B[0m",
      "\u001B[1;32m~\\PycharmProjects\\MOW\\venv\\lib\\site-packages\\pyspark\\sql\\dataframe.py\u001B[0m in \u001B[0;36mshow\u001B[1;34m(self, n, truncate, vertical)\u001B[0m\n\u001B[0;32m    604\u001B[0m \u001B[1;33m\u001B[0m\u001B[0m\n\u001B[0;32m    605\u001B[0m         \u001B[1;32mif\u001B[0m \u001B[0misinstance\u001B[0m\u001B[1;33m(\u001B[0m\u001B[0mtruncate\u001B[0m\u001B[1;33m,\u001B[0m \u001B[0mbool\u001B[0m\u001B[1;33m)\u001B[0m \u001B[1;32mand\u001B[0m \u001B[0mtruncate\u001B[0m\u001B[1;33m:\u001B[0m\u001B[1;33m\u001B[0m\u001B[1;33m\u001B[0m\u001B[0m\n\u001B[1;32m--> 606\u001B[1;33m             \u001B[0mprint\u001B[0m\u001B[1;33m(\u001B[0m\u001B[0mself\u001B[0m\u001B[1;33m.\u001B[0m\u001B[0m_jdf\u001B[0m\u001B[1;33m.\u001B[0m\u001B[0mshowString\u001B[0m\u001B[1;33m(\u001B[0m\u001B[0mn\u001B[0m\u001B[1;33m,\u001B[0m \u001B[1;36m20\u001B[0m\u001B[1;33m,\u001B[0m \u001B[0mvertical\u001B[0m\u001B[1;33m)\u001B[0m\u001B[1;33m)\u001B[0m\u001B[1;33m\u001B[0m\u001B[1;33m\u001B[0m\u001B[0m\n\u001B[0m\u001B[0;32m    607\u001B[0m         \u001B[1;32melse\u001B[0m\u001B[1;33m:\u001B[0m\u001B[1;33m\u001B[0m\u001B[1;33m\u001B[0m\u001B[0m\n\u001B[0;32m    608\u001B[0m             \u001B[1;32mtry\u001B[0m\u001B[1;33m:\u001B[0m\u001B[1;33m\u001B[0m\u001B[1;33m\u001B[0m\u001B[0m\n",
      "\u001B[1;32m~\\PycharmProjects\\MOW\\venv\\lib\\site-packages\\py4j\\java_gateway.py\u001B[0m in \u001B[0;36m__call__\u001B[1;34m(self, *args)\u001B[0m\n\u001B[0;32m   1318\u001B[0m             \u001B[0mproto\u001B[0m\u001B[1;33m.\u001B[0m\u001B[0mEND_COMMAND_PART\u001B[0m\u001B[1;33m\u001B[0m\u001B[1;33m\u001B[0m\u001B[0m\n\u001B[0;32m   1319\u001B[0m \u001B[1;33m\u001B[0m\u001B[0m\n\u001B[1;32m-> 1320\u001B[1;33m         \u001B[0manswer\u001B[0m \u001B[1;33m=\u001B[0m \u001B[0mself\u001B[0m\u001B[1;33m.\u001B[0m\u001B[0mgateway_client\u001B[0m\u001B[1;33m.\u001B[0m\u001B[0msend_command\u001B[0m\u001B[1;33m(\u001B[0m\u001B[0mcommand\u001B[0m\u001B[1;33m)\u001B[0m\u001B[1;33m\u001B[0m\u001B[1;33m\u001B[0m\u001B[0m\n\u001B[0m\u001B[0;32m   1321\u001B[0m         return_value = get_return_value(\n\u001B[0;32m   1322\u001B[0m             answer, self.gateway_client, self.target_id, self.name)\n",
      "\u001B[1;32m~\\PycharmProjects\\MOW\\venv\\lib\\site-packages\\py4j\\java_gateway.py\u001B[0m in \u001B[0;36msend_command\u001B[1;34m(self, command, retry, binary)\u001B[0m\n\u001B[0;32m   1064\u001B[0m             \u001B[1;31m# See also https://github.com/bartdag/py4j/pull/440 for\u001B[0m\u001B[1;33m\u001B[0m\u001B[1;33m\u001B[0m\u001B[1;33m\u001B[0m\u001B[0m\n\u001B[0;32m   1065\u001B[0m             \u001B[1;31m# more details.\u001B[0m\u001B[1;33m\u001B[0m\u001B[1;33m\u001B[0m\u001B[1;33m\u001B[0m\u001B[0m\n\u001B[1;32m-> 1066\u001B[1;33m             \u001B[0mlogging\u001B[0m\u001B[1;33m.\u001B[0m\u001B[0mexception\u001B[0m\u001B[1;33m(\u001B[0m\u001B[1;34m\"KeyboardInterrupt while sending command.\"\u001B[0m\u001B[1;33m)\u001B[0m\u001B[1;33m\u001B[0m\u001B[1;33m\u001B[0m\u001B[0m\n\u001B[0m\u001B[0;32m   1067\u001B[0m             \u001B[1;32mif\u001B[0m \u001B[0mconnection\u001B[0m\u001B[1;33m:\u001B[0m\u001B[1;33m\u001B[0m\u001B[1;33m\u001B[0m\u001B[0m\n\u001B[0;32m   1068\u001B[0m                 \u001B[0mconnection\u001B[0m\u001B[1;33m.\u001B[0m\u001B[0mclose\u001B[0m\u001B[1;33m(\u001B[0m\u001B[1;32mFalse\u001B[0m\u001B[1;33m)\u001B[0m\u001B[1;33m\u001B[0m\u001B[1;33m\u001B[0m\u001B[0m\n",
      "\u001B[1;32m~\\AppData\\Local\\Programs\\Python\\Python37\\lib\\logging\\__init__.py\u001B[0m in \u001B[0;36mexception\u001B[1;34m(msg, exc_info, *args, **kwargs)\u001B[0m\n\u001B[0;32m   1965\u001B[0m     \u001B[0ma\u001B[0m \u001B[0mconsole\u001B[0m \u001B[0mhandler\u001B[0m \u001B[1;32mwith\u001B[0m \u001B[0ma\u001B[0m \u001B[0mpre\u001B[0m\u001B[1;33m-\u001B[0m\u001B[0mdefined\u001B[0m \u001B[0mformat\u001B[0m\u001B[1;33m.\u001B[0m\u001B[1;33m\u001B[0m\u001B[1;33m\u001B[0m\u001B[0m\n\u001B[0;32m   1966\u001B[0m     \"\"\"\n\u001B[1;32m-> 1967\u001B[1;33m     \u001B[0merror\u001B[0m\u001B[1;33m(\u001B[0m\u001B[0mmsg\u001B[0m\u001B[1;33m,\u001B[0m \u001B[1;33m*\u001B[0m\u001B[0margs\u001B[0m\u001B[1;33m,\u001B[0m \u001B[0mexc_info\u001B[0m\u001B[1;33m=\u001B[0m\u001B[0mexc_info\u001B[0m\u001B[1;33m,\u001B[0m \u001B[1;33m**\u001B[0m\u001B[0mkwargs\u001B[0m\u001B[1;33m)\u001B[0m\u001B[1;33m\u001B[0m\u001B[1;33m\u001B[0m\u001B[0m\n\u001B[0m\u001B[0;32m   1968\u001B[0m \u001B[1;33m\u001B[0m\u001B[0m\n\u001B[0;32m   1969\u001B[0m \u001B[1;32mdef\u001B[0m \u001B[0mwarning\u001B[0m\u001B[1;33m(\u001B[0m\u001B[0mmsg\u001B[0m\u001B[1;33m,\u001B[0m \u001B[1;33m*\u001B[0m\u001B[0margs\u001B[0m\u001B[1;33m,\u001B[0m \u001B[1;33m**\u001B[0m\u001B[0mkwargs\u001B[0m\u001B[1;33m)\u001B[0m\u001B[1;33m:\u001B[0m\u001B[1;33m\u001B[0m\u001B[1;33m\u001B[0m\u001B[0m\n",
      "\u001B[1;32m~\\AppData\\Local\\Programs\\Python\\Python37\\lib\\logging\\__init__.py\u001B[0m in \u001B[0;36merror\u001B[1;34m(msg, *args, **kwargs)\u001B[0m\n\u001B[0;32m   1957\u001B[0m     \u001B[1;32mif\u001B[0m \u001B[0mlen\u001B[0m\u001B[1;33m(\u001B[0m\u001B[0mroot\u001B[0m\u001B[1;33m.\u001B[0m\u001B[0mhandlers\u001B[0m\u001B[1;33m)\u001B[0m \u001B[1;33m==\u001B[0m \u001B[1;36m0\u001B[0m\u001B[1;33m:\u001B[0m\u001B[1;33m\u001B[0m\u001B[1;33m\u001B[0m\u001B[0m\n\u001B[0;32m   1958\u001B[0m         \u001B[0mbasicConfig\u001B[0m\u001B[1;33m(\u001B[0m\u001B[1;33m)\u001B[0m\u001B[1;33m\u001B[0m\u001B[1;33m\u001B[0m\u001B[0m\n\u001B[1;32m-> 1959\u001B[1;33m     \u001B[0mroot\u001B[0m\u001B[1;33m.\u001B[0m\u001B[0merror\u001B[0m\u001B[1;33m(\u001B[0m\u001B[0mmsg\u001B[0m\u001B[1;33m,\u001B[0m \u001B[1;33m*\u001B[0m\u001B[0margs\u001B[0m\u001B[1;33m,\u001B[0m \u001B[1;33m**\u001B[0m\u001B[0mkwargs\u001B[0m\u001B[1;33m)\u001B[0m\u001B[1;33m\u001B[0m\u001B[1;33m\u001B[0m\u001B[0m\n\u001B[0m\u001B[0;32m   1960\u001B[0m \u001B[1;33m\u001B[0m\u001B[0m\n\u001B[0;32m   1961\u001B[0m \u001B[1;32mdef\u001B[0m \u001B[0mexception\u001B[0m\u001B[1;33m(\u001B[0m\u001B[0mmsg\u001B[0m\u001B[1;33m,\u001B[0m \u001B[1;33m*\u001B[0m\u001B[0margs\u001B[0m\u001B[1;33m,\u001B[0m \u001B[0mexc_info\u001B[0m\u001B[1;33m=\u001B[0m\u001B[1;32mTrue\u001B[0m\u001B[1;33m,\u001B[0m \u001B[1;33m**\u001B[0m\u001B[0mkwargs\u001B[0m\u001B[1;33m)\u001B[0m\u001B[1;33m:\u001B[0m\u001B[1;33m\u001B[0m\u001B[1;33m\u001B[0m\u001B[0m\n",
      "\u001B[1;32m~\\AppData\\Local\\Programs\\Python\\Python37\\lib\\logging\\__init__.py\u001B[0m in \u001B[0;36merror\u001B[1;34m(self, msg, *args, **kwargs)\u001B[0m\n\u001B[0;32m   1405\u001B[0m         \"\"\"\n\u001B[0;32m   1406\u001B[0m         \u001B[1;32mif\u001B[0m \u001B[0mself\u001B[0m\u001B[1;33m.\u001B[0m\u001B[0misEnabledFor\u001B[0m\u001B[1;33m(\u001B[0m\u001B[0mERROR\u001B[0m\u001B[1;33m)\u001B[0m\u001B[1;33m:\u001B[0m\u001B[1;33m\u001B[0m\u001B[1;33m\u001B[0m\u001B[0m\n\u001B[1;32m-> 1407\u001B[1;33m             \u001B[0mself\u001B[0m\u001B[1;33m.\u001B[0m\u001B[0m_log\u001B[0m\u001B[1;33m(\u001B[0m\u001B[0mERROR\u001B[0m\u001B[1;33m,\u001B[0m \u001B[0mmsg\u001B[0m\u001B[1;33m,\u001B[0m \u001B[0margs\u001B[0m\u001B[1;33m,\u001B[0m \u001B[1;33m**\u001B[0m\u001B[0mkwargs\u001B[0m\u001B[1;33m)\u001B[0m\u001B[1;33m\u001B[0m\u001B[1;33m\u001B[0m\u001B[0m\n\u001B[0m\u001B[0;32m   1408\u001B[0m \u001B[1;33m\u001B[0m\u001B[0m\n\u001B[0;32m   1409\u001B[0m     \u001B[1;32mdef\u001B[0m \u001B[0mexception\u001B[0m\u001B[1;33m(\u001B[0m\u001B[0mself\u001B[0m\u001B[1;33m,\u001B[0m \u001B[0mmsg\u001B[0m\u001B[1;33m,\u001B[0m \u001B[1;33m*\u001B[0m\u001B[0margs\u001B[0m\u001B[1;33m,\u001B[0m \u001B[0mexc_info\u001B[0m\u001B[1;33m=\u001B[0m\u001B[1;32mTrue\u001B[0m\u001B[1;33m,\u001B[0m \u001B[1;33m**\u001B[0m\u001B[0mkwargs\u001B[0m\u001B[1;33m)\u001B[0m\u001B[1;33m:\u001B[0m\u001B[1;33m\u001B[0m\u001B[1;33m\u001B[0m\u001B[0m\n",
      "\u001B[1;32m~\\AppData\\Local\\Programs\\Python\\Python37\\lib\\logging\\__init__.py\u001B[0m in \u001B[0;36m_log\u001B[1;34m(self, level, msg, args, exc_info, extra, stack_info)\u001B[0m\n\u001B[0;32m   1512\u001B[0m         record = self.makeRecord(self.name, level, fn, lno, msg, args,\n\u001B[0;32m   1513\u001B[0m                                  exc_info, func, extra, sinfo)\n\u001B[1;32m-> 1514\u001B[1;33m         \u001B[0mself\u001B[0m\u001B[1;33m.\u001B[0m\u001B[0mhandle\u001B[0m\u001B[1;33m(\u001B[0m\u001B[0mrecord\u001B[0m\u001B[1;33m)\u001B[0m\u001B[1;33m\u001B[0m\u001B[1;33m\u001B[0m\u001B[0m\n\u001B[0m\u001B[0;32m   1515\u001B[0m \u001B[1;33m\u001B[0m\u001B[0m\n\u001B[0;32m   1516\u001B[0m     \u001B[1;32mdef\u001B[0m \u001B[0mhandle\u001B[0m\u001B[1;33m(\u001B[0m\u001B[0mself\u001B[0m\u001B[1;33m,\u001B[0m \u001B[0mrecord\u001B[0m\u001B[1;33m)\u001B[0m\u001B[1;33m:\u001B[0m\u001B[1;33m\u001B[0m\u001B[1;33m\u001B[0m\u001B[0m\n",
      "\u001B[1;32m~\\AppData\\Local\\Programs\\Python\\Python37\\lib\\logging\\__init__.py\u001B[0m in \u001B[0;36mhandle\u001B[1;34m(self, record)\u001B[0m\n\u001B[0;32m   1522\u001B[0m         \"\"\"\n\u001B[0;32m   1523\u001B[0m         \u001B[1;32mif\u001B[0m \u001B[1;33m(\u001B[0m\u001B[1;32mnot\u001B[0m \u001B[0mself\u001B[0m\u001B[1;33m.\u001B[0m\u001B[0mdisabled\u001B[0m\u001B[1;33m)\u001B[0m \u001B[1;32mand\u001B[0m \u001B[0mself\u001B[0m\u001B[1;33m.\u001B[0m\u001B[0mfilter\u001B[0m\u001B[1;33m(\u001B[0m\u001B[0mrecord\u001B[0m\u001B[1;33m)\u001B[0m\u001B[1;33m:\u001B[0m\u001B[1;33m\u001B[0m\u001B[1;33m\u001B[0m\u001B[0m\n\u001B[1;32m-> 1524\u001B[1;33m             \u001B[0mself\u001B[0m\u001B[1;33m.\u001B[0m\u001B[0mcallHandlers\u001B[0m\u001B[1;33m(\u001B[0m\u001B[0mrecord\u001B[0m\u001B[1;33m)\u001B[0m\u001B[1;33m\u001B[0m\u001B[1;33m\u001B[0m\u001B[0m\n\u001B[0m\u001B[0;32m   1525\u001B[0m \u001B[1;33m\u001B[0m\u001B[0m\n\u001B[0;32m   1526\u001B[0m     \u001B[1;32mdef\u001B[0m \u001B[0maddHandler\u001B[0m\u001B[1;33m(\u001B[0m\u001B[0mself\u001B[0m\u001B[1;33m,\u001B[0m \u001B[0mhdlr\u001B[0m\u001B[1;33m)\u001B[0m\u001B[1;33m:\u001B[0m\u001B[1;33m\u001B[0m\u001B[1;33m\u001B[0m\u001B[0m\n",
      "\u001B[1;32m~\\AppData\\Local\\Programs\\Python\\Python37\\lib\\logging\\__init__.py\u001B[0m in \u001B[0;36mcallHandlers\u001B[1;34m(self, record)\u001B[0m\n\u001B[0;32m   1584\u001B[0m                 \u001B[0mfound\u001B[0m \u001B[1;33m=\u001B[0m \u001B[0mfound\u001B[0m \u001B[1;33m+\u001B[0m \u001B[1;36m1\u001B[0m\u001B[1;33m\u001B[0m\u001B[1;33m\u001B[0m\u001B[0m\n\u001B[0;32m   1585\u001B[0m                 \u001B[1;32mif\u001B[0m \u001B[0mrecord\u001B[0m\u001B[1;33m.\u001B[0m\u001B[0mlevelno\u001B[0m \u001B[1;33m>=\u001B[0m \u001B[0mhdlr\u001B[0m\u001B[1;33m.\u001B[0m\u001B[0mlevel\u001B[0m\u001B[1;33m:\u001B[0m\u001B[1;33m\u001B[0m\u001B[1;33m\u001B[0m\u001B[0m\n\u001B[1;32m-> 1586\u001B[1;33m                     \u001B[0mhdlr\u001B[0m\u001B[1;33m.\u001B[0m\u001B[0mhandle\u001B[0m\u001B[1;33m(\u001B[0m\u001B[0mrecord\u001B[0m\u001B[1;33m)\u001B[0m\u001B[1;33m\u001B[0m\u001B[1;33m\u001B[0m\u001B[0m\n\u001B[0m\u001B[0;32m   1587\u001B[0m             \u001B[1;32mif\u001B[0m \u001B[1;32mnot\u001B[0m \u001B[0mc\u001B[0m\u001B[1;33m.\u001B[0m\u001B[0mpropagate\u001B[0m\u001B[1;33m:\u001B[0m\u001B[1;33m\u001B[0m\u001B[1;33m\u001B[0m\u001B[0m\n\u001B[0;32m   1588\u001B[0m                 \u001B[0mc\u001B[0m \u001B[1;33m=\u001B[0m \u001B[1;32mNone\u001B[0m    \u001B[1;31m#break out\u001B[0m\u001B[1;33m\u001B[0m\u001B[1;33m\u001B[0m\u001B[0m\n",
      "\u001B[1;32m~\\AppData\\Local\\Programs\\Python\\Python37\\lib\\logging\\__init__.py\u001B[0m in \u001B[0;36mhandle\u001B[1;34m(self, record)\u001B[0m\n\u001B[0;32m    892\u001B[0m             \u001B[0mself\u001B[0m\u001B[1;33m.\u001B[0m\u001B[0macquire\u001B[0m\u001B[1;33m(\u001B[0m\u001B[1;33m)\u001B[0m\u001B[1;33m\u001B[0m\u001B[1;33m\u001B[0m\u001B[0m\n\u001B[0;32m    893\u001B[0m             \u001B[1;32mtry\u001B[0m\u001B[1;33m:\u001B[0m\u001B[1;33m\u001B[0m\u001B[1;33m\u001B[0m\u001B[0m\n\u001B[1;32m--> 894\u001B[1;33m                 \u001B[0mself\u001B[0m\u001B[1;33m.\u001B[0m\u001B[0memit\u001B[0m\u001B[1;33m(\u001B[0m\u001B[0mrecord\u001B[0m\u001B[1;33m)\u001B[0m\u001B[1;33m\u001B[0m\u001B[1;33m\u001B[0m\u001B[0m\n\u001B[0m\u001B[0;32m    895\u001B[0m             \u001B[1;32mfinally\u001B[0m\u001B[1;33m:\u001B[0m\u001B[1;33m\u001B[0m\u001B[1;33m\u001B[0m\u001B[0m\n\u001B[0;32m    896\u001B[0m                 \u001B[0mself\u001B[0m\u001B[1;33m.\u001B[0m\u001B[0mrelease\u001B[0m\u001B[1;33m(\u001B[0m\u001B[1;33m)\u001B[0m\u001B[1;33m\u001B[0m\u001B[1;33m\u001B[0m\u001B[0m\n",
      "\u001B[1;32m~\\AppData\\Local\\Programs\\Python\\Python37\\lib\\logging\\__init__.py\u001B[0m in \u001B[0;36memit\u001B[1;34m(self, record)\u001B[0m\n\u001B[0;32m   1023\u001B[0m         \"\"\"\n\u001B[0;32m   1024\u001B[0m         \u001B[1;32mtry\u001B[0m\u001B[1;33m:\u001B[0m\u001B[1;33m\u001B[0m\u001B[1;33m\u001B[0m\u001B[0m\n\u001B[1;32m-> 1025\u001B[1;33m             \u001B[0mmsg\u001B[0m \u001B[1;33m=\u001B[0m \u001B[0mself\u001B[0m\u001B[1;33m.\u001B[0m\u001B[0mformat\u001B[0m\u001B[1;33m(\u001B[0m\u001B[0mrecord\u001B[0m\u001B[1;33m)\u001B[0m\u001B[1;33m\u001B[0m\u001B[1;33m\u001B[0m\u001B[0m\n\u001B[0m\u001B[0;32m   1026\u001B[0m             \u001B[0mstream\u001B[0m \u001B[1;33m=\u001B[0m \u001B[0mself\u001B[0m\u001B[1;33m.\u001B[0m\u001B[0mstream\u001B[0m\u001B[1;33m\u001B[0m\u001B[1;33m\u001B[0m\u001B[0m\n\u001B[0;32m   1027\u001B[0m             \u001B[1;31m# issue 35046: merged two stream.writes into one.\u001B[0m\u001B[1;33m\u001B[0m\u001B[1;33m\u001B[0m\u001B[1;33m\u001B[0m\u001B[0m\n",
      "\u001B[1;32m~\\AppData\\Local\\Programs\\Python\\Python37\\lib\\logging\\__init__.py\u001B[0m in \u001B[0;36mformat\u001B[1;34m(self, record)\u001B[0m\n\u001B[0;32m    867\u001B[0m         \u001B[1;32melse\u001B[0m\u001B[1;33m:\u001B[0m\u001B[1;33m\u001B[0m\u001B[1;33m\u001B[0m\u001B[0m\n\u001B[0;32m    868\u001B[0m             \u001B[0mfmt\u001B[0m \u001B[1;33m=\u001B[0m \u001B[0m_defaultFormatter\u001B[0m\u001B[1;33m\u001B[0m\u001B[1;33m\u001B[0m\u001B[0m\n\u001B[1;32m--> 869\u001B[1;33m         \u001B[1;32mreturn\u001B[0m \u001B[0mfmt\u001B[0m\u001B[1;33m.\u001B[0m\u001B[0mformat\u001B[0m\u001B[1;33m(\u001B[0m\u001B[0mrecord\u001B[0m\u001B[1;33m)\u001B[0m\u001B[1;33m\u001B[0m\u001B[1;33m\u001B[0m\u001B[0m\n\u001B[0m\u001B[0;32m    870\u001B[0m \u001B[1;33m\u001B[0m\u001B[0m\n\u001B[0;32m    871\u001B[0m     \u001B[1;32mdef\u001B[0m \u001B[0memit\u001B[0m\u001B[1;33m(\u001B[0m\u001B[0mself\u001B[0m\u001B[1;33m,\u001B[0m \u001B[0mrecord\u001B[0m\u001B[1;33m)\u001B[0m\u001B[1;33m:\u001B[0m\u001B[1;33m\u001B[0m\u001B[1;33m\u001B[0m\u001B[0m\n",
      "\u001B[1;32m~\\AppData\\Local\\Programs\\Python\\Python37\\lib\\logging\\__init__.py\u001B[0m in \u001B[0;36mformat\u001B[1;34m(self, record)\u001B[0m\n\u001B[0;32m    614\u001B[0m             \u001B[1;31m# (it's constant anyway)\u001B[0m\u001B[1;33m\u001B[0m\u001B[1;33m\u001B[0m\u001B[1;33m\u001B[0m\u001B[0m\n\u001B[0;32m    615\u001B[0m             \u001B[1;32mif\u001B[0m \u001B[1;32mnot\u001B[0m \u001B[0mrecord\u001B[0m\u001B[1;33m.\u001B[0m\u001B[0mexc_text\u001B[0m\u001B[1;33m:\u001B[0m\u001B[1;33m\u001B[0m\u001B[1;33m\u001B[0m\u001B[0m\n\u001B[1;32m--> 616\u001B[1;33m                 \u001B[0mrecord\u001B[0m\u001B[1;33m.\u001B[0m\u001B[0mexc_text\u001B[0m \u001B[1;33m=\u001B[0m \u001B[0mself\u001B[0m\u001B[1;33m.\u001B[0m\u001B[0mformatException\u001B[0m\u001B[1;33m(\u001B[0m\u001B[0mrecord\u001B[0m\u001B[1;33m.\u001B[0m\u001B[0mexc_info\u001B[0m\u001B[1;33m)\u001B[0m\u001B[1;33m\u001B[0m\u001B[1;33m\u001B[0m\u001B[0m\n\u001B[0m\u001B[0;32m    617\u001B[0m         \u001B[1;32mif\u001B[0m \u001B[0mrecord\u001B[0m\u001B[1;33m.\u001B[0m\u001B[0mexc_text\u001B[0m\u001B[1;33m:\u001B[0m\u001B[1;33m\u001B[0m\u001B[1;33m\u001B[0m\u001B[0m\n\u001B[0;32m    618\u001B[0m             \u001B[1;32mif\u001B[0m \u001B[0ms\u001B[0m\u001B[1;33m[\u001B[0m\u001B[1;33m-\u001B[0m\u001B[1;36m1\u001B[0m\u001B[1;33m:\u001B[0m\u001B[1;33m]\u001B[0m \u001B[1;33m!=\u001B[0m \u001B[1;34m\"\\n\"\u001B[0m\u001B[1;33m:\u001B[0m\u001B[1;33m\u001B[0m\u001B[1;33m\u001B[0m\u001B[0m\n",
      "\u001B[1;32m~\\AppData\\Local\\Programs\\Python\\Python37\\lib\\logging\\__init__.py\u001B[0m in \u001B[0;36mformatException\u001B[1;34m(self, ei)\u001B[0m\n\u001B[0;32m    564\u001B[0m         \u001B[1;31m#if getattr(self, 'fullstack', False):\u001B[0m\u001B[1;33m\u001B[0m\u001B[1;33m\u001B[0m\u001B[1;33m\u001B[0m\u001B[0m\n\u001B[0;32m    565\u001B[0m         \u001B[1;31m#    traceback.print_stack(tb.tb_frame.f_back, file=sio)\u001B[0m\u001B[1;33m\u001B[0m\u001B[1;33m\u001B[0m\u001B[1;33m\u001B[0m\u001B[0m\n\u001B[1;32m--> 566\u001B[1;33m         \u001B[0mtraceback\u001B[0m\u001B[1;33m.\u001B[0m\u001B[0mprint_exception\u001B[0m\u001B[1;33m(\u001B[0m\u001B[0mei\u001B[0m\u001B[1;33m[\u001B[0m\u001B[1;36m0\u001B[0m\u001B[1;33m]\u001B[0m\u001B[1;33m,\u001B[0m \u001B[0mei\u001B[0m\u001B[1;33m[\u001B[0m\u001B[1;36m1\u001B[0m\u001B[1;33m]\u001B[0m\u001B[1;33m,\u001B[0m \u001B[0mtb\u001B[0m\u001B[1;33m,\u001B[0m \u001B[1;32mNone\u001B[0m\u001B[1;33m,\u001B[0m \u001B[0msio\u001B[0m\u001B[1;33m)\u001B[0m\u001B[1;33m\u001B[0m\u001B[1;33m\u001B[0m\u001B[0m\n\u001B[0m\u001B[0;32m    567\u001B[0m         \u001B[0ms\u001B[0m \u001B[1;33m=\u001B[0m \u001B[0msio\u001B[0m\u001B[1;33m.\u001B[0m\u001B[0mgetvalue\u001B[0m\u001B[1;33m(\u001B[0m\u001B[1;33m)\u001B[0m\u001B[1;33m\u001B[0m\u001B[1;33m\u001B[0m\u001B[0m\n\u001B[0;32m    568\u001B[0m         \u001B[0msio\u001B[0m\u001B[1;33m.\u001B[0m\u001B[0mclose\u001B[0m\u001B[1;33m(\u001B[0m\u001B[1;33m)\u001B[0m\u001B[1;33m\u001B[0m\u001B[1;33m\u001B[0m\u001B[0m\n",
      "\u001B[1;32m~\\AppData\\Local\\Programs\\Python\\Python37\\lib\\traceback.py\u001B[0m in \u001B[0;36mprint_exception\u001B[1;34m(etype, value, tb, limit, file, chain)\u001B[0m\n\u001B[0;32m    102\u001B[0m         \u001B[0mfile\u001B[0m \u001B[1;33m=\u001B[0m \u001B[0msys\u001B[0m\u001B[1;33m.\u001B[0m\u001B[0mstderr\u001B[0m\u001B[1;33m\u001B[0m\u001B[1;33m\u001B[0m\u001B[0m\n\u001B[0;32m    103\u001B[0m     for line in TracebackException(\n\u001B[1;32m--> 104\u001B[1;33m             type(value), value, tb, limit=limit).format(chain=chain):\n\u001B[0m\u001B[0;32m    105\u001B[0m         \u001B[0mprint\u001B[0m\u001B[1;33m(\u001B[0m\u001B[0mline\u001B[0m\u001B[1;33m,\u001B[0m \u001B[0mfile\u001B[0m\u001B[1;33m=\u001B[0m\u001B[0mfile\u001B[0m\u001B[1;33m,\u001B[0m \u001B[0mend\u001B[0m\u001B[1;33m=\u001B[0m\u001B[1;34m\"\"\u001B[0m\u001B[1;33m)\u001B[0m\u001B[1;33m\u001B[0m\u001B[1;33m\u001B[0m\u001B[0m\n\u001B[0;32m    106\u001B[0m \u001B[1;33m\u001B[0m\u001B[0m\n",
      "\u001B[1;32m~\\AppData\\Local\\Programs\\Python\\Python37\\lib\\traceback.py\u001B[0m in \u001B[0;36m__init__\u001B[1;34m(self, exc_type, exc_value, exc_traceback, limit, lookup_lines, capture_locals, _seen)\u001B[0m\n\u001B[0;32m    506\u001B[0m         self.stack = StackSummary.extract(\n\u001B[0;32m    507\u001B[0m             \u001B[0mwalk_tb\u001B[0m\u001B[1;33m(\u001B[0m\u001B[0mexc_traceback\u001B[0m\u001B[1;33m)\u001B[0m\u001B[1;33m,\u001B[0m \u001B[0mlimit\u001B[0m\u001B[1;33m=\u001B[0m\u001B[0mlimit\u001B[0m\u001B[1;33m,\u001B[0m \u001B[0mlookup_lines\u001B[0m\u001B[1;33m=\u001B[0m\u001B[0mlookup_lines\u001B[0m\u001B[1;33m,\u001B[0m\u001B[1;33m\u001B[0m\u001B[1;33m\u001B[0m\u001B[0m\n\u001B[1;32m--> 508\u001B[1;33m             capture_locals=capture_locals)\n\u001B[0m\u001B[0;32m    509\u001B[0m         \u001B[0mself\u001B[0m\u001B[1;33m.\u001B[0m\u001B[0mexc_type\u001B[0m \u001B[1;33m=\u001B[0m \u001B[0mexc_type\u001B[0m\u001B[1;33m\u001B[0m\u001B[1;33m\u001B[0m\u001B[0m\n\u001B[0;32m    510\u001B[0m         \u001B[1;31m# Capture now to permit freeing resources: only complication is in the\u001B[0m\u001B[1;33m\u001B[0m\u001B[1;33m\u001B[0m\u001B[1;33m\u001B[0m\u001B[0m\n",
      "\u001B[1;32m~\\AppData\\Local\\Programs\\Python\\Python37\\lib\\traceback.py\u001B[0m in \u001B[0;36mextract\u001B[1;34m(klass, frame_gen, limit, lookup_lines, capture_locals)\u001B[0m\n\u001B[0;32m    361\u001B[0m         \u001B[1;32mif\u001B[0m \u001B[0mlookup_lines\u001B[0m\u001B[1;33m:\u001B[0m\u001B[1;33m\u001B[0m\u001B[1;33m\u001B[0m\u001B[0m\n\u001B[0;32m    362\u001B[0m             \u001B[1;32mfor\u001B[0m \u001B[0mf\u001B[0m \u001B[1;32min\u001B[0m \u001B[0mresult\u001B[0m\u001B[1;33m:\u001B[0m\u001B[1;33m\u001B[0m\u001B[1;33m\u001B[0m\u001B[0m\n\u001B[1;32m--> 363\u001B[1;33m                 \u001B[0mf\u001B[0m\u001B[1;33m.\u001B[0m\u001B[0mline\u001B[0m\u001B[1;33m\u001B[0m\u001B[1;33m\u001B[0m\u001B[0m\n\u001B[0m\u001B[0;32m    364\u001B[0m         \u001B[1;32mreturn\u001B[0m \u001B[0mresult\u001B[0m\u001B[1;33m\u001B[0m\u001B[1;33m\u001B[0m\u001B[0m\n\u001B[0;32m    365\u001B[0m \u001B[1;33m\u001B[0m\u001B[0m\n",
      "\u001B[1;32m~\\AppData\\Local\\Programs\\Python\\Python37\\lib\\traceback.py\u001B[0m in \u001B[0;36mline\u001B[1;34m(self)\u001B[0m\n\u001B[0;32m    283\u001B[0m     \u001B[1;32mdef\u001B[0m \u001B[0mline\u001B[0m\u001B[1;33m(\u001B[0m\u001B[0mself\u001B[0m\u001B[1;33m)\u001B[0m\u001B[1;33m:\u001B[0m\u001B[1;33m\u001B[0m\u001B[1;33m\u001B[0m\u001B[0m\n\u001B[0;32m    284\u001B[0m         \u001B[1;32mif\u001B[0m \u001B[0mself\u001B[0m\u001B[1;33m.\u001B[0m\u001B[0m_line\u001B[0m \u001B[1;32mis\u001B[0m \u001B[1;32mNone\u001B[0m\u001B[1;33m:\u001B[0m\u001B[1;33m\u001B[0m\u001B[1;33m\u001B[0m\u001B[0m\n\u001B[1;32m--> 285\u001B[1;33m             \u001B[0mself\u001B[0m\u001B[1;33m.\u001B[0m\u001B[0m_line\u001B[0m \u001B[1;33m=\u001B[0m \u001B[0mlinecache\u001B[0m\u001B[1;33m.\u001B[0m\u001B[0mgetline\u001B[0m\u001B[1;33m(\u001B[0m\u001B[0mself\u001B[0m\u001B[1;33m.\u001B[0m\u001B[0mfilename\u001B[0m\u001B[1;33m,\u001B[0m \u001B[0mself\u001B[0m\u001B[1;33m.\u001B[0m\u001B[0mlineno\u001B[0m\u001B[1;33m)\u001B[0m\u001B[1;33m.\u001B[0m\u001B[0mstrip\u001B[0m\u001B[1;33m(\u001B[0m\u001B[1;33m)\u001B[0m\u001B[1;33m\u001B[0m\u001B[1;33m\u001B[0m\u001B[0m\n\u001B[0m\u001B[0;32m    286\u001B[0m         \u001B[1;32mreturn\u001B[0m \u001B[0mself\u001B[0m\u001B[1;33m.\u001B[0m\u001B[0m_line\u001B[0m\u001B[1;33m\u001B[0m\u001B[1;33m\u001B[0m\u001B[0m\n\u001B[0;32m    287\u001B[0m \u001B[1;33m\u001B[0m\u001B[0m\n",
      "\u001B[1;32m~\\AppData\\Local\\Programs\\Python\\Python37\\lib\\linecache.py\u001B[0m in \u001B[0;36mgetline\u001B[1;34m(filename, lineno, module_globals)\u001B[0m\n\u001B[0;32m     14\u001B[0m \u001B[1;33m\u001B[0m\u001B[0m\n\u001B[0;32m     15\u001B[0m \u001B[1;32mdef\u001B[0m \u001B[0mgetline\u001B[0m\u001B[1;33m(\u001B[0m\u001B[0mfilename\u001B[0m\u001B[1;33m,\u001B[0m \u001B[0mlineno\u001B[0m\u001B[1;33m,\u001B[0m \u001B[0mmodule_globals\u001B[0m\u001B[1;33m=\u001B[0m\u001B[1;32mNone\u001B[0m\u001B[1;33m)\u001B[0m\u001B[1;33m:\u001B[0m\u001B[1;33m\u001B[0m\u001B[1;33m\u001B[0m\u001B[0m\n\u001B[1;32m---> 16\u001B[1;33m     \u001B[0mlines\u001B[0m \u001B[1;33m=\u001B[0m \u001B[0mgetlines\u001B[0m\u001B[1;33m(\u001B[0m\u001B[0mfilename\u001B[0m\u001B[1;33m,\u001B[0m \u001B[0mmodule_globals\u001B[0m\u001B[1;33m)\u001B[0m\u001B[1;33m\u001B[0m\u001B[1;33m\u001B[0m\u001B[0m\n\u001B[0m\u001B[0;32m     17\u001B[0m     \u001B[1;32mif\u001B[0m \u001B[1;36m1\u001B[0m \u001B[1;33m<=\u001B[0m \u001B[0mlineno\u001B[0m \u001B[1;33m<=\u001B[0m \u001B[0mlen\u001B[0m\u001B[1;33m(\u001B[0m\u001B[0mlines\u001B[0m\u001B[1;33m)\u001B[0m\u001B[1;33m:\u001B[0m\u001B[1;33m\u001B[0m\u001B[1;33m\u001B[0m\u001B[0m\n\u001B[0;32m     18\u001B[0m         \u001B[1;32mreturn\u001B[0m \u001B[0mlines\u001B[0m\u001B[1;33m[\u001B[0m\u001B[0mlineno\u001B[0m\u001B[1;33m-\u001B[0m\u001B[1;36m1\u001B[0m\u001B[1;33m]\u001B[0m\u001B[1;33m\u001B[0m\u001B[1;33m\u001B[0m\u001B[0m\n",
      "\u001B[1;32m~\\AppData\\Local\\Programs\\Python\\Python37\\lib\\linecache.py\u001B[0m in \u001B[0;36mgetlines\u001B[1;34m(filename, module_globals)\u001B[0m\n\u001B[0;32m     45\u001B[0m \u001B[1;33m\u001B[0m\u001B[0m\n\u001B[0;32m     46\u001B[0m     \u001B[1;32mtry\u001B[0m\u001B[1;33m:\u001B[0m\u001B[1;33m\u001B[0m\u001B[1;33m\u001B[0m\u001B[0m\n\u001B[1;32m---> 47\u001B[1;33m         \u001B[1;32mreturn\u001B[0m \u001B[0mupdatecache\u001B[0m\u001B[1;33m(\u001B[0m\u001B[0mfilename\u001B[0m\u001B[1;33m,\u001B[0m \u001B[0mmodule_globals\u001B[0m\u001B[1;33m)\u001B[0m\u001B[1;33m\u001B[0m\u001B[1;33m\u001B[0m\u001B[0m\n\u001B[0m\u001B[0;32m     48\u001B[0m     \u001B[1;32mexcept\u001B[0m \u001B[0mMemoryError\u001B[0m\u001B[1;33m:\u001B[0m\u001B[1;33m\u001B[0m\u001B[1;33m\u001B[0m\u001B[0m\n\u001B[0;32m     49\u001B[0m         \u001B[0mclearcache\u001B[0m\u001B[1;33m(\u001B[0m\u001B[1;33m)\u001B[0m\u001B[1;33m\u001B[0m\u001B[1;33m\u001B[0m\u001B[0m\n",
      "\u001B[1;32m~\\AppData\\Local\\Programs\\Python\\Python37\\lib\\linecache.py\u001B[0m in \u001B[0;36mupdatecache\u001B[1;34m(filename, module_globals)\u001B[0m\n\u001B[0;32m    134\u001B[0m             \u001B[1;32mreturn\u001B[0m \u001B[1;33m[\u001B[0m\u001B[1;33m]\u001B[0m\u001B[1;33m\u001B[0m\u001B[1;33m\u001B[0m\u001B[0m\n\u001B[0;32m    135\u001B[0m     \u001B[1;32mtry\u001B[0m\u001B[1;33m:\u001B[0m\u001B[1;33m\u001B[0m\u001B[1;33m\u001B[0m\u001B[0m\n\u001B[1;32m--> 136\u001B[1;33m         \u001B[1;32mwith\u001B[0m \u001B[0mtokenize\u001B[0m\u001B[1;33m.\u001B[0m\u001B[0mopen\u001B[0m\u001B[1;33m(\u001B[0m\u001B[0mfullname\u001B[0m\u001B[1;33m)\u001B[0m \u001B[1;32mas\u001B[0m \u001B[0mfp\u001B[0m\u001B[1;33m:\u001B[0m\u001B[1;33m\u001B[0m\u001B[1;33m\u001B[0m\u001B[0m\n\u001B[0m\u001B[0;32m    137\u001B[0m             \u001B[0mlines\u001B[0m \u001B[1;33m=\u001B[0m \u001B[0mfp\u001B[0m\u001B[1;33m.\u001B[0m\u001B[0mreadlines\u001B[0m\u001B[1;33m(\u001B[0m\u001B[1;33m)\u001B[0m\u001B[1;33m\u001B[0m\u001B[1;33m\u001B[0m\u001B[0m\n\u001B[0;32m    138\u001B[0m     \u001B[1;32mexcept\u001B[0m \u001B[0mOSError\u001B[0m\u001B[1;33m:\u001B[0m\u001B[1;33m\u001B[0m\u001B[1;33m\u001B[0m\u001B[0m\n",
      "\u001B[1;32m~\\AppData\\Local\\Programs\\Python\\Python37\\lib\\tokenize.py\u001B[0m in \u001B[0;36mopen\u001B[1;34m(filename)\u001B[0m\n\u001B[0;32m    445\u001B[0m     \u001B[0mdetect_encoding\u001B[0m\u001B[1;33m(\u001B[0m\u001B[1;33m)\u001B[0m\u001B[1;33m.\u001B[0m\u001B[1;33m\u001B[0m\u001B[1;33m\u001B[0m\u001B[0m\n\u001B[0;32m    446\u001B[0m     \"\"\"\n\u001B[1;32m--> 447\u001B[1;33m     \u001B[0mbuffer\u001B[0m \u001B[1;33m=\u001B[0m \u001B[0m_builtin_open\u001B[0m\u001B[1;33m(\u001B[0m\u001B[0mfilename\u001B[0m\u001B[1;33m,\u001B[0m \u001B[1;34m'rb'\u001B[0m\u001B[1;33m)\u001B[0m\u001B[1;33m\u001B[0m\u001B[1;33m\u001B[0m\u001B[0m\n\u001B[0m\u001B[0;32m    448\u001B[0m     \u001B[1;32mtry\u001B[0m\u001B[1;33m:\u001B[0m\u001B[1;33m\u001B[0m\u001B[1;33m\u001B[0m\u001B[0m\n\u001B[0;32m    449\u001B[0m         \u001B[0mencoding\u001B[0m\u001B[1;33m,\u001B[0m \u001B[0mlines\u001B[0m \u001B[1;33m=\u001B[0m \u001B[0mdetect_encoding\u001B[0m\u001B[1;33m(\u001B[0m\u001B[0mbuffer\u001B[0m\u001B[1;33m.\u001B[0m\u001B[0mreadline\u001B[0m\u001B[1;33m)\u001B[0m\u001B[1;33m\u001B[0m\u001B[1;33m\u001B[0m\u001B[0m\n",
      "\u001B[1;31mKeyboardInterrupt\u001B[0m: "
     ]
    }
   ],
   "source": [
    "from pyspark.ml.feature import VectorAssembler\n",
    "vector = VectorAssembler(inputCols = ['DayOfWeek', 'DayofMonth', 'Distance', 'DepTime', 'Cancelled', 'Diverted'\n",
    "], outputCol = 'features')\n",
    "sparkDF = sparkDF.withColumn(\"LateAircraftDelay\", when(sparkDF <30, 1)\n",
    "                             .when(30 <= sparkDF < 60, 2)\n",
    "                             .when(60 <= sparkDF < 180, 3)\n",
    "                             .when(180 <= sparkDF, 4)\n",
    "                             .otherwise(0))\n",
    "vectorData = vector.transform(sparkDF).select(['features', 'LateAircraftDelay'])\n",
    "vectorData.plot.bar(x = 'parameter', y= 'Coefficients')\n",
    "plt.show()\n",
    "\n",
    "vectorData.show(5)"
   ],
   "metadata": {
    "collapsed": false
   }
  },
  {
   "cell_type": "code",
   "execution_count": null,
   "outputs": [],
   "source": [],
   "metadata": {
    "collapsed": false
   }
  },
  {
   "cell_type": "code",
   "execution_count": 26,
   "outputs": [],
   "source": [
    "train_df, test_df = sparkDF.randomSplit([0.7, 0.3])\n",
    "print(\"train.rows: \", train_df.count())\n",
    "print(\"test.rows: \", test_df.count())"
   ],
   "metadata": {
    "collapsed": false
   }
  },
  {
   "cell_type": "code",
   "execution_count": null,
   "outputs": [],
   "source": [
    "### MIARY SKUTECZNOŚCI\n",
    "from pyspark.ml.evaluation import RegressionEvaluator\n",
    "\n",
    "evaluatorRMSE = RegressionEvaluator(\n",
    "    labelCol=\"label\", predictionCol=\"prediction\", metricName=\"rmse\")\n",
    "evaluatorR2 = RegressionEvaluator(\n",
    "    labelCol=\"label\", predictionCol=\"prediction\", metricName=\"r2\")\n",
    "\n",
    "\n",
    "def effectivenessMeasures(model, predictions):\n",
    "    print(\"Coefficients: \" + str(model.coefficients))\n",
    "    print(\"Intercept: \" + str(model.intercept))\n",
    "    print(predictions.show(5))\n",
    "    rmse = evaluatorRMSE.evaluate(predictions)\n",
    "    r2 = evaluatorR2.evaluate(predictions)\n",
    "    print(\"Root Mean Squared Error (RMSE) on test data = %g\" % rmse)\n",
    "    print(\"R2 on test data = %g\" % r2)\n"
   ],
   "metadata": {
    "collapsed": false
   }
  },
  {
   "cell_type": "markdown",
   "source": [
    "### LOGISTIC REGRESSION"
   ],
   "metadata": {
    "collapsed": false
   }
  },
  {
   "cell_type": "code",
   "execution_count": null,
   "outputs": [],
   "source": [
    "from pyspark.ml.regression import LinearRegression\n",
    "\n",
    "linear_reg = LinearRegression(featuresCol = 'features', labelCol='label', maxIter=20, regParam=0.3, elasticNetParam=0.8)\n",
    "linear_model = linear_reg.fit(train_df)\n",
    "linear_predictions = linear_model.transform(test_df)\n",
    "effectivenessMeasures(linear_model, linear_predictions)"
   ],
   "metadata": {
    "collapsed": false
   }
  },
  {
   "cell_type": "markdown",
   "source": [
    "## RANDOM FOREST regressor"
   ],
   "metadata": {
    "collapsed": false
   }
  },
  {
   "cell_type": "code",
   "execution_count": null,
   "outputs": [],
   "source": [
    "from pyspark.ml import Pipeline\n",
    "from pyspark.ml.regression import RandomForestRegressor\n",
    "from pyspark.ml.feature import VectorIndexer\n",
    "\n",
    "rf = RandomForestRegressor(featuresCol = 'features', labelCol='label')\n",
    "\n",
    "rf_model = rf.fit(train_df)\n",
    "rf_predictions = rf_model.transform(test_df)\n",
    "\n",
    "effectivenessMeasures(rf_model, rf_predictions)"
   ],
   "metadata": {
    "collapsed": false
   }
  },
  {
   "cell_type": "markdown",
   "source": [
    "## DECISION TREE REGRESSOR"
   ],
   "metadata": {
    "collapsed": false
   }
  },
  {
   "cell_type": "code",
   "execution_count": null,
   "outputs": [],
   "source": [
    "from pyspark.ml.regression import DecisionTreeRegressor\n",
    "\n",
    "dt = DecisionTreeRegressor(featuresCol = 'features', labelCol='label')\n",
    "dt_model = dt.fit(train_df)\n",
    "dt_predictions = dt_model.transform(test_df)\n",
    "\n",
    "effectivenessMeasures(dt_model, dt_predictions)"
   ],
   "metadata": {
    "collapsed": false
   }
  },
  {
   "cell_type": "markdown",
   "source": [
    "## K-KROTNA WALIDAJA KRZYŻOWA"
   ],
   "metadata": {
    "collapsed": false
   }
  },
  {
   "cell_type": "code",
   "execution_count": null,
   "outputs": [],
   "source": [
    "from random import seed\n",
    "from random import randrange\n",
    "\n",
    "def cross_validation_split(data, folds):\n",
    "    dataset = data.copy().to_numpy()\n",
    "    dataset_split = list()\n",
    "    dataset_copy = list(dataset)\n",
    "    fold_size = int(len(dataset) / folds)\n",
    "    for i in range(folds):\n",
    "        fold = list()\n",
    "        while len(fold) < fold_size:\n",
    "            index = randrange(len(dataset_copy))\n",
    "            fold.append(dataset_copy.pop(index))\n",
    "        dataset_split.append(fold)\n",
    "    return dataset_split"
   ],
   "metadata": {
    "collapsed": false
   }
  },
  {
   "cell_type": "code",
   "execution_count": null,
   "outputs": [],
   "source": [
    "\n",
    "# TO DO:  PRZETESTOWANIE ZESPOLU KLASYFIKTOROW POJEDYNCZYCH I PORÓWNANIE WYNIKÓW\n"
   ],
   "metadata": {
    "collapsed": false
   }
  },
  {
   "cell_type": "code",
   "execution_count": null,
   "outputs": [],
   "source": [
    "### DECISION TREE CLASSIFIER"
   ],
   "metadata": {
    "collapsed": false
   }
  },
  {
   "cell_type": "code",
   "execution_count": null,
   "outputs": [],
   "source": [
    "from pyspark.ml.classification import DecisionTreeClassifier\n",
    "df7 = df6.select([\"features\", \"SoilType\"])\n",
    "(trainingData, testData) = df7.randomSplit([0.7, 0.3])\n",
    "dtc = DecisionTreeClassifier(featuresCol=\"features\", labelCol=\"SoilType\").fit(trainingData)\n",
    "pred = dtc.transform(testData)\n",
    "pred.show()"
   ],
   "metadata": {
    "collapsed": false
   }
  },
  {
   "cell_type": "code",
   "execution_count": null,
   "outputs": [],
   "source": [
    "# RANDOM FOREST CLASSIFIER"
   ],
   "metadata": {
    "collapsed": false
   }
  },
  {
   "cell_type": "code",
   "execution_count": null,
   "outputs": [],
   "source": [
    "from pyspark.ml.classification import RandomForestClassifier\n",
    "rf = RandomForestClassifier(labelCol=\"SoilType\", featuresCol=\"features\", numTrees=10).fit(trainingData)\n",
    "pred = rf.transform(testData)\n",
    "from pyspark.ml.evaluation import MulticlassClassificationEvaluator\n",
    "from sklearn.metrics import confusion_matrix\n",
    "\n",
    "evaluator=MulticlassClassificationEvaluator(predictionCol=\"prediction\", labelCol=\"SoilType\", metricName='accuracy')\n",
    "acc = evaluator.evaluate(pred)\n",
    "print(\"Prediction Accuracy: \", acc)\n",
    "\n",
    "evaluator=MulticlassClassificationEvaluator(predictionCol=\"prediction\", labelCol=\"SoilType\", metricName='f1Measure')\n",
    "f1 = evaluator.evaluate(pred)\n",
    "print(\"F1: \", f1)\n",
    "\n",
    "evaluator=MulticlassClassificationEvaluator(predictionCol=\"prediction\", labelCol=\"SoilType\", metricName='precision')\n",
    "precision = evaluator.evaluate(pred)\n",
    "print(\"Precision: \", precision)\n",
    "\n",
    "y_pred=pred.select(\"prediction\").collect()\n",
    "y_orig=pred.select(\"SoilType\").collect()\n",
    "\n",
    "cm = confusion_matrix(y_orig, y_pred)\n",
    "print(\"Confusion Matrix:\")\n",
    "print(cm)"
   ],
   "metadata": {
    "collapsed": false
   }
  },
  {
   "cell_type": "code",
   "execution_count": null,
   "outputs": [],
   "source": [
    "### MUTICLASS CLASSIFICATION EVALUATOR\n"
   ],
   "metadata": {
    "collapsed": false
   }
  },
  {
   "cell_type": "code",
   "execution_count": null,
   "outputs": [],
   "source": [
    "from pyspark.ml.evaluation import MulticlassClassificationEvaluator\n",
    "from sklearn.metrics import confusion_matrix\n",
    "evaluator=MulticlassClassificationEvaluator(predictionCol=\"prediction\", labelCol=\"SoilType\")\n",
    "acc = evaluator.evaluate(pred)\n",
    "print(\"Prediction Accuracy: \", acc)\n",
    "\n",
    "evaluator=MulticlassClassificationEvaluator(predictionCol=\"prediction\", labelCol=\"SoilType\", metricName='f1Measure')\n",
    "f1 = evaluator.evaluate(pred)\n",
    "print(\"F1: \", f1)\n",
    "\n",
    "evaluator=MulticlassClassificationEvaluator(predictionCol=\"prediction\", labelCol=\"SoilType\", metricName='precision')\n",
    "precision = evaluator.evaluate(pred)\n",
    "print(\"Precision: \", precision)\n",
    "\n",
    "y_pred=pred.select(\"prediction\").collect()\n",
    "y_orig=pred.select(\"SoilType\").collect()\n",
    "\n",
    "cm = confusion_matrix(y_orig, y_pred)\n",
    "print(\"Confusion Matrix:\")\n",
    "print(cm)\n",
    "df6.toPandas()[\"SoilType\"].hist()"
   ],
   "metadata": {
    "collapsed": false
   }
  },
  {
   "cell_type": "code",
   "execution_count": null,
   "outputs": [],
   "source": [],
   "metadata": {
    "collapsed": false
   }
  },
  {
   "cell_type": "code",
   "execution_count": null,
   "outputs": [],
   "source": [
    "# TO DO:\n",
    "## -  wybór odpowiedniej metryki\n",
    "## -  testy innych metryk\n",
    "## -  testowanie miar dla walidacji krzyżowej"
   ],
   "metadata": {
    "collapsed": false
   }
  },
  {
   "cell_type": "code",
   "execution_count": null,
   "metadata": {},
   "outputs": [],
   "source": [
    "# TO DO: optymalizacja parametrow klasyfikatorow"
   ]
  },
  {
   "cell_type": "code",
   "execution_count": null,
   "outputs": [],
   "source": [
    "from sklearn.ensemble import BaggingRegressor\n",
    "from sklearn.tree import ExtraTreeRegressor\n",
    "from sklearn.ensemble import ExtraTreesRegressor\n",
    "from random import seed\n",
    "from random import randrange\n",
    "\n",
    "extra_tree = ExtraTreeRegressor(random_state=0)\n",
    "extra_tree_model = ExtraTreesRegressor(n_estimators = 100,\n",
    "          criterion ='mse', max_features = \"auto\")\n",
    "extra_tree_model.fit(x_train, y_train)\n",
    "\n",
    "feature_importance = extra_tree_model.feature_importances_\n",
    "plt.bar(x_train.columns, feature_importance)\n",
    "plt.xticks(rotation=40)\n",
    "plt.xlabel('Feature Labels')\n",
    "plt.ylabel('Feature Importances')\n",
    "plt.title('Comparison of different Feature Importances')\n",
    "plt.show()\n"
   ],
   "metadata": {
    "collapsed": false
   }
  },
  {
   "cell_type": "code",
   "execution_count": null,
   "outputs": [],
   "source": [
    "import seaborn as sns\n",
    "figure(figsize=(8, 6), dpi=80)\n",
    "\n",
    "corrMatrix = data.corr()\n",
    "sns.heatmap(corrMatrix, annot=True)\n",
    "plt.xlabel('Feature Labels')\n",
    "plt.ylabel('Feature Importances')\n",
    "plt.title('Comparison of different Feature Importances')\n",
    "plt.show()\n",
    "\n",
    "plt.bar(data.columns[:11], corrMatrix[\"cnt\"][:11])\n",
    "plt.xticks(rotation=40)\n",
    "plt.xlabel('Feature Labels')\n",
    "plt.ylabel('Feature Importances')\n",
    "plt.title('Comparison of different Feature Importances')\n",
    "plt.show()"
   ],
   "metadata": {
    "collapsed": false
   }
  },
  {
   "cell_type": "code",
   "execution_count": null,
   "outputs": [],
   "source": [
    "data = read_data()\n",
    "\n",
    "size_before_opt = np.shape(data)[1] - 1\n",
    "print(\"Ilosc wymairów zmiennych zależnych przed optymalizacją: \", size_before_opt)\n",
    "data.drop('season', inplace=True, axis=1)\n",
    "data.drop('mnth', inplace=True, axis=1)\n",
    "data.drop('holiday', inplace=True, axis=1)\n",
    "data.drop('weathersit', inplace=True, axis=1)\n",
    "data.drop('temp', inplace=True, axis=1)\n",
    "data.drop('hum', inplace=True, axis=1)\n",
    "data.drop('windspeed', inplace=True, axis=1)\n",
    "size_after_opt = np.shape(data)[1] - 1\n",
    "print(\"Ilosc wymairów zmiennych zależnych po optymalizacji: \",size_after_opt)\n",
    "\n",
    "x_train, x_test, y_train, y_test = splitOfData(data, 0.20)"
   ],
   "metadata": {
    "collapsed": false
   }
  },
  {
   "cell_type": "code",
   "execution_count": null,
   "outputs": [],
   "source": [],
   "metadata": {
    "collapsed": false
   }
  },
  {
   "cell_type": "code",
   "execution_count": null,
   "metadata": {},
   "outputs": [],
   "source": [
    "# TO DO: wyniki"
   ]
  },
  {
   "cell_type": "code",
   "execution_count": null,
   "outputs": [],
   "source": [
    "from prettytable import PrettyTable\n",
    "\n",
    "def add_row(table, result, model):\n",
    "    avg_result = [sum(x) / len(x) for x in zip(*result)]\n",
    "    table.add_row([model, round(avg_result[0],5), round(avg_result[1],5), round(avg_result[2],5)])\n",
    "\n",
    "def createSummaryTable(summary_table, results):\n",
    "    add_row(summary_table, results[0], \"Linear Regression\")\n",
    "    add_row(summary_table, results[1], \"Polynominal Regression\")\n",
    "    add_row(summary_table, results[2], \"Decision Tree Regression\")\n",
    "    add_row(summary_table, results[3], \"Random Forrest Regression\")\n",
    "    add_row(summary_table, results[4], \"Voting Regressor\")\n",
    "    add_row(summary_table, results[5], \"Stacking Regressor\")\n",
    "\n",
    "def createSummary(k_fold = 0, grid_search_optimalization = False):\n",
    "    summary_table = PrettyTable(['model', 'MSE', 'r2', 'Experience Variance'])\n",
    "    if (k_fold < 2):\n",
    "        results = prepare_result(grid_search_optimalization)\n",
    "        createSummaryTable(summary_table, results)\n",
    "        print(\"Summary table for result of regression models:\\n\", summary_table, \"\\n\\n\")\n",
    "    else:\n",
    "        results = prepare_result_with_k_fold(k_fold, grid_search_optimalization)\n",
    "        createSummaryTable(summary_table, results)\n",
    "        print(\"Summary table for result of regression models [K_fold: k =\",k_fold,\"]:\\n\", summary_table, \"\\n\\n\")"
   ],
   "metadata": {
    "collapsed": false
   }
  },
  {
   "cell_type": "code",
   "execution_count": null,
   "outputs": [],
   "source": [
    "createSummary()\n",
    "createSummary(k_fold = 2)\n",
    "createSummary(k_fold = 5)\n",
    "createSummary(k_fold = 10)"
   ],
   "metadata": {
    "collapsed": false
   }
  }
 ],
 "metadata": {
  "kernelspec": {
   "display_name": "Python 3",
   "language": "python",
   "name": "python3"
  },
  "language_info": {
   "codemirror_mode": {
    "name": "ipython",
    "version": 3
   },
   "file_extension": ".py",
   "mimetype": "text/x-python",
   "name": "python",
   "nbconvert_exporter": "python",
   "pygments_lexer": "ipython3",
   "version": "3.8.5"
  }
 },
 "nbformat": 4,
 "nbformat_minor": 4
}
